{
  "nbformat": 4,
  "nbformat_minor": 0,
  "metadata": {
    "colab": {
      "provenance": [],
      "authorship_tag": "ABX9TyMuKfMoy54SgBkQpZKs9rNV",
      "include_colab_link": true
    },
    "kernelspec": {
      "name": "python3",
      "display_name": "Python 3"
    },
    "language_info": {
      "name": "python"
    }
  },
  "cells": [
    {
      "cell_type": "markdown",
      "metadata": {
        "id": "view-in-github",
        "colab_type": "text"
      },
      "source": [
        "<a href=\"https://colab.research.google.com/github/sarahaptumich/capstone/blob/shaptonstall/brace_adjust_padding.ipynb\" target=\"_parent\"><img src=\"https://colab.research.google.com/assets/colab-badge.svg\" alt=\"Open In Colab\"/></a>"
      ]
    },
    {
      "cell_type": "code",
      "execution_count": 1,
      "metadata": {
        "colab": {
          "base_uri": "https://localhost:8080/"
        },
        "id": "8Q_c2JZ5xGiW",
        "outputId": "3fb5eabb-9bc3-4965-d30a-0fd5994b6910"
      },
      "outputs": [
        {
          "output_type": "stream",
          "name": "stdout",
          "text": [
            "Mounted at /content/drive\n"
          ]
        }
      ],
      "source": [
        "#Mount google drive\n",
        "from google.colab import drive\n",
        "drive.mount(\"/content/drive\")"
      ]
    },
    {
      "cell_type": "code",
      "source": [
        "%cd /content/drive/MyDrive/Github/capstone/brace"
      ],
      "metadata": {
        "colab": {
          "base_uri": "https://localhost:8080/"
        },
        "id": "MjUD3TpP3nCf",
        "outputId": "14b97e97-59ec-4a39-cfa2-3a2a42944cb3"
      },
      "execution_count": 2,
      "outputs": [
        {
          "output_type": "stream",
          "name": "stdout",
          "text": [
            "/content/drive/MyDrive/Github/capstone/brace\n"
          ]
        }
      ]
    },
    {
      "cell_type": "code",
      "source": [
        "%ls"
      ],
      "metadata": {
        "colab": {
          "base_uri": "https://localhost:8080/"
        },
        "id": "bZktF17T3pIo",
        "outputId": "8bf6c06e-3fd8-4215-a686-2a7c5293d025"
      },
      "execution_count": 3,
      "outputs": [
        {
          "output_type": "stream",
          "name": "stdout",
          "text": [
            " \u001b[0m\u001b[01;34mangleModel1\u001b[0m/      dataset_pytorch.py        labels                  test_subset.pkl\n",
            " \u001b[01;34mannotations\u001b[0m/      \u001b[01;34mfigures\u001b[0m/                  lstm_model2.pth         \u001b[01;34mtimeDistModel\u001b[0m/\n",
            " bracedataset.py   head_floor.PNG            lstm_model.pth          train_subset.pkl\n",
            " brace_test.pkl    hip_knee_ankle.PNG       'MODELS ACCURACY.gdoc'   \u001b[01;34mutils\u001b[0m/\n",
            " brace_test.pth    hip_knee_horizontal.PNG   names                   videos_info.csv\n",
            " brace_train.pkl   \u001b[01;34mkeras_model\u001b[0m/              \u001b[01;34mpath\u001b[0m/                   wrists_floor.PNG\n",
            " brace_train.pth   keypoints_angles.py       \u001b[01;34m__pycache__\u001b[0m/\n",
            " dataClips         \u001b[01;34mk_model_features\u001b[0m/         README.md\n",
            " \u001b[01;34mdataset\u001b[0m/          \u001b[01;34mk_model_features2\u001b[0m/        tensor_dataset.pkl\n"
          ]
        }
      ]
    },
    {
      "cell_type": "code",
      "source": [
        "pip install dtaidistance"
      ],
      "metadata": {
        "id": "qsLkZ6u4TAyK"
      },
      "execution_count": 4,
      "outputs": []
    },
    {
      "cell_type": "code",
      "source": [
        "import sys\n",
        "sys.path.append('/content/drive/MyDrive/Github/capstone/brace')"
      ],
      "metadata": {
        "id": "SgLOxprD3ypr"
      },
      "execution_count": 5,
      "outputs": []
    },
    {
      "cell_type": "code",
      "source": [
        "import pandas as pd\n",
        "import numpy as np\n",
        "import pickle\n",
        "from tensorflow.keras.models import Sequential\n",
        "from tensorflow.keras.layers import LSTM, Dense, Dropout\n",
        "from tensorflow.keras.preprocessing.sequence import pad_sequences\n",
        "from sklearn.model_selection import train_test_split\n",
        "from sklearn.metrics import classification_report, confusion_matrix\n",
        "from tensorflow.keras.utils import to_categorical\n",
        "import matplotlib.pyplot as plt\n",
        "from pathlib import Path"
      ],
      "metadata": {
        "id": "brUT_39I_jV5"
      },
      "execution_count": 19,
      "outputs": []
    },
    {
      "cell_type": "code",
      "source": [
        "import pandas as pd\n",
        "import numpy as np\n",
        "import torch\n",
        "from torch.utils.data import DataLoader\n",
        "from torch import nn, optim\n",
        "import bracedataset\n",
        "from pathlib import Path\n",
        "import torch\n",
        "import torch.nn as nn\n",
        "from torch.nn.utils.rnn import pad_sequence\n",
        "import torch.nn.utils.rnn as rnn_utils\n",
        "from torch.utils.data import TensorDataset\n",
        "from tqdm import tqdm\n",
        "from pathlib import PosixPath\n",
        "import pickle\n",
        "import re\n",
        "import torch.nn.functional as F\n",
        "from torch.utils.data import TensorDataset, random_split\n",
        "from torch.optim.lr_scheduler import ExponentialLR\n",
        "import json\n",
        "from pathlib import Path\n",
        "\n",
        "from dtaidistance import dtw\n",
        "from dtaidistance import dtw\n",
        "from dtaidistance import clustering\n",
        "from sklearn.cluster import KMeans\n",
        "import numpy as np\n",
        "import matplotlib.pyplot as plt\n",
        "from sklearn.decomposition import PCA"
      ],
      "metadata": {
        "id": "-1pDE0Lr33BQ"
      },
      "execution_count": 51,
      "outputs": []
    },
    {
      "cell_type": "markdown",
      "source": [
        "Obtain BRACE dataset clips and labels, only need to to this once, they are saved for future reference\n"
      ],
      "metadata": {
        "id": "tYYGYVWMngFd"
      }
    },
    {
      "cell_type": "code",
      "source": [
        "####### Load one\n",
        "\n",
        "\n",
        "# #load paths\n",
        "# sequences_path = Path('/content/drive/MyDrive/Github/capstone/brace/dataset')\n",
        "# pose_jsons = list(Path(sequences_path).rglob('**/*.json'))\n",
        "# segments= pd.read_csv(Path('/content/drive/MyDrive/Github/capstone/brace/annotations/segments.csv'))\n",
        "# #get clips\n",
        "# dataClips, labels, names=bracedataset.BraceDataset(segments, pose_jsons)\n",
        "# #encode labels from 0-2\n",
        "# unique_categories = list(set(labels))\n",
        "# category_to_int = {category: index for index, category in enumerate(unique_categories)}\n",
        "# encoded_categories = [category_to_int[category] for category in labels]\n",
        "\n",
        "# with open(\"dataClips\", \"wb\") as fp:   #Pickling\n",
        "#     pickle.dump(dataClips, fp)\n",
        "# with open(\"labels\", \"wb\") as fp:   #Pickling\n",
        "#     pickle.dump(labels, fp)\n",
        "# with open(\"names\", \"wb\") as fp:   #Pickling\n",
        "#     pickle.dump(names, fp)"
      ],
      "metadata": {
        "id": "uUOLJKIkEY3p"
      },
      "execution_count": 7,
      "outputs": []
    },
    {
      "cell_type": "code",
      "source": [
        "#load segment\n",
        "segments= pd.read_csv(Path('/content/drive/MyDrive/Github/capstone/brace/annotations/segments.csv'))\n",
        "# Load the TensorDataset\n",
        "with open('dataClips', 'rb') as f:\n",
        "    dataClips = pickle.load(f)\n",
        "\n",
        "# Load the training Subset\n",
        "with open('labels', 'rb') as f:\n",
        "    labels = pickle.load(f)\n",
        "\n",
        "# Load the testing Subset\n",
        "with open('names', 'rb') as f:\n",
        "    names = pickle.load(f)\n",
        "\n",
        "#encode labels from 0-2\n",
        "unique_categories = list(set(labels))\n",
        "category_to_int = {category: index for index, category in enumerate(unique_categories)}\n",
        "encoded_categories = [category_to_int[category] for category in labels]\n",
        "\n",
        "Categories= {'toprock': 0, 'powermove': 1, 'footwork': 2}"
      ],
      "metadata": {
        "id": "zp8pHrSN_SkM"
      },
      "execution_count": 11,
      "outputs": []
    },
    {
      "cell_type": "code",
      "source": [
        "flattened_clips = [clip.reshape(clip.shape[0], -1) for clip in dataClips]\n",
        "padded_clips = pad_sequences(flattened_clips, padding='post', dtype='float32')"
      ],
      "metadata": {
        "id": "ZKs8dZSc_WcJ"
      },
      "execution_count": 16,
      "outputs": []
    },
    {
      "cell_type": "markdown",
      "source": [
        "CNN model with RNN layer\n"
      ],
      "metadata": {
        "id": "mnGADC4QmWYy"
      }
    },
    {
      "cell_type": "code",
      "source": [
        "### KERAS CNN MODEL######\n",
        "\n",
        "X_train, X_test, y_train, y_test = train_test_split(\n",
        "    padded_clips, encoded_categories, test_size=0.20, random_state=42)\n",
        "# Convert labels to one-hot encoding\n",
        "y_train_onehot = to_categorical(y_train, num_classes=3)\n",
        "y_test_onehot = to_categorical(y_test, num_classes=3)\n",
        "\n",
        "# Define the model\n",
        "model = Sequential([\n",
        "    LSTM(50, input_shape=(padded_clips.shape[1], padded_clips.shape[2])),\n",
        "    Dense(100, activation='relu'),\n",
        "    Dropout(0.5),\n",
        "    Dense(3, activation='softmax')\n",
        "])\n",
        "\n",
        "model.compile(optimizer='adam', loss='categorical_crossentropy', metrics=['accuracy'])\n",
        "model.summary()\n",
        "\n",
        "# Train the model\n",
        "history = model.fit(X_train, y_train_onehot, epochs=10, batch_size=32, validation_split=0.2)\n"
      ],
      "metadata": {
        "id": "DKG9Mtp2vZtR",
        "outputId": "6c131a88-d107-4583-be00-43b4842be080",
        "colab": {
          "base_uri": "https://localhost:8080/"
        }
      },
      "execution_count": 20,
      "outputs": [
        {
          "output_type": "stream",
          "name": "stdout",
          "text": [
            "Model: \"sequential\"\n",
            "_________________________________________________________________\n",
            " Layer (type)                Output Shape              Param #   \n",
            "=================================================================\n",
            " lstm (LSTM)                 (None, 50)                17000     \n",
            "                                                                 \n",
            " dense (Dense)               (None, 100)               5100      \n",
            "                                                                 \n",
            " dropout (Dropout)           (None, 100)               0         \n",
            "                                                                 \n",
            " dense_1 (Dense)             (None, 3)                 303       \n",
            "                                                                 \n",
            "=================================================================\n",
            "Total params: 22403 (87.51 KB)\n",
            "Trainable params: 22403 (87.51 KB)\n",
            "Non-trainable params: 0 (0.00 Byte)\n",
            "_________________________________________________________________\n",
            "Epoch 1/10\n",
            "27/27 [==============================] - 16s 471ms/step - loss: 1.0997 - accuracy: 0.2882 - val_loss: 1.0995 - val_accuracy: 0.2949\n",
            "Epoch 2/10\n",
            "27/27 [==============================] - 12s 450ms/step - loss: 1.0986 - accuracy: 0.3426 - val_loss: 1.1006 - val_accuracy: 0.2949\n",
            "Epoch 3/10\n",
            "27/27 [==============================] - 13s 475ms/step - loss: 1.0982 - accuracy: 0.3553 - val_loss: 1.1015 - val_accuracy: 0.2949\n",
            "Epoch 4/10\n",
            "27/27 [==============================] - 13s 482ms/step - loss: 1.0980 - accuracy: 0.3461 - val_loss: 1.1024 - val_accuracy: 0.2949\n",
            "Epoch 5/10\n",
            "27/27 [==============================] - 16s 611ms/step - loss: 1.0979 - accuracy: 0.3438 - val_loss: 1.1046 - val_accuracy: 0.2949\n",
            "Epoch 6/10\n",
            "27/27 [==============================] - 13s 492ms/step - loss: 1.0983 - accuracy: 0.3380 - val_loss: 1.1001 - val_accuracy: 0.2949\n",
            "Epoch 7/10\n",
            "27/27 [==============================] - 14s 525ms/step - loss: 1.0978 - accuracy: 0.3461 - val_loss: 1.1001 - val_accuracy: 0.2949\n",
            "Epoch 8/10\n",
            "27/27 [==============================] - 15s 538ms/step - loss: 1.0977 - accuracy: 0.3426 - val_loss: 1.1023 - val_accuracy: 0.2949\n",
            "Epoch 9/10\n",
            "27/27 [==============================] - 15s 576ms/step - loss: 1.0972 - accuracy: 0.3484 - val_loss: 1.1022 - val_accuracy: 0.2949\n",
            "Epoch 10/10\n",
            "27/27 [==============================] - 16s 579ms/step - loss: 1.0972 - accuracy: 0.3484 - val_loss: 1.1024 - val_accuracy: 0.2949\n"
          ]
        }
      ]
    },
    {
      "cell_type": "code",
      "source": [
        "# Evaluation\n",
        "loss, accuracy = model.evaluate(X_test, y_test_onehot)\n",
        "print(f\"Test accuracy: {accuracy}\")"
      ],
      "metadata": {
        "id": "4HOZV8WKzwNp",
        "outputId": "ca35dcf1-80d0-476f-8665-74b34fc057c5",
        "colab": {
          "base_uri": "https://localhost:8080/"
        }
      },
      "execution_count": 22,
      "outputs": [
        {
          "output_type": "stream",
          "name": "stdout",
          "text": [
            "9/9 [==============================] - 3s 277ms/step - loss: 1.0978 - accuracy: 0.3616\n",
            "Test accuracy: 0.361623615026474\n"
          ]
        }
      ]
    },
    {
      "cell_type": "markdown",
      "source": [
        "Change the padding to trucated\n"
      ],
      "metadata": {
        "id": "M0YMsnRxOGGg"
      }
    },
    {
      "cell_type": "code",
      "source": [
        "sequence_lengths = [len(seq) for seq in flattened_clips]\n",
        "\n",
        "plt.hist(sequence_lengths, bins=50)\n",
        "plt.xlabel('Sequence Length')\n",
        "plt.ylabel('Frequency')\n",
        "plt.show()\n",
        "\n",
        "# Determine a suitable maxlen based on the distribution, for example, the 90th percentile\n",
        "maxlen = np.percentile(sequence_lengths, 90)"
      ],
      "metadata": {
        "id": "FEpMZLSTPQmp",
        "outputId": "5ec5d331-86ef-4729-dcba-b1c5a77ba4c9",
        "colab": {
          "base_uri": "https://localhost:8080/",
          "height": 449
        }
      },
      "execution_count": 23,
      "outputs": [
        {
          "output_type": "display_data",
          "data": {
            "text/plain": [
              "<Figure size 640x480 with 1 Axes>"
            ],
            "image/png": "[encoded data removed]"
          },
          "metadata": {}
        }
      ]
    },
    {
      "cell_type": "code",
      "source": [
        "padded_clips = pad_sequences(flattened_clips, padding='pre', truncating='pre', maxlen=int(maxlen), dtype='float32')\n",
        "X_train, X_test, y_train, y_test = train_test_split(\n",
        "    padded_clips, encoded_categories, test_size=0.20, random_state=42)\n",
        "# Convert labels to one-hot encoding\n",
        "y_train_onehot = to_categorical(y_train, num_classes=3)\n",
        "y_test_onehot = to_categorical(y_test, num_classes=3)\n",
        "\n",
        "# Define the model\n",
        "model = Sequential([\n",
        "    LSTM(50, input_shape=(padded_clips.shape[1], padded_clips.shape[2])),\n",
        "    Dense(100, activation='relu'),\n",
        "    Dropout(0.5),\n",
        "    Dense(3, activation='softmax')\n",
        "])\n",
        "\n",
        "model.compile(optimizer='adam', loss='categorical_crossentropy', metrics=['accuracy'])\n",
        "model.summary()\n",
        "\n",
        "# Train the model\n",
        "history = model.fit(X_train, y_train_onehot, epochs=8, batch_size=32, validation_split=0.2)"
      ],
      "metadata": {
        "id": "yzFugOPbOBVT",
        "outputId": "30cce1cb-e6e8-4b00-92fa-65be7700026e",
        "colab": {
          "base_uri": "https://localhost:8080/"
        }
      },
      "execution_count": 28,
      "outputs": [
        {
          "output_type": "stream",
          "name": "stdout",
          "text": [
            "Model: \"sequential_2\"\n",
            "_________________________________________________________________\n",
            " Layer (type)                Output Shape              Param #   \n",
            "=================================================================\n",
            " lstm_2 (LSTM)               (None, 50)                17000     \n",
            "                                                                 \n",
            " dense_4 (Dense)             (None, 100)               5100      \n",
            "                                                                 \n",
            " dropout_2 (Dropout)         (None, 100)               0         \n",
            "                                                                 \n",
            " dense_5 (Dense)             (None, 3)                 303       \n",
            "                                                                 \n",
            "=================================================================\n",
            "Total params: 22403 (87.51 KB)\n",
            "Trainable params: 22403 (87.51 KB)\n",
            "Non-trainable params: 0 (0.00 Byte)\n",
            "_________________________________________________________________\n",
            "Epoch 1/8\n",
            "27/27 [==============================] - 11s 181ms/step - loss: 1.1098 - accuracy: 0.3137 - val_loss: 1.0789 - val_accuracy: 0.4240\n",
            "Epoch 2/8\n",
            "27/27 [==============================] - 6s 239ms/step - loss: 0.9030 - accuracy: 0.5556 - val_loss: 0.6591 - val_accuracy: 0.6959\n",
            "Epoch 3/8\n",
            "27/27 [==============================] - 4s 167ms/step - loss: 0.8256 - accuracy: 0.6134 - val_loss: 0.6923 - val_accuracy: 0.6774\n",
            "Epoch 4/8\n",
            "27/27 [==============================] - 6s 232ms/step - loss: 0.8443 - accuracy: 0.5648 - val_loss: 0.6530 - val_accuracy: 0.7005\n",
            "Epoch 5/8\n",
            "27/27 [==============================] - 9s 342ms/step - loss: 0.7217 - accuracy: 0.6528 - val_loss: 0.6097 - val_accuracy: 0.6820\n",
            "Epoch 6/8\n",
            "27/27 [==============================] - 10s 361ms/step - loss: 0.6563 - accuracy: 0.6609 - val_loss: 0.5485 - val_accuracy: 0.7051\n",
            "Epoch 7/8\n",
            "27/27 [==============================] - 5s 194ms/step - loss: 0.5851 - accuracy: 0.7130 - val_loss: 0.5928 - val_accuracy: 0.7143\n",
            "Epoch 8/8\n",
            "27/27 [==============================] - 10s 368ms/step - loss: 0.7133 - accuracy: 0.6736 - val_loss: 0.5658 - val_accuracy: 0.7512\n"
          ]
        }
      ]
    },
    {
      "cell_type": "code",
      "source": [
        "# Evaluation\n",
        "loss, accuracy = model.evaluate(X_test, y_test_onehot)\n",
        "print(f\"Test accuracy: {accuracy}\")"
      ],
      "metadata": {
        "id": "EkfsKqPpN5dz",
        "outputId": "d2c5050d-ace4-41f1-c7d3-3bff4a32150c",
        "colab": {
          "base_uri": "https://localhost:8080/"
        }
      },
      "execution_count": 29,
      "outputs": [
        {
          "output_type": "stream",
          "name": "stdout",
          "text": [
            "9/9 [==============================] - 1s 62ms/step - loss: 0.5871 - accuracy: 0.7269\n",
            "Test accuracy: 0.7269372940063477\n"
          ]
        }
      ]
    },
    {
      "cell_type": "code",
      "source": [
        "# Predictions\n",
        "y_pred = model.predict(X_test)\n",
        "y_pred_classes = np.argmax(y_pred, axis=1)\n",
        "y_true = np.argmax(y_test_onehot, axis=1)\n",
        "\n",
        "# Classification report\n",
        "print(classification_report(y_true, y_pred_classes))\n",
        "\n",
        "# Confusion Matrix\n",
        "conf_mat = confusion_matrix(y_true, y_pred_classes)\n",
        "# Plotting confusion matrix or use seaborn for a nicer plot\n",
        "\n",
        "# Plotting training history\n",
        "plt.figure(figsize=(14, 5))\n",
        "plt.subplot(1, 2, 1)\n",
        "plt.plot(history.history['accuracy'], label='Train Accuracy')\n",
        "plt.plot(history.history['val_accuracy'], label='Validation Accuracy')\n",
        "plt.title('Accuracy Over Epochs')\n",
        "plt.legend()\n",
        "\n",
        "plt.subplot(1, 2, 2)\n",
        "plt.plot(history.history['loss'], label='Train Loss')\n",
        "plt.plot(history.history['val_loss'], label='Validation Loss')\n",
        "plt.title('Loss Over Epochs')\n",
        "plt.legend()\n",
        "\n",
        "plt.show()"
      ],
      "metadata": {
        "id": "klFVCmoqQPNS",
        "outputId": "f092fdce-1d09-4931-d86a-8f2def41f01f",
        "colab": {
          "base_uri": "https://localhost:8080/",
          "height": 659
        }
      },
      "execution_count": 30,
      "outputs": [
        {
          "output_type": "stream",
          "name": "stdout",
          "text": [
            "9/9 [==============================] - 1s 60ms/step\n",
            "              precision    recall  f1-score   support\n",
            "\n",
            "           0       0.84      0.99      0.91        98\n",
            "           1       0.78      0.60      0.68        98\n",
            "           2       0.51      0.55      0.53        75\n",
            "\n",
            "    accuracy                           0.73       271\n",
            "   macro avg       0.71      0.71      0.71       271\n",
            "weighted avg       0.73      0.73      0.72       271\n",
            "\n"
          ]
        },
        {
          "output_type": "display_data",
          "data": {
            "text/plain": [
              "<Figure size 1400x500 with 2 Axes>"
            ],
            "image/png": "[encoded data removed]"
          },
          "metadata": {}
        }
      ]
    },
    {
      "cell_type": "markdown",
      "source": [
        "INCLUDE FEATURES IN THE MODEL"
      ],
      "metadata": {
        "id": "xEhy9uUkExXN"
      }
    },
    {
      "cell_type": "code",
      "source": [
        "#sort additional features\n",
        "features= segments.copy()\n",
        "features['uid']= pd.Categorical(features['uid'], categories=names, ordered=True)\n",
        "features= features.sort_values(by='uid')\n",
        "features['frames']= features['end_frame']- features['start_frame']\n"
      ],
      "metadata": {
        "id": "iPWUWAtI-BCb"
      },
      "execution_count": 35,
      "outputs": []
    },
    {
      "cell_type": "code",
      "source": [
        "# One-hot encode\n",
        "preprocessor = ColumnTransformer(\n",
        "    transformers=[\n",
        "        ('seq', OneHotEncoder(), ['seq_idx']),\n",
        "        ('cat', OneHotEncoder(), ['dancer_id']),\n",
        "        ('num', OneHotEncoder(), ['year']),\n",
        "\n",
        "    ]\n",
        ")\n",
        "\n",
        "features_preprocessed = preprocessor.fit_transform(features[['seq_idx', 'dancer_id', 'year']])\n",
        "features_preprocessed = features_preprocessed.toarray()\n"
      ],
      "metadata": {
        "id": "fzvXD29k_p92"
      },
      "execution_count": 36,
      "outputs": []
    },
    {
      "cell_type": "code",
      "source": [
        "#padded trucated\n",
        "padded_clips = pad_sequences(flattened_clips, padding='pre', truncating='pre', maxlen=int(maxlen), dtype='float32')\n",
        "# split train, test\n",
        "X_train_clips, X_test_clips, X_train_features, X_test_features, y_train, y_test = train_test_split(\n",
        "    padded_clips, features_preprocessed, encoded_categories, test_size=0.2, random_state=42)\n",
        "\n",
        "\n",
        "y_train_onehot = to_categorical(y_train, num_classes=3)\n",
        "y_test_onehot = to_categorical(y_test, num_classes=3)"
      ],
      "metadata": {
        "id": "5t5nt7ha6RKb"
      },
      "execution_count": 37,
      "outputs": []
    },
    {
      "cell_type": "code",
      "source": [
        "# CNN with features\n",
        "# Keypoint input branch\n",
        "keypoint_input = Input(shape=(X_train_clips.shape[1], X_train_clips.shape[2]), name='keypoint_input')\n",
        "keypoint_model = LSTM(50)(keypoint_input)\n",
        "keypoint_model = Dense(100, activation='relu')(keypoint_model)\n",
        "\n",
        "# Additional features input branch\n",
        "additional_features_input = Input(shape=(X_train_features.shape[1],), name='features_input')\n",
        "features_model = Dense(50, activation='relu')(additional_features_input)\n",
        "\n",
        "# Concatenate the outputs of the two branches\n",
        "combined = concatenate([keypoint_model, features_model])\n",
        "\n",
        "# Add a classification layer\n",
        "combined = Dense(100, activation='relu')(combined)\n",
        "combined = Dropout(0.5)(combined)\n",
        "output = Dense(3, activation='softmax')(combined)  # Assuming 3 classes\n",
        "\n",
        "# Build the model\n",
        "model = Model(inputs=[keypoint_input, additional_features_input], outputs=output)\n",
        "\n",
        "# Compile the model\n",
        "model.compile(optimizer='adam', loss='categorical_crossentropy', metrics=['accuracy'])\n",
        "\n",
        "# Model summary to check architecture\n",
        "model.summary()\n",
        "\n"
      ],
      "metadata": {
        "id": "KP8mPxZhBKQm",
        "outputId": "747d06e6-3ab8-4360-a053-6e752e557cf9",
        "colab": {
          "base_uri": "https://localhost:8080/"
        }
      },
      "execution_count": 39,
      "outputs": [
        {
          "output_type": "stream",
          "name": "stdout",
          "text": [
            "Model: \"model_1\"\n",
            "__________________________________________________________________________________________________\n",
            " Layer (type)                Output Shape                 Param #   Connected to                  \n",
            "==================================================================================================\n",
            " keypoint_input (InputLayer  [(None, 471, 34)]            0         []                            \n",
            " )                                                                                                \n",
            "                                                                                                  \n",
            " lstm_4 (LSTM)               (None, 50)                   17000     ['keypoint_input[0][0]']      \n",
            "                                                                                                  \n",
            " features_input (InputLayer  [(None, 78)]                 0         []                            \n",
            " )                                                                                                \n",
            "                                                                                                  \n",
            " dense_10 (Dense)            (None, 100)                  5100      ['lstm_4[0][0]']              \n",
            "                                                                                                  \n",
            " dense_11 (Dense)            (None, 50)                   3950      ['features_input[0][0]']      \n",
            "                                                                                                  \n",
            " concatenate_1 (Concatenate  (None, 150)                  0         ['dense_10[0][0]',            \n",
            " )                                                                   'dense_11[0][0]']            \n",
            "                                                                                                  \n",
            " dense_12 (Dense)            (None, 100)                  15100     ['concatenate_1[0][0]']       \n",
            "                                                                                                  \n",
            " dropout_4 (Dropout)         (None, 100)                  0         ['dense_12[0][0]']            \n",
            "                                                                                                  \n",
            " dense_13 (Dense)            (None, 3)                    303       ['dropout_4[0][0]']           \n",
            "                                                                                                  \n",
            "==================================================================================================\n",
            "Total params: 41453 (161.93 KB)\n",
            "Trainable params: 41453 (161.93 KB)\n",
            "Non-trainable params: 0 (0.00 Byte)\n",
            "__________________________________________________________________________________________________\n"
          ]
        }
      ]
    },
    {
      "cell_type": "code",
      "source": [
        "#training set\n",
        "history = model.fit([X_train_clips, X_train_features], y_train_onehot, validation_split=0.2, epochs=10, batch_size=32)"
      ],
      "metadata": {
        "id": "Pd1c9rXJBPrP",
        "outputId": "908647e5-8618-457a-ae85-1cc2f0b48bfa",
        "colab": {
          "base_uri": "https://localhost:8080/"
        }
      },
      "execution_count": 40,
      "outputs": [
        {
          "output_type": "stream",
          "name": "stdout",
          "text": [
            "Epoch 1/10\n",
            "27/27 [==============================] - 9s 238ms/step - loss: 1.1021 - accuracy: 0.3715 - val_loss: 1.0931 - val_accuracy: 0.3410\n",
            "Epoch 2/10\n",
            "27/27 [==============================] - 5s 190ms/step - loss: 0.9820 - accuracy: 0.4977 - val_loss: 0.6773 - val_accuracy: 0.7005\n",
            "Epoch 3/10\n",
            "27/27 [==============================] - 8s 295ms/step - loss: 0.9647 - accuracy: 0.5150 - val_loss: 1.1005 - val_accuracy: 0.3502\n",
            "Epoch 4/10\n",
            "27/27 [==============================] - 7s 250ms/step - loss: 1.1080 - accuracy: 0.3391 - val_loss: 1.1080 - val_accuracy: 0.2857\n",
            "Epoch 5/10\n",
            "27/27 [==============================] - 7s 246ms/step - loss: 1.0632 - accuracy: 0.4410 - val_loss: 1.0203 - val_accuracy: 0.5300\n",
            "Epoch 6/10\n",
            "27/27 [==============================] - 4s 167ms/step - loss: 0.8296 - accuracy: 0.6204 - val_loss: 0.6287 - val_accuracy: 0.7097\n",
            "Epoch 7/10\n",
            "27/27 [==============================] - 5s 169ms/step - loss: 0.6287 - accuracy: 0.7222 - val_loss: 0.4510 - val_accuracy: 0.7327\n",
            "Epoch 8/10\n",
            "27/27 [==============================] - 6s 237ms/step - loss: 0.5781 - accuracy: 0.7396 - val_loss: 0.5474 - val_accuracy: 0.7512\n",
            "Epoch 9/10\n",
            "27/27 [==============================] - 4s 164ms/step - loss: 0.5624 - accuracy: 0.7616 - val_loss: 0.5030 - val_accuracy: 0.7419\n",
            "Epoch 10/10\n",
            "27/27 [==============================] - 4s 161ms/step - loss: 0.5185 - accuracy: 0.7257 - val_loss: 0.5001 - val_accuracy: 0.7558\n"
          ]
        }
      ]
    },
    {
      "cell_type": "code",
      "source": [
        "# Evaluate the model on the test data\n",
        "test_loss, test_accuracy = model.evaluate([X_test_clips, X_test_features], y_test_onehot)\n",
        "\n",
        "print(f\"Test Loss: {test_loss}\")\n",
        "print(f\"Test Accuracy: {test_accuracy}\")"
      ],
      "metadata": {
        "id": "81azGlsWBY_j",
        "outputId": "b48bd825-21bd-4abc-cec1-bd121ff7aa61",
        "colab": {
          "base_uri": "https://localhost:8080/"
        }
      },
      "execution_count": 41,
      "outputs": [
        {
          "output_type": "stream",
          "name": "stdout",
          "text": [
            "9/9 [==============================] - 1s 64ms/step - loss: 0.4491 - accuracy: 0.7823\n",
            "Test Loss: 0.4491393566131592\n",
            "Test Accuracy: 0.7822878360748291\n"
          ]
        }
      ]
    },
    {
      "cell_type": "markdown",
      "source": [
        "CHANGE FEATURES TO SEQUENCE AND CLIP LENGHT, TO TEST IF THERE IS LESS OVERFITTING"
      ],
      "metadata": {
        "id": "vx2ySxsJE55z"
      }
    }
  ]
}
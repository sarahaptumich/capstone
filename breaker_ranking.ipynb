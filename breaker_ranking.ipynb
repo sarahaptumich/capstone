{
  "nbformat": 4,
  "nbformat_minor": 0,
  "metadata": {
    "colab": {
      "provenance": [],
      "authorship_tag": "ABX9TyNV4jqthqzplHE3hKCyM//I",
      "include_colab_link": true
    },
    "kernelspec": {
      "name": "python3",
      "display_name": "Python 3"
    },
    "language_info": {
      "name": "python"
    }
  },
  "cells": [
    {
      "cell_type": "markdown",
      "metadata": {
        "id": "view-in-github",
        "colab_type": "text"
      },
      "source": [
        "<a href=\"https://colab.research.google.com/github/sarahaptumich/capstone/blob/shaptonstall/breaker_ranking.ipynb\" target=\"_parent\"><img src=\"https://colab.research.google.com/assets/colab-badge.svg\" alt=\"Open In Colab\"/></a>"
      ]
    },
    {
      "cell_type": "code",
      "execution_count": 2,
      "metadata": {
        "colab": {
          "base_uri": "https://localhost:8080/"
        },
        "id": "3uo-3u3rJ8Ub",
        "outputId": "663bfec0-8791-4292-a684-1b85fbe1722d"
      },
      "outputs": [
        {
          "output_type": "stream",
          "name": "stdout",
          "text": [
            "Mounted at /content/drive\n"
          ]
        }
      ],
      "source": [
        "#Mount google drive\n",
        "from google.colab import drive\n",
        "drive.mount('/content/drive')"
      ]
    },
    {
      "cell_type": "code",
      "source": [
        "%cd /content/drive/MyDrive/Github/capstone"
      ],
      "metadata": {
        "colab": {
          "base_uri": "https://localhost:8080/"
        },
        "id": "xMQN6zSOKHAz",
        "outputId": "9113ec27-d06b-4347-8ec8-7f07c838c849"
      },
      "execution_count": 3,
      "outputs": [
        {
          "output_type": "stream",
          "name": "stdout",
          "text": [
            "/content/drive/MyDrive/Github/capstone\n"
          ]
        }
      ]
    },
    {
      "cell_type": "code",
      "source": [
        "import pandas as pd\n",
        "import numpy as np\n",
        "import re\n",
        "from datetime import datetime, timedelta\n",
        "from sklearn.decomposition import PCA, KernelPCA\n",
        "from sklearn.impute import SimpleImputer\n",
        "from sklearn.preprocessing import StandardScaler\n",
        "import matplotlib.pyplot as plt\n",
        "from sklearn.decomposition import FactorAnalysis\n",
        "import joblib"
      ],
      "metadata": {
        "id": "7UxtxjvnKL82"
      },
      "execution_count": 4,
      "outputs": []
    },
    {
      "cell_type": "code",
      "source": [
        "scaler = joblib.load('trivium_scaler.pkl')\n",
        "pca= joblib.load('trivium_pca.pkl')"
      ],
      "metadata": {
        "id": "SewsdhACMycx"
      },
      "execution_count": 5,
      "outputs": []
    },
    {
      "cell_type": "code",
      "source": [
        "trivium= pd.read_csv('trivium_scorecard.csv')\n",
        "triviumScore=trivium[['Creativity', 'Musicality', 'Performance', 'Personality', 'Technique', 'Variety']]\n",
        "triviumNorm=scaler.transform(triviumScore)"
      ],
      "metadata": {
        "colab": {
          "base_uri": "https://localhost:8080/"
        },
        "id": "ZbioKYNtM710",
        "outputId": "181b77a4-a675-400f-d11a-00c798a7502c"
      },
      "execution_count": 6,
      "outputs": [
        {
          "output_type": "stream",
          "name": "stderr",
          "text": [
            "/usr/local/lib/python3.10/dist-packages/sklearn/base.py:432: UserWarning: X has feature names, but StandardScaler was fitted without feature names\n",
            "  warnings.warn(\n"
          ]
        }
      ]
    },
    {
      "cell_type": "code",
      "source": [
        "trivium_pca=pca.transform(triviumScore)\n",
        "trivium_pca"
      ],
      "metadata": {
        "colab": {
          "base_uri": "https://localhost:8080/"
        },
        "id": "4iFVrOw3OK9q",
        "outputId": "e8fbbd55-a349-4c9e-f022-dd1811ade6e2"
      },
      "execution_count": 8,
      "outputs": [
        {
          "output_type": "stream",
          "name": "stderr",
          "text": [
            "/usr/local/lib/python3.10/dist-packages/sklearn/base.py:432: UserWarning: X has feature names, but PCA was fitted without feature names\n",
            "  warnings.warn(\n"
          ]
        },
        {
          "output_type": "execute_result",
          "data": {
            "text/plain": [
              "array([[ 18.10345228, -41.91362027,  33.8840572 ],\n",
              "       [ 39.27689867, -25.70321196,  17.5829577 ],\n",
              "       [ 31.0544668 , -44.50830267,  20.46901514],\n",
              "       ...,\n",
              "       [-24.23150363,  -3.44555029,   5.10984764],\n",
              "       [-24.70852908,   3.21848569,   3.15991744],\n",
              "       [ 11.03297444,  -8.98110083, -10.40644697]])"
            ]
          },
          "metadata": {},
          "execution_count": 8
        }
      ]
    },
    {
      "cell_type": "code",
      "source": [
        "trivium_pca[1].sum()"
      ],
      "metadata": {
        "id": "MafI30O_XpGZ",
        "outputId": "5e898abb-b7ed-4a40-f8a5-d7b3b15840fc",
        "colab": {
          "base_uri": "https://localhost:8080/"
        }
      },
      "execution_count": 10,
      "outputs": [
        {
          "output_type": "execute_result",
          "data": {
            "text/plain": [
              "31.15664440354268"
            ]
          },
          "metadata": {},
          "execution_count": 10
        }
      ]
    }
  ]
}
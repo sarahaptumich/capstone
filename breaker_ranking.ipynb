{
  "nbformat": 4,
  "nbformat_minor": 0,
  "metadata": {
    "colab": {
      "provenance": [],
      "authorship_tag": "ABX9TyMfi4Vq/9Srczu/48elJfnK",
      "include_colab_link": true
    },
    "kernelspec": {
      "name": "python3",
      "display_name": "Python 3"
    },
    "language_info": {
      "name": "python"
    }
  },
  "cells": [
    {
      "cell_type": "markdown",
      "metadata": {
        "id": "view-in-github",
        "colab_type": "text"
      },
      "source": [
        "<a href=\"https://colab.research.google.com/github/sarahaptumich/capstone/blob/shaptonstall/breaker_ranking.ipynb\" target=\"_parent\"><img src=\"https://colab.research.google.com/assets/colab-badge.svg\" alt=\"Open In Colab\"/></a>"
      ]
    },
    {
      "cell_type": "code",
      "execution_count": 1,
      "metadata": {
        "colab": {
          "base_uri": "https://localhost:8080/"
        },
        "id": "3uo-3u3rJ8Ub",
        "outputId": "5a439341-bea6-4b1f-f858-bf3229128df3"
      },
      "outputs": [
        {
          "output_type": "stream",
          "name": "stdout",
          "text": [
            "Mounted at /content/drive\n"
          ]
        }
      ],
      "source": [
        "#Mount google drive\n",
        "from google.colab import drive\n",
        "drive.mount('/content/drive')"
      ]
    },
    {
      "cell_type": "code",
      "source": [
        "%cd /content/drive/MyDrive/Github/capstone"
      ],
      "metadata": {
        "colab": {
          "base_uri": "https://localhost:8080/"
        },
        "id": "xMQN6zSOKHAz",
        "outputId": "eade883b-7fdd-495d-9091-3dbcea91959b"
      },
      "execution_count": 2,
      "outputs": [
        {
          "output_type": "stream",
          "name": "stdout",
          "text": [
            "/content/drive/MyDrive/Github/capstone\n"
          ]
        }
      ]
    },
    {
      "cell_type": "code",
      "source": [
        "import pandas as pd\n",
        "import numpy as np\n",
        "import re\n",
        "from datetime import datetime, timedelta\n",
        "from sklearn.decomposition import PCA, KernelPCA\n",
        "from sklearn.impute import SimpleImputer\n",
        "from sklearn.preprocessing import StandardScaler\n",
        "import matplotlib.pyplot as plt\n",
        "from sklearn.decomposition import FactorAnalysis\n",
        "import joblib"
      ],
      "metadata": {
        "id": "7UxtxjvnKL82"
      },
      "execution_count": 6,
      "outputs": []
    },
    {
      "cell_type": "code",
      "source": [
        "scaler = joblib.load('trivium_scaler.pkl')\n",
        "pca= joblib.load('trivium_pca.pkl')"
      ],
      "metadata": {
        "id": "SewsdhACMycx"
      },
      "execution_count": 13,
      "outputs": []
    },
    {
      "cell_type": "code",
      "source": [
        "trivium= pd.read_csv('trivium_scorecard.csv')\n",
        "triviumScore=trivium[['Creativity', 'Musicality', 'Performance', 'Personality', 'Technique', 'Variety']]\n",
        "triviumNorm=scaler.transform(triviumScore)"
      ],
      "metadata": {
        "colab": {
          "base_uri": "https://localhost:8080/"
        },
        "id": "ZbioKYNtM710",
        "outputId": "a07a0d12-d242-45dd-d4d3-a5b3783b161f"
      },
      "execution_count": 12,
      "outputs": [
        {
          "output_type": "stream",
          "name": "stderr",
          "text": [
            "/usr/local/lib/python3.10/dist-packages/sklearn/base.py:432: UserWarning: X has feature names, but StandardScaler was fitted without feature names\n",
            "  warnings.warn(\n"
          ]
        }
      ]
    },
    {
      "cell_type": "code",
      "source": [
        "trivium_pca=pca.transform(triviumNorm)\n",
        "trivium_pca"
      ],
      "metadata": {
        "colab": {
          "base_uri": "https://localhost:8080/"
        },
        "id": "4iFVrOw3OK9q",
        "outputId": "a859e3aa-dd6d-405d-d409-5b45fca3fce8"
      },
      "execution_count": 23,
      "outputs": [
        {
          "output_type": "execute_result",
          "data": {
            "text/plain": [
              "array([[ 0.06543797, -1.64924531,  2.20490374],\n",
              "       [ 2.36382306, -0.48064488,  0.85496631],\n",
              "       [ 1.46991454, -2.14263542,  0.57726586],\n",
              "       ...,\n",
              "       [-2.31807118, -0.67047925,  0.27841557],\n",
              "       [-2.40164123, -0.37123577,  0.22604741],\n",
              "       [ 0.14068428, -0.5572502 , -1.1061915 ]])"
            ]
          },
          "metadata": {},
          "execution_count": 23
        }
      ]
    }
  ]
}
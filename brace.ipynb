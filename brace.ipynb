{
  "nbformat": 4,
  "nbformat_minor": 0,
  "metadata": {
    "colab": {
      "provenance": [],
      "authorship_tag": "ABX9TyN+ZhiPh+FwysZSNyo+ZJZh",
      "include_colab_link": true
    },
    "kernelspec": {
      "name": "python3",
      "display_name": "Python 3"
    },
    "language_info": {
      "name": "python"
    }
  },
  "cells": [
    {
      "cell_type": "markdown",
      "metadata": {
        "id": "view-in-github",
        "colab_type": "text"
      },
      "source": [
        "<a href=\"https://colab.research.google.com/github/sarahaptumich/capstone/blob/shaptonstall/brace.ipynb\" target=\"_parent\"><img src=\"https://colab.research.google.com/assets/colab-badge.svg\" alt=\"Open In Colab\"/></a>"
      ]
    },
    {
      "cell_type": "code",
      "execution_count": 1,
      "metadata": {
        "colab": {
          "base_uri": "https://localhost:8080/"
        },
        "id": "8Q_c2JZ5xGiW",
        "outputId": "6b2f63f5-5c30-4034-bfa1-0611958708b2"
      },
      "outputs": [
        {
          "output_type": "stream",
          "name": "stdout",
          "text": [
            "Drive already mounted at /content/drive; to attempt to forcibly remount, call drive.mount(\"/content/drive\", force_remount=True).\n"
          ]
        }
      ],
      "source": [
        "#Mount google drive\n",
        "from google.colab import drive\n",
        "drive.mount(\"/content/drive\")"
      ]
    },
    {
      "cell_type": "code",
      "source": [
        "%cd /content/drive/MyDrive/Github/capstone/brace"
      ],
      "metadata": {
        "colab": {
          "base_uri": "https://localhost:8080/"
        },
        "id": "MjUD3TpP3nCf",
        "outputId": "e02d8fff-2474-4e5c-dce2-6af8c088a8ff"
      },
      "execution_count": 2,
      "outputs": [
        {
          "output_type": "stream",
          "name": "stdout",
          "text": [
            "/content/drive/MyDrive/Github/capstone/brace\n"
          ]
        }
      ]
    },
    {
      "cell_type": "code",
      "source": [
        "%ls"
      ],
      "metadata": {
        "colab": {
          "base_uri": "https://localhost:8080/"
        },
        "id": "bZktF17T3pIo",
        "outputId": "e9575779-39cb-470b-bd67-98f2f1ee5553"
      },
      "execution_count": 3,
      "outputs": [
        {
          "output_type": "stream",
          "name": "stdout",
          "text": [
            " \u001b[0m\u001b[01;34mannotations\u001b[0m/      \u001b[01;34mdataset\u001b[0m/            'MODELS ACCURACY.gdoc'   train_subset.pkl\n",
            " bracedataset.py   dataset_pytorch.py   \u001b[01;34mpath\u001b[0m/                   \u001b[01;34mutils\u001b[0m/\n",
            " brace_test.pkl    \u001b[01;34mfigures\u001b[0m/             \u001b[01;34m__pycache__\u001b[0m/            videos_info.csv\n",
            " brace_test.pth    \u001b[01;34mkeras_model\u001b[0m/         README.md\n",
            " brace_train.pkl   lstm_model2.pth      tensor_dataset.pkl\n",
            " brace_train.pth   lstm_model.pth       test_subset.pkl\n"
          ]
        }
      ]
    },
    {
      "cell_type": "code",
      "source": [
        "# !nvidia-smi"
      ],
      "metadata": {
        "id": "qsLkZ6u4TAyK"
      },
      "execution_count": 4,
      "outputs": []
    },
    {
      "cell_type": "code",
      "source": [
        "import sys\n",
        "sys.path.append('/content/drive/MyDrive/Github/capstone/brace')"
      ],
      "metadata": {
        "id": "SgLOxprD3ypr"
      },
      "execution_count": 5,
      "outputs": []
    },
    {
      "cell_type": "code",
      "source": [
        "import pandas as pd\n",
        "import numpy as np\n",
        "import torch\n",
        "from torch.utils.data import DataLoader\n",
        "from torch import nn, optim\n",
        "import bracedataset\n",
        "from pathlib import Path\n",
        "import torch\n",
        "import torch.nn as nn\n",
        "from torch.nn.utils.rnn import pad_sequence\n",
        "import torch.nn.utils.rnn as rnn_utils\n",
        "from torch.utils.data import TensorDataset\n",
        "from tqdm import tqdm\n",
        "from pathlib import PosixPath\n",
        "import pickle\n",
        "import re\n",
        "import torch.nn.functional as F\n",
        "from torch.utils.data import TensorDataset, random_split\n",
        "from torch.optim.lr_scheduler import ExponentialLR\n",
        "import json\n",
        "from pathlib import Path"
      ],
      "metadata": {
        "id": "-1pDE0Lr33BQ"
      },
      "execution_count": 6,
      "outputs": []
    },
    {
      "cell_type": "code",
      "source": [
        "from tensorflow.keras.preprocessing.sequence import pad_sequences\n",
        "from sklearn.model_selection import train_test_split\n",
        "import tensorflow as tf\n",
        "from tensorflow.keras.models import Sequential\n",
        "from tensorflow.keras.layers import Dense, LSTM, TimeDistributed, Conv1D, MaxPooling1D, Flatten, Dropout\n",
        "from tensorflow.keras.utils import to_categorical\n",
        "from tensorflow.keras.models import load_model\n",
        "from sklearn.preprocessing import StandardScaler, OneHotEncoder\n",
        "from sklearn.compose import ColumnTransformer\n",
        "from sklearn.pipeline import make_pipeline\n",
        "from tensorflow.keras.models import Model\n",
        "from tensorflow.keras.layers import Input, concatenate, BatchNormalization\n",
        "from tensorflow.keras.regularizers import l1_l2\n",
        "from tensorflow.keras.callbacks import EarlyStopping"
      ],
      "metadata": {
        "id": "PNPfRlgEuMza"
      },
      "execution_count": 52,
      "outputs": []
    },
    {
      "cell_type": "markdown",
      "source": [
        "Obtain BRACE dataset clips and labels, only need to to this once, they are saved for future reference\n"
      ],
      "metadata": {
        "id": "tYYGYVWMngFd"
      }
    },
    {
      "cell_type": "code",
      "source": [
        "# #load paths\n",
        "# sequences_path = Path('/content/drive/MyDrive/Github/capstone/brace/dataset')\n",
        "# pose_jsons = list(Path(sequences_path).rglob('**/*.json'))\n",
        "# segments= pd.read_csv(Path('/content/drive/MyDrive/Github/capstone/brace/annotations/segments.csv'))\n",
        "# #get clips\n",
        "# dataClips, labels=bracedataset.BraceDataset(segments, pose_jsons)\n",
        "# #encode labels from 0-2\n",
        "# unique_categories = list(set(labels))\n",
        "# category_to_int = {category: index for index, category in enumerate(unique_categories)}\n",
        "# encoded_categories = [category_to_int[category] for category in labels]\n",
        "\n",
        "# #get max length of the keypoints\n",
        "# max_length = max(seq.shape[0] for seq in dataClips)\n",
        "\n",
        "# #pad tensor so they are of the same lenght\n",
        "# dataClips_tensors=[np.pad(array.astype(np.float32), ((0, max_length - array.shape[0]), (0, 0), (0, 0)), 'constant', constant_values=0) for array in dataClips]\n",
        "# dataClips_tensors=torch.tensor(dataClips_tensors)\n",
        "# #convert labels to tensors\n",
        "# label_tensors = np.array(encoded_categories)\n",
        "# label_tensors=torch.tensor(label_tensors)\n",
        "# ##SPLIT SET FOR REPRODUCTIVITY\n",
        "# dataset = TensorDataset(dataClips_tensors, label_tensors)\n",
        "# # Set seed for reproducibility\n",
        "# torch.manual_seed(42)\n",
        "\n",
        "# # Determine split sizes\n",
        "# train_size = int(0.8 * len(dataset))\n",
        "# test_size = len(dataset) - train_size\n",
        "\n",
        "# # Split dataset\n",
        "# train_dataset, test_dataset = random_split(dataset, [train_size, test_size])\n",
        "\n",
        "# print(f\"Training set size: {len(train_dataset)}\")\n",
        "# print(f\"Testing set size: {len(test_dataset)}\")\n",
        "# # Save the TensorDataset\n",
        "# with open('tensor_dataset.pkl', 'wb') as f:\n",
        "#     pickle.dump(dataset, f)\n",
        "\n",
        "# # Save the Subset\n",
        "# with open('train_subset.pkl', 'wb') as f:\n",
        "#     pickle.dump(train_dataset, f)\n",
        "# with open('test_subset.pkl', 'wb') as f:\n",
        "#     pickle.dump(test_dataset, f)"
      ],
      "metadata": {
        "id": "bdAacfsqjl1k"
      },
      "execution_count": 7,
      "outputs": []
    },
    {
      "cell_type": "markdown",
      "source": [
        "Load previously saved dataset"
      ],
      "metadata": {
        "id": "mw0S9lN1okOz"
      }
    },
    {
      "cell_type": "code",
      "source": [
        "# Load the TensorDataset\n",
        "with open('tensor_dataset.pkl', 'rb') as f:\n",
        "    dataset = pickle.load(f)\n",
        "\n",
        "# Load the training Subset\n",
        "with open('train_subset.pkl', 'rb') as f:\n",
        "    train_dataset = pickle.load(f)\n",
        "\n",
        "# Load the testing Subset\n",
        "with open('test_subset.pkl', 'rb') as f:\n",
        "    test_dataset = pickle.load(f)"
      ],
      "metadata": {
        "id": "tDJX7sw_orzu"
      },
      "execution_count": 8,
      "outputs": []
    },
    {
      "cell_type": "code",
      "source": [
        "batch_size = 16\n",
        "\n",
        "train_loader = DataLoader(train_dataset, batch_size=batch_size, shuffle=True)\n",
        "test_loader = DataLoader(test_dataset, batch_size=batch_size, shuffle=False)"
      ],
      "metadata": {
        "id": "oV0A7N1TL14h"
      },
      "execution_count": 9,
      "outputs": []
    },
    {
      "cell_type": "markdown",
      "source": [
        "Use this to load the dataset"
      ],
      "metadata": {
        "id": "rt-EqlkRYyQA"
      }
    },
    {
      "cell_type": "code",
      "source": [
        "class LSTMModel(nn.Module):\n",
        "    def __init__(self, input_size, hidden_size, num_layers, num_classes=3):\n",
        "        super(LSTMModel, self).__init__()\n",
        "        self.hidden_size = hidden_size\n",
        "        self.num_layers = num_layers\n",
        "        self.lstm = nn.LSTM(input_size, hidden_size, num_layers, batch_first=True)\n",
        "        self.fc = nn.Linear(hidden_size, num_classes)\n",
        "\n",
        "    def forward(self, x):\n",
        "        h0 = torch.zeros(self.num_layers, x.size(0), self.hidden_size).to(x.device)\n",
        "        c0 = torch.zeros(self.num_layers, x.size(0), self.hidden_size).to(x.device)\n",
        "\n",
        "        out, _ = self.lstm(x, (h0, c0))\n",
        "        out = self.fc(out[:, -1, :])\n",
        "        return out"
      ],
      "metadata": {
        "id": "k329g0DixKLI"
      },
      "execution_count": null,
      "outputs": []
    },
    {
      "cell_type": "markdown",
      "source": [],
      "metadata": {
        "id": "JwbV2Rbv1Iqx"
      }
    },
    {
      "cell_type": "code",
      "source": [
        "\n",
        "device = torch.device('cuda' if torch.cuda.is_available() else 'cpu')\n"
      ],
      "metadata": {
        "id": "PWJJxnJkqmgC"
      },
      "execution_count": null,
      "outputs": []
    },
    {
      "cell_type": "code",
      "source": [
        "# Initialize the model\n",
        "input_size = 17 * 2\n",
        "hidden_size = 128\n",
        "num_layers = 2\n",
        "num_classes = 3\n",
        "\n",
        "model = LSTMModel(input_size, hidden_size, num_layers, num_classes).to(device)\n",
        "\n",
        "# Loss and optimizer\n",
        "criterion = nn.CrossEntropyLoss()\n",
        "optimizer = torch.optim.Adam(model.parameters(), lr=0.001)\n",
        "\n",
        "# Training\n",
        "num_epochs = 10\n",
        "for epoch in range(num_epochs):\n",
        "\n",
        "    for sequences, labels in train_loader:\n",
        "        sequences = sequences.to(device).view(-1, 1280, 34)  # Adjust shape for LSTM\n",
        "        labels = labels.to(device)\n",
        "\n",
        "        # Forward pass\n",
        "        outputs = model(sequences)\n",
        "        loss = criterion(outputs, labels)\n",
        "\n",
        "        # Backward and optimize\n",
        "        optimizer.zero_grad()\n",
        "        loss.backward()\n",
        "        optimizer.step()\n",
        "\n",
        "    print(f'Epoch [{epoch+1}/{num_epochs}], Loss: {loss.item():.4f}')"
      ],
      "metadata": {
        "id": "E02KGiJWD_nh"
      },
      "execution_count": null,
      "outputs": []
    },
    {
      "cell_type": "code",
      "source": [
        "# model_path = \"lstm_model2.pth\"\n",
        "# torch.save(model.state_dict(), model_path)\n",
        "# print(f\"Model saved to {model_path}\")"
      ],
      "metadata": {
        "id": "ac2T2fEQZLaW"
      },
      "execution_count": null,
      "outputs": []
    },
    {
      "cell_type": "code",
      "source": [
        "# model = LSTMModel(input_size, hidden_size, num_layers, num_classes).to(device)\n",
        "# model.load_state_dict(torch.load(model_path))\n",
        "\n",
        "\n",
        "# print(\"Model loaded successfully.\")"
      ],
      "metadata": {
        "colab": {
          "base_uri": "https://localhost:8080/"
        },
        "id": "28hYuWU8pgy4",
        "outputId": "fcaf8c66-19f4-4551-b043-8bd912f2b3d0"
      },
      "execution_count": null,
      "outputs": [
        {
          "output_type": "stream",
          "name": "stdout",
          "text": [
            "Model loaded successfully.\n"
          ]
        }
      ]
    },
    {
      "cell_type": "code",
      "source": [
        "correct = 0\n",
        "total = 0\n",
        "model.eval()\n",
        "with torch.no_grad():\n",
        "    for sequences, labels in test_loader:\n",
        "        sequences = sequences.to(device).view(-1, 1280, 34)\n",
        "        labels = labels.to(device)\n",
        "        outputs = model(sequences)\n",
        "        _, predicted = torch.max(outputs.data, 1)\n",
        "        total += labels.size(0)\n",
        "        correct += (predicted == labels).sum().item()\n",
        "\n",
        "accuracy = 100 * correct / total\n",
        "print(f'Accuracy of the model on the test dataset: {accuracy:.2f}%')\n",
        "#accuracy 33.85%"
      ],
      "metadata": {
        "id": "s64_9n-RpocJ"
      },
      "execution_count": null,
      "outputs": []
    },
    {
      "cell_type": "markdown",
      "source": [
        "CNN model with RNN layer\n"
      ],
      "metadata": {
        "id": "mnGADC4QmWYy"
      }
    },
    {
      "cell_type": "code",
      "source": [
        "#load paths\n",
        "sequences_path = Path('/content/drive/MyDrive/Github/capstone/brace/dataset')\n",
        "pose_jsons = list(Path(sequences_path).rglob('**/*.json'))\n",
        "segments= pd.read_csv(Path('/content/drive/MyDrive/Github/capstone/brace/annotations/segments.csv'))\n",
        "#get clips\n",
        "dataClips, labels, names=bracedataset.BraceDataset(segments, pose_jsons)\n",
        "#encode labels from 0-2\n",
        "unique_categories = list(set(labels))\n",
        "category_to_int = {category: index for index, category in enumerate(unique_categories)}\n",
        "encoded_categories = [category_to_int[category] for category in labels]"
      ],
      "metadata": {
        "id": "cILh82PynDRt"
      },
      "execution_count": 15,
      "outputs": []
    },
    {
      "cell_type": "code",
      "source": [
        "segments[segments['uid']=='3rIk56dcBTM.3315.3608']"
      ],
      "metadata": {
        "id": "JZH2xYy38tGn",
        "outputId": "04d37f23-d829-4b93-a7cb-fc817483d7f6",
        "colab": {
          "base_uri": "https://localhost:8080/",
          "height": 81
        }
      },
      "execution_count": 14,
      "outputs": [
        {
          "output_type": "execute_result",
          "data": {
            "text/plain": [
              "      video_id  seq_idx  start_frame  end_frame dance_type  dance_type_id  \\\n",
              "9  3rIk56dcBTM        2         3315       3608   footwork              2   \n",
              "\n",
              "    dancer  dancer_id  year                    uid  \n",
              "9  el niño         10  2011  3rIk56dcBTM.3315.3608  "
            ],
            "text/html": [
              "\n",
              "  <div id=\"df-f3edef82-a6d2-41d8-af5f-e8e65d456031\" class=\"colab-df-container\">\n",
              "    <div>\n",
              "<style scoped>\n",
              "    .dataframe tbody tr th:only-of-type {\n",
              "        vertical-align: middle;\n",
              "    }\n",
              "\n",
              "    .dataframe tbody tr th {\n",
              "        vertical-align: top;\n",
              "    }\n",
              "\n",
              "    .dataframe thead th {\n",
              "        text-align: right;\n",
              "    }\n",
              "</style>\n",
              "<table border=\"1\" class=\"dataframe\">\n",
              "  <thead>\n",
              "    <tr style=\"text-align: right;\">\n",
              "      <th></th>\n",
              "      <th>video_id</th>\n",
              "      <th>seq_idx</th>\n",
              "      <th>start_frame</th>\n",
              "      <th>end_frame</th>\n",
              "      <th>dance_type</th>\n",
              "      <th>dance_type_id</th>\n",
              "      <th>dancer</th>\n",
              "      <th>dancer_id</th>\n",
              "      <th>year</th>\n",
              "      <th>uid</th>\n",
              "    </tr>\n",
              "  </thead>\n",
              "  <tbody>\n",
              "    <tr>\n",
              "      <th>9</th>\n",
              "      <td>3rIk56dcBTM</td>\n",
              "      <td>2</td>\n",
              "      <td>3315</td>\n",
              "      <td>3608</td>\n",
              "      <td>footwork</td>\n",
              "      <td>2</td>\n",
              "      <td>el niño</td>\n",
              "      <td>10</td>\n",
              "      <td>2011</td>\n",
              "      <td>3rIk56dcBTM.3315.3608</td>\n",
              "    </tr>\n",
              "  </tbody>\n",
              "</table>\n",
              "</div>\n",
              "    <div class=\"colab-df-buttons\">\n",
              "\n",
              "  <div class=\"colab-df-container\">\n",
              "    <button class=\"colab-df-convert\" onclick=\"convertToInteractive('df-f3edef82-a6d2-41d8-af5f-e8e65d456031')\"\n",
              "            title=\"Convert this dataframe to an interactive table.\"\n",
              "            style=\"display:none;\">\n",
              "\n",
              "  <svg xmlns=\"http://www.w3.org/2000/svg\" height=\"24px\" viewBox=\"0 -960 960 960\">\n",
              "    <path d=\"M120-120v-720h720v720H120Zm60-500h600v-160H180v160Zm220 220h160v-160H400v160Zm0 220h160v-160H400v160ZM180-400h160v-160H180v160Zm440 0h160v-160H620v160ZM180-180h160v-160H180v160Zm440 0h160v-160H620v160Z\"/>\n",
              "  </svg>\n",
              "    </button>\n",
              "\n",
              "  <style>\n",
              "    .colab-df-container {\n",
              "      display:flex;\n",
              "      gap: 12px;\n",
              "    }\n",
              "\n",
              "    .colab-df-convert {\n",
              "      background-color: #E8F0FE;\n",
              "      border: none;\n",
              "      border-radius: 50%;\n",
              "      cursor: pointer;\n",
              "      display: none;\n",
              "      fill: #1967D2;\n",
              "      height: 32px;\n",
              "      padding: 0 0 0 0;\n",
              "      width: 32px;\n",
              "    }\n",
              "\n",
              "    .colab-df-convert:hover {\n",
              "      background-color: #E2EBFA;\n",
              "      box-shadow: 0px 1px 2px rgba(60, 64, 67, 0.3), 0px 1px 3px 1px rgba(60, 64, 67, 0.15);\n",
              "      fill: #174EA6;\n",
              "    }\n",
              "\n",
              "    .colab-df-buttons div {\n",
              "      margin-bottom: 4px;\n",
              "    }\n",
              "\n",
              "    [theme=dark] .colab-df-convert {\n",
              "      background-color: #3B4455;\n",
              "      fill: #D2E3FC;\n",
              "    }\n",
              "\n",
              "    [theme=dark] .colab-df-convert:hover {\n",
              "      background-color: #434B5C;\n",
              "      box-shadow: 0px 1px 3px 1px rgba(0, 0, 0, 0.15);\n",
              "      filter: drop-shadow(0px 1px 2px rgba(0, 0, 0, 0.3));\n",
              "      fill: #FFFFFF;\n",
              "    }\n",
              "  </style>\n",
              "\n",
              "    <script>\n",
              "      const buttonEl =\n",
              "        document.querySelector('#df-f3edef82-a6d2-41d8-af5f-e8e65d456031 button.colab-df-convert');\n",
              "      buttonEl.style.display =\n",
              "        google.colab.kernel.accessAllowed ? 'block' : 'none';\n",
              "\n",
              "      async function convertToInteractive(key) {\n",
              "        const element = document.querySelector('#df-f3edef82-a6d2-41d8-af5f-e8e65d456031');\n",
              "        const dataTable =\n",
              "          await google.colab.kernel.invokeFunction('convertToInteractive',\n",
              "                                                    [key], {});\n",
              "        if (!dataTable) return;\n",
              "\n",
              "        const docLinkHtml = 'Like what you see? Visit the ' +\n",
              "          '<a target=\"_blank\" href=https://colab.research.google.com/notebooks/data_table.ipynb>data table notebook</a>'\n",
              "          + ' to learn more about interactive tables.';\n",
              "        element.innerHTML = '';\n",
              "        dataTable['output_type'] = 'display_data';\n",
              "        await google.colab.output.renderOutput(dataTable, element);\n",
              "        const docLink = document.createElement('div');\n",
              "        docLink.innerHTML = docLinkHtml;\n",
              "        element.appendChild(docLink);\n",
              "      }\n",
              "    </script>\n",
              "  </div>\n",
              "\n",
              "    </div>\n",
              "  </div>\n"
            ],
            "application/vnd.google.colaboratory.intrinsic+json": {
              "type": "dataframe",
              "summary": "{\n  \"name\": \"segments[segments['uid']=='3rIk56dcBTM\",\n  \"rows\": 1,\n  \"fields\": [\n    {\n      \"column\": \"video_id\",\n      \"properties\": {\n        \"dtype\": \"string\",\n        \"num_unique_values\": 1,\n        \"samples\": [\n          \"3rIk56dcBTM\"\n        ],\n        \"semantic_type\": \"\",\n        \"description\": \"\"\n      }\n    },\n    {\n      \"column\": \"seq_idx\",\n      \"properties\": {\n        \"dtype\": \"number\",\n        \"std\": null,\n        \"min\": 2,\n        \"max\": 2,\n        \"num_unique_values\": 1,\n        \"samples\": [\n          2\n        ],\n        \"semantic_type\": \"\",\n        \"description\": \"\"\n      }\n    },\n    {\n      \"column\": \"start_frame\",\n      \"properties\": {\n        \"dtype\": \"number\",\n        \"std\": null,\n        \"min\": 3315,\n        \"max\": 3315,\n        \"num_unique_values\": 1,\n        \"samples\": [\n          3315\n        ],\n        \"semantic_type\": \"\",\n        \"description\": \"\"\n      }\n    },\n    {\n      \"column\": \"end_frame\",\n      \"properties\": {\n        \"dtype\": \"number\",\n        \"std\": null,\n        \"min\": 3608,\n        \"max\": 3608,\n        \"num_unique_values\": 1,\n        \"samples\": [\n          3608\n        ],\n        \"semantic_type\": \"\",\n        \"description\": \"\"\n      }\n    },\n    {\n      \"column\": \"dance_type\",\n      \"properties\": {\n        \"dtype\": \"string\",\n        \"num_unique_values\": 1,\n        \"samples\": [\n          \"footwork\"\n        ],\n        \"semantic_type\": \"\",\n        \"description\": \"\"\n      }\n    },\n    {\n      \"column\": \"dance_type_id\",\n      \"properties\": {\n        \"dtype\": \"number\",\n        \"std\": null,\n        \"min\": 2,\n        \"max\": 2,\n        \"num_unique_values\": 1,\n        \"samples\": [\n          2\n        ],\n        \"semantic_type\": \"\",\n        \"description\": \"\"\n      }\n    },\n    {\n      \"column\": \"dancer\",\n      \"properties\": {\n        \"dtype\": \"string\",\n        \"num_unique_values\": 1,\n        \"samples\": [\n          \"el ni\\u00f1o\"\n        ],\n        \"semantic_type\": \"\",\n        \"description\": \"\"\n      }\n    },\n    {\n      \"column\": \"dancer_id\",\n      \"properties\": {\n        \"dtype\": \"number\",\n        \"std\": null,\n        \"min\": 10,\n        \"max\": 10,\n        \"num_unique_values\": 1,\n        \"samples\": [\n          10\n        ],\n        \"semantic_type\": \"\",\n        \"description\": \"\"\n      }\n    },\n    {\n      \"column\": \"year\",\n      \"properties\": {\n        \"dtype\": \"number\",\n        \"std\": null,\n        \"min\": 2011,\n        \"max\": 2011,\n        \"num_unique_values\": 1,\n        \"samples\": [\n          2011\n        ],\n        \"semantic_type\": \"\",\n        \"description\": \"\"\n      }\n    },\n    {\n      \"column\": \"uid\",\n      \"properties\": {\n        \"dtype\": \"string\",\n        \"num_unique_values\": 1,\n        \"samples\": [\n          \"3rIk56dcBTM.3315.3608\"\n        ],\n        \"semantic_type\": \"\",\n        \"description\": \"\"\n      }\n    }\n  ]\n}"
            }
          },
          "metadata": {},
          "execution_count": 14
        }
      ]
    },
    {
      "cell_type": "code",
      "source": [
        "flattened_clips = [clip.reshape(clip.shape[0], -1) for clip in dataClips]\n",
        "\n",
        "padded_clips = pad_sequences(flattened_clips, padding='post', dtype='float32')\n"
      ],
      "metadata": {
        "id": "Ews1PJH-tdBg"
      },
      "execution_count": 28,
      "outputs": []
    },
    {
      "cell_type": "code",
      "source": [
        "### KERAS CNN MODEL######\n",
        "\n",
        "X_train, X_test, y_train, y_test = train_test_split(\n",
        "    padded_clips, encoded_categories, test_size=0.20, random_state=42)\n",
        "# Convert labels to one-hot encoding\n",
        "y_train_onehot = to_categorical(y_train, num_classes=3)\n",
        "y_test_onehot = to_categorical(y_test, num_classes=3)\n",
        "\n",
        "# Define the model\n",
        "model = Sequential([\n",
        "    LSTM(50, input_shape=(padded_clips.shape[1], padded_clips.shape[2])),\n",
        "    Dense(100, activation='relu'),\n",
        "    Dropout(0.5),\n",
        "    Dense(3, activation='softmax')\n",
        "])\n",
        "\n",
        "model.compile(optimizer='adam', loss='categorical_crossentropy', metrics=['accuracy'])\n",
        "model.summary()\n",
        "\n",
        "# Train the model\n",
        "history = model.fit(X_train, y_train_onehot, epochs=10, batch_size=32, validation_split=0.2)\n"
      ],
      "metadata": {
        "id": "DKG9Mtp2vZtR",
        "outputId": "afac7df8-736d-4f43-dc84-7366a890c4c2",
        "colab": {
          "base_uri": "https://localhost:8080/"
        }
      },
      "execution_count": 29,
      "outputs": [
        {
          "output_type": "stream",
          "name": "stdout",
          "text": [
            "Model: \"sequential\"\n",
            "_________________________________________________________________\n",
            " Layer (type)                Output Shape              Param #   \n",
            "=================================================================\n",
            " lstm (LSTM)                 (None, 50)                17000     \n",
            "                                                                 \n",
            " dense (Dense)               (None, 100)               5100      \n",
            "                                                                 \n",
            " dropout (Dropout)           (None, 100)               0         \n",
            "                                                                 \n",
            " dense_1 (Dense)             (None, 3)                 303       \n",
            "                                                                 \n",
            "=================================================================\n",
            "Total params: 22403 (87.51 KB)\n",
            "Trainable params: 22403 (87.51 KB)\n",
            "Non-trainable params: 0 (0.00 Byte)\n",
            "_________________________________________________________________\n",
            "Epoch 1/10\n",
            "27/27 [==============================] - 18s 536ms/step - loss: 1.0997 - accuracy: 0.3113 - val_loss: 1.0991 - val_accuracy: 0.2949\n",
            "Epoch 2/10\n",
            "27/27 [==============================] - 13s 473ms/step - loss: 1.0976 - accuracy: 0.3449 - val_loss: 1.1022 - val_accuracy: 0.2949\n",
            "Epoch 3/10\n",
            "27/27 [==============================] - 17s 636ms/step - loss: 1.0977 - accuracy: 0.3484 - val_loss: 1.1014 - val_accuracy: 0.2949\n",
            "Epoch 4/10\n",
            "27/27 [==============================] - 14s 535ms/step - loss: 1.0972 - accuracy: 0.3484 - val_loss: 1.1042 - val_accuracy: 0.2949\n",
            "Epoch 5/10\n",
            "27/27 [==============================] - 13s 473ms/step - loss: 1.0981 - accuracy: 0.3368 - val_loss: 1.1031 - val_accuracy: 0.2949\n",
            "Epoch 6/10\n",
            "27/27 [==============================] - 12s 464ms/step - loss: 1.0977 - accuracy: 0.3484 - val_loss: 1.1016 - val_accuracy: 0.2949\n",
            "Epoch 7/10\n",
            "27/27 [==============================] - 16s 613ms/step - loss: 1.0972 - accuracy: 0.3484 - val_loss: 1.1019 - val_accuracy: 0.2949\n",
            "Epoch 8/10\n",
            "27/27 [==============================] - 19s 695ms/step - loss: 1.0969 - accuracy: 0.3484 - val_loss: 1.1022 - val_accuracy: 0.2949\n",
            "Epoch 9/10\n",
            "27/27 [==============================] - 20s 747ms/step - loss: 1.0974 - accuracy: 0.3484 - val_loss: 1.1021 - val_accuracy: 0.2949\n",
            "Epoch 10/10\n",
            "27/27 [==============================] - 13s 490ms/step - loss: 1.0975 - accuracy: 0.3484 - val_loss: 1.1027 - val_accuracy: 0.2949\n"
          ]
        }
      ]
    },
    {
      "cell_type": "code",
      "source": [
        "# model.save('/content/drive/MyDrive/Github/capstone/brace/keras_model')\n",
        "# Load the model\n",
        "loaded_model = load_model('path/to/location/keras_model')\n",
        "\n",
        "# test\n",
        "test_loss, test_accuracy = loaded_model.evaluate(X_test, y_test_onehot)\n",
        "print(f'Test Accuracy: {test_accuracy}')"
      ],
      "metadata": {
        "id": "4HOZV8WKzwNp",
        "outputId": "faa3c0af-3a83-4f48-c99d-c64ed1d99e93",
        "colab": {
          "base_uri": "https://localhost:8080/"
        }
      },
      "execution_count": 30,
      "outputs": [
        {
          "output_type": "stream",
          "name": "stdout",
          "text": [
            "9/9 [==============================] - 2s 131ms/step - loss: 1.0955 - accuracy: 0.3616\n",
            "Test Accuracy: 0.361623615026474\n"
          ]
        }
      ]
    },
    {
      "cell_type": "markdown",
      "source": [
        "INCLUDE FEATURES IN THE MODEL"
      ],
      "metadata": {
        "id": "xEhy9uUkExXN"
      }
    },
    {
      "cell_type": "code",
      "source": [
        "#sort additional features\n",
        "features= segments.copy()\n",
        "features['uid']= pd.Categorical(features['uid'], categories=names, ordered=True)\n",
        "features= features.sort_values(by='uid')\n",
        "features['frames']= features['end_frame']- features['start_frame']\n"
      ],
      "metadata": {
        "id": "iPWUWAtI-BCb",
        "outputId": "3b65aa67-f084-4a68-8101-144fa7726663",
        "colab": {
          "base_uri": "https://localhost:8080/",
          "height": 112
        }
      },
      "execution_count": 44,
      "outputs": [
        {
          "output_type": "execute_result",
          "data": {
            "text/plain": [
              "      video_id  seq_idx  start_frame  end_frame dance_type  dance_type_id  \\\n",
              "9  3rIk56dcBTM        2         3315       3608   footwork              2   \n",
              "7  3rIk56dcBTM        2         3012       3166    toprock              0   \n",
              "\n",
              "    dancer  dancer_id  year                    uid  frames  \n",
              "9  el niño         10  2011  3rIk56dcBTM.3315.3608     293  \n",
              "7  el niño         10  2011  3rIk56dcBTM.3012.3166     154  "
            ],
            "text/html": [
              "\n",
              "  <div id=\"df-c9b0cf90-e937-4059-9a7b-0e395f0cff33\" class=\"colab-df-container\">\n",
              "    <div>\n",
              "<style scoped>\n",
              "    .dataframe tbody tr th:only-of-type {\n",
              "        vertical-align: middle;\n",
              "    }\n",
              "\n",
              "    .dataframe tbody tr th {\n",
              "        vertical-align: top;\n",
              "    }\n",
              "\n",
              "    .dataframe thead th {\n",
              "        text-align: right;\n",
              "    }\n",
              "</style>\n",
              "<table border=\"1\" class=\"dataframe\">\n",
              "  <thead>\n",
              "    <tr style=\"text-align: right;\">\n",
              "      <th></th>\n",
              "      <th>video_id</th>\n",
              "      <th>seq_idx</th>\n",
              "      <th>start_frame</th>\n",
              "      <th>end_frame</th>\n",
              "      <th>dance_type</th>\n",
              "      <th>dance_type_id</th>\n",
              "      <th>dancer</th>\n",
              "      <th>dancer_id</th>\n",
              "      <th>year</th>\n",
              "      <th>uid</th>\n",
              "      <th>frames</th>\n",
              "    </tr>\n",
              "  </thead>\n",
              "  <tbody>\n",
              "    <tr>\n",
              "      <th>9</th>\n",
              "      <td>3rIk56dcBTM</td>\n",
              "      <td>2</td>\n",
              "      <td>3315</td>\n",
              "      <td>3608</td>\n",
              "      <td>footwork</td>\n",
              "      <td>2</td>\n",
              "      <td>el niño</td>\n",
              "      <td>10</td>\n",
              "      <td>2011</td>\n",
              "      <td>3rIk56dcBTM.3315.3608</td>\n",
              "      <td>293</td>\n",
              "    </tr>\n",
              "    <tr>\n",
              "      <th>7</th>\n",
              "      <td>3rIk56dcBTM</td>\n",
              "      <td>2</td>\n",
              "      <td>3012</td>\n",
              "      <td>3166</td>\n",
              "      <td>toprock</td>\n",
              "      <td>0</td>\n",
              "      <td>el niño</td>\n",
              "      <td>10</td>\n",
              "      <td>2011</td>\n",
              "      <td>3rIk56dcBTM.3012.3166</td>\n",
              "      <td>154</td>\n",
              "    </tr>\n",
              "  </tbody>\n",
              "</table>\n",
              "</div>\n",
              "    <div class=\"colab-df-buttons\">\n",
              "\n",
              "  <div class=\"colab-df-container\">\n",
              "    <button class=\"colab-df-convert\" onclick=\"convertToInteractive('df-c9b0cf90-e937-4059-9a7b-0e395f0cff33')\"\n",
              "            title=\"Convert this dataframe to an interactive table.\"\n",
              "            style=\"display:none;\">\n",
              "\n",
              "  <svg xmlns=\"http://www.w3.org/2000/svg\" height=\"24px\" viewBox=\"0 -960 960 960\">\n",
              "    <path d=\"M120-120v-720h720v720H120Zm60-500h600v-160H180v160Zm220 220h160v-160H400v160Zm0 220h160v-160H400v160ZM180-400h160v-160H180v160Zm440 0h160v-160H620v160ZM180-180h160v-160H180v160Zm440 0h160v-160H620v160Z\"/>\n",
              "  </svg>\n",
              "    </button>\n",
              "\n",
              "  <style>\n",
              "    .colab-df-container {\n",
              "      display:flex;\n",
              "      gap: 12px;\n",
              "    }\n",
              "\n",
              "    .colab-df-convert {\n",
              "      background-color: #E8F0FE;\n",
              "      border: none;\n",
              "      border-radius: 50%;\n",
              "      cursor: pointer;\n",
              "      display: none;\n",
              "      fill: #1967D2;\n",
              "      height: 32px;\n",
              "      padding: 0 0 0 0;\n",
              "      width: 32px;\n",
              "    }\n",
              "\n",
              "    .colab-df-convert:hover {\n",
              "      background-color: #E2EBFA;\n",
              "      box-shadow: 0px 1px 2px rgba(60, 64, 67, 0.3), 0px 1px 3px 1px rgba(60, 64, 67, 0.15);\n",
              "      fill: #174EA6;\n",
              "    }\n",
              "\n",
              "    .colab-df-buttons div {\n",
              "      margin-bottom: 4px;\n",
              "    }\n",
              "\n",
              "    [theme=dark] .colab-df-convert {\n",
              "      background-color: #3B4455;\n",
              "      fill: #D2E3FC;\n",
              "    }\n",
              "\n",
              "    [theme=dark] .colab-df-convert:hover {\n",
              "      background-color: #434B5C;\n",
              "      box-shadow: 0px 1px 3px 1px rgba(0, 0, 0, 0.15);\n",
              "      filter: drop-shadow(0px 1px 2px rgba(0, 0, 0, 0.3));\n",
              "      fill: #FFFFFF;\n",
              "    }\n",
              "  </style>\n",
              "\n",
              "    <script>\n",
              "      const buttonEl =\n",
              "        document.querySelector('#df-c9b0cf90-e937-4059-9a7b-0e395f0cff33 button.colab-df-convert');\n",
              "      buttonEl.style.display =\n",
              "        google.colab.kernel.accessAllowed ? 'block' : 'none';\n",
              "\n",
              "      async function convertToInteractive(key) {\n",
              "        const element = document.querySelector('#df-c9b0cf90-e937-4059-9a7b-0e395f0cff33');\n",
              "        const dataTable =\n",
              "          await google.colab.kernel.invokeFunction('convertToInteractive',\n",
              "                                                    [key], {});\n",
              "        if (!dataTable) return;\n",
              "\n",
              "        const docLinkHtml = 'Like what you see? Visit the ' +\n",
              "          '<a target=\"_blank\" href=https://colab.research.google.com/notebooks/data_table.ipynb>data table notebook</a>'\n",
              "          + ' to learn more about interactive tables.';\n",
              "        element.innerHTML = '';\n",
              "        dataTable['output_type'] = 'display_data';\n",
              "        await google.colab.output.renderOutput(dataTable, element);\n",
              "        const docLink = document.createElement('div');\n",
              "        docLink.innerHTML = docLinkHtml;\n",
              "        element.appendChild(docLink);\n",
              "      }\n",
              "    </script>\n",
              "  </div>\n",
              "\n",
              "\n",
              "<div id=\"df-febe5d7f-a28b-49f4-84e1-34cc97012039\">\n",
              "  <button class=\"colab-df-quickchart\" onclick=\"quickchart('df-febe5d7f-a28b-49f4-84e1-34cc97012039')\"\n",
              "            title=\"Suggest charts\"\n",
              "            style=\"display:none;\">\n",
              "\n",
              "<svg xmlns=\"http://www.w3.org/2000/svg\" height=\"24px\"viewBox=\"0 0 24 24\"\n",
              "     width=\"24px\">\n",
              "    <g>\n",
              "        <path d=\"M19 3H5c-1.1 0-2 .9-2 2v14c0 1.1.9 2 2 2h14c1.1 0 2-.9 2-2V5c0-1.1-.9-2-2-2zM9 17H7v-7h2v7zm4 0h-2V7h2v10zm4 0h-2v-4h2v4z\"/>\n",
              "    </g>\n",
              "</svg>\n",
              "  </button>\n",
              "\n",
              "<style>\n",
              "  .colab-df-quickchart {\n",
              "      --bg-color: #E8F0FE;\n",
              "      --fill-color: #1967D2;\n",
              "      --hover-bg-color: #E2EBFA;\n",
              "      --hover-fill-color: #174EA6;\n",
              "      --disabled-fill-color: #AAA;\n",
              "      --disabled-bg-color: #DDD;\n",
              "  }\n",
              "\n",
              "  [theme=dark] .colab-df-quickchart {\n",
              "      --bg-color: #3B4455;\n",
              "      --fill-color: #D2E3FC;\n",
              "      --hover-bg-color: #434B5C;\n",
              "      --hover-fill-color: #FFFFFF;\n",
              "      --disabled-bg-color: #3B4455;\n",
              "      --disabled-fill-color: #666;\n",
              "  }\n",
              "\n",
              "  .colab-df-quickchart {\n",
              "    background-color: var(--bg-color);\n",
              "    border: none;\n",
              "    border-radius: 50%;\n",
              "    cursor: pointer;\n",
              "    display: none;\n",
              "    fill: var(--fill-color);\n",
              "    height: 32px;\n",
              "    padding: 0;\n",
              "    width: 32px;\n",
              "  }\n",
              "\n",
              "  .colab-df-quickchart:hover {\n",
              "    background-color: var(--hover-bg-color);\n",
              "    box-shadow: 0 1px 2px rgba(60, 64, 67, 0.3), 0 1px 3px 1px rgba(60, 64, 67, 0.15);\n",
              "    fill: var(--button-hover-fill-color);\n",
              "  }\n",
              "\n",
              "  .colab-df-quickchart-complete:disabled,\n",
              "  .colab-df-quickchart-complete:disabled:hover {\n",
              "    background-color: var(--disabled-bg-color);\n",
              "    fill: var(--disabled-fill-color);\n",
              "    box-shadow: none;\n",
              "  }\n",
              "\n",
              "  .colab-df-spinner {\n",
              "    border: 2px solid var(--fill-color);\n",
              "    border-color: transparent;\n",
              "    border-bottom-color: var(--fill-color);\n",
              "    animation:\n",
              "      spin 1s steps(1) infinite;\n",
              "  }\n",
              "\n",
              "  @keyframes spin {\n",
              "    0% {\n",
              "      border-color: transparent;\n",
              "      border-bottom-color: var(--fill-color);\n",
              "      border-left-color: var(--fill-color);\n",
              "    }\n",
              "    20% {\n",
              "      border-color: transparent;\n",
              "      border-left-color: var(--fill-color);\n",
              "      border-top-color: var(--fill-color);\n",
              "    }\n",
              "    30% {\n",
              "      border-color: transparent;\n",
              "      border-left-color: var(--fill-color);\n",
              "      border-top-color: var(--fill-color);\n",
              "      border-right-color: var(--fill-color);\n",
              "    }\n",
              "    40% {\n",
              "      border-color: transparent;\n",
              "      border-right-color: var(--fill-color);\n",
              "      border-top-color: var(--fill-color);\n",
              "    }\n",
              "    60% {\n",
              "      border-color: transparent;\n",
              "      border-right-color: var(--fill-color);\n",
              "    }\n",
              "    80% {\n",
              "      border-color: transparent;\n",
              "      border-right-color: var(--fill-color);\n",
              "      border-bottom-color: var(--fill-color);\n",
              "    }\n",
              "    90% {\n",
              "      border-color: transparent;\n",
              "      border-bottom-color: var(--fill-color);\n",
              "    }\n",
              "  }\n",
              "</style>\n",
              "\n",
              "  <script>\n",
              "    async function quickchart(key) {\n",
              "      const quickchartButtonEl =\n",
              "        document.querySelector('#' + key + ' button');\n",
              "      quickchartButtonEl.disabled = true;  // To prevent multiple clicks.\n",
              "      quickchartButtonEl.classList.add('colab-df-spinner');\n",
              "      try {\n",
              "        const charts = await google.colab.kernel.invokeFunction(\n",
              "            'suggestCharts', [key], {});\n",
              "      } catch (error) {\n",
              "        console.error('Error during call to suggestCharts:', error);\n",
              "      }\n",
              "      quickchartButtonEl.classList.remove('colab-df-spinner');\n",
              "      quickchartButtonEl.classList.add('colab-df-quickchart-complete');\n",
              "    }\n",
              "    (() => {\n",
              "      let quickchartButtonEl =\n",
              "        document.querySelector('#df-febe5d7f-a28b-49f4-84e1-34cc97012039 button');\n",
              "      quickchartButtonEl.style.display =\n",
              "        google.colab.kernel.accessAllowed ? 'block' : 'none';\n",
              "    })();\n",
              "  </script>\n",
              "</div>\n",
              "    </div>\n",
              "  </div>\n"
            ],
            "application/vnd.google.colaboratory.intrinsic+json": {
              "type": "dataframe",
              "variable_name": "features",
              "summary": "{\n  \"name\": \"features\",\n  \"rows\": 1352,\n  \"fields\": [\n    {\n      \"column\": \"video_id\",\n      \"properties\": {\n        \"dtype\": \"category\",\n        \"num_unique_values\": 81,\n        \"samples\": [\n          \"HMwRrrpSDVw\",\n          \"3rIk56dcBTM\",\n          \"TUkmZNnUamY\"\n        ],\n        \"semantic_type\": \"\",\n        \"description\": \"\"\n      }\n    },\n    {\n      \"column\": \"seq_idx\",\n      \"properties\": {\n        \"dtype\": \"number\",\n        \"std\": 1,\n        \"min\": 0,\n        \"max\": 7,\n        \"num_unique_values\": 8,\n        \"samples\": [\n          3,\n          5,\n          2\n        ],\n        \"semantic_type\": \"\",\n        \"description\": \"\"\n      }\n    },\n    {\n      \"column\": \"start_frame\",\n      \"properties\": {\n        \"dtype\": \"number\",\n        \"std\": 1973,\n        \"min\": 1,\n        \"max\": 11880,\n        \"num_unique_values\": 1231,\n        \"samples\": [\n          4390,\n          4645,\n          5769\n        ],\n        \"semantic_type\": \"\",\n        \"description\": \"\"\n      }\n    },\n    {\n      \"column\": \"end_frame\",\n      \"properties\": {\n        \"dtype\": \"number\",\n        \"std\": 1977,\n        \"min\": 77,\n        \"max\": 12223,\n        \"num_unique_values\": 1227,\n        \"samples\": [\n          3463,\n          1764,\n          3865\n        ],\n        \"semantic_type\": \"\",\n        \"description\": \"\"\n      }\n    },\n    {\n      \"column\": \"dance_type\",\n      \"properties\": {\n        \"dtype\": \"category\",\n        \"num_unique_values\": 3,\n        \"samples\": [\n          \"footwork\",\n          \"toprock\",\n          \"powermove\"\n        ],\n        \"semantic_type\": \"\",\n        \"description\": \"\"\n      }\n    },\n    {\n      \"column\": \"dance_type_id\",\n      \"properties\": {\n        \"dtype\": \"number\",\n        \"std\": 0,\n        \"min\": 0,\n        \"max\": 2,\n        \"num_unique_values\": 3,\n        \"samples\": [\n          2,\n          0,\n          1\n        ],\n        \"semantic_type\": \"\",\n        \"description\": \"\"\n      }\n    },\n    {\n      \"column\": \"dancer\",\n      \"properties\": {\n        \"dtype\": \"category\",\n        \"num_unique_values\": 64,\n        \"samples\": [\n          \"sina\",\n          \"willy\",\n          \"el ni\\u00f1o\"\n        ],\n        \"semantic_type\": \"\",\n        \"description\": \"\"\n      }\n    },\n    {\n      \"column\": \"dancer_id\",\n      \"properties\": {\n        \"dtype\": \"number\",\n        \"std\": 18,\n        \"min\": 0,\n        \"max\": 63,\n        \"num_unique_values\": 64,\n        \"samples\": [\n          50,\n          61,\n          10\n        ],\n        \"semantic_type\": \"\",\n        \"description\": \"\"\n      }\n    },\n    {\n      \"column\": \"year\",\n      \"properties\": {\n        \"dtype\": \"number\",\n        \"std\": 2,\n        \"min\": 2011,\n        \"max\": 2020,\n        \"num_unique_values\": 6,\n        \"samples\": [\n          2011,\n          2013,\n          2020\n        ],\n        \"semantic_type\": \"\",\n        \"description\": \"\"\n      }\n    },\n    {\n      \"column\": \"uid\",\n      \"properties\": {\n        \"dtype\": \"category\",\n        \"num_unique_values\": 973,\n        \"samples\": [\n          \"U98V5ky0RBk.4642.4741\",\n          \"gPru76IYdEo.9100.9264\",\n          \"N5Qu7t4Mb4I.3253.3833\"\n        ],\n        \"semantic_type\": \"\",\n        \"description\": \"\"\n      }\n    },\n    {\n      \"column\": \"frames\",\n      \"properties\": {\n        \"dtype\": \"number\",\n        \"std\": 157,\n        \"min\": 26,\n        \"max\": 1279,\n        \"num_unique_values\": 497,\n        \"samples\": [\n          377,\n          255,\n          245\n        ],\n        \"semantic_type\": \"\",\n        \"description\": \"\"\n      }\n    }\n  ]\n}"
            }
          },
          "metadata": {},
          "execution_count": 44
        }
      ]
    },
    {
      "cell_type": "code",
      "source": [
        "# One-hot encode\n",
        "preprocessor = ColumnTransformer(\n",
        "    transformers=[\n",
        "        ('seq', StandardScaler(), ['seq_idx']),\n",
        "        ('cat', OneHotEncoder(), ['dancer_id']),\n",
        "        ('num', StandardScaler(), ['year']),\n",
        "\n",
        "    ]\n",
        ")\n",
        "\n",
        "features_preprocessed = preprocessor.fit_transform(features[['seq_idx', 'dancer_id', 'year']])\n",
        "features_preprocessed = features_preprocessed.toarray()\n",
        "features_preprocessed.shape"
      ],
      "metadata": {
        "id": "fzvXD29k_p92",
        "outputId": "b676de05-59a2-47f8-c52e-43f4351730d0",
        "colab": {
          "base_uri": "https://localhost:8080/"
        }
      },
      "execution_count": 27,
      "outputs": [
        {
          "output_type": "execute_result",
          "data": {
            "text/plain": [
              "(1352, 66)"
            ]
          },
          "metadata": {},
          "execution_count": 27
        }
      ]
    },
    {
      "cell_type": "code",
      "source": [
        "# split train, test\n",
        "X_train_clips, X_test_clips, X_train_features, X_test_features, y_train, y_test = train_test_split(\n",
        "    padded_clips, features_preprocessed, encoded_categories, test_size=0.2, random_state=42)\n",
        "\n",
        "\n",
        "y_train_onehot = to_categorical(y_train, num_classes=3)\n",
        "y_test_onehot = to_categorical(y_test, num_classes=3)"
      ],
      "metadata": {
        "id": "5t5nt7ha6RKb"
      },
      "execution_count": 35,
      "outputs": []
    },
    {
      "cell_type": "code",
      "source": [
        "# Keypoint input branch\n",
        "keypoint_input = Input(shape=(X_train_clips.shape[1], X_train_clips.shape[2]), name='keypoint_input')\n",
        "keypoint_model = LSTM(50)(keypoint_input)\n",
        "keypoint_model = Dense(100, activation='relu')(keypoint_model)\n",
        "\n",
        "# Additional features input branch\n",
        "additional_features_input = Input(shape=(X_train_features.shape[1],), name='features_input')\n",
        "features_model = Dense(50, activation='relu')(additional_features_input)\n",
        "\n",
        "# Concatenate the outputs of the two branches\n",
        "combined = concatenate([keypoint_model, features_model])\n",
        "\n",
        "# Add a classification layer\n",
        "combined = Dense(100, activation='relu')(combined)\n",
        "combined = Dropout(0.5)(combined)\n",
        "output = Dense(3, activation='softmax')(combined)  # Assuming 3 classes\n",
        "\n",
        "# Build the model\n",
        "model = Model(inputs=[keypoint_input, additional_features_input], outputs=output)\n",
        "\n",
        "# Compile the model\n",
        "model.compile(optimizer='adam', loss='categorical_crossentropy', metrics=['accuracy'])\n",
        "\n",
        "# Model summary to check architecture\n",
        "model.summary()\n",
        "\n"
      ],
      "metadata": {
        "id": "KP8mPxZhBKQm",
        "outputId": "c8ca6ded-8a32-4f9e-ac74-7aa0adcb30ff",
        "colab": {
          "base_uri": "https://localhost:8080/"
        }
      },
      "execution_count": 36,
      "outputs": [
        {
          "output_type": "stream",
          "name": "stdout",
          "text": [
            "Model: \"model_1\"\n",
            "__________________________________________________________________________________________________\n",
            " Layer (type)                Output Shape                 Param #   Connected to                  \n",
            "==================================================================================================\n",
            " keypoint_input (InputLayer  [(None, 1280, 34)]           0         []                            \n",
            " )                                                                                                \n",
            "                                                                                                  \n",
            " lstm_2 (LSTM)               (None, 50)                   17000     ['keypoint_input[0][0]']      \n",
            "                                                                                                  \n",
            " features_input (InputLayer  [(None, 66)]                 0         []                            \n",
            " )                                                                                                \n",
            "                                                                                                  \n",
            " dense_6 (Dense)             (None, 100)                  5100      ['lstm_2[0][0]']              \n",
            "                                                                                                  \n",
            " dense_7 (Dense)             (None, 50)                   3350      ['features_input[0][0]']      \n",
            "                                                                                                  \n",
            " concatenate_1 (Concatenate  (None, 150)                  0         ['dense_6[0][0]',             \n",
            " )                                                                   'dense_7[0][0]']             \n",
            "                                                                                                  \n",
            " dense_8 (Dense)             (None, 100)                  15100     ['concatenate_1[0][0]']       \n",
            "                                                                                                  \n",
            " dropout_2 (Dropout)         (None, 100)                  0         ['dense_8[0][0]']             \n",
            "                                                                                                  \n",
            " dense_9 (Dense)             (None, 3)                    303       ['dropout_2[0][0]']           \n",
            "                                                                                                  \n",
            "==================================================================================================\n",
            "Total params: 40853 (159.58 KB)\n",
            "Trainable params: 40853 (159.58 KB)\n",
            "Non-trainable params: 0 (0.00 Byte)\n",
            "__________________________________________________________________________________________________\n"
          ]
        }
      ]
    },
    {
      "cell_type": "code",
      "source": [
        "history = model.fit([X_train_clips, X_train_features], y_train_onehot, validation_split=0.2, epochs=10, batch_size=32)"
      ],
      "metadata": {
        "id": "Pd1c9rXJBPrP",
        "outputId": "cde712fd-7779-4260-ec15-dcbd9c92748c",
        "colab": {
          "base_uri": "https://localhost:8080/"
        }
      },
      "execution_count": 37,
      "outputs": [
        {
          "output_type": "stream",
          "name": "stdout",
          "text": [
            "Epoch 1/10\n",
            "27/27 [==============================] - 23s 695ms/step - loss: 1.1060 - accuracy: 0.3183 - val_loss: 1.1051 - val_accuracy: 0.2627\n",
            "Epoch 2/10\n",
            "27/27 [==============================] - 13s 501ms/step - loss: 1.0952 - accuracy: 0.3692 - val_loss: 1.1050 - val_accuracy: 0.2719\n",
            "Epoch 3/10\n",
            "27/27 [==============================] - 13s 476ms/step - loss: 1.0885 - accuracy: 0.4097 - val_loss: 1.1059 - val_accuracy: 0.2949\n",
            "Epoch 4/10\n",
            "27/27 [==============================] - 14s 523ms/step - loss: 1.0876 - accuracy: 0.3738 - val_loss: 1.1105 - val_accuracy: 0.2949\n",
            "Epoch 5/10\n",
            "27/27 [==============================] - 16s 594ms/step - loss: 1.0816 - accuracy: 0.4005 - val_loss: 1.1077 - val_accuracy: 0.3134\n",
            "Epoch 6/10\n",
            "27/27 [==============================] - 19s 701ms/step - loss: 1.0777 - accuracy: 0.4051 - val_loss: 1.1067 - val_accuracy: 0.3410\n",
            "Epoch 7/10\n",
            "27/27 [==============================] - 13s 487ms/step - loss: 1.0668 - accuracy: 0.4144 - val_loss: 1.1151 - val_accuracy: 0.3226\n",
            "Epoch 8/10\n",
            "27/27 [==============================] - 13s 484ms/step - loss: 1.0688 - accuracy: 0.4109 - val_loss: 1.1189 - val_accuracy: 0.3364\n",
            "Epoch 9/10\n",
            "27/27 [==============================] - 13s 497ms/step - loss: 1.0486 - accuracy: 0.4757 - val_loss: 1.1188 - val_accuracy: 0.3318\n",
            "Epoch 10/10\n",
            "27/27 [==============================] - 13s 500ms/step - loss: 1.0506 - accuracy: 0.4630 - val_loss: 1.1289 - val_accuracy: 0.3410\n"
          ]
        }
      ]
    },
    {
      "cell_type": "code",
      "source": [
        "model.save('/content/drive/MyDrive/Github/capstone/brace/k_model_features')\n",
        "# Load the model\n",
        "loaded_model = load_model('/content/drive/MyDrive/Github/capstone/brace/k_model_features')\n",
        "\n",
        "# Evaluate the model on the test data\n",
        "test_loss, test_accuracy = model.evaluate([X_test_clips, X_test_features], y_test_onehot)\n",
        "\n",
        "print(f\"Test Loss: {test_loss}\")\n",
        "print(f\"Test Accuracy: {test_accuracy}\")"
      ],
      "metadata": {
        "id": "81azGlsWBY_j",
        "outputId": "e2a59b99-5c6e-4c62-81c2-b75e0ced22c0",
        "colab": {
          "base_uri": "https://localhost:8080/"
        }
      },
      "execution_count": 42,
      "outputs": [
        {
          "output_type": "stream",
          "name": "stdout",
          "text": [
            "9/9 [==============================] - 1s 147ms/step - loss: 1.1320 - accuracy: 0.3173\n",
            "Test Loss: 1.1320452690124512\n",
            "Test Accuracy: 0.31734317541122437\n"
          ]
        }
      ]
    },
    {
      "cell_type": "markdown",
      "source": [
        "CHANGE FEATURES TO SEQUENCE AND CLIP LENGHT, TO TEST IF THERE IS LESS OVERFITTING"
      ],
      "metadata": {
        "id": "vx2ySxsJE55z"
      }
    },
    {
      "cell_type": "code",
      "source": [
        "# One-hot encode\n",
        "preprocessor = ColumnTransformer(\n",
        "    transformers=[\n",
        "        ('seq', StandardScaler(), ['seq_idx']),\n",
        "        ('frames', OneHotEncoder(), ['frames'])\n",
        "    ]\n",
        ")\n",
        "\n",
        "features_preprocessed = preprocessor.fit_transform(features[['seq_idx', 'frames']])\n",
        "features_preprocessed = features_preprocessed.toarray()\n",
        "features_preprocessed.shape"
      ],
      "metadata": {
        "id": "6Rn0_TLtFD9M",
        "outputId": "17a012f5-fc74-49ab-b9ee-f5f6b3eb2c8d",
        "colab": {
          "base_uri": "https://localhost:8080/"
        }
      },
      "execution_count": 45,
      "outputs": [
        {
          "output_type": "execute_result",
          "data": {
            "text/plain": [
              "(1352, 498)"
            ]
          },
          "metadata": {},
          "execution_count": 45
        }
      ]
    },
    {
      "cell_type": "code",
      "source": [
        "# #### KERAS FEATURE MODEL2#####\n",
        "\n",
        "# X_train_clips, X_test_clips, X_train_features, X_test_features, y_train, y_test = train_test_split(\n",
        "#     padded_clips, features_preprocessed, encoded_categories, test_size=0.2, random_state=42)\n",
        "\n",
        "\n",
        "# y_train_onehot = to_categorical(y_train, num_classes=3)\n",
        "# y_test_onehot = to_categorical(y_test, num_classes=3)\n",
        "\n",
        "# # Keypoint input branch\n",
        "# keypoint_input = Input(shape=(X_train_clips.shape[1], X_train_clips.shape[2]), name='keypoint_input')\n",
        "# keypoint_model = LSTM(50)(keypoint_input)\n",
        "# keypoint_model = Dense(100, activation='relu')(keypoint_model)\n",
        "\n",
        "# # Additional features input branch\n",
        "# additional_features_input = Input(shape=(X_train_features.shape[1],), name='features_input')\n",
        "# features_model = Dense(50, activation='relu')(additional_features_input)\n",
        "\n",
        "# # Concatenate the outputs of the two branches\n",
        "# combined = concatenate([keypoint_model, features_model])\n",
        "\n",
        "# # Add a classification layer\n",
        "# combined = Dense(100, activation='relu')(combined)\n",
        "# combined = Dropout(0.5)(combined)\n",
        "# output = Dense(3, activation='softmax')(combined)  # Assuming 3 classes\n",
        "\n",
        "# # Build the model\n",
        "# model = Model(inputs=[keypoint_input, additional_features_input], outputs=output)\n",
        "\n",
        "# # Compile the model\n",
        "# model.compile(optimizer='adam', loss='categorical_crossentropy', metrics=['accuracy'])\n",
        "\n",
        "# # Model summary to check architecture\n",
        "# model.summary()"
      ],
      "metadata": {
        "id": "FxHzoqVtJ30A"
      },
      "execution_count": null,
      "outputs": []
    },
    {
      "cell_type": "code",
      "source": [
        "\n",
        "X_train_clips, X_test_clips, X_train_features, X_test_features, y_train, y_test = train_test_split(\n",
        "    padded_clips, features_preprocessed, encoded_categories, test_size=0.2, random_state=42)\n",
        "\n",
        "\n",
        "y_train_onehot = to_categorical(y_train, num_classes=3)\n",
        "y_test_onehot = to_categorical(y_test, num_classes=3)\n",
        "\n",
        "# Keypoint input branch\n",
        "keypoint_input = Input(shape=(X_train_clips.shape[1], X_train_clips.shape[2]), name='keypoint_input')\n",
        "keypoint_model = LSTM(50, recurrent_regularizer=l1_l2(l1=0.01, l2=0.01))(keypoint_input)  # Adding regularization to LSTM\n",
        "keypoint_model = Dense(100, activation='relu', kernel_regularizer=l1_l2(l1=0.01, l2=0.01))(keypoint_model)  # Adding regularization\n",
        "keypoint_model = Dropout(0.5)(keypoint_model)  # Adding dropout\n",
        "\n",
        "# Additional features input branch\n",
        "additional_features_input = Input(shape=(X_train_features.shape[1],), name='features_input')\n",
        "features_model = Dense(50, activation='relu', kernel_regularizer=l1_l2(l1=0.01, l2=0.01))(additional_features_input)  # Adding regularization\n",
        "features_model = Dropout(0.5)(features_model)  # Adding dropout\n",
        "\n",
        "# Concatenate the outputs of the two branches\n",
        "combined = concatenate([keypoint_model, features_model])\n",
        "\n",
        "# Add a classification layer\n",
        "combined = Dense(100, activation='relu', kernel_regularizer=l1_l2(l1=0.01, l2=0.01))(combined)  # Adding regularization\n",
        "combined = Dropout(0.5)(combined)  # Adding dropout\n",
        "output = Dense(3, activation='softmax')(combined)  # Assuming 3 classes\n",
        "\n",
        "# Build the model\n",
        "model = Model(inputs=[keypoint_input, additional_features_input], outputs=output)\n",
        "\n",
        "# Compile the model\n",
        "model.compile(optimizer='adam', loss='categorical_crossentropy', metrics=['accuracy'])\n",
        "\n",
        "# Model summary to check architecture\n",
        "model.summary()\n",
        "\n"
      ],
      "metadata": {
        "id": "i3t-PbEBFxkK",
        "outputId": "37739751-654e-4b6d-f9ac-b761a55b803b",
        "colab": {
          "base_uri": "https://localhost:8080/"
        }
      },
      "execution_count": 51,
      "outputs": [
        {
          "output_type": "stream",
          "name": "stdout",
          "text": [
            "Model: \"model_3\"\n",
            "__________________________________________________________________________________________________\n",
            " Layer (type)                Output Shape                 Param #   Connected to                  \n",
            "==================================================================================================\n",
            " keypoint_input (InputLayer  [(None, 1280, 34)]           0         []                            \n",
            " )                                                                                                \n",
            "                                                                                                  \n",
            " lstm_4 (LSTM)               (None, 50)                   17000     ['keypoint_input[0][0]']      \n",
            "                                                                                                  \n",
            " features_input (InputLayer  [(None, 498)]                0         []                            \n",
            " )                                                                                                \n",
            "                                                                                                  \n",
            " dense_14 (Dense)            (None, 100)                  5100      ['lstm_4[0][0]']              \n",
            "                                                                                                  \n",
            " dense_15 (Dense)            (None, 50)                   24950     ['features_input[0][0]']      \n",
            "                                                                                                  \n",
            " dropout_4 (Dropout)         (None, 100)                  0         ['dense_14[0][0]']            \n",
            "                                                                                                  \n",
            " dropout_5 (Dropout)         (None, 50)                   0         ['dense_15[0][0]']            \n",
            "                                                                                                  \n",
            " concatenate_3 (Concatenate  (None, 150)                  0         ['dropout_4[0][0]',           \n",
            " )                                                                   'dropout_5[0][0]']           \n",
            "                                                                                                  \n",
            " dense_16 (Dense)            (None, 100)                  15100     ['concatenate_3[0][0]']       \n",
            "                                                                                                  \n",
            " dropout_6 (Dropout)         (None, 100)                  0         ['dense_16[0][0]']            \n",
            "                                                                                                  \n",
            " dense_17 (Dense)            (None, 3)                    303       ['dropout_6[0][0]']           \n",
            "                                                                                                  \n",
            "==================================================================================================\n",
            "Total params: 62453 (243.96 KB)\n",
            "Trainable params: 62453 (243.96 KB)\n",
            "Non-trainable params: 0 (0.00 Byte)\n",
            "__________________________________________________________________________________________________\n"
          ]
        }
      ]
    },
    {
      "cell_type": "code",
      "source": [
        "early_stopping = EarlyStopping(monitor='val_loss', patience=10, restore_best_weights=True)\n",
        "\n",
        "# Train the model with early stopping\n",
        "history = model.fit(\n",
        "    [X_train_clips, X_train_features], y_train_onehot,\n",
        "    validation_data=([X_test_clips, X_test_features], y_test_onehot),\n",
        "    epochs=100, batch_size=32, callbacks=[early_stopping])"
      ],
      "metadata": {
        "id": "CfrHBozYF61m",
        "outputId": "933412e1-1f2c-46c6-dbaa-d429794b1e6e",
        "colab": {
          "base_uri": "https://localhost:8080/"
        }
      },
      "execution_count": 53,
      "outputs": [
        {
          "output_type": "stream",
          "name": "stdout",
          "text": [
            "Epoch 1/100\n",
            "34/34 [==============================] - 28s 714ms/step - loss: 30.7461 - accuracy: 0.3358 - val_loss: 22.2211 - val_accuracy: 0.3542\n",
            "Epoch 2/100\n",
            "34/34 [==============================] - 34s 1s/step - loss: 16.2763 - accuracy: 0.3525 - val_loss: 10.8972 - val_accuracy: 0.3616\n",
            "Epoch 3/100\n",
            "34/34 [==============================] - 20s 597ms/step - loss: 7.5851 - accuracy: 0.3228 - val_loss: 4.8566 - val_accuracy: 0.3616\n",
            "Epoch 4/100\n",
            "34/34 [==============================] - 24s 686ms/step - loss: 3.4924 - accuracy: 0.3321 - val_loss: 2.3563 - val_accuracy: 0.3616\n",
            "Epoch 5/100\n",
            "34/34 [==============================] - 29s 856ms/step - loss: 1.8171 - accuracy: 0.3191 - val_loss: 1.4518 - val_accuracy: 0.3616\n",
            "Epoch 6/100\n",
            "34/34 [==============================] - 29s 866ms/step - loss: 1.3050 - accuracy: 0.3599 - val_loss: 1.2047 - val_accuracy: 0.3616\n",
            "Epoch 7/100\n",
            "34/34 [==============================] - 25s 733ms/step - loss: 1.1854 - accuracy: 0.3377 - val_loss: 1.1714 - val_accuracy: 0.3616\n",
            "Epoch 8/100\n",
            "34/34 [==============================] - 20s 579ms/step - loss: 1.1713 - accuracy: 0.3136 - val_loss: 1.1662 - val_accuracy: 0.3616\n",
            "Epoch 9/100\n",
            "34/34 [==============================] - 18s 536ms/step - loss: 1.1677 - accuracy: 0.3321 - val_loss: 1.1656 - val_accuracy: 0.3616\n",
            "Epoch 10/100\n",
            "34/34 [==============================] - 20s 585ms/step - loss: 1.1680 - accuracy: 0.3191 - val_loss: 1.1646 - val_accuracy: 0.3616\n",
            "Epoch 11/100\n",
            "34/34 [==============================] - 18s 533ms/step - loss: 1.1672 - accuracy: 0.3210 - val_loss: 1.1646 - val_accuracy: 0.3616\n",
            "Epoch 12/100\n",
            "34/34 [==============================] - 19s 567ms/step - loss: 1.1668 - accuracy: 0.3367 - val_loss: 1.1655 - val_accuracy: 0.3616\n",
            "Epoch 13/100\n",
            "34/34 [==============================] - 20s 584ms/step - loss: 1.1667 - accuracy: 0.3543 - val_loss: 1.1641 - val_accuracy: 0.3616\n",
            "Epoch 14/100\n",
            "34/34 [==============================] - 19s 574ms/step - loss: 1.1666 - accuracy: 0.3367 - val_loss: 1.1650 - val_accuracy: 0.3616\n",
            "Epoch 15/100\n",
            "34/34 [==============================] - 19s 574ms/step - loss: 1.1667 - accuracy: 0.3136 - val_loss: 1.1649 - val_accuracy: 0.3616\n",
            "Epoch 16/100\n",
            "34/34 [==============================] - 20s 587ms/step - loss: 1.1660 - accuracy: 0.3395 - val_loss: 1.1641 - val_accuracy: 0.3616\n",
            "Epoch 17/100\n",
            "34/34 [==============================] - 18s 529ms/step - loss: 1.1665 - accuracy: 0.3340 - val_loss: 1.1644 - val_accuracy: 0.3616\n",
            "Epoch 18/100\n",
            "34/34 [==============================] - 19s 576ms/step - loss: 1.1662 - accuracy: 0.3265 - val_loss: 1.1645 - val_accuracy: 0.3616\n",
            "Epoch 19/100\n",
            "34/34 [==============================] - 18s 530ms/step - loss: 1.1662 - accuracy: 0.3330 - val_loss: 1.1637 - val_accuracy: 0.3616\n",
            "Epoch 20/100\n",
            "34/34 [==============================] - 18s 542ms/step - loss: 1.1655 - accuracy: 0.3349 - val_loss: 1.1638 - val_accuracy: 0.3616\n",
            "Epoch 21/100\n",
            "34/34 [==============================] - 20s 587ms/step - loss: 1.1662 - accuracy: 0.3386 - val_loss: 1.1641 - val_accuracy: 0.3616\n",
            "Epoch 22/100\n",
            "34/34 [==============================] - 18s 533ms/step - loss: 1.1660 - accuracy: 0.3247 - val_loss: 1.1635 - val_accuracy: 0.3616\n",
            "Epoch 23/100\n",
            "34/34 [==============================] - 18s 527ms/step - loss: 1.1658 - accuracy: 0.3358 - val_loss: 1.1635 - val_accuracy: 0.3616\n",
            "Epoch 24/100\n",
            "34/34 [==============================] - 20s 603ms/step - loss: 1.1655 - accuracy: 0.3432 - val_loss: 1.1635 - val_accuracy: 0.3616\n",
            "Epoch 25/100\n",
            "34/34 [==============================] - 21s 602ms/step - loss: 1.1654 - accuracy: 0.3506 - val_loss: 1.1633 - val_accuracy: 0.3616\n",
            "Epoch 26/100\n",
            "34/34 [==============================] - 20s 601ms/step - loss: 1.1655 - accuracy: 0.3349 - val_loss: 1.1635 - val_accuracy: 0.3616\n",
            "Epoch 27/100\n",
            "34/34 [==============================] - 21s 609ms/step - loss: 1.1652 - accuracy: 0.3386 - val_loss: 1.1632 - val_accuracy: 0.3616\n",
            "Epoch 28/100\n",
            "34/34 [==============================] - 19s 571ms/step - loss: 1.1649 - accuracy: 0.3460 - val_loss: 1.1629 - val_accuracy: 0.3616\n",
            "Epoch 29/100\n",
            "34/34 [==============================] - 22s 631ms/step - loss: 1.1649 - accuracy: 0.3284 - val_loss: 1.1626 - val_accuracy: 0.3616\n",
            "Epoch 30/100\n",
            "34/34 [==============================] - 20s 593ms/step - loss: 1.1652 - accuracy: 0.3349 - val_loss: 1.1631 - val_accuracy: 0.3616\n",
            "Epoch 31/100\n",
            "34/34 [==============================] - 21s 623ms/step - loss: 1.1652 - accuracy: 0.3265 - val_loss: 1.1631 - val_accuracy: 0.3616\n",
            "Epoch 32/100\n",
            "34/34 [==============================] - 22s 656ms/step - loss: 1.1650 - accuracy: 0.3478 - val_loss: 1.1635 - val_accuracy: 0.3616\n",
            "Epoch 33/100\n",
            "34/34 [==============================] - 21s 616ms/step - loss: 1.1654 - accuracy: 0.3404 - val_loss: 1.1636 - val_accuracy: 0.3616\n",
            "Epoch 34/100\n",
            "34/34 [==============================] - 20s 602ms/step - loss: 1.1657 - accuracy: 0.3256 - val_loss: 1.1631 - val_accuracy: 0.3616\n",
            "Epoch 35/100\n",
            "34/34 [==============================] - 19s 560ms/step - loss: 1.1649 - accuracy: 0.3469 - val_loss: 1.1633 - val_accuracy: 0.3616\n",
            "Epoch 36/100\n",
            "34/34 [==============================] - 18s 530ms/step - loss: 1.1651 - accuracy: 0.3497 - val_loss: 1.1634 - val_accuracy: 0.3616\n",
            "Epoch 37/100\n",
            "34/34 [==============================] - 19s 558ms/step - loss: 1.1655 - accuracy: 0.3321 - val_loss: 1.1631 - val_accuracy: 0.3616\n",
            "Epoch 38/100\n",
            "34/34 [==============================] - 19s 540ms/step - loss: 1.1655 - accuracy: 0.3358 - val_loss: 1.1639 - val_accuracy: 0.3616\n",
            "Epoch 39/100\n",
            "34/34 [==============================] - 20s 583ms/step - loss: 1.1658 - accuracy: 0.3275 - val_loss: 1.1638 - val_accuracy: 0.3616\n"
          ]
        }
      ]
    },
    {
      "cell_type": "code",
      "source": [
        "model.save('/content/drive/MyDrive/Github/capstone/brace/k_model_features3')\n",
        "# Load the model\n",
        "loaded_model = load_model('/content/drive/MyDrive/Github/capstone/brace/k_model_features3')\n",
        "\n",
        "# Evaluate the model on the test data\n",
        "test_loss, test_accuracy = model.evaluate([X_test_clips, X_test_features], y_test_onehot)\n",
        "print(f\"Model name: {loaded_model}\")\n",
        "print(f\"Test Loss: {test_loss}\")\n",
        "print(f\"Test Accuracy: {test_accuracy}\")"
      ],
      "metadata": {
        "id": "E2Z982enHDl1",
        "outputId": "cea48a0c-f475-4516-80fb-d826fdc79fb2",
        "colab": {
          "base_uri": "https://localhost:8080/"
        }
      },
      "execution_count": 48,
      "outputs": [
        {
          "output_type": "stream",
          "name": "stdout",
          "text": [
            "9/9 [==============================] - 1s 137ms/step - loss: 1.3042 - accuracy: 0.3321\n",
            "Test Loss: 1.304213285446167\n",
            "Test Accuracy: 0.33210331201553345\n"
          ]
        }
      ]
    }
  ]
}
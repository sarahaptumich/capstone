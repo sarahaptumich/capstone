{
  "nbformat": 4,
  "nbformat_minor": 0,
  "metadata": {
    "colab": {
      "provenance": [],
      "authorship_tag": "ABX9TyM8FxEUs50rMPoI1o8S2CJu",
      "include_colab_link": true
    },
    "kernelspec": {
      "name": "python3",
      "display_name": "Python 3"
    },
    "language_info": {
      "name": "python"
    }
  },
  "cells": [
    {
      "cell_type": "markdown",
      "metadata": {
        "id": "view-in-github",
        "colab_type": "text"
      },
      "source": [
        "<a href=\"https://colab.research.google.com/github/sarahaptumich/capstone/blob/shaptonstall/breaker_ranking_2.ipynb\" target=\"_parent\"><img src=\"https://colab.research.google.com/assets/colab-badge.svg\" alt=\"Open In Colab\"/></a>"
      ]
    },
    {
      "cell_type": "code",
      "execution_count": 2,
      "metadata": {
        "colab": {
          "base_uri": "https://localhost:8080/"
        },
        "id": "3uo-3u3rJ8Ub",
        "outputId": "1b774576-5060-40f9-c459-a1fae02298e5"
      },
      "outputs": [
        {
          "output_type": "stream",
          "name": "stdout",
          "text": [
            "Drive already mounted at /content/drive; to attempt to forcibly remount, call drive.mount(\"/content/drive\", force_remount=True).\n"
          ]
        }
      ],
      "source": [
        "#Mount google drive\n",
        "from google.colab import drive\n",
        "drive.mount(\"/content/drive\")"
      ]
    },
    {
      "cell_type": "code",
      "source": [
        "%cd /content/drive/MyDrive/Github/capstone"
      ],
      "metadata": {
        "colab": {
          "base_uri": "https://localhost:8080/"
        },
        "id": "xMQN6zSOKHAz",
        "outputId": "58af6aba-6738-4e4c-8372-6c1899b1684d"
      },
      "execution_count": 3,
      "outputs": [
        {
          "output_type": "stream",
          "name": "stdout",
          "text": [
            "/content/drive/MyDrive/Github/capstone\n"
          ]
        }
      ]
    },
    {
      "cell_type": "code",
      "source": [
        "%ls"
      ],
      "metadata": {
        "id": "syqNAVmJsMYG",
        "outputId": "5f1a47ff-d869-44ba-c3d6-020236a51c7f",
        "colab": {
          "base_uri": "https://localhost:8080/"
        }
      },
      "execution_count": 4,
      "outputs": [
        {
          "output_type": "stream",
          "name": "stdout",
          "text": [
            " Capstone.ipynb           pd2.png   \u001b[0m\u001b[01;34m__pycache__\u001b[0m/                         trivium_scaler.pkl\n",
            " data_exploration.ipynb   pd3       README.md                            trivium_scorecard.csv\n",
            " pd                       pd3.png  'trivium_full_column_names (1).csv'   Webscraping.xlsx\n",
            " pd2                      pd.png    trivium_pca.pkl\n"
          ]
        }
      ]
    },
    {
      "cell_type": "code",
      "source": [
        "!pip install skelo"
      ],
      "metadata": {
        "id": "8IzGH-oBpj__",
        "outputId": "daac712e-ebd0-4c3b-c548-a441ce1b1ae1",
        "colab": {
          "base_uri": "https://localhost:8080/"
        }
      },
      "execution_count": 5,
      "outputs": [
        {
          "output_type": "stream",
          "name": "stdout",
          "text": [
            "Requirement already satisfied: skelo in /usr/local/lib/python3.10/dist-packages (0.1.5)\n",
            "Requirement already satisfied: numpy in /usr/local/lib/python3.10/dist-packages (from skelo) (1.25.2)\n",
            "Requirement already satisfied: scikit-learn in /usr/local/lib/python3.10/dist-packages (from skelo) (1.2.2)\n",
            "Requirement already satisfied: pandas in /usr/local/lib/python3.10/dist-packages (from skelo) (1.5.3)\n",
            "Requirement already satisfied: glicko2>=2 in /usr/local/lib/python3.10/dist-packages (from skelo) (2.1.0)\n",
            "Requirement already satisfied: python-dateutil>=2.8.1 in /usr/local/lib/python3.10/dist-packages (from pandas->skelo) (2.8.2)\n",
            "Requirement already satisfied: pytz>=2020.1 in /usr/local/lib/python3.10/dist-packages (from pandas->skelo) (2023.4)\n",
            "Requirement already satisfied: scipy>=1.3.2 in /usr/local/lib/python3.10/dist-packages (from scikit-learn->skelo) (1.11.4)\n",
            "Requirement already satisfied: joblib>=1.1.1 in /usr/local/lib/python3.10/dist-packages (from scikit-learn->skelo) (1.3.2)\n",
            "Requirement already satisfied: threadpoolctl>=2.0.0 in /usr/local/lib/python3.10/dist-packages (from scikit-learn->skelo) (3.3.0)\n",
            "Requirement already satisfied: six>=1.5 in /usr/local/lib/python3.10/dist-packages (from python-dateutil>=2.8.1->pandas->skelo) (1.16.0)\n"
          ]
        }
      ]
    },
    {
      "cell_type": "code",
      "source": [
        "import sys\n",
        "sys.path.append('/content/drive/MyDrive/Github/capstone')"
      ],
      "metadata": {
        "id": "9xvrzvresDXt"
      },
      "execution_count": 6,
      "outputs": []
    },
    {
      "cell_type": "code",
      "source": [
        "import pandas as pd\n",
        "import numpy as np\n",
        "import re\n",
        "from datetime import datetime, timedelta\n",
        "from sklearn.decomposition import PCA, KernelPCA\n",
        "from sklearn.impute import SimpleImputer\n",
        "from sklearn.preprocessing import StandardScaler\n",
        "import matplotlib.pyplot as plt\n",
        "from sklearn.decomposition import FactorAnalysis\n",
        "import joblib\n",
        "from sklearn.preprocessing import LabelEncoder\n",
        "from skelo.model.elo import EloEstimator\n",
        "from sklearn.metrics import classification_report\n",
        "from sklearn.calibration import calibration_curve\n",
        "from sklearn.model_selection import GridSearchCV\n",
        "from sklearn.model_selection import train_test_split\n",
        "from sklearn.calibration import CalibratedClassifierCV\n",
        "from sklearn.linear_model import LogisticRegression\n",
        "from sklearn.metrics import accuracy_score\n",
        "from skelo.model.glicko2 import Glicko2Estimator\n",
        "# import glicko2"
      ],
      "metadata": {
        "id": "7UxtxjvnKL82"
      },
      "execution_count": 7,
      "outputs": []
    },
    {
      "cell_type": "code",
      "source": [
        "#load models if needed\n",
        "scaler = joblib.load('trivium_scaler.pkl')\n",
        "pca= joblib.load('trivium_pca.pkl')"
      ],
      "metadata": {
        "id": "SewsdhACMycx"
      },
      "execution_count": 8,
      "outputs": []
    },
    {
      "cell_type": "code",
      "source": [
        "#load files\n",
        "trivium= pd.read_csv('trivium_scorecard.csv')\n",
        "webscraping = pd.read_excel('Webscraping.xlsx', sheet_name=None)\n",
        "webscraping.keys()"
      ],
      "metadata": {
        "colab": {
          "base_uri": "https://localhost:8080/"
        },
        "id": "ZbioKYNtM710",
        "outputId": "6189ea4c-af02-449e-8694-1442a6152ae0"
      },
      "execution_count": 9,
      "outputs": [
        {
          "output_type": "stream",
          "name": "stderr",
          "text": [
            "/usr/local/lib/python3.10/dist-packages/openpyxl/worksheet/_reader.py:329: UserWarning: Unknown extension is not supported and will be removed\n",
            "  warn(msg)\n",
            "/usr/local/lib/python3.10/dist-packages/openpyxl/worksheet/_reader.py:329: UserWarning: Unknown extension is not supported and will be removed\n",
            "  warn(msg)\n"
          ]
        },
        {
          "output_type": "execute_result",
          "data": {
            "text/plain": [
              "dict_keys(['Events and8', 'Events', 'Events WDSF', 'Battles Trivium', 'Battles and8 Threefold', 'Battles and8 Single Slider', 'Battles and8 Round by Round', 'Battles and8 Traditional', 'Research Questions', 'Notes', 'Notes Columns'])"
            ]
          },
          "metadata": {},
          "execution_count": 9
        }
      ]
    },
    {
      "cell_type": "code",
      "source": [
        "#Load battle winners\n",
        "#threefold\n",
        "threefold = webscraping['Battles and8 Threefold']\n",
        "threefold.rename(columns={'Unnamed: 0':'Event', 'Unnamed: 1': 'Category', 'breaker 1': 'breaker 1 (red)', 'breaker 2': 'breaker 2 (blue)'}, inplace=True)\n",
        "threefold[['Event', 'Category']] = threefold[['Event', 'Category']].fillna(method='ffill')\n",
        "#Trivium\n",
        "trivium=webscraping['Battles Trivium']\n",
        "trivium.rename(columns={'Unnamed: 0':'Event', 'Unnamed: 1': 'Category'}, inplace=True)\n",
        "trivium[['Event', 'Category']]= trivium[['Event', 'Category']].fillna(method='ffill')\n",
        "#traditional\n",
        "traditional = webscraping['Battles and8 Traditional']\n",
        "traditional.rename(columns={'Unnamed: 0':'Event', 'Unnamed: 1': 'Category'}, inplace=True)\n",
        "traditional[['Event', 'Category']] = traditional[['Event', 'Category']].fillna(method='ffill')"
      ],
      "metadata": {
        "id": "C-r7e3mY6CGm"
      },
      "execution_count": 10,
      "outputs": []
    },
    {
      "cell_type": "code",
      "source": [
        "tr=traditional[['Event', 'Category', 'breaker 1 (red)', 'breaker 2 (blue)', 'winner']].copy()\n",
        "th=threefold[['Event', 'Category', 'breaker 1 (red)', 'breaker 2 (blue)', 'winner']].copy()\n",
        "tv=trivium[['Event', 'Category', 'breaker 1 (red)', 'breaker 2 (blue)', 'winner']].copy()\n",
        "\n",
        "dataframes = [('traditional', tr), ('threefold', th), ('trivium', tv)]\n",
        "\n",
        "# Create an empty list to store modified dataframes\n",
        "appended_dfs = []\n",
        "\n",
        "# Iterate to create a combined dataframe\n",
        "for name, dframe in dataframes:\n",
        "    dframe['Original_DF'] = name\n",
        "    dframe['Battle_ID'] = dframe.index\n",
        "    appended_dfs.append(dframe)\n",
        "appendedBattles = pd.concat(appended_dfs, ignore_index=True)\n"
      ],
      "metadata": {
        "id": "rYYKLygJ9qwr"
      },
      "execution_count": 11,
      "outputs": []
    },
    {
      "cell_type": "code",
      "source": [
        "eventsAnd8=webscraping['Events and8'][1:].copy()\n",
        "new_header= eventsAnd8.iloc[0]\n",
        "eventsAnd8=eventsAnd8.drop(1)\n",
        "eventsAnd8.columns = new_header\n",
        "eventsAnd8.rename(columns={'Name':'Event'}, inplace=True)\n",
        "eventsAnd8.drop_duplicates(subset=['Event'], inplace=True)\n",
        "\n",
        "eventsWDSF = webscraping['Events WDSF'][1:].copy()\n",
        "new_header = eventsWDSF.iloc[0]\n",
        "eventsWDSF = eventsWDSF.drop(1)\n",
        "eventsWDSF.columns = new_header\n",
        "eventsWDSF.rename(columns={'Name': 'Event'}, inplace=True)\n",
        "eventsWDSF.drop_duplicates(subset=['Event'], inplace=True)\n",
        "\n",
        "Events = webscraping['Events'][1:].copy()\n",
        "new_header = Events.iloc[0]\n",
        "Events = Events.drop(1)\n",
        "Events.columns = new_header\n",
        "Events.rename(columns={'Name':'Event'}, inplace=True)\n",
        "Events.drop_duplicates(subset=['Event'], inplace=True)\n",
        "\n",
        "combined_events = pd.concat([eventsAnd8, eventsWDSF, Events], ignore_index=True)"
      ],
      "metadata": {
        "id": "FOea4fdkAxpz"
      },
      "execution_count": 12,
      "outputs": []
    },
    {
      "cell_type": "code",
      "source": [
        "#add battle date\n",
        "appendedBattles=pd.merge(appendedBattles, combined_events[['Date', 'Event']], on='Event', how='left')\n",
        "appendedBattles['loser'] = np.where(appendedBattles['winner'] == appendedBattles['breaker 1 (red)'], appendedBattles['breaker 2 (blue)'], appendedBattles['breaker 1 (red)'])\n",
        "appendedBattles[['winner', 'loser']]=appendedBattles[['winner', 'loser']].astype(str)\n",
        "battlesNotide=appendedBattles[appendedBattles['winner']!='Tie'].copy()"
      ],
      "metadata": {
        "id": "FAb7-dQct5Gg"
      },
      "execution_count": 13,
      "outputs": []
    },
    {
      "cell_type": "code",
      "source": [
        "#Instead of distinguishing between winners and losers, it labels one player as \"player1\" and the other as \"player2\"\n",
        "#and assigns a binary label (1 for player1 winning and 0 for player2 winning).\n",
        "def load_data(df):\n",
        "    df[\"Date\"] = pd.to_datetime(df['Date'])\n",
        "    # labels in the dataset, so we relabel the order of (winner, loser) to just be (player1, player2)\n",
        "    order_mask = (df[\"winner\"] < df[\"loser\"])\n",
        "    df[\"p1\"] = \"\"\n",
        "    df[\"p2\"] = \"\"\n",
        "    df[\"label\"] = 1\n",
        "    df.loc[order_mask, \"p1\"] = df.loc[order_mask, \"winner\"]\n",
        "    df.loc[~order_mask, \"p1\"] = df.loc[~order_mask, \"loser\"]\n",
        "    df.loc[order_mask, \"p2\"] = df.loc[order_mask, \"loser\"]\n",
        "    df.loc[~order_mask, \"p2\"] = df.loc[~order_mask, \"winner\"]\n",
        "    df.loc[~order_mask, \"label\"] = 0\n",
        "\n",
        "    return df"
      ],
      "metadata": {
        "id": "5snjU7hR5PFO"
      },
      "execution_count": 14,
      "outputs": []
    },
    {
      "cell_type": "code",
      "source": [
        "max(battlesNotide['Date'])"
      ],
      "metadata": {
        "id": "5YGCIKvTdiwa",
        "outputId": "159dbcf9-8090-4c13-a235-5173696401ba",
        "colab": {
          "base_uri": "https://localhost:8080/"
        }
      },
      "execution_count": 15,
      "outputs": [
        {
          "output_type": "execute_result",
          "data": {
            "text/plain": [
              "datetime.datetime(2023, 11, 25, 0, 0)"
            ]
          },
          "metadata": {},
          "execution_count": 15
        }
      ]
    },
    {
      "cell_type": "code",
      "source": [
        "battlesNotide= load_data(battlesNotide)\n",
        "battlesNotide.head(5)"
      ],
      "metadata": {
        "id": "O615bLNk0P-L",
        "outputId": "b833a990-9d5c-4d3f-9b19-1762557739b1",
        "colab": {
          "base_uri": "https://localhost:8080/",
          "height": 310
        }
      },
      "execution_count": 16,
      "outputs": [
        {
          "output_type": "execute_result",
          "data": {
            "text/plain": [
              "                        Event                               Category  \\\n",
              "0  Championnat de France 2023  B-Boys +16 Top 16 Round Robin Group D   \n",
              "1  Championnat de France 2023  B-Boys +16 Top 16 Round Robin Group D   \n",
              "2  Championnat de France 2023  B-Boys +16 Top 16 Round Robin Group D   \n",
              "3  Championnat de France 2023  B-Boys +16 Top 16 Round Robin Group D   \n",
              "4  Championnat de France 2023  B-Boys +16 Top 16 Round Robin Group D   \n",
              "\n",
              "  breaker 1 (red) breaker 2 (blue)    winner  Original_DF  Battle_ID  \\\n",
              "0        Kidmario              Noé       Noé  traditional          0   \n",
              "1        Wilfried          Killian   Killian  traditional          1   \n",
              "2        Wilfried              Noé       Noé  traditional          2   \n",
              "3        Kidmario          Killian   Killian  traditional          3   \n",
              "4        Wilfried         Kidmario  Wilfried  traditional          4   \n",
              "\n",
              "        Date     loser        p1        p2  label  \n",
              "0 2023-07-05  Kidmario  Kidmario       Noé      0  \n",
              "1 2023-07-05  Wilfried   Killian  Wilfried      1  \n",
              "2 2023-07-05  Wilfried       Noé  Wilfried      1  \n",
              "3 2023-07-05  Kidmario  Kidmario   Killian      0  \n",
              "4 2023-07-05  Kidmario  Kidmario  Wilfried      0  "
            ],
            "text/html": [
              "\n",
              "  <div id=\"df-07241997-ca1b-40e7-bcf2-351ab2f8674a\" class=\"colab-df-container\">\n",
              "    <div>\n",
              "<style scoped>\n",
              "    .dataframe tbody tr th:only-of-type {\n",
              "        vertical-align: middle;\n",
              "    }\n",
              "\n",
              "    .dataframe tbody tr th {\n",
              "        vertical-align: top;\n",
              "    }\n",
              "\n",
              "    .dataframe thead th {\n",
              "        text-align: right;\n",
              "    }\n",
              "</style>\n",
              "<table border=\"1\" class=\"dataframe\">\n",
              "  <thead>\n",
              "    <tr style=\"text-align: right;\">\n",
              "      <th></th>\n",
              "      <th>Event</th>\n",
              "      <th>Category</th>\n",
              "      <th>breaker 1 (red)</th>\n",
              "      <th>breaker 2 (blue)</th>\n",
              "      <th>winner</th>\n",
              "      <th>Original_DF</th>\n",
              "      <th>Battle_ID</th>\n",
              "      <th>Date</th>\n",
              "      <th>loser</th>\n",
              "      <th>p1</th>\n",
              "      <th>p2</th>\n",
              "      <th>label</th>\n",
              "    </tr>\n",
              "  </thead>\n",
              "  <tbody>\n",
              "    <tr>\n",
              "      <th>0</th>\n",
              "      <td>Championnat de France 2023</td>\n",
              "      <td>B-Boys +16 Top 16 Round Robin Group D</td>\n",
              "      <td>Kidmario</td>\n",
              "      <td>Noé</td>\n",
              "      <td>Noé</td>\n",
              "      <td>traditional</td>\n",
              "      <td>0</td>\n",
              "      <td>2023-07-05</td>\n",
              "      <td>Kidmario</td>\n",
              "      <td>Kidmario</td>\n",
              "      <td>Noé</td>\n",
              "      <td>0</td>\n",
              "    </tr>\n",
              "    <tr>\n",
              "      <th>1</th>\n",
              "      <td>Championnat de France 2023</td>\n",
              "      <td>B-Boys +16 Top 16 Round Robin Group D</td>\n",
              "      <td>Wilfried</td>\n",
              "      <td>Killian</td>\n",
              "      <td>Killian</td>\n",
              "      <td>traditional</td>\n",
              "      <td>1</td>\n",
              "      <td>2023-07-05</td>\n",
              "      <td>Wilfried</td>\n",
              "      <td>Killian</td>\n",
              "      <td>Wilfried</td>\n",
              "      <td>1</td>\n",
              "    </tr>\n",
              "    <tr>\n",
              "      <th>2</th>\n",
              "      <td>Championnat de France 2023</td>\n",
              "      <td>B-Boys +16 Top 16 Round Robin Group D</td>\n",
              "      <td>Wilfried</td>\n",
              "      <td>Noé</td>\n",
              "      <td>Noé</td>\n",
              "      <td>traditional</td>\n",
              "      <td>2</td>\n",
              "      <td>2023-07-05</td>\n",
              "      <td>Wilfried</td>\n",
              "      <td>Noé</td>\n",
              "      <td>Wilfried</td>\n",
              "      <td>1</td>\n",
              "    </tr>\n",
              "    <tr>\n",
              "      <th>3</th>\n",
              "      <td>Championnat de France 2023</td>\n",
              "      <td>B-Boys +16 Top 16 Round Robin Group D</td>\n",
              "      <td>Kidmario</td>\n",
              "      <td>Killian</td>\n",
              "      <td>Killian</td>\n",
              "      <td>traditional</td>\n",
              "      <td>3</td>\n",
              "      <td>2023-07-05</td>\n",
              "      <td>Kidmario</td>\n",
              "      <td>Kidmario</td>\n",
              "      <td>Killian</td>\n",
              "      <td>0</td>\n",
              "    </tr>\n",
              "    <tr>\n",
              "      <th>4</th>\n",
              "      <td>Championnat de France 2023</td>\n",
              "      <td>B-Boys +16 Top 16 Round Robin Group D</td>\n",
              "      <td>Wilfried</td>\n",
              "      <td>Kidmario</td>\n",
              "      <td>Wilfried</td>\n",
              "      <td>traditional</td>\n",
              "      <td>4</td>\n",
              "      <td>2023-07-05</td>\n",
              "      <td>Kidmario</td>\n",
              "      <td>Kidmario</td>\n",
              "      <td>Wilfried</td>\n",
              "      <td>0</td>\n",
              "    </tr>\n",
              "  </tbody>\n",
              "</table>\n",
              "</div>\n",
              "    <div class=\"colab-df-buttons\">\n",
              "\n",
              "  <div class=\"colab-df-container\">\n",
              "    <button class=\"colab-df-convert\" onclick=\"convertToInteractive('df-07241997-ca1b-40e7-bcf2-351ab2f8674a')\"\n",
              "            title=\"Convert this dataframe to an interactive table.\"\n",
              "            style=\"display:none;\">\n",
              "\n",
              "  <svg xmlns=\"http://www.w3.org/2000/svg\" height=\"24px\" viewBox=\"0 -960 960 960\">\n",
              "    <path d=\"M120-120v-720h720v720H120Zm60-500h600v-160H180v160Zm220 220h160v-160H400v160Zm0 220h160v-160H400v160ZM180-400h160v-160H180v160Zm440 0h160v-160H620v160ZM180-180h160v-160H180v160Zm440 0h160v-160H620v160Z\"/>\n",
              "  </svg>\n",
              "    </button>\n",
              "\n",
              "  <style>\n",
              "    .colab-df-container {\n",
              "      display:flex;\n",
              "      gap: 12px;\n",
              "    }\n",
              "\n",
              "    .colab-df-convert {\n",
              "      background-color: #E8F0FE;\n",
              "      border: none;\n",
              "      border-radius: 50%;\n",
              "      cursor: pointer;\n",
              "      display: none;\n",
              "      fill: #1967D2;\n",
              "      height: 32px;\n",
              "      padding: 0 0 0 0;\n",
              "      width: 32px;\n",
              "    }\n",
              "\n",
              "    .colab-df-convert:hover {\n",
              "      background-color: #E2EBFA;\n",
              "      box-shadow: 0px 1px 2px rgba(60, 64, 67, 0.3), 0px 1px 3px 1px rgba(60, 64, 67, 0.15);\n",
              "      fill: #174EA6;\n",
              "    }\n",
              "\n",
              "    .colab-df-buttons div {\n",
              "      margin-bottom: 4px;\n",
              "    }\n",
              "\n",
              "    [theme=dark] .colab-df-convert {\n",
              "      background-color: #3B4455;\n",
              "      fill: #D2E3FC;\n",
              "    }\n",
              "\n",
              "    [theme=dark] .colab-df-convert:hover {\n",
              "      background-color: #434B5C;\n",
              "      box-shadow: 0px 1px 3px 1px rgba(0, 0, 0, 0.15);\n",
              "      filter: drop-shadow(0px 1px 2px rgba(0, 0, 0, 0.3));\n",
              "      fill: #FFFFFF;\n",
              "    }\n",
              "  </style>\n",
              "\n",
              "    <script>\n",
              "      const buttonEl =\n",
              "        document.querySelector('#df-07241997-ca1b-40e7-bcf2-351ab2f8674a button.colab-df-convert');\n",
              "      buttonEl.style.display =\n",
              "        google.colab.kernel.accessAllowed ? 'block' : 'none';\n",
              "\n",
              "      async function convertToInteractive(key) {\n",
              "        const element = document.querySelector('#df-07241997-ca1b-40e7-bcf2-351ab2f8674a');\n",
              "        const dataTable =\n",
              "          await google.colab.kernel.invokeFunction('convertToInteractive',\n",
              "                                                    [key], {});\n",
              "        if (!dataTable) return;\n",
              "\n",
              "        const docLinkHtml = 'Like what you see? Visit the ' +\n",
              "          '<a target=\"_blank\" href=https://colab.research.google.com/notebooks/data_table.ipynb>data table notebook</a>'\n",
              "          + ' to learn more about interactive tables.';\n",
              "        element.innerHTML = '';\n",
              "        dataTable['output_type'] = 'display_data';\n",
              "        await google.colab.output.renderOutput(dataTable, element);\n",
              "        const docLink = document.createElement('div');\n",
              "        docLink.innerHTML = docLinkHtml;\n",
              "        element.appendChild(docLink);\n",
              "      }\n",
              "    </script>\n",
              "  </div>\n",
              "\n",
              "\n",
              "<div id=\"df-d4e557c9-aafa-4807-b74e-3aa72ed55aa2\">\n",
              "  <button class=\"colab-df-quickchart\" onclick=\"quickchart('df-d4e557c9-aafa-4807-b74e-3aa72ed55aa2')\"\n",
              "            title=\"Suggest charts\"\n",
              "            style=\"display:none;\">\n",
              "\n",
              "<svg xmlns=\"http://www.w3.org/2000/svg\" height=\"24px\"viewBox=\"0 0 24 24\"\n",
              "     width=\"24px\">\n",
              "    <g>\n",
              "        <path d=\"M19 3H5c-1.1 0-2 .9-2 2v14c0 1.1.9 2 2 2h14c1.1 0 2-.9 2-2V5c0-1.1-.9-2-2-2zM9 17H7v-7h2v7zm4 0h-2V7h2v10zm4 0h-2v-4h2v4z\"/>\n",
              "    </g>\n",
              "</svg>\n",
              "  </button>\n",
              "\n",
              "<style>\n",
              "  .colab-df-quickchart {\n",
              "      --bg-color: #E8F0FE;\n",
              "      --fill-color: #1967D2;\n",
              "      --hover-bg-color: #E2EBFA;\n",
              "      --hover-fill-color: #174EA6;\n",
              "      --disabled-fill-color: #AAA;\n",
              "      --disabled-bg-color: #DDD;\n",
              "  }\n",
              "\n",
              "  [theme=dark] .colab-df-quickchart {\n",
              "      --bg-color: #3B4455;\n",
              "      --fill-color: #D2E3FC;\n",
              "      --hover-bg-color: #434B5C;\n",
              "      --hover-fill-color: #FFFFFF;\n",
              "      --disabled-bg-color: #3B4455;\n",
              "      --disabled-fill-color: #666;\n",
              "  }\n",
              "\n",
              "  .colab-df-quickchart {\n",
              "    background-color: var(--bg-color);\n",
              "    border: none;\n",
              "    border-radius: 50%;\n",
              "    cursor: pointer;\n",
              "    display: none;\n",
              "    fill: var(--fill-color);\n",
              "    height: 32px;\n",
              "    padding: 0;\n",
              "    width: 32px;\n",
              "  }\n",
              "\n",
              "  .colab-df-quickchart:hover {\n",
              "    background-color: var(--hover-bg-color);\n",
              "    box-shadow: 0 1px 2px rgba(60, 64, 67, 0.3), 0 1px 3px 1px rgba(60, 64, 67, 0.15);\n",
              "    fill: var(--button-hover-fill-color);\n",
              "  }\n",
              "\n",
              "  .colab-df-quickchart-complete:disabled,\n",
              "  .colab-df-quickchart-complete:disabled:hover {\n",
              "    background-color: var(--disabled-bg-color);\n",
              "    fill: var(--disabled-fill-color);\n",
              "    box-shadow: none;\n",
              "  }\n",
              "\n",
              "  .colab-df-spinner {\n",
              "    border: 2px solid var(--fill-color);\n",
              "    border-color: transparent;\n",
              "    border-bottom-color: var(--fill-color);\n",
              "    animation:\n",
              "      spin 1s steps(1) infinite;\n",
              "  }\n",
              "\n",
              "  @keyframes spin {\n",
              "    0% {\n",
              "      border-color: transparent;\n",
              "      border-bottom-color: var(--fill-color);\n",
              "      border-left-color: var(--fill-color);\n",
              "    }\n",
              "    20% {\n",
              "      border-color: transparent;\n",
              "      border-left-color: var(--fill-color);\n",
              "      border-top-color: var(--fill-color);\n",
              "    }\n",
              "    30% {\n",
              "      border-color: transparent;\n",
              "      border-left-color: var(--fill-color);\n",
              "      border-top-color: var(--fill-color);\n",
              "      border-right-color: var(--fill-color);\n",
              "    }\n",
              "    40% {\n",
              "      border-color: transparent;\n",
              "      border-right-color: var(--fill-color);\n",
              "      border-top-color: var(--fill-color);\n",
              "    }\n",
              "    60% {\n",
              "      border-color: transparent;\n",
              "      border-right-color: var(--fill-color);\n",
              "    }\n",
              "    80% {\n",
              "      border-color: transparent;\n",
              "      border-right-color: var(--fill-color);\n",
              "      border-bottom-color: var(--fill-color);\n",
              "    }\n",
              "    90% {\n",
              "      border-color: transparent;\n",
              "      border-bottom-color: var(--fill-color);\n",
              "    }\n",
              "  }\n",
              "</style>\n",
              "\n",
              "  <script>\n",
              "    async function quickchart(key) {\n",
              "      const quickchartButtonEl =\n",
              "        document.querySelector('#' + key + ' button');\n",
              "      quickchartButtonEl.disabled = true;  // To prevent multiple clicks.\n",
              "      quickchartButtonEl.classList.add('colab-df-spinner');\n",
              "      try {\n",
              "        const charts = await google.colab.kernel.invokeFunction(\n",
              "            'suggestCharts', [key], {});\n",
              "      } catch (error) {\n",
              "        console.error('Error during call to suggestCharts:', error);\n",
              "      }\n",
              "      quickchartButtonEl.classList.remove('colab-df-spinner');\n",
              "      quickchartButtonEl.classList.add('colab-df-quickchart-complete');\n",
              "    }\n",
              "    (() => {\n",
              "      let quickchartButtonEl =\n",
              "        document.querySelector('#df-d4e557c9-aafa-4807-b74e-3aa72ed55aa2 button');\n",
              "      quickchartButtonEl.style.display =\n",
              "        google.colab.kernel.accessAllowed ? 'block' : 'none';\n",
              "    })();\n",
              "  </script>\n",
              "</div>\n",
              "    </div>\n",
              "  </div>\n"
            ],
            "application/vnd.google.colaboratory.intrinsic+json": {
              "type": "dataframe",
              "variable_name": "battlesNotide",
              "summary": "{\n  \"name\": \"battlesNotide\",\n  \"rows\": 2573,\n  \"fields\": [\n    {\n      \"column\": \"Event\",\n      \"properties\": {\n        \"dtype\": \"category\",\n        \"num_unique_values\": 69,\n        \"samples\": [\n          \"Red Bull BC One Cypher Germany 2019\",\n          \"Championnat de France 2023\",\n          \"Norwegian Championships - Breaking & Hip Hop 2023\"\n        ],\n        \"semantic_type\": \"\",\n        \"description\": \"\"\n      }\n    },\n    {\n      \"column\": \"Category\",\n      \"properties\": {\n        \"dtype\": \"category\",\n        \"num_unique_values\": 120,\n        \"samples\": [\n          \"1vs1 B-Girls Top 16 RoundRobin Group C\",\n          \"1vs1 B-Boys Top 8 Knockout\",\n          \"B-Girls +16 Top 16 Round Robin Group D\"\n        ],\n        \"semantic_type\": \"\",\n        \"description\": \"\"\n      }\n    },\n    {\n      \"column\": \"breaker 1 (red)\",\n      \"properties\": {\n        \"dtype\": \"category\",\n        \"num_unique_values\": 839,\n        \"samples\": [\n          \"NoIndex\",\n          \"Super Mario\",\n          \"Sayora\"\n        ],\n        \"semantic_type\": \"\",\n        \"description\": \"\"\n      }\n    },\n    {\n      \"column\": \"breaker 2 (blue)\",\n      \"properties\": {\n        \"dtype\": \"category\",\n        \"num_unique_values\": 836,\n        \"samples\": [\n          \"Mowgly\",\n          \"Bboy Eric\",\n          \"Eggy\"\n        ],\n        \"semantic_type\": \"\",\n        \"description\": \"\"\n      }\n    },\n    {\n      \"column\": \"winner\",\n      \"properties\": {\n        \"dtype\": \"category\",\n        \"num_unique_values\": 640,\n        \"samples\": [\n          \"Maess'One\",\n          \"Elia\",\n          \"Lil Jam\"\n        ],\n        \"semantic_type\": \"\",\n        \"description\": \"\"\n      }\n    },\n    {\n      \"column\": \"Original_DF\",\n      \"properties\": {\n        \"dtype\": \"category\",\n        \"num_unique_values\": 3,\n        \"samples\": [\n          \"traditional\",\n          \"threefold\",\n          \"trivium\"\n        ],\n        \"semantic_type\": \"\",\n        \"description\": \"\"\n      }\n    },\n    {\n      \"column\": \"Battle_ID\",\n      \"properties\": {\n        \"dtype\": \"number\",\n        \"std\": 423,\n        \"min\": 0,\n        \"max\": 1525,\n        \"num_unique_values\": 1492,\n        \"samples\": [\n          953,\n          904,\n          1367\n        ],\n        \"semantic_type\": \"\",\n        \"description\": \"\"\n      }\n    },\n    {\n      \"column\": \"Date\",\n      \"properties\": {\n        \"dtype\": \"date\",\n        \"min\": \"2017-05-11 00:00:00\",\n        \"max\": \"2023-11-25 00:00:00\",\n        \"num_unique_values\": 66,\n        \"samples\": [\n          \"2019-09-14 00:00:00\",\n          \"2017-10-14 00:00:00\",\n          \"2023-07-05 00:00:00\"\n        ],\n        \"semantic_type\": \"\",\n        \"description\": \"\"\n      }\n    },\n    {\n      \"column\": \"loser\",\n      \"properties\": {\n        \"dtype\": \"category\",\n        \"num_unique_values\": 1089,\n        \"samples\": [\n          \"Kanta\",\n          \"Bentwood\",\n          \"Xuanxuan\"\n        ],\n        \"semantic_type\": \"\",\n        \"description\": \"\"\n      }\n    },\n    {\n      \"column\": \"p1\",\n      \"properties\": {\n        \"dtype\": \"category\",\n        \"num_unique_values\": 790,\n        \"samples\": [\n          \"Bowzee\",\n          \"Cis\",\n          \"Raptor\"\n        ],\n        \"semantic_type\": \"\",\n        \"description\": \"\"\n      }\n    },\n    {\n      \"column\": \"p2\",\n      \"properties\": {\n        \"dtype\": \"category\",\n        \"num_unique_values\": 760,\n        \"samples\": [\n          \"Little Sofy\",\n          \"Liu Xuan\",\n          \"Leon\"\n        ],\n        \"semantic_type\": \"\",\n        \"description\": \"\"\n      }\n    },\n    {\n      \"column\": \"label\",\n      \"properties\": {\n        \"dtype\": \"number\",\n        \"std\": 0,\n        \"min\": 0,\n        \"max\": 1,\n        \"num_unique_values\": 2,\n        \"samples\": [\n          1,\n          0\n        ],\n        \"semantic_type\": \"\",\n        \"description\": \"\"\n      }\n    }\n  ]\n}"
            }
          },
          "metadata": {},
          "execution_count": 16
        }
      ]
    },
    {
      "cell_type": "code",
      "source": [
        "boys = battlesNotide[(battlesNotide['Category'].str.contains('Boy')) | (battlesNotide['Category'].str.contains('Men'))]\n",
        "girls= battlesNotide[(battlesNotide['Category'].str.contains('Girl')) | (battlesNotide['Category'].str.contains('Women'))]\n",
        "others = battlesNotide[~battlesNotide.index.isin(boys.index) & ~battlesNotide.index.isin(girls.index)]\n",
        "\n",
        "boys.shape[0], girls.shape[0],others.shape[0], battlesNotide.shape[0]== (boys.shape[0]+ girls.shape[0]+others.shape[0])"
      ],
      "metadata": {
        "id": "0ASN61v0ANyP",
        "outputId": "aa1c0c43-8a5d-495c-8c13-3ab3745934d1",
        "colab": {
          "base_uri": "https://localhost:8080/"
        }
      },
      "execution_count": 17,
      "outputs": [
        {
          "output_type": "execute_result",
          "data": {
            "text/plain": [
              "(1386, 851, 336, True)"
            ]
          },
          "metadata": {},
          "execution_count": 17
        }
      ]
    },
    {
      "cell_type": "code",
      "source": [
        "def fit_model(X):\n",
        "    # Extracting required columns\n",
        "    X_subset = X[['Date', 'p1', 'p2', 'label']]\n",
        "\n",
        "    # Create an instance of the EloEstimator model\n",
        "    model = EloEstimator(\n",
        "        key1_field=\"p1\",\n",
        "        key2_field=\"p2\",\n",
        "        timestamp_field=\"Date\",\n",
        "        initial_time=min(X['Date'])  # Adjust according to your requirement\n",
        "    )\n",
        "\n",
        "    # Fit the model\n",
        "    fitted_model = model.fit(X_subset, X_subset[\"label\"])\n",
        "\n",
        "    return fitted_model"
      ],
      "metadata": {
        "id": "0B1o0XcLFtBm"
      },
      "execution_count": 18,
      "outputs": []
    },
    {
      "cell_type": "code",
      "source": [
        "def plot_top_ratings(ax, ratings_frame, title):\n",
        "    ts_est = ratings_frame.pivot_table(index='valid_from', columns='key', values='rating').ffill()\n",
        "    idx = ts_est.iloc[-1].sort_values().index[-5:]\n",
        "    ts_est.loc[:, idx].plot(ax=ax)\n",
        "    ax.set_xlabel('Date')\n",
        "    ax.set_ylabel('Rating')\n",
        "    ax.set_title(f'Top 5 Ratings Over Time - {title}')\n",
        "    ax.legend(title='Player')\n",
        "    ax.grid(True)"
      ],
      "metadata": {
        "id": "Tplb8NZzD4ka"
      },
      "execution_count": 19,
      "outputs": []
    },
    {
      "cell_type": "code",
      "source": [
        "X_boy= boys[['Date', 'p1', 'p2', 'label']]\n",
        "X_girl= girls[['Date', 'p1', 'p2', 'label']]\n",
        "X_other= others[['Date', 'p1', 'p2', 'label']]"
      ],
      "metadata": {
        "id": "Z5P2W5DJE0_S"
      },
      "execution_count": 20,
      "outputs": []
    },
    {
      "cell_type": "code",
      "source": [
        "g_model=fit_model(X_girl)\n",
        "b_model=fit_model(X_boy)\n",
        "o_model=fit_model(X_other)"
      ],
      "metadata": {
        "id": "7qgNdH56Fysx"
      },
      "execution_count": 21,
      "outputs": []
    },
    {
      "cell_type": "code",
      "source": [
        "boy_elo_rank= b_model.rating_model.to_frame()\n",
        "girl_elo_rank=g_model.rating_model.to_frame()\n",
        "other_elo_rank=o_model.rating_model.to_frame()"
      ],
      "metadata": {
        "id": "Dpts2VWHLty6"
      },
      "execution_count": 23,
      "outputs": []
    },
    {
      "cell_type": "code",
      "source": [
        "boy_elo_current=boy_elo_rank[(boy_elo_rank['valid_to'].isnull())].sort_values(by='rating', ascending=False)\n",
        "boy_top10=boy_elo_current[(boy_elo_rank['valid_from']>= '2023-01-01')].nlargest(10, 'rating')\n",
        "girl_elo_current = girl_elo_rank[(girl_elo_rank['valid_to'].isnull())].sort_values(by='rating', ascending=False)\n",
        "girl_top10 = girl_elo_current[(girl_elo_rank['valid_from'] >= '2023-01-01')].nlargest(10, 'rating')\n",
        "other_elo_current = other_elo_rank[(other_elo_rank['valid_to'].isnull())].sort_values(by='rating', ascending=False)\n",
        "other_top10 = other_elo_current[(other_elo_current['valid_from']>= '2023-01-01')].nlargest(10, 'rating')\n",
        "\n",
        "\n",
        "\n"
      ],
      "metadata": {
        "id": "Gf3CQDOc4mAY",
        "outputId": "13fac785-c0ff-429e-966a-75e6563ce78e",
        "colab": {
          "base_uri": "https://localhost:8080/"
        }
      },
      "execution_count": 24,
      "outputs": [
        {
          "output_type": "stream",
          "name": "stderr",
          "text": [
            "<ipython-input-24-b9a71aed74dc>:2: UserWarning: Boolean Series key will be reindexed to match DataFrame index.\n",
            "  boy_top10=boy_elo_current[(boy_elo_rank['valid_from']>= '2023-01-01')].nlargest(10, 'rating')\n",
            "<ipython-input-24-b9a71aed74dc>:4: UserWarning: Boolean Series key will be reindexed to match DataFrame index.\n",
            "  girl_top10 = girl_elo_current[(girl_elo_rank['valid_from'] >= '2023-01-01')].nlargest(10, 'rating')\n"
          ]
        }
      ]
    },
    {
      "cell_type": "code",
      "source": [
        "# Create subplots\n",
        "fig, axes = plt.subplots(1, 3, figsize=(15, 5))\n",
        "\n",
        "# Plot each model's top ratings horizontally\n",
        "plot_top_ratings(axes[0], boy_elo_rank[boy_elo_rank['key'].isin(boy_top10['key'].to_list())], 'Boys Elo Ranking')\n",
        "plot_top_ratings(axes[1], girl_elo_rank[girl_elo_rank['key'].isin(girl_top10['key'].to_list())], 'Girls Elo Ranking')\n",
        "plot_top_ratings(axes[2], other_elo_rank[other_elo_rank['key'].isin(other_top10['key'].to_list())], 'Others Elo Ranking')\n",
        "\n",
        "# Show plots side by side\n",
        "plt.tight_layout()\n",
        "plt.show()"
      ],
      "metadata": {
        "id": "Y-AvgwPzD6uL",
        "outputId": "88324ddd-c006-48a6-9951-c67f72bb708d",
        "colab": {
          "base_uri": "https://localhost:8080/",
          "height": 424
        }
      },
      "execution_count": 25,
      "outputs": [
        {
          "output_type": "display_data",
          "data": {
            "text/plain": [
              "<Figure size 1500x500 with 3 Axes>"
            ],
            "image/png": "[encoded data removed]"
          },
          "metadata": {}
        }
      ]
    },
    {
      "cell_type": "code",
      "source": [
        "print(classification_report(X_girl[\"label\"], g_model.predict(X_girl)))"
      ],
      "metadata": {
        "id": "z-mVapbD2DY-",
        "outputId": "66f51d0c-325e-49e9-baf7-130c8ebd5b74",
        "colab": {
          "base_uri": "https://localhost:8080/"
        }
      },
      "execution_count": 27,
      "outputs": [
        {
          "output_type": "stream",
          "name": "stdout",
          "text": [
            "              precision    recall  f1-score   support\n",
            "\n",
            "           0       0.57      0.71      0.63       382\n",
            "           1       0.70      0.56      0.62       469\n",
            "\n",
            "    accuracy                           0.63       851\n",
            "   macro avg       0.63      0.63      0.63       851\n",
            "weighted avg       0.64      0.63      0.63       851\n",
            "\n"
          ]
        }
      ]
    },
    {
      "cell_type": "code",
      "source": [
        "print(classification_report(X_boy[\"label\"], b_model.predict(X_boy)))"
      ],
      "metadata": {
        "colab": {
          "base_uri": "https://localhost:8080/"
        },
        "id": "d8I1buKsgkxC",
        "outputId": "638e0ab3-870e-4048-cc57-c224da7ef669"
      },
      "execution_count": 28,
      "outputs": [
        {
          "output_type": "stream",
          "name": "stdout",
          "text": [
            "              precision    recall  f1-score   support\n",
            "\n",
            "           0       0.55      0.77      0.64       694\n",
            "           1       0.62      0.37      0.47       692\n",
            "\n",
            "    accuracy                           0.57      1386\n",
            "   macro avg       0.59      0.57      0.56      1386\n",
            "weighted avg       0.59      0.57      0.56      1386\n",
            "\n"
          ]
        }
      ]
    },
    {
      "cell_type": "code",
      "source": [
        "print(classification_report(X_other[\"label\"], o_model.predict(X_other)))"
      ],
      "metadata": {
        "id": "3mygS04ggq13",
        "outputId": "80607f9f-2e63-4214-aef9-1f04871f3608",
        "colab": {
          "base_uri": "https://localhost:8080/"
        }
      },
      "execution_count": 32,
      "outputs": [
        {
          "output_type": "stream",
          "name": "stdout",
          "text": [
            "              precision    recall  f1-score   support\n",
            "\n",
            "           0       0.52      0.85      0.65       176\n",
            "           1       0.47      0.15      0.23       160\n",
            "\n",
            "    accuracy                           0.51       336\n",
            "   macro avg       0.50      0.50      0.44       336\n",
            "weighted avg       0.50      0.51      0.45       336\n",
            "\n"
          ]
        }
      ]
    },
    {
      "cell_type": "code",
      "source": [
        "#Classification Curve\n",
        "prob_true, prob_pred = calibration_curve(\n",
        "  X[\"label\"],\n",
        "  model.predict_proba(X).values[:, 0],\n",
        "  n_bins=10\n",
        ")\n",
        "plt.plot(prob_pred, prob_true, label=f\"Elo Classifier, k={model.rating_model.default_k}\", marker='s', color='b')\n",
        "plt.plot([0, 1], [0, 1], label=\"Perfect Calibration\", ls=\":\", color='k')\n",
        "plt.xlabel(\"Predicted Probability\")\n",
        "plt.ylabel(\"Empirical Probability\")\n",
        "plt.legend()"
      ],
      "metadata": {
        "id": "TURNk_Mg3XO7",
        "outputId": "07658b69-280e-4660-cb41-45cf4ad17e08",
        "colab": {
          "base_uri": "https://localhost:8080/",
          "height": 466
        }
      },
      "execution_count": null,
      "outputs": [
        {
          "output_type": "execute_result",
          "data": {
            "text/plain": [
              "<matplotlib.legend.Legend at 0x7a9ba10041c0>"
            ]
          },
          "metadata": {},
          "execution_count": 46
        },
        {
          "output_type": "display_data",
          "data": {
            "text/plain": [
              "<Figure size 640x480 with 1 Axes>"
            ],
            "image/png": "[encoded data removed]"
          },
          "metadata": {}
        }
      ]
    },
    {
      "cell_type": "markdown",
      "source": [
        "Glicko Rating"
      ],
      "metadata": {
        "id": "3OkPiNAB9qpv"
      }
    },
    {
      "cell_type": "code",
      "source": [
        "modelG = Glicko2Estimator(\n",
        "  key1_field=\"p1\",\n",
        "  key2_field=\"p2\",\n",
        "  timestamp_field=\"Date\",\n",
        "  initial_time=min(appendedBattles['Date'])\n",
        ").fit(X, X['label'])"
      ],
      "metadata": {
        "id": "JGAyP0yWHTAA"
      },
      "execution_count": null,
      "outputs": []
    },
    {
      "cell_type": "code",
      "source": [
        "glicko_cur_ranking=modelG.rating_model.to_frame()\n",
        "glicko_cur_ranking=glicko_cur_ranking[glicko_cur_ranking['valid_to'].isnull()].sort_values(by='rating', ascending=False)\n",
        "glicko_cur_ranking"
      ],
      "metadata": {
        "id": "ym-_j6YAITbD",
        "outputId": "c9116754-4149-43c2-e5bf-0aca967524a1",
        "colab": {
          "base_uri": "https://localhost:8080/",
          "height": 683
        }
      },
      "execution_count": null,
      "outputs": [
        {
          "output_type": "execute_result",
          "data": {
            "text/plain": [
              "              key                                             rating  \\\n",
              "3544       Victor  (2360.44468034508, 124.70628683354136, 0.06000...   \n",
              "488      Shigekix  (2141.970061890445, 78.08602917009857, 0.05997...   \n",
              "1766  Phil Wizard  (2135.510404951435, 83.00994159873342, 0.05999...   \n",
              "1582          Ami  (2116.088041932175, 88.13561350707772, 0.05998...   \n",
              "3256    Bumblebee  (2084.5892765037183, 103.10147856411946, 0.059...   \n",
              "...           ...                                                ...   \n",
              "4461         Free  (1062.6594160177788, 191.3951461007818, 0.0599...   \n",
              "3562       Marvin  (1047.0461417257745, 186.0137629319709, 0.0599...   \n",
              "809          Minh  (1035.177400871821, 223.3606679119546, 0.06000...   \n",
              "3202        Miimo  (960.0983098369692, 216.66307172405274, 0.0600...   \n",
              "4381         Sude  (959.7748649424365, 164.7780574636588, 0.06000...   \n",
              "\n",
              "     valid_from valid_to  \n",
              "3544 2022-11-12      NaT  \n",
              "488  2023-02-24      NaT  \n",
              "1766 2023-06-23      NaT  \n",
              "1582 2023-02-24      NaT  \n",
              "3256 2019-09-14      NaT  \n",
              "...         ...      ...  \n",
              "4461 2017-12-17      NaT  \n",
              "3562 2017-12-17      NaT  \n",
              "809  2023-10-14      NaT  \n",
              "3202 2021-12-04      NaT  \n",
              "4381 2023-10-14      NaT  \n",
              "\n",
              "[1128 rows x 4 columns]"
            ],
            "text/html": [
              "\n",
              "  <div id=\"df-357472f4-77af-4d03-b27d-b5f7c415f929\" class=\"colab-df-container\">\n",
              "    <div>\n",
              "<style scoped>\n",
              "    .dataframe tbody tr th:only-of-type {\n",
              "        vertical-align: middle;\n",
              "    }\n",
              "\n",
              "    .dataframe tbody tr th {\n",
              "        vertical-align: top;\n",
              "    }\n",
              "\n",
              "    .dataframe thead th {\n",
              "        text-align: right;\n",
              "    }\n",
              "</style>\n",
              "<table border=\"1\" class=\"dataframe\">\n",
              "  <thead>\n",
              "    <tr style=\"text-align: right;\">\n",
              "      <th></th>\n",
              "      <th>key</th>\n",
              "      <th>rating</th>\n",
              "      <th>valid_from</th>\n",
              "      <th>valid_to</th>\n",
              "    </tr>\n",
              "  </thead>\n",
              "  <tbody>\n",
              "    <tr>\n",
              "      <th>3544</th>\n",
              "      <td>Victor</td>\n",
              "      <td>(2360.44468034508, 124.70628683354136, 0.06000...</td>\n",
              "      <td>2022-11-12</td>\n",
              "      <td>NaT</td>\n",
              "    </tr>\n",
              "    <tr>\n",
              "      <th>488</th>\n",
              "      <td>Shigekix</td>\n",
              "      <td>(2141.970061890445, 78.08602917009857, 0.05997...</td>\n",
              "      <td>2023-02-24</td>\n",
              "      <td>NaT</td>\n",
              "    </tr>\n",
              "    <tr>\n",
              "      <th>1766</th>\n",
              "      <td>Phil Wizard</td>\n",
              "      <td>(2135.510404951435, 83.00994159873342, 0.05999...</td>\n",
              "      <td>2023-06-23</td>\n",
              "      <td>NaT</td>\n",
              "    </tr>\n",
              "    <tr>\n",
              "      <th>1582</th>\n",
              "      <td>Ami</td>\n",
              "      <td>(2116.088041932175, 88.13561350707772, 0.05998...</td>\n",
              "      <td>2023-02-24</td>\n",
              "      <td>NaT</td>\n",
              "    </tr>\n",
              "    <tr>\n",
              "      <th>3256</th>\n",
              "      <td>Bumblebee</td>\n",
              "      <td>(2084.5892765037183, 103.10147856411946, 0.059...</td>\n",
              "      <td>2019-09-14</td>\n",
              "      <td>NaT</td>\n",
              "    </tr>\n",
              "    <tr>\n",
              "      <th>...</th>\n",
              "      <td>...</td>\n",
              "      <td>...</td>\n",
              "      <td>...</td>\n",
              "      <td>...</td>\n",
              "    </tr>\n",
              "    <tr>\n",
              "      <th>4461</th>\n",
              "      <td>Free</td>\n",
              "      <td>(1062.6594160177788, 191.3951461007818, 0.0599...</td>\n",
              "      <td>2017-12-17</td>\n",
              "      <td>NaT</td>\n",
              "    </tr>\n",
              "    <tr>\n",
              "      <th>3562</th>\n",
              "      <td>Marvin</td>\n",
              "      <td>(1047.0461417257745, 186.0137629319709, 0.0599...</td>\n",
              "      <td>2017-12-17</td>\n",
              "      <td>NaT</td>\n",
              "    </tr>\n",
              "    <tr>\n",
              "      <th>809</th>\n",
              "      <td>Minh</td>\n",
              "      <td>(1035.177400871821, 223.3606679119546, 0.06000...</td>\n",
              "      <td>2023-10-14</td>\n",
              "      <td>NaT</td>\n",
              "    </tr>\n",
              "    <tr>\n",
              "      <th>3202</th>\n",
              "      <td>Miimo</td>\n",
              "      <td>(960.0983098369692, 216.66307172405274, 0.0600...</td>\n",
              "      <td>2021-12-04</td>\n",
              "      <td>NaT</td>\n",
              "    </tr>\n",
              "    <tr>\n",
              "      <th>4381</th>\n",
              "      <td>Sude</td>\n",
              "      <td>(959.7748649424365, 164.7780574636588, 0.06000...</td>\n",
              "      <td>2023-10-14</td>\n",
              "      <td>NaT</td>\n",
              "    </tr>\n",
              "  </tbody>\n",
              "</table>\n",
              "<p>1128 rows × 4 columns</p>\n",
              "</div>\n",
              "    <div class=\"colab-df-buttons\">\n",
              "\n",
              "  <div class=\"colab-df-container\">\n",
              "    <button class=\"colab-df-convert\" onclick=\"convertToInteractive('df-357472f4-77af-4d03-b27d-b5f7c415f929')\"\n",
              "            title=\"Convert this dataframe to an interactive table.\"\n",
              "            style=\"display:none;\">\n",
              "\n",
              "  <svg xmlns=\"http://www.w3.org/2000/svg\" height=\"24px\" viewBox=\"0 -960 960 960\">\n",
              "    <path d=\"M120-120v-720h720v720H120Zm60-500h600v-160H180v160Zm220 220h160v-160H400v160Zm0 220h160v-160H400v160ZM180-400h160v-160H180v160Zm440 0h160v-160H620v160ZM180-180h160v-160H180v160Zm440 0h160v-160H620v160Z\"/>\n",
              "  </svg>\n",
              "    </button>\n",
              "\n",
              "  <style>\n",
              "    .colab-df-container {\n",
              "      display:flex;\n",
              "      gap: 12px;\n",
              "    }\n",
              "\n",
              "    .colab-df-convert {\n",
              "      background-color: #E8F0FE;\n",
              "      border: none;\n",
              "      border-radius: 50%;\n",
              "      cursor: pointer;\n",
              "      display: none;\n",
              "      fill: #1967D2;\n",
              "      height: 32px;\n",
              "      padding: 0 0 0 0;\n",
              "      width: 32px;\n",
              "    }\n",
              "\n",
              "    .colab-df-convert:hover {\n",
              "      background-color: #E2EBFA;\n",
              "      box-shadow: 0px 1px 2px rgba(60, 64, 67, 0.3), 0px 1px 3px 1px rgba(60, 64, 67, 0.15);\n",
              "      fill: #174EA6;\n",
              "    }\n",
              "\n",
              "    .colab-df-buttons div {\n",
              "      margin-bottom: 4px;\n",
              "    }\n",
              "\n",
              "    [theme=dark] .colab-df-convert {\n",
              "      background-color: #3B4455;\n",
              "      fill: #D2E3FC;\n",
              "    }\n",
              "\n",
              "    [theme=dark] .colab-df-convert:hover {\n",
              "      background-color: #434B5C;\n",
              "      box-shadow: 0px 1px 3px 1px rgba(0, 0, 0, 0.15);\n",
              "      filter: drop-shadow(0px 1px 2px rgba(0, 0, 0, 0.3));\n",
              "      fill: #FFFFFF;\n",
              "    }\n",
              "  </style>\n",
              "\n",
              "    <script>\n",
              "      const buttonEl =\n",
              "        document.querySelector('#df-357472f4-77af-4d03-b27d-b5f7c415f929 button.colab-df-convert');\n",
              "      buttonEl.style.display =\n",
              "        google.colab.kernel.accessAllowed ? 'block' : 'none';\n",
              "\n",
              "      async function convertToInteractive(key) {\n",
              "        const element = document.querySelector('#df-357472f4-77af-4d03-b27d-b5f7c415f929');\n",
              "        const dataTable =\n",
              "          await google.colab.kernel.invokeFunction('convertToInteractive',\n",
              "                                                    [key], {});\n",
              "        if (!dataTable) return;\n",
              "\n",
              "        const docLinkHtml = 'Like what you see? Visit the ' +\n",
              "          '<a target=\"_blank\" href=https://colab.research.google.com/notebooks/data_table.ipynb>data table notebook</a>'\n",
              "          + ' to learn more about interactive tables.';\n",
              "        element.innerHTML = '';\n",
              "        dataTable['output_type'] = 'display_data';\n",
              "        await google.colab.output.renderOutput(dataTable, element);\n",
              "        const docLink = document.createElement('div');\n",
              "        docLink.innerHTML = docLinkHtml;\n",
              "        element.appendChild(docLink);\n",
              "      }\n",
              "    </script>\n",
              "  </div>\n",
              "\n",
              "\n",
              "<div id=\"df-1f26dd45-26f9-4cc1-9aa3-75ac1761f0c4\">\n",
              "  <button class=\"colab-df-quickchart\" onclick=\"quickchart('df-1f26dd45-26f9-4cc1-9aa3-75ac1761f0c4')\"\n",
              "            title=\"Suggest charts\"\n",
              "            style=\"display:none;\">\n",
              "\n",
              "<svg xmlns=\"http://www.w3.org/2000/svg\" height=\"24px\"viewBox=\"0 0 24 24\"\n",
              "     width=\"24px\">\n",
              "    <g>\n",
              "        <path d=\"M19 3H5c-1.1 0-2 .9-2 2v14c0 1.1.9 2 2 2h14c1.1 0 2-.9 2-2V5c0-1.1-.9-2-2-2zM9 17H7v-7h2v7zm4 0h-2V7h2v10zm4 0h-2v-4h2v4z\"/>\n",
              "    </g>\n",
              "</svg>\n",
              "  </button>\n",
              "\n",
              "<style>\n",
              "  .colab-df-quickchart {\n",
              "      --bg-color: #E8F0FE;\n",
              "      --fill-color: #1967D2;\n",
              "      --hover-bg-color: #E2EBFA;\n",
              "      --hover-fill-color: #174EA6;\n",
              "      --disabled-fill-color: #AAA;\n",
              "      --disabled-bg-color: #DDD;\n",
              "  }\n",
              "\n",
              "  [theme=dark] .colab-df-quickchart {\n",
              "      --bg-color: #3B4455;\n",
              "      --fill-color: #D2E3FC;\n",
              "      --hover-bg-color: #434B5C;\n",
              "      --hover-fill-color: #FFFFFF;\n",
              "      --disabled-bg-color: #3B4455;\n",
              "      --disabled-fill-color: #666;\n",
              "  }\n",
              "\n",
              "  .colab-df-quickchart {\n",
              "    background-color: var(--bg-color);\n",
              "    border: none;\n",
              "    border-radius: 50%;\n",
              "    cursor: pointer;\n",
              "    display: none;\n",
              "    fill: var(--fill-color);\n",
              "    height: 32px;\n",
              "    padding: 0;\n",
              "    width: 32px;\n",
              "  }\n",
              "\n",
              "  .colab-df-quickchart:hover {\n",
              "    background-color: var(--hover-bg-color);\n",
              "    box-shadow: 0 1px 2px rgba(60, 64, 67, 0.3), 0 1px 3px 1px rgba(60, 64, 67, 0.15);\n",
              "    fill: var(--button-hover-fill-color);\n",
              "  }\n",
              "\n",
              "  .colab-df-quickchart-complete:disabled,\n",
              "  .colab-df-quickchart-complete:disabled:hover {\n",
              "    background-color: var(--disabled-bg-color);\n",
              "    fill: var(--disabled-fill-color);\n",
              "    box-shadow: none;\n",
              "  }\n",
              "\n",
              "  .colab-df-spinner {\n",
              "    border: 2px solid var(--fill-color);\n",
              "    border-color: transparent;\n",
              "    border-bottom-color: var(--fill-color);\n",
              "    animation:\n",
              "      spin 1s steps(1) infinite;\n",
              "  }\n",
              "\n",
              "  @keyframes spin {\n",
              "    0% {\n",
              "      border-color: transparent;\n",
              "      border-bottom-color: var(--fill-color);\n",
              "      border-left-color: var(--fill-color);\n",
              "    }\n",
              "    20% {\n",
              "      border-color: transparent;\n",
              "      border-left-color: var(--fill-color);\n",
              "      border-top-color: var(--fill-color);\n",
              "    }\n",
              "    30% {\n",
              "      border-color: transparent;\n",
              "      border-left-color: var(--fill-color);\n",
              "      border-top-color: var(--fill-color);\n",
              "      border-right-color: var(--fill-color);\n",
              "    }\n",
              "    40% {\n",
              "      border-color: transparent;\n",
              "      border-right-color: var(--fill-color);\n",
              "      border-top-color: var(--fill-color);\n",
              "    }\n",
              "    60% {\n",
              "      border-color: transparent;\n",
              "      border-right-color: var(--fill-color);\n",
              "    }\n",
              "    80% {\n",
              "      border-color: transparent;\n",
              "      border-right-color: var(--fill-color);\n",
              "      border-bottom-color: var(--fill-color);\n",
              "    }\n",
              "    90% {\n",
              "      border-color: transparent;\n",
              "      border-bottom-color: var(--fill-color);\n",
              "    }\n",
              "  }\n",
              "</style>\n",
              "\n",
              "  <script>\n",
              "    async function quickchart(key) {\n",
              "      const quickchartButtonEl =\n",
              "        document.querySelector('#' + key + ' button');\n",
              "      quickchartButtonEl.disabled = true;  // To prevent multiple clicks.\n",
              "      quickchartButtonEl.classList.add('colab-df-spinner');\n",
              "      try {\n",
              "        const charts = await google.colab.kernel.invokeFunction(\n",
              "            'suggestCharts', [key], {});\n",
              "      } catch (error) {\n",
              "        console.error('Error during call to suggestCharts:', error);\n",
              "      }\n",
              "      quickchartButtonEl.classList.remove('colab-df-spinner');\n",
              "      quickchartButtonEl.classList.add('colab-df-quickchart-complete');\n",
              "    }\n",
              "    (() => {\n",
              "      let quickchartButtonEl =\n",
              "        document.querySelector('#df-1f26dd45-26f9-4cc1-9aa3-75ac1761f0c4 button');\n",
              "      quickchartButtonEl.style.display =\n",
              "        google.colab.kernel.accessAllowed ? 'block' : 'none';\n",
              "    })();\n",
              "  </script>\n",
              "</div>\n",
              "    </div>\n",
              "  </div>\n"
            ],
            "application/vnd.google.colaboratory.intrinsic+json": {
              "type": "dataframe",
              "variable_name": "glicko_cur_ranking",
              "summary": "{\n  \"name\": \"glicko_cur_ranking\",\n  \"rows\": 1128,\n  \"fields\": [\n    {\n      \"column\": \"key\",\n      \"properties\": {\n        \"dtype\": \"string\",\n        \"num_unique_values\": 1128,\n        \"samples\": [\n          \"Benjamin\",\n          \"Eric\",\n          \"Stimul\"\n        ],\n        \"semantic_type\": \"\",\n        \"description\": \"\"\n      }\n    },\n    {\n      \"column\": \"rating\",\n      \"properties\": {\n        \"dtype\": \"string\",\n        \"num_unique_values\": 937,\n        \"samples\": [\n          [\n            1547.6733577833274,\n            183.23576576202274,\n            0.059999171037677615\n          ],\n          [\n            1810.9729423420335,\n            208.31547168489496,\n            0.06000085370667068\n          ],\n          [\n            1627.7593766641162,\n            217.40915153048084,\n            0.06000247867615828\n          ]\n        ],\n        \"semantic_type\": \"\",\n        \"description\": \"\"\n      }\n    },\n    {\n      \"column\": \"valid_from\",\n      \"properties\": {\n        \"dtype\": \"date\",\n        \"min\": \"2017-05-11 00:00:00\",\n        \"max\": \"2029-11-30 00:00:00\",\n        \"num_unique_values\": 66,\n        \"samples\": [\n          \"2019-03-23 00:00:00\",\n          \"2022-07-10 00:00:00\",\n          \"2022-11-12 00:00:00\"\n        ],\n        \"semantic_type\": \"\",\n        \"description\": \"\"\n      }\n    },\n    {\n      \"column\": \"valid_to\",\n      \"properties\": {\n        \"dtype\": \"date\",\n        \"min\": \"NaT\",\n        \"max\": \"NaT\",\n        \"num_unique_values\": 0,\n        \"samples\": [],\n        \"semantic_type\": \"\",\n        \"description\": \"\"\n      }\n    }\n  ]\n}"
            }
          },
          "metadata": {},
          "execution_count": 49
        }
      ]
    },
    {
      "cell_type": "code",
      "source": [
        "print(classification_report(X[\"label\"], modelG.predict(X)))"
      ],
      "metadata": {
        "id": "jp85Pq8LMnXr",
        "outputId": "06279eb8-7b73-4a7a-d79b-530832e23ffd",
        "colab": {
          "base_uri": "https://localhost:8080/"
        }
      },
      "execution_count": null,
      "outputs": [
        {
          "output_type": "stream",
          "name": "stdout",
          "text": [
            "              precision    recall  f1-score   support\n",
            "\n",
            "           0       0.56      0.75      0.64      1252\n",
            "           1       0.65      0.44      0.53      1321\n",
            "\n",
            "    accuracy                           0.59      2573\n",
            "   macro avg       0.60      0.59      0.58      2573\n",
            "weighted avg       0.60      0.59      0.58      2573\n",
            "\n"
          ]
        }
      ]
    },
    {
      "cell_type": "code",
      "source": [
        "if (model.predict(X) == modelG.predict(X)).all():\n",
        "    print(\"The columns are identical.\")\n",
        "else:\n",
        "    print(\"The columns are not identical.\")"
      ],
      "metadata": {
        "id": "NO2fxgqNPOB6",
        "outputId": "7919f71a-f52a-4e7c-8750-978ed2ad1ffa",
        "colab": {
          "base_uri": "https://localhost:8080/"
        }
      },
      "execution_count": null,
      "outputs": [
        {
          "output_type": "stream",
          "name": "stdout",
          "text": [
            "The columns are not identical.\n"
          ]
        }
      ]
    },
    {
      "cell_type": "code",
      "source": [],
      "metadata": {
        "id": "-ZOPUXdGRcgv"
      },
      "execution_count": null,
      "outputs": []
    },
    {
      "cell_type": "markdown",
      "source": [],
      "metadata": {
        "id": "JtiP0LLdRcJY"
      }
    },
    {
      "cell_type": "code",
      "source": [
        "predictions=pd.concat([model.predict(X), modelG.predict(X)], axis=1)\n",
        "predictions.columns = ['Elo Pred', 'Glicko Pred']\n"
      ],
      "metadata": {
        "id": "EYRNQKTjQQHu",
        "outputId": "4c7dcbad-0591-4f0b-f9da-4eba063f4800",
        "colab": {
          "base_uri": "https://localhost:8080/",
          "height": 447
        }
      },
      "execution_count": null,
      "outputs": [
        {
          "output_type": "execute_result",
          "data": {
            "text/plain": [
              "<Axes: >"
            ]
          },
          "metadata": {},
          "execution_count": 69
        },
        {
          "output_type": "display_data",
          "data": {
            "text/plain": [
              "<Figure size 640x480 with 1 Axes>"
            ],
            "image/png": "[encoded data removed]"
          },
          "metadata": {}
        }
      ]
    },
    {
      "cell_type": "code",
      "source": [
        "prob_true, prob_pred = calibration_curve(\n",
        "  X[\"label\"],\n",
        "  modelG.predict_proba(X).values[:, 0],\n",
        "  n_bins=10\n",
        ")\n",
        "plt.plot(prob_pred, prob_true, label=f\"Glicko2 Classifier\", marker='s', color='b')\n",
        "plt.plot([0, 1], [0, 1], label=\"Perfect Calibration\", ls=\":\", color='k')\n",
        "plt.xlabel(\"Predicted Probability\")\n",
        "plt.ylabel(\"Empirical Probability\")\n",
        "plt.legend()"
      ],
      "metadata": {
        "id": "7xshK-M_Mw0q",
        "outputId": "cc7614d3-5084-4486-a05f-b3a77f4e1551",
        "colab": {
          "base_uri": "https://localhost:8080/",
          "height": 466
        }
      },
      "execution_count": null,
      "outputs": [
        {
          "output_type": "execute_result",
          "data": {
            "text/plain": [
              "<matplotlib.legend.Legend at 0x7a9ba48e2080>"
            ]
          },
          "metadata": {},
          "execution_count": 52
        },
        {
          "output_type": "display_data",
          "data": {
            "text/plain": [
              "<Figure size 640x480 with 1 Axes>"
            ],
            "image/png": "[encoded data removed]"
          },
          "metadata": {}
        }
      ]
    }
  ]
}
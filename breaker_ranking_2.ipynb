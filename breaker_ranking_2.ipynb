{
  "nbformat": 4,
  "nbformat_minor": 0,
  "metadata": {
    "colab": {
      "provenance": [],
      "authorship_tag": "ABX9TyMifgWtKJN8fZF80HQwDMmm",
      "include_colab_link": true
    },
    "kernelspec": {
      "name": "python3",
      "display_name": "Python 3"
    },
    "language_info": {
      "name": "python"
    }
  },
  "cells": [
    {
      "cell_type": "markdown",
      "metadata": {
        "id": "view-in-github",
        "colab_type": "text"
      },
      "source": [
        "<a href=\"https://colab.research.google.com/github/sarahaptumich/capstone/blob/shaptonstall/breaker_ranking_2.ipynb\" target=\"_parent\"><img src=\"https://colab.research.google.com/assets/colab-badge.svg\" alt=\"Open In Colab\"/></a>"
      ]
    },
    {
      "cell_type": "code",
      "execution_count": 28,
      "metadata": {
        "colab": {
          "base_uri": "https://localhost:8080/"
        },
        "id": "3uo-3u3rJ8Ub",
        "outputId": "66f8c7f1-507e-444c-ac1a-f98cb122824f"
      },
      "outputs": [
        {
          "output_type": "stream",
          "name": "stdout",
          "text": [
            "Drive already mounted at /content/drive; to attempt to forcibly remount, call drive.mount(\"/content/drive\", force_remount=True).\n"
          ]
        }
      ],
      "source": [
        "#Mount google drive\n",
        "from google.colab import drive\n",
        "drive.mount(\"/content/drive\")"
      ]
    },
    {
      "cell_type": "code",
      "source": [
        "%cd /content/drive/MyDrive/Github/capstone"
      ],
      "metadata": {
        "colab": {
          "base_uri": "https://localhost:8080/"
        },
        "id": "xMQN6zSOKHAz",
        "outputId": "efc31959-de83-4152-fc8b-21ead39f7667"
      },
      "execution_count": 29,
      "outputs": [
        {
          "output_type": "stream",
          "name": "stdout",
          "text": [
            "/content/drive/MyDrive/Github/capstone\n"
          ]
        }
      ]
    },
    {
      "cell_type": "code",
      "source": [
        "%ls"
      ],
      "metadata": {
        "id": "syqNAVmJsMYG",
        "outputId": "7149cd95-e521-4872-e7b8-df2f157ea98c",
        "colab": {
          "base_uri": "https://localhost:8080/"
        }
      },
      "execution_count": 30,
      "outputs": [
        {
          "output_type": "stream",
          "name": "stdout",
          "text": [
            " Capstone.ipynb           pd2.png   \u001b[0m\u001b[01;34m__pycache__\u001b[0m/                         trivium_scaler.pkl\n",
            " data_exploration.ipynb   pd3       README.md                            trivium_scorecard.csv\n",
            " pd                       pd3.png  'trivium_full_column_names (1).csv'   Webscraping.xlsx\n",
            " pd2                      pd.png    trivium_pca.pkl\n"
          ]
        }
      ]
    },
    {
      "cell_type": "code",
      "source": [
        "!pip install skelo"
      ],
      "metadata": {
        "id": "8IzGH-oBpj__",
        "outputId": "9aaeb675-144b-4154-e01d-43a442607847",
        "colab": {
          "base_uri": "https://localhost:8080/"
        }
      },
      "execution_count": 31,
      "outputs": [
        {
          "output_type": "stream",
          "name": "stdout",
          "text": [
            "Requirement already satisfied: skelo in /usr/local/lib/python3.10/dist-packages (0.1.5)\n",
            "Requirement already satisfied: numpy in /usr/local/lib/python3.10/dist-packages (from skelo) (1.25.2)\n",
            "Requirement already satisfied: scikit-learn in /usr/local/lib/python3.10/dist-packages (from skelo) (1.2.2)\n",
            "Requirement already satisfied: pandas in /usr/local/lib/python3.10/dist-packages (from skelo) (1.5.3)\n",
            "Requirement already satisfied: glicko2>=2 in /usr/local/lib/python3.10/dist-packages (from skelo) (2.1.0)\n",
            "Requirement already satisfied: python-dateutil>=2.8.1 in /usr/local/lib/python3.10/dist-packages (from pandas->skelo) (2.8.2)\n",
            "Requirement already satisfied: pytz>=2020.1 in /usr/local/lib/python3.10/dist-packages (from pandas->skelo) (2023.4)\n",
            "Requirement already satisfied: scipy>=1.3.2 in /usr/local/lib/python3.10/dist-packages (from scikit-learn->skelo) (1.11.4)\n",
            "Requirement already satisfied: joblib>=1.1.1 in /usr/local/lib/python3.10/dist-packages (from scikit-learn->skelo) (1.3.2)\n",
            "Requirement already satisfied: threadpoolctl>=2.0.0 in /usr/local/lib/python3.10/dist-packages (from scikit-learn->skelo) (3.3.0)\n",
            "Requirement already satisfied: six>=1.5 in /usr/local/lib/python3.10/dist-packages (from python-dateutil>=2.8.1->pandas->skelo) (1.16.0)\n"
          ]
        }
      ]
    },
    {
      "cell_type": "code",
      "source": [
        "import sys\n",
        "sys.path.append('/content/drive/MyDrive/Github/capstone')"
      ],
      "metadata": {
        "id": "9xvrzvresDXt"
      },
      "execution_count": 32,
      "outputs": []
    },
    {
      "cell_type": "code",
      "source": [
        "import pandas as pd\n",
        "import numpy as np\n",
        "import re\n",
        "from datetime import datetime, timedelta\n",
        "from sklearn.decomposition import PCA, KernelPCA\n",
        "from sklearn.impute import SimpleImputer\n",
        "from sklearn.preprocessing import StandardScaler\n",
        "import matplotlib.pyplot as plt\n",
        "from sklearn.decomposition import FactorAnalysis\n",
        "import joblib\n",
        "from sklearn.preprocessing import LabelEncoder\n",
        "from skelo.model.elo import EloEstimator\n",
        "from sklearn.metrics import classification_report\n",
        "from sklearn.calibration import calibration_curve\n",
        "from sklearn.model_selection import GridSearchCV\n",
        "from sklearn.model_selection import train_test_split\n",
        "from sklearn.calibration import CalibratedClassifierCV\n",
        "from sklearn.linear_model import LogisticRegression\n",
        "from sklearn.metrics import accuracy_score\n",
        "from skelo.model.glicko2 import Glicko2Estimator\n",
        "# import glicko2"
      ],
      "metadata": {
        "id": "7UxtxjvnKL82"
      },
      "execution_count": 33,
      "outputs": []
    },
    {
      "cell_type": "code",
      "source": [
        "#load models if needed\n",
        "scaler = joblib.load('trivium_scaler.pkl')\n",
        "pca= joblib.load('trivium_pca.pkl')"
      ],
      "metadata": {
        "id": "SewsdhACMycx"
      },
      "execution_count": 34,
      "outputs": []
    },
    {
      "cell_type": "code",
      "source": [
        "#load files\n",
        "trivium= pd.read_csv('trivium_scorecard.csv')\n",
        "webscraping = pd.read_excel('Webscraping.xlsx', sheet_name=None)\n",
        "webscraping.keys()"
      ],
      "metadata": {
        "colab": {
          "base_uri": "https://localhost:8080/"
        },
        "id": "ZbioKYNtM710",
        "outputId": "832bb5c5-628b-4a0d-cfec-38214863d56d"
      },
      "execution_count": 35,
      "outputs": [
        {
          "output_type": "stream",
          "name": "stderr",
          "text": [
            "/usr/local/lib/python3.10/dist-packages/openpyxl/worksheet/_reader.py:329: UserWarning: Unknown extension is not supported and will be removed\n",
            "  warn(msg)\n",
            "/usr/local/lib/python3.10/dist-packages/openpyxl/worksheet/_reader.py:329: UserWarning: Unknown extension is not supported and will be removed\n",
            "  warn(msg)\n"
          ]
        },
        {
          "output_type": "execute_result",
          "data": {
            "text/plain": [
              "dict_keys(['Events and8', 'Events', 'Events WDSF', 'Battles Trivium', 'Battles and8 Threefold', 'Battles and8 Single Slider', 'Battles and8 Round by Round', 'Battles and8 Traditional', 'Research Questions', 'Notes', 'Notes Columns'])"
            ]
          },
          "metadata": {},
          "execution_count": 35
        }
      ]
    },
    {
      "cell_type": "code",
      "source": [
        "#Load battle winners\n",
        "#threefold\n",
        "threefold = webscraping['Battles and8 Threefold']\n",
        "threefold.rename(columns={'Unnamed: 0':'Event', 'Unnamed: 1': 'Category', 'breaker 1': 'breaker 1 (red)', 'breaker 2': 'breaker 2 (blue)'}, inplace=True)\n",
        "threefold[['Event', 'Category']] = threefold[['Event', 'Category']].fillna(method='ffill')\n",
        "#Trivium\n",
        "trivium=webscraping['Battles Trivium']\n",
        "trivium.rename(columns={'Unnamed: 0':'Event', 'Unnamed: 1': 'Category'}, inplace=True)\n",
        "trivium[['Event', 'Category']]= trivium[['Event', 'Category']].fillna(method='ffill')\n",
        "#traditional\n",
        "traditional = webscraping['Battles and8 Traditional']\n",
        "traditional.rename(columns={'Unnamed: 0':'Event', 'Unnamed: 1': 'Category'}, inplace=True)\n",
        "traditional[['Event', 'Category']] = traditional[['Event', 'Category']].fillna(method='ffill')"
      ],
      "metadata": {
        "id": "C-r7e3mY6CGm"
      },
      "execution_count": 36,
      "outputs": []
    },
    {
      "cell_type": "code",
      "source": [
        "tr=traditional[['Event', 'Category', 'breaker 1 (red)', 'breaker 2 (blue)', 'winner']].copy()\n",
        "th=threefold[['Event', 'Category', 'breaker 1 (red)', 'breaker 2 (blue)', 'winner']].copy()\n",
        "tv=trivium[['Event', 'Category', 'breaker 1 (red)', 'breaker 2 (blue)', 'winner']].copy()\n",
        "\n",
        "dataframes = [('traditional', tr), ('threefold', th), ('trivium', tv)]\n",
        "\n",
        "# Create an empty list to store modified dataframes\n",
        "appended_dfs = []\n",
        "\n",
        "# Iterate to create a combined dataframe\n",
        "for name, dframe in dataframes:\n",
        "    dframe['Original_DF'] = name\n",
        "    dframe['Battle_ID'] = dframe.index\n",
        "    appended_dfs.append(dframe)\n",
        "appendedBattles = pd.concat(appended_dfs, ignore_index=True)\n"
      ],
      "metadata": {
        "id": "rYYKLygJ9qwr"
      },
      "execution_count": 37,
      "outputs": []
    },
    {
      "cell_type": "code",
      "source": [
        "eventsAnd8=webscraping['Events and8'][1:].copy()\n",
        "new_header= eventsAnd8.iloc[0]\n",
        "eventsAnd8=eventsAnd8.drop(1)\n",
        "eventsAnd8.columns = new_header\n",
        "eventsAnd8.rename(columns={'Name':'Event'}, inplace=True)\n",
        "eventsAnd8.drop_duplicates(subset=['Event'], inplace=True)\n",
        "\n",
        "eventsWDSF = webscraping['Events WDSF'][1:].copy()\n",
        "new_header = eventsWDSF.iloc[0]\n",
        "eventsWDSF = eventsWDSF.drop(1)\n",
        "eventsWDSF.columns = new_header\n",
        "eventsWDSF.rename(columns={'Name': 'Event'}, inplace=True)\n",
        "eventsWDSF.drop_duplicates(subset=['Event'], inplace=True)\n",
        "\n",
        "Events = webscraping['Events'][1:].copy()\n",
        "new_header = Events.iloc[0]\n",
        "Events = Events.drop(1)\n",
        "Events.columns = new_header\n",
        "Events.rename(columns={'Name':'Event'}, inplace=True)\n",
        "Events.drop_duplicates(subset=['Event'], inplace=True)\n",
        "\n",
        "combined_events = pd.concat([eventsAnd8, eventsWDSF, Events], ignore_index=True)"
      ],
      "metadata": {
        "id": "FOea4fdkAxpz"
      },
      "execution_count": 38,
      "outputs": []
    },
    {
      "cell_type": "code",
      "source": [
        "#add battle date\n",
        "appendedBattles=pd.merge(appendedBattles, combined_events[['Date', 'Event']], on='Event', how='left')\n",
        "appendedBattles['loser'] = np.where(appendedBattles['winner'] == appendedBattles['breaker 1 (red)'], appendedBattles['breaker 2 (blue)'], appendedBattles['breaker 1 (red)'])\n",
        "appendedBattles[['winner', 'loser']]=appendedBattles[['winner', 'loser']].astype(str)\n",
        "battlesNotide=appendedBattles[appendedBattles['winner']!='Tie'].copy()"
      ],
      "metadata": {
        "id": "FAb7-dQct5Gg"
      },
      "execution_count": 39,
      "outputs": []
    },
    {
      "cell_type": "code",
      "source": [
        "#Instead of distinguishing between winners and losers, it labels one player as \"player1\" and the other as \"player2\"\n",
        "#and assigns a binary label (1 for player1 winning and 0 for player2 winning).\n",
        "def load_data(df):\n",
        "    df[\"Date\"] = pd.to_datetime(df['Date'])\n",
        "    # labels in the dataset, so we relabel the order of (winner, loser) to just be (player1, player2)\n",
        "    order_mask = (df[\"winner\"] < df[\"loser\"])\n",
        "    df[\"p1\"] = \"\"\n",
        "    df[\"p2\"] = \"\"\n",
        "    df[\"label\"] = 1\n",
        "    df.loc[order_mask, \"p1\"] = df.loc[order_mask, \"winner\"]\n",
        "    df.loc[~order_mask, \"p1\"] = df.loc[~order_mask, \"loser\"]\n",
        "    df.loc[order_mask, \"p2\"] = df.loc[order_mask, \"loser\"]\n",
        "    df.loc[~order_mask, \"p2\"] = df.loc[~order_mask, \"winner\"]\n",
        "    df.loc[~order_mask, \"label\"] = 0\n",
        "\n",
        "    return df"
      ],
      "metadata": {
        "id": "5snjU7hR5PFO"
      },
      "execution_count": 40,
      "outputs": []
    },
    {
      "cell_type": "code",
      "source": [
        "battlesNotide= load_data(battlesNotide)\n",
        "battlesNotide.head(5)"
      ],
      "metadata": {
        "id": "O615bLNk0P-L",
        "outputId": "0599e4c9-fea2-41e0-bc65-8a846ced3e8a",
        "colab": {
          "base_uri": "https://localhost:8080/",
          "height": 206
        }
      },
      "execution_count": 41,
      "outputs": [
        {
          "output_type": "execute_result",
          "data": {
            "text/plain": [
              "                        Event                               Category  \\\n",
              "0  Championnat de France 2023  B-Boys +16 Top 16 Round Robin Group D   \n",
              "1  Championnat de France 2023  B-Boys +16 Top 16 Round Robin Group D   \n",
              "2  Championnat de France 2023  B-Boys +16 Top 16 Round Robin Group D   \n",
              "3  Championnat de France 2023  B-Boys +16 Top 16 Round Robin Group D   \n",
              "4  Championnat de France 2023  B-Boys +16 Top 16 Round Robin Group D   \n",
              "\n",
              "  breaker 1 (red) breaker 2 (blue)    winner  Original_DF  Battle_ID  \\\n",
              "0        Kidmario              Noé       Noé  traditional          0   \n",
              "1        Wilfried          Killian   Killian  traditional          1   \n",
              "2        Wilfried              Noé       Noé  traditional          2   \n",
              "3        Kidmario          Killian   Killian  traditional          3   \n",
              "4        Wilfried         Kidmario  Wilfried  traditional          4   \n",
              "\n",
              "        Date     loser        p1        p2  label  \n",
              "0 2023-07-05  Kidmario  Kidmario       Noé      0  \n",
              "1 2023-07-05  Wilfried   Killian  Wilfried      1  \n",
              "2 2023-07-05  Wilfried       Noé  Wilfried      1  \n",
              "3 2023-07-05  Kidmario  Kidmario   Killian      0  \n",
              "4 2023-07-05  Kidmario  Kidmario  Wilfried      0  "
            ],
            "text/html": [
              "\n",
              "  <div id=\"df-79905854-5076-4854-a3e0-4fff0b56c389\" class=\"colab-df-container\">\n",
              "    <div>\n",
              "<style scoped>\n",
              "    .dataframe tbody tr th:only-of-type {\n",
              "        vertical-align: middle;\n",
              "    }\n",
              "\n",
              "    .dataframe tbody tr th {\n",
              "        vertical-align: top;\n",
              "    }\n",
              "\n",
              "    .dataframe thead th {\n",
              "        text-align: right;\n",
              "    }\n",
              "</style>\n",
              "<table border=\"1\" class=\"dataframe\">\n",
              "  <thead>\n",
              "    <tr style=\"text-align: right;\">\n",
              "      <th></th>\n",
              "      <th>Event</th>\n",
              "      <th>Category</th>\n",
              "      <th>breaker 1 (red)</th>\n",
              "      <th>breaker 2 (blue)</th>\n",
              "      <th>winner</th>\n",
              "      <th>Original_DF</th>\n",
              "      <th>Battle_ID</th>\n",
              "      <th>Date</th>\n",
              "      <th>loser</th>\n",
              "      <th>p1</th>\n",
              "      <th>p2</th>\n",
              "      <th>label</th>\n",
              "    </tr>\n",
              "  </thead>\n",
              "  <tbody>\n",
              "    <tr>\n",
              "      <th>0</th>\n",
              "      <td>Championnat de France 2023</td>\n",
              "      <td>B-Boys +16 Top 16 Round Robin Group D</td>\n",
              "      <td>Kidmario</td>\n",
              "      <td>Noé</td>\n",
              "      <td>Noé</td>\n",
              "      <td>traditional</td>\n",
              "      <td>0</td>\n",
              "      <td>2023-07-05</td>\n",
              "      <td>Kidmario</td>\n",
              "      <td>Kidmario</td>\n",
              "      <td>Noé</td>\n",
              "      <td>0</td>\n",
              "    </tr>\n",
              "    <tr>\n",
              "      <th>1</th>\n",
              "      <td>Championnat de France 2023</td>\n",
              "      <td>B-Boys +16 Top 16 Round Robin Group D</td>\n",
              "      <td>Wilfried</td>\n",
              "      <td>Killian</td>\n",
              "      <td>Killian</td>\n",
              "      <td>traditional</td>\n",
              "      <td>1</td>\n",
              "      <td>2023-07-05</td>\n",
              "      <td>Wilfried</td>\n",
              "      <td>Killian</td>\n",
              "      <td>Wilfried</td>\n",
              "      <td>1</td>\n",
              "    </tr>\n",
              "    <tr>\n",
              "      <th>2</th>\n",
              "      <td>Championnat de France 2023</td>\n",
              "      <td>B-Boys +16 Top 16 Round Robin Group D</td>\n",
              "      <td>Wilfried</td>\n",
              "      <td>Noé</td>\n",
              "      <td>Noé</td>\n",
              "      <td>traditional</td>\n",
              "      <td>2</td>\n",
              "      <td>2023-07-05</td>\n",
              "      <td>Wilfried</td>\n",
              "      <td>Noé</td>\n",
              "      <td>Wilfried</td>\n",
              "      <td>1</td>\n",
              "    </tr>\n",
              "    <tr>\n",
              "      <th>3</th>\n",
              "      <td>Championnat de France 2023</td>\n",
              "      <td>B-Boys +16 Top 16 Round Robin Group D</td>\n",
              "      <td>Kidmario</td>\n",
              "      <td>Killian</td>\n",
              "      <td>Killian</td>\n",
              "      <td>traditional</td>\n",
              "      <td>3</td>\n",
              "      <td>2023-07-05</td>\n",
              "      <td>Kidmario</td>\n",
              "      <td>Kidmario</td>\n",
              "      <td>Killian</td>\n",
              "      <td>0</td>\n",
              "    </tr>\n",
              "    <tr>\n",
              "      <th>4</th>\n",
              "      <td>Championnat de France 2023</td>\n",
              "      <td>B-Boys +16 Top 16 Round Robin Group D</td>\n",
              "      <td>Wilfried</td>\n",
              "      <td>Kidmario</td>\n",
              "      <td>Wilfried</td>\n",
              "      <td>traditional</td>\n",
              "      <td>4</td>\n",
              "      <td>2023-07-05</td>\n",
              "      <td>Kidmario</td>\n",
              "      <td>Kidmario</td>\n",
              "      <td>Wilfried</td>\n",
              "      <td>0</td>\n",
              "    </tr>\n",
              "  </tbody>\n",
              "</table>\n",
              "</div>\n",
              "    <div class=\"colab-df-buttons\">\n",
              "\n",
              "  <div class=\"colab-df-container\">\n",
              "    <button class=\"colab-df-convert\" onclick=\"convertToInteractive('df-79905854-5076-4854-a3e0-4fff0b56c389')\"\n",
              "            title=\"Convert this dataframe to an interactive table.\"\n",
              "            style=\"display:none;\">\n",
              "\n",
              "  <svg xmlns=\"http://www.w3.org/2000/svg\" height=\"24px\" viewBox=\"0 -960 960 960\">\n",
              "    <path d=\"M120-120v-720h720v720H120Zm60-500h600v-160H180v160Zm220 220h160v-160H400v160Zm0 220h160v-160H400v160ZM180-400h160v-160H180v160Zm440 0h160v-160H620v160ZM180-180h160v-160H180v160Zm440 0h160v-160H620v160Z\"/>\n",
              "  </svg>\n",
              "    </button>\n",
              "\n",
              "  <style>\n",
              "    .colab-df-container {\n",
              "      display:flex;\n",
              "      gap: 12px;\n",
              "    }\n",
              "\n",
              "    .colab-df-convert {\n",
              "      background-color: #E8F0FE;\n",
              "      border: none;\n",
              "      border-radius: 50%;\n",
              "      cursor: pointer;\n",
              "      display: none;\n",
              "      fill: #1967D2;\n",
              "      height: 32px;\n",
              "      padding: 0 0 0 0;\n",
              "      width: 32px;\n",
              "    }\n",
              "\n",
              "    .colab-df-convert:hover {\n",
              "      background-color: #E2EBFA;\n",
              "      box-shadow: 0px 1px 2px rgba(60, 64, 67, 0.3), 0px 1px 3px 1px rgba(60, 64, 67, 0.15);\n",
              "      fill: #174EA6;\n",
              "    }\n",
              "\n",
              "    .colab-df-buttons div {\n",
              "      margin-bottom: 4px;\n",
              "    }\n",
              "\n",
              "    [theme=dark] .colab-df-convert {\n",
              "      background-color: #3B4455;\n",
              "      fill: #D2E3FC;\n",
              "    }\n",
              "\n",
              "    [theme=dark] .colab-df-convert:hover {\n",
              "      background-color: #434B5C;\n",
              "      box-shadow: 0px 1px 3px 1px rgba(0, 0, 0, 0.15);\n",
              "      filter: drop-shadow(0px 1px 2px rgba(0, 0, 0, 0.3));\n",
              "      fill: #FFFFFF;\n",
              "    }\n",
              "  </style>\n",
              "\n",
              "    <script>\n",
              "      const buttonEl =\n",
              "        document.querySelector('#df-79905854-5076-4854-a3e0-4fff0b56c389 button.colab-df-convert');\n",
              "      buttonEl.style.display =\n",
              "        google.colab.kernel.accessAllowed ? 'block' : 'none';\n",
              "\n",
              "      async function convertToInteractive(key) {\n",
              "        const element = document.querySelector('#df-79905854-5076-4854-a3e0-4fff0b56c389');\n",
              "        const dataTable =\n",
              "          await google.colab.kernel.invokeFunction('convertToInteractive',\n",
              "                                                    [key], {});\n",
              "        if (!dataTable) return;\n",
              "\n",
              "        const docLinkHtml = 'Like what you see? Visit the ' +\n",
              "          '<a target=\"_blank\" href=https://colab.research.google.com/notebooks/data_table.ipynb>data table notebook</a>'\n",
              "          + ' to learn more about interactive tables.';\n",
              "        element.innerHTML = '';\n",
              "        dataTable['output_type'] = 'display_data';\n",
              "        await google.colab.output.renderOutput(dataTable, element);\n",
              "        const docLink = document.createElement('div');\n",
              "        docLink.innerHTML = docLinkHtml;\n",
              "        element.appendChild(docLink);\n",
              "      }\n",
              "    </script>\n",
              "  </div>\n",
              "\n",
              "\n",
              "<div id=\"df-960c95e8-2710-4c2a-adf4-9aa3c0dd31e3\">\n",
              "  <button class=\"colab-df-quickchart\" onclick=\"quickchart('df-960c95e8-2710-4c2a-adf4-9aa3c0dd31e3')\"\n",
              "            title=\"Suggest charts\"\n",
              "            style=\"display:none;\">\n",
              "\n",
              "<svg xmlns=\"http://www.w3.org/2000/svg\" height=\"24px\"viewBox=\"0 0 24 24\"\n",
              "     width=\"24px\">\n",
              "    <g>\n",
              "        <path d=\"M19 3H5c-1.1 0-2 .9-2 2v14c0 1.1.9 2 2 2h14c1.1 0 2-.9 2-2V5c0-1.1-.9-2-2-2zM9 17H7v-7h2v7zm4 0h-2V7h2v10zm4 0h-2v-4h2v4z\"/>\n",
              "    </g>\n",
              "</svg>\n",
              "  </button>\n",
              "\n",
              "<style>\n",
              "  .colab-df-quickchart {\n",
              "      --bg-color: #E8F0FE;\n",
              "      --fill-color: #1967D2;\n",
              "      --hover-bg-color: #E2EBFA;\n",
              "      --hover-fill-color: #174EA6;\n",
              "      --disabled-fill-color: #AAA;\n",
              "      --disabled-bg-color: #DDD;\n",
              "  }\n",
              "\n",
              "  [theme=dark] .colab-df-quickchart {\n",
              "      --bg-color: #3B4455;\n",
              "      --fill-color: #D2E3FC;\n",
              "      --hover-bg-color: #434B5C;\n",
              "      --hover-fill-color: #FFFFFF;\n",
              "      --disabled-bg-color: #3B4455;\n",
              "      --disabled-fill-color: #666;\n",
              "  }\n",
              "\n",
              "  .colab-df-quickchart {\n",
              "    background-color: var(--bg-color);\n",
              "    border: none;\n",
              "    border-radius: 50%;\n",
              "    cursor: pointer;\n",
              "    display: none;\n",
              "    fill: var(--fill-color);\n",
              "    height: 32px;\n",
              "    padding: 0;\n",
              "    width: 32px;\n",
              "  }\n",
              "\n",
              "  .colab-df-quickchart:hover {\n",
              "    background-color: var(--hover-bg-color);\n",
              "    box-shadow: 0 1px 2px rgba(60, 64, 67, 0.3), 0 1px 3px 1px rgba(60, 64, 67, 0.15);\n",
              "    fill: var(--button-hover-fill-color);\n",
              "  }\n",
              "\n",
              "  .colab-df-quickchart-complete:disabled,\n",
              "  .colab-df-quickchart-complete:disabled:hover {\n",
              "    background-color: var(--disabled-bg-color);\n",
              "    fill: var(--disabled-fill-color);\n",
              "    box-shadow: none;\n",
              "  }\n",
              "\n",
              "  .colab-df-spinner {\n",
              "    border: 2px solid var(--fill-color);\n",
              "    border-color: transparent;\n",
              "    border-bottom-color: var(--fill-color);\n",
              "    animation:\n",
              "      spin 1s steps(1) infinite;\n",
              "  }\n",
              "\n",
              "  @keyframes spin {\n",
              "    0% {\n",
              "      border-color: transparent;\n",
              "      border-bottom-color: var(--fill-color);\n",
              "      border-left-color: var(--fill-color);\n",
              "    }\n",
              "    20% {\n",
              "      border-color: transparent;\n",
              "      border-left-color: var(--fill-color);\n",
              "      border-top-color: var(--fill-color);\n",
              "    }\n",
              "    30% {\n",
              "      border-color: transparent;\n",
              "      border-left-color: var(--fill-color);\n",
              "      border-top-color: var(--fill-color);\n",
              "      border-right-color: var(--fill-color);\n",
              "    }\n",
              "    40% {\n",
              "      border-color: transparent;\n",
              "      border-right-color: var(--fill-color);\n",
              "      border-top-color: var(--fill-color);\n",
              "    }\n",
              "    60% {\n",
              "      border-color: transparent;\n",
              "      border-right-color: var(--fill-color);\n",
              "    }\n",
              "    80% {\n",
              "      border-color: transparent;\n",
              "      border-right-color: var(--fill-color);\n",
              "      border-bottom-color: var(--fill-color);\n",
              "    }\n",
              "    90% {\n",
              "      border-color: transparent;\n",
              "      border-bottom-color: var(--fill-color);\n",
              "    }\n",
              "  }\n",
              "</style>\n",
              "\n",
              "  <script>\n",
              "    async function quickchart(key) {\n",
              "      const quickchartButtonEl =\n",
              "        document.querySelector('#' + key + ' button');\n",
              "      quickchartButtonEl.disabled = true;  // To prevent multiple clicks.\n",
              "      quickchartButtonEl.classList.add('colab-df-spinner');\n",
              "      try {\n",
              "        const charts = await google.colab.kernel.invokeFunction(\n",
              "            'suggestCharts', [key], {});\n",
              "      } catch (error) {\n",
              "        console.error('Error during call to suggestCharts:', error);\n",
              "      }\n",
              "      quickchartButtonEl.classList.remove('colab-df-spinner');\n",
              "      quickchartButtonEl.classList.add('colab-df-quickchart-complete');\n",
              "    }\n",
              "    (() => {\n",
              "      let quickchartButtonEl =\n",
              "        document.querySelector('#df-960c95e8-2710-4c2a-adf4-9aa3c0dd31e3 button');\n",
              "      quickchartButtonEl.style.display =\n",
              "        google.colab.kernel.accessAllowed ? 'block' : 'none';\n",
              "    })();\n",
              "  </script>\n",
              "</div>\n",
              "    </div>\n",
              "  </div>\n"
            ],
            "application/vnd.google.colaboratory.intrinsic+json": {
              "type": "dataframe",
              "variable_name": "battlesNotide",
              "summary": "{\n  \"name\": \"battlesNotide\",\n  \"rows\": 2573,\n  \"fields\": [\n    {\n      \"column\": \"Event\",\n      \"properties\": {\n        \"dtype\": \"category\",\n        \"num_unique_values\": 69,\n        \"samples\": [\n          \"Red Bull BC One Cypher Germany 2019\",\n          \"Championnat de France 2023\",\n          \"Norwegian Championships - Breaking & Hip Hop 2023\"\n        ],\n        \"semantic_type\": \"\",\n        \"description\": \"\"\n      }\n    },\n    {\n      \"column\": \"Category\",\n      \"properties\": {\n        \"dtype\": \"category\",\n        \"num_unique_values\": 120,\n        \"samples\": [\n          \"1vs1 B-Girls Top 16 RoundRobin Group C\",\n          \"1vs1 B-Boys Top 8 Knockout\",\n          \"B-Girls +16 Top 16 Round Robin Group D\"\n        ],\n        \"semantic_type\": \"\",\n        \"description\": \"\"\n      }\n    },\n    {\n      \"column\": \"breaker 1 (red)\",\n      \"properties\": {\n        \"dtype\": \"category\",\n        \"num_unique_values\": 839,\n        \"samples\": [\n          \"NoIndex\",\n          \"Super Mario\",\n          \"Sayora\"\n        ],\n        \"semantic_type\": \"\",\n        \"description\": \"\"\n      }\n    },\n    {\n      \"column\": \"breaker 2 (blue)\",\n      \"properties\": {\n        \"dtype\": \"category\",\n        \"num_unique_values\": 836,\n        \"samples\": [\n          \"Mowgly\",\n          \"Bboy Eric\",\n          \"Eggy\"\n        ],\n        \"semantic_type\": \"\",\n        \"description\": \"\"\n      }\n    },\n    {\n      \"column\": \"winner\",\n      \"properties\": {\n        \"dtype\": \"category\",\n        \"num_unique_values\": 640,\n        \"samples\": [\n          \"Maess'One\",\n          \"Elia\",\n          \"Lil Jam\"\n        ],\n        \"semantic_type\": \"\",\n        \"description\": \"\"\n      }\n    },\n    {\n      \"column\": \"Original_DF\",\n      \"properties\": {\n        \"dtype\": \"category\",\n        \"num_unique_values\": 3,\n        \"samples\": [\n          \"traditional\",\n          \"threefold\",\n          \"trivium\"\n        ],\n        \"semantic_type\": \"\",\n        \"description\": \"\"\n      }\n    },\n    {\n      \"column\": \"Battle_ID\",\n      \"properties\": {\n        \"dtype\": \"number\",\n        \"std\": 423,\n        \"min\": 0,\n        \"max\": 1525,\n        \"num_unique_values\": 1492,\n        \"samples\": [\n          953,\n          904,\n          1367\n        ],\n        \"semantic_type\": \"\",\n        \"description\": \"\"\n      }\n    },\n    {\n      \"column\": \"Date\",\n      \"properties\": {\n        \"dtype\": \"date\",\n        \"min\": \"2017-05-11 00:00:00\",\n        \"max\": \"2029-11-30 00:00:00\",\n        \"num_unique_values\": 66,\n        \"samples\": [\n          \"2019-09-14 00:00:00\",\n          \"2017-10-14 00:00:00\",\n          \"2023-07-05 00:00:00\"\n        ],\n        \"semantic_type\": \"\",\n        \"description\": \"\"\n      }\n    },\n    {\n      \"column\": \"loser\",\n      \"properties\": {\n        \"dtype\": \"category\",\n        \"num_unique_values\": 1089,\n        \"samples\": [\n          \"Kanta\",\n          \"Bentwood\",\n          \"Xuanxuan\"\n        ],\n        \"semantic_type\": \"\",\n        \"description\": \"\"\n      }\n    },\n    {\n      \"column\": \"p1\",\n      \"properties\": {\n        \"dtype\": \"category\",\n        \"num_unique_values\": 790,\n        \"samples\": [\n          \"Bowzee\",\n          \"Cis\",\n          \"Raptor\"\n        ],\n        \"semantic_type\": \"\",\n        \"description\": \"\"\n      }\n    },\n    {\n      \"column\": \"p2\",\n      \"properties\": {\n        \"dtype\": \"category\",\n        \"num_unique_values\": 760,\n        \"samples\": [\n          \"Little Sofy\",\n          \"Liu Xuan\",\n          \"Leon\"\n        ],\n        \"semantic_type\": \"\",\n        \"description\": \"\"\n      }\n    },\n    {\n      \"column\": \"label\",\n      \"properties\": {\n        \"dtype\": \"number\",\n        \"std\": 0,\n        \"min\": 0,\n        \"max\": 1,\n        \"num_unique_values\": 2,\n        \"samples\": [\n          1,\n          0\n        ],\n        \"semantic_type\": \"\",\n        \"description\": \"\"\n      }\n    }\n  ]\n}"
            }
          },
          "metadata": {},
          "execution_count": 41
        }
      ]
    },
    {
      "cell_type": "code",
      "source": [
        "#elo model\n",
        "X=battlesNotide[['Date', 'p1', 'p2', 'label']]\n",
        "model = EloEstimator(\n",
        "  key1_field=\"p1\",\n",
        "  key2_field=\"p2\",\n",
        "  timestamp_field=\"Date\",\n",
        "  initial_time=min(appendedBattles['Date'])\n",
        ").fit(X, X[\"label\"] )"
      ],
      "metadata": {
        "id": "QBfJse7EwuvI"
      },
      "execution_count": 42,
      "outputs": []
    },
    {
      "cell_type": "code",
      "source": [
        "elo_cur_ranking=model.rating_model.to_frame()\n",
        "ts_est=elo_cur_ranking.pivot_table(index='valid_from', columns='key', values='rating').ffill()\n",
        "idx = ts_est.iloc[-1].sort_values().index[-5:]\n",
        "ts_est.loc[:, idx].plot()"
      ],
      "metadata": {
        "id": "-bsAg7Bo4PWO",
        "outputId": "9f8ae052-dc43-452d-bf33-8a8ccac3364b",
        "colab": {
          "base_uri": "https://localhost:8080/",
          "height": 439
        }
      },
      "execution_count": 43,
      "outputs": [
        {
          "output_type": "execute_result",
          "data": {
            "text/plain": [
              "<Axes: xlabel='valid_from'>"
            ]
          },
          "metadata": {},
          "execution_count": 43
        },
        {
          "output_type": "display_data",
          "data": {
            "text/plain": [
              "<Figure size 640x480 with 1 Axes>"
            ],
            "image/png": "[encoded data removed]"
          },
          "metadata": {}
        }
      ]
    },
    {
      "cell_type": "code",
      "source": [
        "elo_cur_ranking=elo_cur_ranking[elo_cur_ranking['valid_to'].isnull()].sort_values(by='rating', ascending=False)\n",
        "elo_cur_ranking"
      ],
      "metadata": {
        "id": "Gf3CQDOc4mAY",
        "outputId": "9f15fe9c-f321-4061-f6ea-ff294891435c",
        "colab": {
          "base_uri": "https://localhost:8080/",
          "height": 423
        }
      },
      "execution_count": 44,
      "outputs": [
        {
          "output_type": "execute_result",
          "data": {
            "text/plain": [
              "               key       rating valid_from valid_to\n",
              "1582           Ami  1762.434147 2023-02-24      NaT\n",
              "488       Shigekix  1750.123722 2023-02-24      NaT\n",
              "3544        Victor  1714.461178 2022-11-12      NaT\n",
              "1766   Phil Wizard  1701.027604 2023-06-23      NaT\n",
              "93           Ayumi  1677.304556 2023-02-24      NaT\n",
              "...            ...          ...        ...      ...\n",
              "2939        Csepke  1440.427904 2019-09-14      NaT\n",
              "147      Anastasia  1431.901924 2018-10-11      NaT\n",
              "5756  Alicia Anais  1431.786461 2023-04-06      NaT\n",
              "4381          Sude  1424.166658 2023-10-14      NaT\n",
              "4408       Nadjaya  1421.315814 2018-05-20      NaT\n",
              "\n",
              "[1128 rows x 4 columns]"
            ],
            "text/html": [
              "\n",
              "  <div id=\"df-d5d6f344-3220-41f8-9216-d1bae0123b85\" class=\"colab-df-container\">\n",
              "    <div>\n",
              "<style scoped>\n",
              "    .dataframe tbody tr th:only-of-type {\n",
              "        vertical-align: middle;\n",
              "    }\n",
              "\n",
              "    .dataframe tbody tr th {\n",
              "        vertical-align: top;\n",
              "    }\n",
              "\n",
              "    .dataframe thead th {\n",
              "        text-align: right;\n",
              "    }\n",
              "</style>\n",
              "<table border=\"1\" class=\"dataframe\">\n",
              "  <thead>\n",
              "    <tr style=\"text-align: right;\">\n",
              "      <th></th>\n",
              "      <th>key</th>\n",
              "      <th>rating</th>\n",
              "      <th>valid_from</th>\n",
              "      <th>valid_to</th>\n",
              "    </tr>\n",
              "  </thead>\n",
              "  <tbody>\n",
              "    <tr>\n",
              "      <th>1582</th>\n",
              "      <td>Ami</td>\n",
              "      <td>1762.434147</td>\n",
              "      <td>2023-02-24</td>\n",
              "      <td>NaT</td>\n",
              "    </tr>\n",
              "    <tr>\n",
              "      <th>488</th>\n",
              "      <td>Shigekix</td>\n",
              "      <td>1750.123722</td>\n",
              "      <td>2023-02-24</td>\n",
              "      <td>NaT</td>\n",
              "    </tr>\n",
              "    <tr>\n",
              "      <th>3544</th>\n",
              "      <td>Victor</td>\n",
              "      <td>1714.461178</td>\n",
              "      <td>2022-11-12</td>\n",
              "      <td>NaT</td>\n",
              "    </tr>\n",
              "    <tr>\n",
              "      <th>1766</th>\n",
              "      <td>Phil Wizard</td>\n",
              "      <td>1701.027604</td>\n",
              "      <td>2023-06-23</td>\n",
              "      <td>NaT</td>\n",
              "    </tr>\n",
              "    <tr>\n",
              "      <th>93</th>\n",
              "      <td>Ayumi</td>\n",
              "      <td>1677.304556</td>\n",
              "      <td>2023-02-24</td>\n",
              "      <td>NaT</td>\n",
              "    </tr>\n",
              "    <tr>\n",
              "      <th>...</th>\n",
              "      <td>...</td>\n",
              "      <td>...</td>\n",
              "      <td>...</td>\n",
              "      <td>...</td>\n",
              "    </tr>\n",
              "    <tr>\n",
              "      <th>2939</th>\n",
              "      <td>Csepke</td>\n",
              "      <td>1440.427904</td>\n",
              "      <td>2019-09-14</td>\n",
              "      <td>NaT</td>\n",
              "    </tr>\n",
              "    <tr>\n",
              "      <th>147</th>\n",
              "      <td>Anastasia</td>\n",
              "      <td>1431.901924</td>\n",
              "      <td>2018-10-11</td>\n",
              "      <td>NaT</td>\n",
              "    </tr>\n",
              "    <tr>\n",
              "      <th>5756</th>\n",
              "      <td>Alicia Anais</td>\n",
              "      <td>1431.786461</td>\n",
              "      <td>2023-04-06</td>\n",
              "      <td>NaT</td>\n",
              "    </tr>\n",
              "    <tr>\n",
              "      <th>4381</th>\n",
              "      <td>Sude</td>\n",
              "      <td>1424.166658</td>\n",
              "      <td>2023-10-14</td>\n",
              "      <td>NaT</td>\n",
              "    </tr>\n",
              "    <tr>\n",
              "      <th>4408</th>\n",
              "      <td>Nadjaya</td>\n",
              "      <td>1421.315814</td>\n",
              "      <td>2018-05-20</td>\n",
              "      <td>NaT</td>\n",
              "    </tr>\n",
              "  </tbody>\n",
              "</table>\n",
              "<p>1128 rows × 4 columns</p>\n",
              "</div>\n",
              "    <div class=\"colab-df-buttons\">\n",
              "\n",
              "  <div class=\"colab-df-container\">\n",
              "    <button class=\"colab-df-convert\" onclick=\"convertToInteractive('df-d5d6f344-3220-41f8-9216-d1bae0123b85')\"\n",
              "            title=\"Convert this dataframe to an interactive table.\"\n",
              "            style=\"display:none;\">\n",
              "\n",
              "  <svg xmlns=\"http://www.w3.org/2000/svg\" height=\"24px\" viewBox=\"0 -960 960 960\">\n",
              "    <path d=\"M120-120v-720h720v720H120Zm60-500h600v-160H180v160Zm220 220h160v-160H400v160Zm0 220h160v-160H400v160ZM180-400h160v-160H180v160Zm440 0h160v-160H620v160ZM180-180h160v-160H180v160Zm440 0h160v-160H620v160Z\"/>\n",
              "  </svg>\n",
              "    </button>\n",
              "\n",
              "  <style>\n",
              "    .colab-df-container {\n",
              "      display:flex;\n",
              "      gap: 12px;\n",
              "    }\n",
              "\n",
              "    .colab-df-convert {\n",
              "      background-color: #E8F0FE;\n",
              "      border: none;\n",
              "      border-radius: 50%;\n",
              "      cursor: pointer;\n",
              "      display: none;\n",
              "      fill: #1967D2;\n",
              "      height: 32px;\n",
              "      padding: 0 0 0 0;\n",
              "      width: 32px;\n",
              "    }\n",
              "\n",
              "    .colab-df-convert:hover {\n",
              "      background-color: #E2EBFA;\n",
              "      box-shadow: 0px 1px 2px rgba(60, 64, 67, 0.3), 0px 1px 3px 1px rgba(60, 64, 67, 0.15);\n",
              "      fill: #174EA6;\n",
              "    }\n",
              "\n",
              "    .colab-df-buttons div {\n",
              "      margin-bottom: 4px;\n",
              "    }\n",
              "\n",
              "    [theme=dark] .colab-df-convert {\n",
              "      background-color: #3B4455;\n",
              "      fill: #D2E3FC;\n",
              "    }\n",
              "\n",
              "    [theme=dark] .colab-df-convert:hover {\n",
              "      background-color: #434B5C;\n",
              "      box-shadow: 0px 1px 3px 1px rgba(0, 0, 0, 0.15);\n",
              "      filter: drop-shadow(0px 1px 2px rgba(0, 0, 0, 0.3));\n",
              "      fill: #FFFFFF;\n",
              "    }\n",
              "  </style>\n",
              "\n",
              "    <script>\n",
              "      const buttonEl =\n",
              "        document.querySelector('#df-d5d6f344-3220-41f8-9216-d1bae0123b85 button.colab-df-convert');\n",
              "      buttonEl.style.display =\n",
              "        google.colab.kernel.accessAllowed ? 'block' : 'none';\n",
              "\n",
              "      async function convertToInteractive(key) {\n",
              "        const element = document.querySelector('#df-d5d6f344-3220-41f8-9216-d1bae0123b85');\n",
              "        const dataTable =\n",
              "          await google.colab.kernel.invokeFunction('convertToInteractive',\n",
              "                                                    [key], {});\n",
              "        if (!dataTable) return;\n",
              "\n",
              "        const docLinkHtml = 'Like what you see? Visit the ' +\n",
              "          '<a target=\"_blank\" href=https://colab.research.google.com/notebooks/data_table.ipynb>data table notebook</a>'\n",
              "          + ' to learn more about interactive tables.';\n",
              "        element.innerHTML = '';\n",
              "        dataTable['output_type'] = 'display_data';\n",
              "        await google.colab.output.renderOutput(dataTable, element);\n",
              "        const docLink = document.createElement('div');\n",
              "        docLink.innerHTML = docLinkHtml;\n",
              "        element.appendChild(docLink);\n",
              "      }\n",
              "    </script>\n",
              "  </div>\n",
              "\n",
              "\n",
              "<div id=\"df-9685d873-6db5-4a80-b334-9f81cd49e558\">\n",
              "  <button class=\"colab-df-quickchart\" onclick=\"quickchart('df-9685d873-6db5-4a80-b334-9f81cd49e558')\"\n",
              "            title=\"Suggest charts\"\n",
              "            style=\"display:none;\">\n",
              "\n",
              "<svg xmlns=\"http://www.w3.org/2000/svg\" height=\"24px\"viewBox=\"0 0 24 24\"\n",
              "     width=\"24px\">\n",
              "    <g>\n",
              "        <path d=\"M19 3H5c-1.1 0-2 .9-2 2v14c0 1.1.9 2 2 2h14c1.1 0 2-.9 2-2V5c0-1.1-.9-2-2-2zM9 17H7v-7h2v7zm4 0h-2V7h2v10zm4 0h-2v-4h2v4z\"/>\n",
              "    </g>\n",
              "</svg>\n",
              "  </button>\n",
              "\n",
              "<style>\n",
              "  .colab-df-quickchart {\n",
              "      --bg-color: #E8F0FE;\n",
              "      --fill-color: #1967D2;\n",
              "      --hover-bg-color: #E2EBFA;\n",
              "      --hover-fill-color: #174EA6;\n",
              "      --disabled-fill-color: #AAA;\n",
              "      --disabled-bg-color: #DDD;\n",
              "  }\n",
              "\n",
              "  [theme=dark] .colab-df-quickchart {\n",
              "      --bg-color: #3B4455;\n",
              "      --fill-color: #D2E3FC;\n",
              "      --hover-bg-color: #434B5C;\n",
              "      --hover-fill-color: #FFFFFF;\n",
              "      --disabled-bg-color: #3B4455;\n",
              "      --disabled-fill-color: #666;\n",
              "  }\n",
              "\n",
              "  .colab-df-quickchart {\n",
              "    background-color: var(--bg-color);\n",
              "    border: none;\n",
              "    border-radius: 50%;\n",
              "    cursor: pointer;\n",
              "    display: none;\n",
              "    fill: var(--fill-color);\n",
              "    height: 32px;\n",
              "    padding: 0;\n",
              "    width: 32px;\n",
              "  }\n",
              "\n",
              "  .colab-df-quickchart:hover {\n",
              "    background-color: var(--hover-bg-color);\n",
              "    box-shadow: 0 1px 2px rgba(60, 64, 67, 0.3), 0 1px 3px 1px rgba(60, 64, 67, 0.15);\n",
              "    fill: var(--button-hover-fill-color);\n",
              "  }\n",
              "\n",
              "  .colab-df-quickchart-complete:disabled,\n",
              "  .colab-df-quickchart-complete:disabled:hover {\n",
              "    background-color: var(--disabled-bg-color);\n",
              "    fill: var(--disabled-fill-color);\n",
              "    box-shadow: none;\n",
              "  }\n",
              "\n",
              "  .colab-df-spinner {\n",
              "    border: 2px solid var(--fill-color);\n",
              "    border-color: transparent;\n",
              "    border-bottom-color: var(--fill-color);\n",
              "    animation:\n",
              "      spin 1s steps(1) infinite;\n",
              "  }\n",
              "\n",
              "  @keyframes spin {\n",
              "    0% {\n",
              "      border-color: transparent;\n",
              "      border-bottom-color: var(--fill-color);\n",
              "      border-left-color: var(--fill-color);\n",
              "    }\n",
              "    20% {\n",
              "      border-color: transparent;\n",
              "      border-left-color: var(--fill-color);\n",
              "      border-top-color: var(--fill-color);\n",
              "    }\n",
              "    30% {\n",
              "      border-color: transparent;\n",
              "      border-left-color: var(--fill-color);\n",
              "      border-top-color: var(--fill-color);\n",
              "      border-right-color: var(--fill-color);\n",
              "    }\n",
              "    40% {\n",
              "      border-color: transparent;\n",
              "      border-right-color: var(--fill-color);\n",
              "      border-top-color: var(--fill-color);\n",
              "    }\n",
              "    60% {\n",
              "      border-color: transparent;\n",
              "      border-right-color: var(--fill-color);\n",
              "    }\n",
              "    80% {\n",
              "      border-color: transparent;\n",
              "      border-right-color: var(--fill-color);\n",
              "      border-bottom-color: var(--fill-color);\n",
              "    }\n",
              "    90% {\n",
              "      border-color: transparent;\n",
              "      border-bottom-color: var(--fill-color);\n",
              "    }\n",
              "  }\n",
              "</style>\n",
              "\n",
              "  <script>\n",
              "    async function quickchart(key) {\n",
              "      const quickchartButtonEl =\n",
              "        document.querySelector('#' + key + ' button');\n",
              "      quickchartButtonEl.disabled = true;  // To prevent multiple clicks.\n",
              "      quickchartButtonEl.classList.add('colab-df-spinner');\n",
              "      try {\n",
              "        const charts = await google.colab.kernel.invokeFunction(\n",
              "            'suggestCharts', [key], {});\n",
              "      } catch (error) {\n",
              "        console.error('Error during call to suggestCharts:', error);\n",
              "      }\n",
              "      quickchartButtonEl.classList.remove('colab-df-spinner');\n",
              "      quickchartButtonEl.classList.add('colab-df-quickchart-complete');\n",
              "    }\n",
              "    (() => {\n",
              "      let quickchartButtonEl =\n",
              "        document.querySelector('#df-9685d873-6db5-4a80-b334-9f81cd49e558 button');\n",
              "      quickchartButtonEl.style.display =\n",
              "        google.colab.kernel.accessAllowed ? 'block' : 'none';\n",
              "    })();\n",
              "  </script>\n",
              "</div>\n",
              "    </div>\n",
              "  </div>\n"
            ],
            "application/vnd.google.colaboratory.intrinsic+json": {
              "type": "dataframe",
              "variable_name": "elo_cur_ranking",
              "summary": "{\n  \"name\": \"elo_cur_ranking\",\n  \"rows\": 1128,\n  \"fields\": [\n    {\n      \"column\": \"key\",\n      \"properties\": {\n        \"dtype\": \"string\",\n        \"num_unique_values\": 1128,\n        \"samples\": [\n          \"Oy\",\n          \"Chaos Craiser\",\n          \"Fidget\"\n        ],\n        \"semantic_type\": \"\",\n        \"description\": \"\"\n      }\n    },\n    {\n      \"column\": \"rating\",\n      \"properties\": {\n        \"dtype\": \"number\",\n        \"std\": 29.152348035995093,\n        \"min\": 1421.3158136206378,\n        \"max\": 1762.434147114053,\n        \"num_unique_values\": 936,\n        \"samples\": [\n          1500.582598410052,\n          1538.3152447123364,\n          1509.983926018056\n        ],\n        \"semantic_type\": \"\",\n        \"description\": \"\"\n      }\n    },\n    {\n      \"column\": \"valid_from\",\n      \"properties\": {\n        \"dtype\": \"date\",\n        \"min\": \"2017-05-11 00:00:00\",\n        \"max\": \"2029-11-30 00:00:00\",\n        \"num_unique_values\": 66,\n        \"samples\": [\n          \"2019-11-09 00:00:00\",\n          \"2017-10-14 00:00:00\",\n          \"2023-02-24 00:00:00\"\n        ],\n        \"semantic_type\": \"\",\n        \"description\": \"\"\n      }\n    },\n    {\n      \"column\": \"valid_to\",\n      \"properties\": {\n        \"dtype\": \"date\",\n        \"min\": \"NaT\",\n        \"max\": \"NaT\",\n        \"num_unique_values\": 0,\n        \"samples\": [],\n        \"semantic_type\": \"\",\n        \"description\": \"\"\n      }\n    }\n  ]\n}"
            }
          },
          "metadata": {},
          "execution_count": 44
        }
      ]
    },
    {
      "cell_type": "code",
      "source": [
        "print(classification_report(X[\"label\"], model.predict(X)))"
      ],
      "metadata": {
        "id": "z-mVapbD2DY-",
        "outputId": "4dbc4a45-9a16-4bfa-defa-de929b6235c3",
        "colab": {
          "base_uri": "https://localhost:8080/"
        }
      },
      "execution_count": 45,
      "outputs": [
        {
          "output_type": "stream",
          "name": "stdout",
          "text": [
            "              precision    recall  f1-score   support\n",
            "\n",
            "           0       0.56      0.74      0.64      1252\n",
            "           1       0.64      0.43      0.52      1321\n",
            "\n",
            "    accuracy                           0.59      2573\n",
            "   macro avg       0.60      0.59      0.58      2573\n",
            "weighted avg       0.60      0.59      0.58      2573\n",
            "\n"
          ]
        }
      ]
    },
    {
      "cell_type": "code",
      "source": [
        "#Classification Curve\n",
        "prob_true, prob_pred = calibration_curve(\n",
        "  X[\"label\"],\n",
        "  model.predict_proba(X).values[:, 0],\n",
        "  n_bins=10\n",
        ")\n",
        "plt.plot(prob_pred, prob_true, label=f\"Elo Classifier, k={model.rating_model.default_k}\", marker='s', color='b')\n",
        "plt.plot([0, 1], [0, 1], label=\"Perfect Calibration\", ls=\":\", color='k')\n",
        "plt.xlabel(\"Predicted Probability\")\n",
        "plt.ylabel(\"Empirical Probability\")\n",
        "plt.legend()"
      ],
      "metadata": {
        "id": "TURNk_Mg3XO7",
        "outputId": "07658b69-280e-4660-cb41-45cf4ad17e08",
        "colab": {
          "base_uri": "https://localhost:8080/",
          "height": 466
        }
      },
      "execution_count": 46,
      "outputs": [
        {
          "output_type": "execute_result",
          "data": {
            "text/plain": [
              "<matplotlib.legend.Legend at 0x7a9ba10041c0>"
            ]
          },
          "metadata": {},
          "execution_count": 46
        },
        {
          "output_type": "display_data",
          "data": {
            "text/plain": [
              "<Figure size 640x480 with 1 Axes>"
            ],
            "image/png": "[encoded data removed]"
          },
          "metadata": {}
        }
      ]
    },
    {
      "cell_type": "markdown",
      "source": [
        "Glicko Rating"
      ],
      "metadata": {
        "id": "3OkPiNAB9qpv"
      }
    },
    {
      "cell_type": "code",
      "source": [
        "modelG = Glicko2Estimator(\n",
        "  key1_field=\"p1\",\n",
        "  key2_field=\"p2\",\n",
        "  timestamp_field=\"Date\",\n",
        "  initial_time=min(appendedBattles['Date'])\n",
        ").fit(X, X['label'])"
      ],
      "metadata": {
        "id": "JGAyP0yWHTAA"
      },
      "execution_count": 47,
      "outputs": []
    },
    {
      "cell_type": "code",
      "source": [
        "glicko_cur_ranking=modelG.rating_model.to_frame()\n",
        "glicko_cur_ranking=glicko_cur_ranking[glicko_cur_ranking['valid_to'].isnull()].sort_values(by='rating', ascending=False)\n",
        "glicko_cur_ranking"
      ],
      "metadata": {
        "id": "ym-_j6YAITbD",
        "outputId": "c9116754-4149-43c2-e5bf-0aca967524a1",
        "colab": {
          "base_uri": "https://localhost:8080/",
          "height": 683
        }
      },
      "execution_count": 49,
      "outputs": [
        {
          "output_type": "execute_result",
          "data": {
            "text/plain": [
              "              key                                             rating  \\\n",
              "3544       Victor  (2360.44468034508, 124.70628683354136, 0.06000...   \n",
              "488      Shigekix  (2141.970061890445, 78.08602917009857, 0.05997...   \n",
              "1766  Phil Wizard  (2135.510404951435, 83.00994159873342, 0.05999...   \n",
              "1582          Ami  (2116.088041932175, 88.13561350707772, 0.05998...   \n",
              "3256    Bumblebee  (2084.5892765037183, 103.10147856411946, 0.059...   \n",
              "...           ...                                                ...   \n",
              "4461         Free  (1062.6594160177788, 191.3951461007818, 0.0599...   \n",
              "3562       Marvin  (1047.0461417257745, 186.0137629319709, 0.0599...   \n",
              "809          Minh  (1035.177400871821, 223.3606679119546, 0.06000...   \n",
              "3202        Miimo  (960.0983098369692, 216.66307172405274, 0.0600...   \n",
              "4381         Sude  (959.7748649424365, 164.7780574636588, 0.06000...   \n",
              "\n",
              "     valid_from valid_to  \n",
              "3544 2022-11-12      NaT  \n",
              "488  2023-02-24      NaT  \n",
              "1766 2023-06-23      NaT  \n",
              "1582 2023-02-24      NaT  \n",
              "3256 2019-09-14      NaT  \n",
              "...         ...      ...  \n",
              "4461 2017-12-17      NaT  \n",
              "3562 2017-12-17      NaT  \n",
              "809  2023-10-14      NaT  \n",
              "3202 2021-12-04      NaT  \n",
              "4381 2023-10-14      NaT  \n",
              "\n",
              "[1128 rows x 4 columns]"
            ],
            "text/html": [
              "\n",
              "  <div id=\"df-357472f4-77af-4d03-b27d-b5f7c415f929\" class=\"colab-df-container\">\n",
              "    <div>\n",
              "<style scoped>\n",
              "    .dataframe tbody tr th:only-of-type {\n",
              "        vertical-align: middle;\n",
              "    }\n",
              "\n",
              "    .dataframe tbody tr th {\n",
              "        vertical-align: top;\n",
              "    }\n",
              "\n",
              "    .dataframe thead th {\n",
              "        text-align: right;\n",
              "    }\n",
              "</style>\n",
              "<table border=\"1\" class=\"dataframe\">\n",
              "  <thead>\n",
              "    <tr style=\"text-align: right;\">\n",
              "      <th></th>\n",
              "      <th>key</th>\n",
              "      <th>rating</th>\n",
              "      <th>valid_from</th>\n",
              "      <th>valid_to</th>\n",
              "    </tr>\n",
              "  </thead>\n",
              "  <tbody>\n",
              "    <tr>\n",
              "      <th>3544</th>\n",
              "      <td>Victor</td>\n",
              "      <td>(2360.44468034508, 124.70628683354136, 0.06000...</td>\n",
              "      <td>2022-11-12</td>\n",
              "      <td>NaT</td>\n",
              "    </tr>\n",
              "    <tr>\n",
              "      <th>488</th>\n",
              "      <td>Shigekix</td>\n",
              "      <td>(2141.970061890445, 78.08602917009857, 0.05997...</td>\n",
              "      <td>2023-02-24</td>\n",
              "      <td>NaT</td>\n",
              "    </tr>\n",
              "    <tr>\n",
              "      <th>1766</th>\n",
              "      <td>Phil Wizard</td>\n",
              "      <td>(2135.510404951435, 83.00994159873342, 0.05999...</td>\n",
              "      <td>2023-06-23</td>\n",
              "      <td>NaT</td>\n",
              "    </tr>\n",
              "    <tr>\n",
              "      <th>1582</th>\n",
              "      <td>Ami</td>\n",
              "      <td>(2116.088041932175, 88.13561350707772, 0.05998...</td>\n",
              "      <td>2023-02-24</td>\n",
              "      <td>NaT</td>\n",
              "    </tr>\n",
              "    <tr>\n",
              "      <th>3256</th>\n",
              "      <td>Bumblebee</td>\n",
              "      <td>(2084.5892765037183, 103.10147856411946, 0.059...</td>\n",
              "      <td>2019-09-14</td>\n",
              "      <td>NaT</td>\n",
              "    </tr>\n",
              "    <tr>\n",
              "      <th>...</th>\n",
              "      <td>...</td>\n",
              "      <td>...</td>\n",
              "      <td>...</td>\n",
              "      <td>...</td>\n",
              "    </tr>\n",
              "    <tr>\n",
              "      <th>4461</th>\n",
              "      <td>Free</td>\n",
              "      <td>(1062.6594160177788, 191.3951461007818, 0.0599...</td>\n",
              "      <td>2017-12-17</td>\n",
              "      <td>NaT</td>\n",
              "    </tr>\n",
              "    <tr>\n",
              "      <th>3562</th>\n",
              "      <td>Marvin</td>\n",
              "      <td>(1047.0461417257745, 186.0137629319709, 0.0599...</td>\n",
              "      <td>2017-12-17</td>\n",
              "      <td>NaT</td>\n",
              "    </tr>\n",
              "    <tr>\n",
              "      <th>809</th>\n",
              "      <td>Minh</td>\n",
              "      <td>(1035.177400871821, 223.3606679119546, 0.06000...</td>\n",
              "      <td>2023-10-14</td>\n",
              "      <td>NaT</td>\n",
              "    </tr>\n",
              "    <tr>\n",
              "      <th>3202</th>\n",
              "      <td>Miimo</td>\n",
              "      <td>(960.0983098369692, 216.66307172405274, 0.0600...</td>\n",
              "      <td>2021-12-04</td>\n",
              "      <td>NaT</td>\n",
              "    </tr>\n",
              "    <tr>\n",
              "      <th>4381</th>\n",
              "      <td>Sude</td>\n",
              "      <td>(959.7748649424365, 164.7780574636588, 0.06000...</td>\n",
              "      <td>2023-10-14</td>\n",
              "      <td>NaT</td>\n",
              "    </tr>\n",
              "  </tbody>\n",
              "</table>\n",
              "<p>1128 rows × 4 columns</p>\n",
              "</div>\n",
              "    <div class=\"colab-df-buttons\">\n",
              "\n",
              "  <div class=\"colab-df-container\">\n",
              "    <button class=\"colab-df-convert\" onclick=\"convertToInteractive('df-357472f4-77af-4d03-b27d-b5f7c415f929')\"\n",
              "            title=\"Convert this dataframe to an interactive table.\"\n",
              "            style=\"display:none;\">\n",
              "\n",
              "  <svg xmlns=\"http://www.w3.org/2000/svg\" height=\"24px\" viewBox=\"0 -960 960 960\">\n",
              "    <path d=\"M120-120v-720h720v720H120Zm60-500h600v-160H180v160Zm220 220h160v-160H400v160Zm0 220h160v-160H400v160ZM180-400h160v-160H180v160Zm440 0h160v-160H620v160ZM180-180h160v-160H180v160Zm440 0h160v-160H620v160Z\"/>\n",
              "  </svg>\n",
              "    </button>\n",
              "\n",
              "  <style>\n",
              "    .colab-df-container {\n",
              "      display:flex;\n",
              "      gap: 12px;\n",
              "    }\n",
              "\n",
              "    .colab-df-convert {\n",
              "      background-color: #E8F0FE;\n",
              "      border: none;\n",
              "      border-radius: 50%;\n",
              "      cursor: pointer;\n",
              "      display: none;\n",
              "      fill: #1967D2;\n",
              "      height: 32px;\n",
              "      padding: 0 0 0 0;\n",
              "      width: 32px;\n",
              "    }\n",
              "\n",
              "    .colab-df-convert:hover {\n",
              "      background-color: #E2EBFA;\n",
              "      box-shadow: 0px 1px 2px rgba(60, 64, 67, 0.3), 0px 1px 3px 1px rgba(60, 64, 67, 0.15);\n",
              "      fill: #174EA6;\n",
              "    }\n",
              "\n",
              "    .colab-df-buttons div {\n",
              "      margin-bottom: 4px;\n",
              "    }\n",
              "\n",
              "    [theme=dark] .colab-df-convert {\n",
              "      background-color: #3B4455;\n",
              "      fill: #D2E3FC;\n",
              "    }\n",
              "\n",
              "    [theme=dark] .colab-df-convert:hover {\n",
              "      background-color: #434B5C;\n",
              "      box-shadow: 0px 1px 3px 1px rgba(0, 0, 0, 0.15);\n",
              "      filter: drop-shadow(0px 1px 2px rgba(0, 0, 0, 0.3));\n",
              "      fill: #FFFFFF;\n",
              "    }\n",
              "  </style>\n",
              "\n",
              "    <script>\n",
              "      const buttonEl =\n",
              "        document.querySelector('#df-357472f4-77af-4d03-b27d-b5f7c415f929 button.colab-df-convert');\n",
              "      buttonEl.style.display =\n",
              "        google.colab.kernel.accessAllowed ? 'block' : 'none';\n",
              "\n",
              "      async function convertToInteractive(key) {\n",
              "        const element = document.querySelector('#df-357472f4-77af-4d03-b27d-b5f7c415f929');\n",
              "        const dataTable =\n",
              "          await google.colab.kernel.invokeFunction('convertToInteractive',\n",
              "                                                    [key], {});\n",
              "        if (!dataTable) return;\n",
              "\n",
              "        const docLinkHtml = 'Like what you see? Visit the ' +\n",
              "          '<a target=\"_blank\" href=https://colab.research.google.com/notebooks/data_table.ipynb>data table notebook</a>'\n",
              "          + ' to learn more about interactive tables.';\n",
              "        element.innerHTML = '';\n",
              "        dataTable['output_type'] = 'display_data';\n",
              "        await google.colab.output.renderOutput(dataTable, element);\n",
              "        const docLink = document.createElement('div');\n",
              "        docLink.innerHTML = docLinkHtml;\n",
              "        element.appendChild(docLink);\n",
              "      }\n",
              "    </script>\n",
              "  </div>\n",
              "\n",
              "\n",
              "<div id=\"df-1f26dd45-26f9-4cc1-9aa3-75ac1761f0c4\">\n",
              "  <button class=\"colab-df-quickchart\" onclick=\"quickchart('df-1f26dd45-26f9-4cc1-9aa3-75ac1761f0c4')\"\n",
              "            title=\"Suggest charts\"\n",
              "            style=\"display:none;\">\n",
              "\n",
              "<svg xmlns=\"http://www.w3.org/2000/svg\" height=\"24px\"viewBox=\"0 0 24 24\"\n",
              "     width=\"24px\">\n",
              "    <g>\n",
              "        <path d=\"M19 3H5c-1.1 0-2 .9-2 2v14c0 1.1.9 2 2 2h14c1.1 0 2-.9 2-2V5c0-1.1-.9-2-2-2zM9 17H7v-7h2v7zm4 0h-2V7h2v10zm4 0h-2v-4h2v4z\"/>\n",
              "    </g>\n",
              "</svg>\n",
              "  </button>\n",
              "\n",
              "<style>\n",
              "  .colab-df-quickchart {\n",
              "      --bg-color: #E8F0FE;\n",
              "      --fill-color: #1967D2;\n",
              "      --hover-bg-color: #E2EBFA;\n",
              "      --hover-fill-color: #174EA6;\n",
              "      --disabled-fill-color: #AAA;\n",
              "      --disabled-bg-color: #DDD;\n",
              "  }\n",
              "\n",
              "  [theme=dark] .colab-df-quickchart {\n",
              "      --bg-color: #3B4455;\n",
              "      --fill-color: #D2E3FC;\n",
              "      --hover-bg-color: #434B5C;\n",
              "      --hover-fill-color: #FFFFFF;\n",
              "      --disabled-bg-color: #3B4455;\n",
              "      --disabled-fill-color: #666;\n",
              "  }\n",
              "\n",
              "  .colab-df-quickchart {\n",
              "    background-color: var(--bg-color);\n",
              "    border: none;\n",
              "    border-radius: 50%;\n",
              "    cursor: pointer;\n",
              "    display: none;\n",
              "    fill: var(--fill-color);\n",
              "    height: 32px;\n",
              "    padding: 0;\n",
              "    width: 32px;\n",
              "  }\n",
              "\n",
              "  .colab-df-quickchart:hover {\n",
              "    background-color: var(--hover-bg-color);\n",
              "    box-shadow: 0 1px 2px rgba(60, 64, 67, 0.3), 0 1px 3px 1px rgba(60, 64, 67, 0.15);\n",
              "    fill: var(--button-hover-fill-color);\n",
              "  }\n",
              "\n",
              "  .colab-df-quickchart-complete:disabled,\n",
              "  .colab-df-quickchart-complete:disabled:hover {\n",
              "    background-color: var(--disabled-bg-color);\n",
              "    fill: var(--disabled-fill-color);\n",
              "    box-shadow: none;\n",
              "  }\n",
              "\n",
              "  .colab-df-spinner {\n",
              "    border: 2px solid var(--fill-color);\n",
              "    border-color: transparent;\n",
              "    border-bottom-color: var(--fill-color);\n",
              "    animation:\n",
              "      spin 1s steps(1) infinite;\n",
              "  }\n",
              "\n",
              "  @keyframes spin {\n",
              "    0% {\n",
              "      border-color: transparent;\n",
              "      border-bottom-color: var(--fill-color);\n",
              "      border-left-color: var(--fill-color);\n",
              "    }\n",
              "    20% {\n",
              "      border-color: transparent;\n",
              "      border-left-color: var(--fill-color);\n",
              "      border-top-color: var(--fill-color);\n",
              "    }\n",
              "    30% {\n",
              "      border-color: transparent;\n",
              "      border-left-color: var(--fill-color);\n",
              "      border-top-color: var(--fill-color);\n",
              "      border-right-color: var(--fill-color);\n",
              "    }\n",
              "    40% {\n",
              "      border-color: transparent;\n",
              "      border-right-color: var(--fill-color);\n",
              "      border-top-color: var(--fill-color);\n",
              "    }\n",
              "    60% {\n",
              "      border-color: transparent;\n",
              "      border-right-color: var(--fill-color);\n",
              "    }\n",
              "    80% {\n",
              "      border-color: transparent;\n",
              "      border-right-color: var(--fill-color);\n",
              "      border-bottom-color: var(--fill-color);\n",
              "    }\n",
              "    90% {\n",
              "      border-color: transparent;\n",
              "      border-bottom-color: var(--fill-color);\n",
              "    }\n",
              "  }\n",
              "</style>\n",
              "\n",
              "  <script>\n",
              "    async function quickchart(key) {\n",
              "      const quickchartButtonEl =\n",
              "        document.querySelector('#' + key + ' button');\n",
              "      quickchartButtonEl.disabled = true;  // To prevent multiple clicks.\n",
              "      quickchartButtonEl.classList.add('colab-df-spinner');\n",
              "      try {\n",
              "        const charts = await google.colab.kernel.invokeFunction(\n",
              "            'suggestCharts', [key], {});\n",
              "      } catch (error) {\n",
              "        console.error('Error during call to suggestCharts:', error);\n",
              "      }\n",
              "      quickchartButtonEl.classList.remove('colab-df-spinner');\n",
              "      quickchartButtonEl.classList.add('colab-df-quickchart-complete');\n",
              "    }\n",
              "    (() => {\n",
              "      let quickchartButtonEl =\n",
              "        document.querySelector('#df-1f26dd45-26f9-4cc1-9aa3-75ac1761f0c4 button');\n",
              "      quickchartButtonEl.style.display =\n",
              "        google.colab.kernel.accessAllowed ? 'block' : 'none';\n",
              "    })();\n",
              "  </script>\n",
              "</div>\n",
              "    </div>\n",
              "  </div>\n"
            ],
            "application/vnd.google.colaboratory.intrinsic+json": {
              "type": "dataframe",
              "variable_name": "glicko_cur_ranking",
              "summary": "{\n  \"name\": \"glicko_cur_ranking\",\n  \"rows\": 1128,\n  \"fields\": [\n    {\n      \"column\": \"key\",\n      \"properties\": {\n        \"dtype\": \"string\",\n        \"num_unique_values\": 1128,\n        \"samples\": [\n          \"Benjamin\",\n          \"Eric\",\n          \"Stimul\"\n        ],\n        \"semantic_type\": \"\",\n        \"description\": \"\"\n      }\n    },\n    {\n      \"column\": \"rating\",\n      \"properties\": {\n        \"dtype\": \"string\",\n        \"num_unique_values\": 937,\n        \"samples\": [\n          [\n            1547.6733577833274,\n            183.23576576202274,\n            0.059999171037677615\n          ],\n          [\n            1810.9729423420335,\n            208.31547168489496,\n            0.06000085370667068\n          ],\n          [\n            1627.7593766641162,\n            217.40915153048084,\n            0.06000247867615828\n          ]\n        ],\n        \"semantic_type\": \"\",\n        \"description\": \"\"\n      }\n    },\n    {\n      \"column\": \"valid_from\",\n      \"properties\": {\n        \"dtype\": \"date\",\n        \"min\": \"2017-05-11 00:00:00\",\n        \"max\": \"2029-11-30 00:00:00\",\n        \"num_unique_values\": 66,\n        \"samples\": [\n          \"2019-03-23 00:00:00\",\n          \"2022-07-10 00:00:00\",\n          \"2022-11-12 00:00:00\"\n        ],\n        \"semantic_type\": \"\",\n        \"description\": \"\"\n      }\n    },\n    {\n      \"column\": \"valid_to\",\n      \"properties\": {\n        \"dtype\": \"date\",\n        \"min\": \"NaT\",\n        \"max\": \"NaT\",\n        \"num_unique_values\": 0,\n        \"samples\": [],\n        \"semantic_type\": \"\",\n        \"description\": \"\"\n      }\n    }\n  ]\n}"
            }
          },
          "metadata": {},
          "execution_count": 49
        }
      ]
    },
    {
      "cell_type": "code",
      "source": [
        "print(classification_report(X[\"label\"], modelG.predict(X)))"
      ],
      "metadata": {
        "id": "jp85Pq8LMnXr",
        "outputId": "06279eb8-7b73-4a7a-d79b-530832e23ffd",
        "colab": {
          "base_uri": "https://localhost:8080/"
        }
      },
      "execution_count": 50,
      "outputs": [
        {
          "output_type": "stream",
          "name": "stdout",
          "text": [
            "              precision    recall  f1-score   support\n",
            "\n",
            "           0       0.56      0.75      0.64      1252\n",
            "           1       0.65      0.44      0.53      1321\n",
            "\n",
            "    accuracy                           0.59      2573\n",
            "   macro avg       0.60      0.59      0.58      2573\n",
            "weighted avg       0.60      0.59      0.58      2573\n",
            "\n"
          ]
        }
      ]
    },
    {
      "cell_type": "code",
      "source": [
        "if (model.predict(X) == modelG.predict(X)).all():\n",
        "    print(\"The columns are identical.\")\n",
        "else:\n",
        "    print(\"The columns are not identical.\")"
      ],
      "metadata": {
        "id": "NO2fxgqNPOB6",
        "outputId": "7919f71a-f52a-4e7c-8750-978ed2ad1ffa",
        "colab": {
          "base_uri": "https://localhost:8080/"
        }
      },
      "execution_count": 57,
      "outputs": [
        {
          "output_type": "stream",
          "name": "stdout",
          "text": [
            "The columns are not identical.\n"
          ]
        }
      ]
    },
    {
      "cell_type": "code",
      "source": [],
      "metadata": {
        "id": "-ZOPUXdGRcgv"
      },
      "execution_count": null,
      "outputs": []
    },
    {
      "cell_type": "markdown",
      "source": [],
      "metadata": {
        "id": "JtiP0LLdRcJY"
      }
    },
    {
      "cell_type": "code",
      "source": [
        "predictions=pd.concat([model.predict(X), modelG.predict(X)], axis=1)\n",
        "predictions.columns = ['Elo Pred', 'Glicko Pred']\n"
      ],
      "metadata": {
        "id": "EYRNQKTjQQHu",
        "outputId": "4c7dcbad-0591-4f0b-f9da-4eba063f4800",
        "colab": {
          "base_uri": "https://localhost:8080/",
          "height": 447
        }
      },
      "execution_count": 69,
      "outputs": [
        {
          "output_type": "execute_result",
          "data": {
            "text/plain": [
              "<Axes: >"
            ]
          },
          "metadata": {},
          "execution_count": 69
        },
        {
          "output_type": "display_data",
          "data": {
            "text/plain": [
              "<Figure size 640x480 with 1 Axes>"
            ],
            "image/png": "[encoded data removed]"
          },
          "metadata": {}
        }
      ]
    },
    {
      "cell_type": "code",
      "source": [
        "prob_true, prob_pred = calibration_curve(\n",
        "  X[\"label\"],\n",
        "  modelG.predict_proba(X).values[:, 0],\n",
        "  n_bins=10\n",
        ")\n",
        "plt.plot(prob_pred, prob_true, label=f\"Glicko2 Classifier\", marker='s', color='b')\n",
        "plt.plot([0, 1], [0, 1], label=\"Perfect Calibration\", ls=\":\", color='k')\n",
        "plt.xlabel(\"Predicted Probability\")\n",
        "plt.ylabel(\"Empirical Probability\")\n",
        "plt.legend()"
      ],
      "metadata": {
        "id": "7xshK-M_Mw0q",
        "outputId": "cc7614d3-5084-4486-a05f-b3a77f4e1551",
        "colab": {
          "base_uri": "https://localhost:8080/",
          "height": 466
        }
      },
      "execution_count": 52,
      "outputs": [
        {
          "output_type": "execute_result",
          "data": {
            "text/plain": [
              "<matplotlib.legend.Legend at 0x7a9ba48e2080>"
            ]
          },
          "metadata": {},
          "execution_count": 52
        },
        {
          "output_type": "display_data",
          "data": {
            "text/plain": [
              "<Figure size 640x480 with 1 Axes>"
            ],
            "image/png": "[encoded data removed]"
          },
          "metadata": {}
        }
      ]
    }
  ]
}
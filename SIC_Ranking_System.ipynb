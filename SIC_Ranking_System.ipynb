{
  "nbformat": 4,
  "nbformat_minor": 0,
  "metadata": {
    "colab": {
      "provenance": [],
      "authorship_tag": "ABX9TyMCQu6d5WdMIXFGCslH24V7",
      "include_colab_link": true
    },
    "kernelspec": {
      "name": "python3",
      "display_name": "Python 3"
    },
    "language_info": {
      "name": "python"
    }
  },
  "cells": [
    {
      "cell_type": "markdown",
      "metadata": {
        "id": "view-in-github",
        "colab_type": "text"
      },
      "source": [
        "<a href=\"https://colab.research.google.com/github/sarahaptumich/capstone/blob/shaptonstall/SIC_Ranking_System.ipynb\" target=\"_parent\"><img src=\"https://colab.research.google.com/assets/colab-badge.svg\" alt=\"Open In Colab\"/></a>"
      ]
    },
    {
      "cell_type": "markdown",
      "source": [
        "# Settle in the Cypher (SIC) Breakdancer Ranking System\n",
        "We will me using the dataset provided by SIC to implement Elo abd Glicko ranking systems.\n",
        "\n",
        "\n",
        "*   **Elo Ranking**: is a very popular ranking methodology using in chest.It works as follow:\n",
        "    - Each player is awarded some starting point, in this case 1500.\n",
        "    - After a game, points are transferred from the losing player to the winning player. The amount of points transferred depends on the probability of each player winning the game, which is calculated based on their current ratings.\n",
        "    - K-Factor: The K-factor controls the rate at which a player's rating changes. Higher K-factors allow more points to be transferred per game, leading to faster changes in ratings.\n",
        "\n",
        "*   **Glicko2 Ranking** an enhancement of the Glicko system, assesses player strengths in games like chess. Each player has a rating (R), rating deviation (RD), indicating the reliability, and a volatility score (σ) reflecting expected rating fluctuations.  Incorporating results against others to adjust both rating and RD. The system introduces more dynamics by accounting for the uncertainty in a player’s rating through RD and adjusting for unexpected game outcomes via volatility, making it very suitable for environments with varying player activity and engagement levels.\n",
        "\n"
      ],
      "metadata": {
        "id": "LcCTE0zTB9PD"
      }
    },
    {
      "cell_type": "code",
      "execution_count": 18,
      "metadata": {
        "colab": {
          "base_uri": "https://localhost:8080/"
        },
        "id": "3uo-3u3rJ8Ub",
        "outputId": "7763bb87-28fb-470b-9b4a-4c884d945712"
      },
      "outputs": [
        {
          "output_type": "stream",
          "name": "stdout",
          "text": [
            "Drive already mounted at /content/drive; to attempt to forcibly remount, call drive.mount(\"/content/drive\", force_remount=True).\n"
          ]
        }
      ],
      "source": [
        "#Mount google drive\n",
        "from google.colab import drive\n",
        "drive.mount(\"/content/drive\")"
      ]
    },
    {
      "cell_type": "code",
      "source": [
        "%cd /content/drive/MyDrive/Github/capstone"
      ],
      "metadata": {
        "colab": {
          "base_uri": "https://localhost:8080/"
        },
        "id": "xMQN6zSOKHAz",
        "outputId": "fb98347d-e2a9-42a6-b463-f661e1a1c29f"
      },
      "execution_count": 19,
      "outputs": [
        {
          "output_type": "stream",
          "name": "stdout",
          "text": [
            "/content/drive/MyDrive/Github/capstone\n"
          ]
        }
      ]
    },
    {
      "cell_type": "code",
      "source": [
        "%ls"
      ],
      "metadata": {
        "id": "syqNAVmJsMYG",
        "outputId": "4c6e9cfd-2a1d-44d4-a4af-437a2a63408b",
        "colab": {
          "base_uri": "https://localhost:8080/"
        }
      },
      "execution_count": 20,
      "outputs": [
        {
          "output_type": "stream",
          "name": "stdout",
          "text": [
            "best_model_combined_tuning.h5        \u001b[0m\u001b[01;34mbrace\u001b[0m/     \u001b[01;34mlogs\u001b[0m/\n",
            "best_model_features_tuning.h5        \u001b[01;34mdatasets\u001b[0m/  \u001b[01;34mtuner_results\u001b[0m/\n",
            "best_model_modelDataClips_tuning.h5  \u001b[01;34mimages\u001b[0m/    \u001b[01;34mutilities\u001b[0m/\n"
          ]
        }
      ]
    },
    {
      "cell_type": "code",
      "source": [
        "!pip install skelo"
      ],
      "metadata": {
        "id": "8IzGH-oBpj__",
        "outputId": "21cfc26b-f6ab-4fbd-e188-3f24c68c5f7d",
        "colab": {
          "base_uri": "https://localhost:8080/"
        }
      },
      "execution_count": 21,
      "outputs": [
        {
          "output_type": "stream",
          "name": "stdout",
          "text": [
            "Requirement already satisfied: skelo in /usr/local/lib/python3.10/dist-packages (0.1.5)\n",
            "Requirement already satisfied: numpy in /usr/local/lib/python3.10/dist-packages (from skelo) (1.25.2)\n",
            "Requirement already satisfied: scikit-learn in /usr/local/lib/python3.10/dist-packages (from skelo) (1.2.2)\n",
            "Requirement already satisfied: pandas in /usr/local/lib/python3.10/dist-packages (from skelo) (2.0.3)\n",
            "Requirement already satisfied: glicko2>=2 in /usr/local/lib/python3.10/dist-packages (from skelo) (2.1.0)\n",
            "Requirement already satisfied: python-dateutil>=2.8.2 in /usr/local/lib/python3.10/dist-packages (from pandas->skelo) (2.8.2)\n",
            "Requirement already satisfied: pytz>=2020.1 in /usr/local/lib/python3.10/dist-packages (from pandas->skelo) (2023.4)\n",
            "Requirement already satisfied: tzdata>=2022.1 in /usr/local/lib/python3.10/dist-packages (from pandas->skelo) (2024.1)\n",
            "Requirement already satisfied: scipy>=1.3.2 in /usr/local/lib/python3.10/dist-packages (from scikit-learn->skelo) (1.11.4)\n",
            "Requirement already satisfied: joblib>=1.1.1 in /usr/local/lib/python3.10/dist-packages (from scikit-learn->skelo) (1.4.0)\n",
            "Requirement already satisfied: threadpoolctl>=2.0.0 in /usr/local/lib/python3.10/dist-packages (from scikit-learn->skelo) (3.4.0)\n",
            "Requirement already satisfied: six>=1.5 in /usr/local/lib/python3.10/dist-packages (from python-dateutil>=2.8.2->pandas->skelo) (1.16.0)\n"
          ]
        }
      ]
    },
    {
      "cell_type": "code",
      "source": [
        "import sys\n"
      ],
      "metadata": {
        "id": "9xvrzvresDXt"
      },
      "execution_count": 22,
      "outputs": []
    },
    {
      "cell_type": "code",
      "source": [
        "import pandas as pd\n",
        "import numpy as np\n",
        "import re\n",
        "from datetime import datetime, timedelta\n",
        "from sklearn.decomposition import PCA, KernelPCA\n",
        "from sklearn.impute import SimpleImputer\n",
        "from sklearn.preprocessing import StandardScaler\n",
        "import matplotlib.pyplot as plt\n",
        "from sklearn.decomposition import FactorAnalysis\n",
        "import joblib\n",
        "from sklearn.preprocessing import LabelEncoder\n",
        "from skelo.model.elo import EloEstimator\n",
        "from sklearn.metrics import classification_report\n",
        "from sklearn.calibration import calibration_curve\n",
        "from sklearn.model_selection import GridSearchCV\n",
        "from sklearn.model_selection import train_test_split\n",
        "from sklearn.calibration import CalibratedClassifierCV\n",
        "from sklearn.linear_model import LogisticRegression\n",
        "from sklearn.metrics import accuracy_score\n",
        "from skelo.model.glicko2 import Glicko2Estimator\n",
        "import random\n"
      ],
      "metadata": {
        "id": "7UxtxjvnKL82"
      },
      "execution_count": 107,
      "outputs": []
    },
    {
      "cell_type": "code",
      "source": [
        "#load files\n",
        "trivium= pd.read_csv('./datasets/trivium_scorecard.csv')\n",
        "webscraping = pd.read_excel('./datasets/Webscraping.xlsx', sheet_name=None)\n",
        "webscraping.keys()"
      ],
      "metadata": {
        "colab": {
          "base_uri": "https://localhost:8080/"
        },
        "id": "ZbioKYNtM710",
        "outputId": "4169420e-28a6-433a-9218-aec71781ef28"
      },
      "execution_count": 24,
      "outputs": [
        {
          "output_type": "stream",
          "name": "stderr",
          "text": [
            "/usr/local/lib/python3.10/dist-packages/openpyxl/worksheet/_reader.py:329: UserWarning: Unknown extension is not supported and will be removed\n",
            "  warn(msg)\n",
            "/usr/local/lib/python3.10/dist-packages/openpyxl/worksheet/_reader.py:329: UserWarning: Unknown extension is not supported and will be removed\n",
            "  warn(msg)\n"
          ]
        },
        {
          "output_type": "execute_result",
          "data": {
            "text/plain": [
              "dict_keys(['Events and8', 'Events', 'Events WDSF', 'Battles Trivium', 'Battles and8 Threefold', 'Battles and8 Single Slider', 'Battles and8 Round by Round', 'Battles and8 Traditional', 'Research Questions', 'Notes', 'Notes Columns'])"
            ]
          },
          "metadata": {},
          "execution_count": 24
        }
      ]
    },
    {
      "cell_type": "code",
      "source": [
        "#Load battle winners\n",
        "#threefold\n",
        "threefold = webscraping['Battles and8 Threefold']\n",
        "threefold.rename(columns={'Unnamed: 0':'Event', 'Unnamed: 1': 'Category', 'breaker 1': 'breaker 1 (red)', 'breaker 2': 'breaker 2 (blue)'}, inplace=True)\n",
        "threefold[['Event', 'Category']] = threefold[['Event', 'Category']].fillna(method='ffill')\n",
        "#Trivium\n",
        "trivium=webscraping['Battles Trivium']\n",
        "trivium.rename(columns={'Unnamed: 0':'Event', 'Unnamed: 1': 'Category'}, inplace=True)\n",
        "trivium[['Event', 'Category']]= trivium[['Event', 'Category']].fillna(method='ffill')\n",
        "#traditional\n",
        "traditional = webscraping['Battles and8 Traditional']\n",
        "traditional.rename(columns={'Unnamed: 0':'Event', 'Unnamed: 1': 'Category'}, inplace=True)\n",
        "traditional[['Event', 'Category']] = traditional[['Event', 'Category']].fillna(method='ffill')"
      ],
      "metadata": {
        "id": "C-r7e3mY6CGm"
      },
      "execution_count": 25,
      "outputs": []
    },
    {
      "cell_type": "code",
      "source": [
        "tr=traditional[['Event', 'Category', 'breaker 1 (red)', 'breaker 2 (blue)', 'winner']].copy()\n",
        "th=threefold[['Event', 'Category', 'breaker 1 (red)', 'breaker 2 (blue)', 'winner']].copy()\n",
        "tv=trivium[['Event', 'Category', 'breaker 1 (red)', 'breaker 2 (blue)', 'winner']].copy()\n",
        "\n",
        "dataframes = [('traditional', tr), ('threefold', th), ('trivium', tv)]\n",
        "\n",
        "# Create an empty list to store modified dataframes\n",
        "appended_dfs = []\n",
        "\n",
        "# Iterate to create a combined dataframe\n",
        "for name, dframe in dataframes:\n",
        "    dframe['Original_DF'] = name\n",
        "    dframe['Battle_ID'] = dframe.index\n",
        "    appended_dfs.append(dframe)\n",
        "appendedBattles = pd.concat(appended_dfs, ignore_index=True)\n"
      ],
      "metadata": {
        "id": "rYYKLygJ9qwr"
      },
      "execution_count": 26,
      "outputs": []
    },
    {
      "cell_type": "code",
      "source": [
        "eventsAnd8=webscraping['Events and8'][1:].copy()\n",
        "new_header= eventsAnd8.iloc[0]\n",
        "eventsAnd8=eventsAnd8.drop(1)\n",
        "eventsAnd8.columns = new_header\n",
        "eventsAnd8.rename(columns={'Name':'Event'}, inplace=True)\n",
        "eventsAnd8.drop_duplicates(subset=['Event'], inplace=True)\n",
        "\n",
        "eventsWDSF = webscraping['Events WDSF'][1:].copy()\n",
        "new_header = eventsWDSF.iloc[0]\n",
        "eventsWDSF = eventsWDSF.drop(1)\n",
        "eventsWDSF.columns = new_header\n",
        "eventsWDSF.rename(columns={'Name': 'Event'}, inplace=True)\n",
        "eventsWDSF.drop_duplicates(subset=['Event'], inplace=True)\n",
        "\n",
        "Events = webscraping['Events'][1:].copy()\n",
        "new_header = Events.iloc[0]\n",
        "Events = Events.drop(1)\n",
        "Events.columns = new_header\n",
        "Events.rename(columns={'Name':'Event'}, inplace=True)\n",
        "Events.drop_duplicates(subset=['Event'], inplace=True)\n",
        "\n",
        "combined_events = pd.concat([eventsAnd8, eventsWDSF, Events], ignore_index=True)"
      ],
      "metadata": {
        "id": "FOea4fdkAxpz"
      },
      "execution_count": 27,
      "outputs": []
    },
    {
      "cell_type": "code",
      "source": [
        "#add battle date\n",
        "appendedBattles=pd.merge(appendedBattles, combined_events[['Date', 'Event']], on='Event', how='left')\n",
        "appendedBattles['loser'] = np.where(appendedBattles['winner'] == appendedBattles['breaker 1 (red)'], appendedBattles['breaker 2 (blue)'], appendedBattles['breaker 1 (red)'])\n",
        "appendedBattles[['winner', 'loser']]=appendedBattles[['winner', 'loser']].astype(str)\n",
        "battlesNotide=appendedBattles[appendedBattles['winner']!='Tie'].copy()"
      ],
      "metadata": {
        "id": "FAb7-dQct5Gg"
      },
      "execution_count": 28,
      "outputs": []
    },
    {
      "cell_type": "code",
      "source": [
        "#Format battles data into format reconized by skelo, instead of distinguishing between winners and losers, it labels one player as \"player1\" and the other as \"player2\"\n",
        "#and assigns a binary label (1 for player1 winning and 0 for player2 winning).\n",
        "def load_data(df):\n",
        "    #addapted from skelo docs example \"tennis training\" https://pypi.org/project/skelo/\n",
        "    df[\"Date\"] = pd.to_datetime(df['Date'])\n",
        "    order_mask = (df[\"winner\"] < df[\"loser\"])\n",
        "    df[\"p1\"] = \"\"\n",
        "    df[\"p2\"] = \"\"\n",
        "    df[\"label\"] = 1\n",
        "    df.loc[order_mask, \"p1\"] = df.loc[order_mask, \"winner\"]\n",
        "    df.loc[~order_mask, \"p1\"] = df.loc[~order_mask, \"loser\"]\n",
        "    df.loc[order_mask, \"p2\"] = df.loc[order_mask, \"loser\"]\n",
        "    df.loc[~order_mask, \"p2\"] = df.loc[~order_mask, \"winner\"]\n",
        "    df.loc[~order_mask, \"label\"] = 0\n",
        "\n",
        "    return df"
      ],
      "metadata": {
        "id": "5snjU7hR5PFO"
      },
      "execution_count": 29,
      "outputs": []
    },
    {
      "cell_type": "code",
      "source": [
        "battlesNotide= load_data(battlesNotide)"
      ],
      "metadata": {
        "id": "lXeRZ31mi7uk"
      },
      "execution_count": 30,
      "outputs": []
    },
    {
      "cell_type": "code",
      "source": [
        "boys = battlesNotide[(battlesNotide['Category'].str.contains('Boy')) | (battlesNotide['Category'].str.contains('Men'))]\n",
        "girls= battlesNotide[(battlesNotide['Category'].str.contains('Girl')) | (battlesNotide['Category'].str.contains('Women'))]\n",
        "others = battlesNotide[~battlesNotide.index.isin(boys.index) & ~battlesNotide.index.isin(girls.index)]\n",
        "\n",
        "boys.shape[0], girls.shape[0],others.shape[0], battlesNotide.shape[0]== (boys.shape[0]+ girls.shape[0]+others.shape[0])"
      ],
      "metadata": {
        "id": "0ASN61v0ANyP",
        "outputId": "2c986dea-4bd5-445e-e9f8-f52f771184db",
        "colab": {
          "base_uri": "https://localhost:8080/"
        }
      },
      "execution_count": 31,
      "outputs": [
        {
          "output_type": "execute_result",
          "data": {
            "text/plain": [
              "(1386, 851, 336, True)"
            ]
          },
          "metadata": {},
          "execution_count": 31
        }
      ]
    },
    {
      "cell_type": "code",
      "source": [
        "def fit_model(X):\n",
        "    #adapted from skelo docss example Tennis Ranking https://pypi.org/project/skelo/\n",
        "    X_subset = X[['Date', 'p1', 'p2', 'label']]\n",
        "    model = EloEstimator(\n",
        "        key1_field=\"p1\",\n",
        "        key2_field=\"p2\",\n",
        "        timestamp_field=\"Date\",\n",
        "        initial_time=min(X['Date'])\n",
        "    )\n",
        "    fitted_model = model.fit(X_subset, X_subset[\"label\"])\n",
        "\n",
        "    return fitted_model"
      ],
      "metadata": {
        "id": "0B1o0XcLFtBm"
      },
      "execution_count": 32,
      "outputs": []
    },
    {
      "cell_type": "code",
      "source": [
        "def plot_top_ratings(ax, ratings_frame, title):\n",
        "    #adapted from skelo docss example Tennis Ranking https://pypi.org/project/skelo/\n",
        "    ts_est = ratings_frame.pivot_table(index='valid_from', columns='key', values='rating').ffill()\n",
        "    idx = ts_est.iloc[-1].sort_values().index[-5:]\n",
        "    ts_est.loc[:, idx].plot(ax=ax)\n",
        "    ax.set_xlabel('Date')\n",
        "    ax.set_ylabel('Rating')\n",
        "    ax.set_title(f'Top 5 Ratings Over Time - {title}')\n",
        "    ax.legend(title='Player')\n",
        "    ax.grid(True)"
      ],
      "metadata": {
        "id": "Tplb8NZzD4ka"
      },
      "execution_count": 33,
      "outputs": []
    },
    {
      "cell_type": "code",
      "source": [
        "X_boy= boys[['Date', 'p1', 'p2', 'label']]\n",
        "X_girl= girls[['Date', 'p1', 'p2', 'label']]\n",
        "X_other= others[['Date', 'p1', 'p2', 'label']]"
      ],
      "metadata": {
        "id": "Z5P2W5DJE0_S"
      },
      "execution_count": 34,
      "outputs": []
    },
    {
      "cell_type": "code",
      "source": [
        "g_model=fit_model(X_girl)\n",
        "b_model=fit_model(X_boy)\n",
        "o_model=fit_model(X_other)"
      ],
      "metadata": {
        "id": "7qgNdH56Fysx"
      },
      "execution_count": 35,
      "outputs": []
    },
    {
      "cell_type": "code",
      "source": [
        "boy_elo_rank= b_model.rating_model.to_frame()\n",
        "girl_elo_rank=g_model.rating_model.to_frame()\n",
        "other_elo_rank=o_model.rating_model.to_frame()"
      ],
      "metadata": {
        "id": "Dpts2VWHLty6"
      },
      "execution_count": 36,
      "outputs": []
    },
    {
      "cell_type": "code",
      "source": [
        "boy_elo_current=boy_elo_rank[(boy_elo_rank['valid_to'].isnull())].sort_values(by='rating', ascending=False)\n",
        "boy_top10=boy_elo_current[(boy_elo_rank['valid_from']>= '2023-01-01')].nlargest(10, 'rating')\n",
        "girl_elo_current = girl_elo_rank[(girl_elo_rank['valid_to'].isnull())].sort_values(by='rating', ascending=False)\n",
        "girl_top10 = girl_elo_current[(girl_elo_rank['valid_from'] >= '2023-01-01')].nlargest(10, 'rating')\n",
        "other_elo_current = other_elo_rank[(other_elo_rank['valid_to'].isnull())].sort_values(by='rating', ascending=False)\n",
        "other_top10 = other_elo_current[(other_elo_current['valid_from']>= '2023-01-01')].nlargest(10, 'rating')"
      ],
      "metadata": {
        "id": "Gf3CQDOc4mAY",
        "outputId": "26ddb5fa-affa-4881-c2c2-e2ea19043257",
        "colab": {
          "base_uri": "https://localhost:8080/"
        }
      },
      "execution_count": 37,
      "outputs": [
        {
          "output_type": "stream",
          "name": "stderr",
          "text": [
            "<ipython-input-37-f6b1ed5a7d06>:2: UserWarning: Boolean Series key will be reindexed to match DataFrame index.\n",
            "  boy_top10=boy_elo_current[(boy_elo_rank['valid_from']>= '2023-01-01')].nlargest(10, 'rating')\n",
            "<ipython-input-37-f6b1ed5a7d06>:4: UserWarning: Boolean Series key will be reindexed to match DataFrame index.\n",
            "  girl_top10 = girl_elo_current[(girl_elo_rank['valid_from'] >= '2023-01-01')].nlargest(10, 'rating')\n"
          ]
        }
      ]
    },
    {
      "cell_type": "code",
      "source": [
        "# Create subplots\n",
        "fig, axes = plt.subplots(1, 3, figsize=(15, 5))\n",
        "\n",
        "# Plot each model's top ratings horizontally\n",
        "plot_top_ratings(axes[0], boy_elo_rank[boy_elo_rank['key'].isin(boy_top10['key'].to_list())], 'Boys Elo Ranking')\n",
        "plot_top_ratings(axes[1], girl_elo_rank[girl_elo_rank['key'].isin(girl_top10['key'].to_list())], 'Girls Elo Ranking')\n",
        "plot_top_ratings(axes[2], other_elo_rank[other_elo_rank['key'].isin(other_top10['key'].to_list())], 'Others Elo Ranking')\n",
        "plt.tight_layout()\n",
        "plt.show()"
      ],
      "metadata": {
        "id": "Y-AvgwPzD6uL",
        "outputId": "c07f3c60-6d18-413b-9bc3-708dbb78e988",
        "colab": {
          "base_uri": "https://localhost:8080/",
          "height": 507
        }
      },
      "execution_count": 38,
      "outputs": [
        {
          "output_type": "display_data",
          "data": {
            "text/plain": [
              "<Figure size 1500x500 with 3 Axes>"
            ],
            "image/png": "[encoded data removed]"
          },
          "metadata": {}
        }
      ]
    },
    {
      "cell_type": "code",
      "source": [
        "print(classification_report(X_girl[\"label\"], g_model.predict(X_girl)))"
      ],
      "metadata": {
        "id": "z-mVapbD2DY-",
        "outputId": "37d60dbc-b67a-4634-a652-874cc500ef97",
        "colab": {
          "base_uri": "https://localhost:8080/"
        }
      },
      "execution_count": 39,
      "outputs": [
        {
          "output_type": "stream",
          "name": "stdout",
          "text": [
            "              precision    recall  f1-score   support\n",
            "\n",
            "           0       0.57      0.71      0.63       382\n",
            "           1       0.70      0.56      0.62       469\n",
            "\n",
            "    accuracy                           0.63       851\n",
            "   macro avg       0.63      0.63      0.63       851\n",
            "weighted avg       0.64      0.63      0.63       851\n",
            "\n"
          ]
        }
      ]
    },
    {
      "cell_type": "code",
      "source": [
        "print(classification_report(X_boy[\"label\"], b_model.predict(X_boy)))"
      ],
      "metadata": {
        "colab": {
          "base_uri": "https://localhost:8080/"
        },
        "id": "d8I1buKsgkxC",
        "outputId": "5f47b272-5ec7-42bc-b44f-0a94f31aa59e"
      },
      "execution_count": 40,
      "outputs": [
        {
          "output_type": "stream",
          "name": "stdout",
          "text": [
            "              precision    recall  f1-score   support\n",
            "\n",
            "           0       0.55      0.77      0.64       694\n",
            "           1       0.62      0.37      0.47       692\n",
            "\n",
            "    accuracy                           0.57      1386\n",
            "   macro avg       0.59      0.57      0.56      1386\n",
            "weighted avg       0.59      0.57      0.56      1386\n",
            "\n"
          ]
        }
      ]
    },
    {
      "cell_type": "code",
      "source": [
        "print(classification_report(X_other[\"label\"], o_model.predict(X_other)))"
      ],
      "metadata": {
        "id": "3mygS04ggq13",
        "outputId": "dfdb1078-5001-44a9-c1ca-fb704d75bb38",
        "colab": {
          "base_uri": "https://localhost:8080/"
        }
      },
      "execution_count": 41,
      "outputs": [
        {
          "output_type": "stream",
          "name": "stdout",
          "text": [
            "              precision    recall  f1-score   support\n",
            "\n",
            "           0       0.52      0.85      0.65       176\n",
            "           1       0.47      0.15      0.23       160\n",
            "\n",
            "    accuracy                           0.51       336\n",
            "   macro avg       0.50      0.50      0.44       336\n",
            "weighted avg       0.50      0.51      0.45       336\n",
            "\n"
          ]
        }
      ]
    },
    {
      "cell_type": "markdown",
      "source": [
        "### Predict from random match\n",
        "We will use the girls dataset to predict the winner in a fantasy match"
      ],
      "metadata": {
        "id": "JcI7_-rsDiG9"
      }
    },
    {
      "cell_type": "code",
      "source": [
        "#create a list with all female breakers\n",
        "unique_p1 = X_girl['p1'].unique()\n",
        "unique_p2 = X_girl['p2'].unique()\n",
        "set_p1 = set(unique_p1)\n",
        "set_p2 = set(unique_p2)\n",
        "combined_unique = list(set_p1.union(set_p2))"
      ],
      "metadata": {
        "id": "Rts8-ykm560X"
      },
      "execution_count": 134,
      "outputs": []
    },
    {
      "cell_type": "code",
      "source": [
        "#randomly select 2 breakers for a match\n",
        "random_names = random.sample(combined_unique, 2)\n",
        "random_names"
      ],
      "metadata": {
        "colab": {
          "base_uri": "https://localhost:8080/"
        },
        "id": "GKDL9QT5CXBY",
        "outputId": "ac85a360-7881-4964-f5ad-8d5ee75b1be6"
      },
      "execution_count": 135,
      "outputs": [
        {
          "output_type": "execute_result",
          "data": {
            "text/plain": [
              "['Kiwi', 'Angel']"
            ]
          },
          "metadata": {},
          "execution_count": 135
        }
      ]
    },
    {
      "cell_type": "code",
      "source": [
        "#Create a future match\n",
        "data = {\n",
        "    'Date': ['2024-04-17'],\n",
        "    'p1': [random_names[0]],\n",
        "    'p2': [random_names[1]]\n",
        "}\n",
        "predicting_df = pd.DataFrame(data)\n",
        "predicting_df['Date'] = pd.to_datetime(predicting_df['Date'])\n",
        "prediction=g_model.predict_proba(predicting_df)\n",
        "winner_column = prediction.idxmax(axis=1)[0]\n",
        "if winner_column == 'pr1':\n",
        "    winner_name = random_names[0]\n",
        "elif winner_column == 'pr2':\n",
        "    winner_name = random_names[1]\n",
        "winner_probability=prediction[winner_column][0]\n",
        "\n",
        "print(f\"The winner would be {winner_name} with a probability of {round(winner_probability, 2)}!\")"
      ],
      "metadata": {
        "colab": {
          "base_uri": "https://localhost:8080/"
        },
        "id": "jgcdWhGS53_A",
        "outputId": "08e2a909-41d4-486d-e187-ed4dadb1ff55"
      },
      "execution_count": 137,
      "outputs": [
        {
          "output_type": "stream",
          "name": "stdout",
          "text": [
            "The winner would be Kiwi with a probability of 0.52!\n"
          ]
        }
      ]
    },
    {
      "cell_type": "markdown",
      "source": [
        "Glicko Rating"
      ],
      "metadata": {
        "id": "3OkPiNAB9qpv"
      }
    },
    {
      "cell_type": "code",
      "source": [
        "def fit_model_G(X):\n",
        "    #adapted from skelo docss example Tennis Ranking https://pypi.org/project/skelo/\n",
        "    X_subset = X[['Date', 'p1', 'p2', 'label']]\n",
        "    model= Glicko2Estimator(\n",
        "            key1_field=\"p1\",\n",
        "            key2_field=\"p2\",\n",
        "            timestamp_field=\"Date\",\n",
        "            initial_time=min(appendedBattles['Date']))\n",
        "    fitted_model = model.fit(X_subset, X_subset[\"label\"])\n",
        "\n",
        "    return fitted_model"
      ],
      "metadata": {
        "id": "gszMznjjjkFB"
      },
      "execution_count": null,
      "outputs": []
    },
    {
      "cell_type": "code",
      "source": [
        "g_model_glicko=fit_model_G(X_girl)\n",
        "b_model_glicko=fit_model_G(X_boy)\n",
        "o_model_glicko=fit_model_G(X_other)"
      ],
      "metadata": {
        "id": "7WBPEJWfkJ2K"
      },
      "execution_count": null,
      "outputs": []
    },
    {
      "cell_type": "code",
      "source": [
        "boy_glicko_rank= b_model_glicko.rating_model.to_frame()\n",
        "girl_glicko_rank=g_model_glicko.rating_model.to_frame()\n",
        "other_glicko_rank=o_model_glicko.rating_model.to_frame()"
      ],
      "metadata": {
        "id": "YgCkU12Ukb0Q"
      },
      "execution_count": null,
      "outputs": []
    },
    {
      "cell_type": "code",
      "source": [
        "boy_glicko_rank[['ranking', 'deviation', 'volatility']] = boy_glicko_rank['rating'].tolist()\n",
        "girl_glicko_rank[['ranking', 'deviation', 'volatility']] = girl_glicko_rank['rating'].tolist()\n",
        "other_glicko_rank[['ranking', 'deviation', 'volatility']] = other_glicko_rank['rating'].tolist()"
      ],
      "metadata": {
        "id": "4q3NT_Zrk4vb"
      },
      "execution_count": null,
      "outputs": []
    },
    {
      "cell_type": "code",
      "source": [
        "boy_glicko_current = boy_glicko_rank[(boy_glicko_rank['valid_to'].isnull())].sort_values(by='ranking', ascending=False)\n",
        "boy_top10_glicko = boy_glicko_current[(boy_glicko_rank['valid_from'] >= '2023-01-01')].nlargest(10, 'ranking')\n",
        "girl_glicko_current = girl_glicko_rank[(girl_glicko_rank['valid_to'].isnull())].sort_values(by='ranking', ascending=False)\n",
        "girl_top10_glicko = girl_glicko_current[(girl_glicko_rank['valid_from'] >= '2023-01-01')].nlargest(10, 'ranking')\n",
        "other_glicko_current = other_glicko_rank[(other_glicko_rank['valid_to'].isnull())].sort_values(by='ranking', ascending=False)\n",
        "other_top10_glicko = other_glicko_current[(other_glicko_current['valid_from'] >= '2023-01-01')].nlargest(10, 'ranking')\n"
      ],
      "metadata": {
        "colab": {
          "base_uri": "https://localhost:8080/"
        },
        "id": "zb4iMdLhk26W",
        "outputId": "3f4c968e-e7c0-4063-b4c1-8ca34bc0ff62"
      },
      "execution_count": null,
      "outputs": [
        {
          "output_type": "stream",
          "name": "stderr",
          "text": [
            "<ipython-input-32-0581bcdd54d3>:2: UserWarning: Boolean Series key will be reindexed to match DataFrame index.\n",
            "  boy_top10_glicko = boy_glicko_current[(boy_glicko_rank['valid_from'] >= '2023-01-01')].nlargest(10, 'ranking')\n",
            "<ipython-input-32-0581bcdd54d3>:4: UserWarning: Boolean Series key will be reindexed to match DataFrame index.\n",
            "  girl_top10_glicko = girl_glicko_current[(girl_glicko_rank['valid_from'] >= '2023-01-01')].nlargest(10, 'ranking')\n"
          ]
        }
      ]
    },
    {
      "cell_type": "code",
      "source": [
        "def plot_top_ratings_glicko(ax, ratings_frame, title):\n",
        "        #adapted from skelo docss example Tennis Ranking https://pypi.org/project/skelo/\n",
        "    ts_est = ratings_frame.pivot_table(index='valid_from', columns='key', values='ranking').ffill()\n",
        "    idx = ts_est.iloc[-1].sort_values().index[-5:]\n",
        "    ts_est.loc[:, idx].plot(ax=ax)\n",
        "    ax.set_xlabel('Date')\n",
        "    ax.set_ylabel('Ranking')\n",
        "    ax.set_title(f'Top 5 Ratings Over Time - {title}')\n",
        "    ax.legend(title='Player')\n",
        "    ax.grid(True)"
      ],
      "metadata": {
        "id": "bbvD5TF6qkt1"
      },
      "execution_count": null,
      "outputs": []
    },
    {
      "cell_type": "code",
      "source": [
        "# Create subplots\n",
        "fig, axes = plt.subplots(1, 3, figsize=(15, 5))\n",
        "\n",
        "# Plot each model's top ratings horizontally\n",
        "plot_top_ratings_glicko(axes[0], boy_glicko_rank[boy_glicko_rank['key'].isin(boy_top10_glicko['key'].to_list())], 'Boys Glicko Ranking')\n",
        "plot_top_ratings_glicko(axes[1], girl_glicko_rank[girl_glicko_rank['key'].isin(girl_top10_glicko['key'].to_list())], 'Girls Glicko Ranking')\n",
        "plot_top_ratings_glicko(axes[2], other_glicko_rank[other_glicko_rank['key'].isin(other_top10_glicko['key'].to_list())], 'Others Glicko Ranking')\n",
        "plt.tight_layout()\n",
        "plt.show()\n"
      ],
      "metadata": {
        "colab": {
          "base_uri": "https://localhost:8080/",
          "height": 493
        },
        "id": "pSDh-07pqLki",
        "outputId": "a7efdad1-c4a6-4185-80f8-1e6cf98f1b5c"
      },
      "execution_count": null,
      "outputs": [
        {
          "output_type": "display_data",
          "data": {
            "text/plain": [
              "<Figure size 1500x500 with 3 Axes>"
            ],
            "image/png": "[encoded data removed]"
          },
          "metadata": {}
        }
      ]
    },
    {
      "cell_type": "code",
      "source": [
        "print(classification_report(X_girl[\"label\"], g_model_glicko.predict(X_girl)))"
      ],
      "metadata": {
        "colab": {
          "base_uri": "https://localhost:8080/"
        },
        "id": "XWiRkuuLrJcp",
        "outputId": "88e629b0-a5ff-4d61-a648-419693480aa0"
      },
      "execution_count": null,
      "outputs": [
        {
          "output_type": "stream",
          "name": "stdout",
          "text": [
            "              precision    recall  f1-score   support\n",
            "\n",
            "           0       0.57      0.72      0.64       382\n",
            "           1       0.71      0.56      0.63       469\n",
            "\n",
            "    accuracy                           0.63       851\n",
            "   macro avg       0.64      0.64      0.63       851\n",
            "weighted avg       0.65      0.63      0.63       851\n",
            "\n"
          ]
        }
      ]
    },
    {
      "cell_type": "code",
      "source": [
        "print(classification_report(X_boy[\"label\"], b_model_glicko.predict(X_boy)))"
      ],
      "metadata": {
        "id": "jp85Pq8LMnXr",
        "outputId": "8ef5cd97-a070-4e46-9275-df153e2b5dea",
        "colab": {
          "base_uri": "https://localhost:8080/"
        }
      },
      "execution_count": null,
      "outputs": [
        {
          "output_type": "stream",
          "name": "stdout",
          "text": [
            "              precision    recall  f1-score   support\n",
            "\n",
            "           0       0.56      0.79      0.66       694\n",
            "           1       0.64      0.39      0.48       692\n",
            "\n",
            "    accuracy                           0.59      1386\n",
            "   macro avg       0.60      0.59      0.57      1386\n",
            "weighted avg       0.60      0.59      0.57      1386\n",
            "\n"
          ]
        }
      ]
    },
    {
      "cell_type": "code",
      "source": [
        "print(classification_report(X_other[\"label\"], o_model_glicko.predict(X_other)))"
      ],
      "metadata": {
        "colab": {
          "base_uri": "https://localhost:8080/"
        },
        "id": "X7lGoC8srT_6",
        "outputId": "c8332ff7-eeb2-4474-9429-b813f9415a66"
      },
      "execution_count": null,
      "outputs": [
        {
          "output_type": "stream",
          "name": "stdout",
          "text": [
            "              precision    recall  f1-score   support\n",
            "\n",
            "           0       0.52      0.82      0.64       176\n",
            "           1       0.45      0.16      0.23       160\n",
            "\n",
            "    accuracy                           0.51       336\n",
            "   macro avg       0.48      0.49      0.43       336\n",
            "weighted avg       0.48      0.51      0.44       336\n",
            "\n"
          ]
        }
      ]
    },
    {
      "cell_type": "code",
      "source": [
        "boy_glicko_rank[boy_glicko_rank['key'].isin(boy_top10_glicko['key'].to_list())]\n",
        "girl_glicko_rank[girl_glicko_rank['key'].isin(girl_top10_glicko['key'].to_list())]\n",
        "other_glicko_rank[other_glicko_rank['key'].isin(other_top10_glicko['key'].to_list())]"
      ],
      "metadata": {
        "colab": {
          "base_uri": "https://localhost:8080/",
          "height": 423
        },
        "id": "Yx9EDqAXsEzI",
        "outputId": "4d1f1642-0a99-4137-d4c2-fb5993a4107f"
      },
      "execution_count": null,
      "outputs": [
        {
          "output_type": "execute_result",
          "data": {
            "text/plain": [
              "       key                                             rating valid_from  \\\n",
              "46   Marox                              (1500.0, 350.0, 0.06) 2017-05-11   \n",
              "47   Marox      (1662.3108949761174, 290.3189646747521, 0.06) 2018-04-07   \n",
              "48   Marox  (1554.5476432507326, 244.29757298606506, 0.059... 2018-04-07   \n",
              "49   Marox  (1678.060100098176, 218.31960158442098, 0.0600... 2018-04-07   \n",
              "50   Marox  (1572.3816807960548, 203.12291818148705, 0.060... 2018-09-01   \n",
              "..     ...                                                ...        ...   \n",
              "759   Liam  (1910.7808211008173, 232.45067015018944, 0.060... 2023-06-24   \n",
              "777   Sean                              (1500.0, 350.0, 0.06) 2017-05-11   \n",
              "778   Sean     (1668.9381929451254, 275.86130044209125, 0.06) 2023-06-24   \n",
              "779   Sean  (1571.6813697455923, 239.69567348805785, 0.059... 2023-06-24   \n",
              "780   Sean  (1650.7627958425385, 218.16044876455294, 0.059... 2023-06-24   \n",
              "\n",
              "      valid_to      ranking   deviation  volatility  \n",
              "46  2018-04-07  1500.000000  350.000000    0.060000  \n",
              "47  2018-04-07  1662.310895  290.318965    0.060000  \n",
              "48  2018-04-07  1554.547643  244.297573    0.059999  \n",
              "49  2018-09-01  1678.060100  218.319602    0.060000  \n",
              "50  2019-03-15  1572.381681  203.122918    0.060001  \n",
              "..         ...          ...         ...         ...  \n",
              "759        NaT  1910.780821  232.450670    0.060001  \n",
              "777 2023-06-24  1500.000000  350.000000    0.060000  \n",
              "778 2023-06-24  1668.938193  275.861300    0.060000  \n",
              "779 2023-06-24  1571.681370  239.695673    0.059999  \n",
              "780        NaT  1650.762796  218.160449    0.059999  \n",
              "\n",
              "[69 rows x 7 columns]"
            ],
            "text/html": [
              "\n",
              "  <div id=\"df-8911bba6-a4b7-44d2-8e98-dbb93a904f4d\" class=\"colab-df-container\">\n",
              "    <div>\n",
              "<style scoped>\n",
              "    .dataframe tbody tr th:only-of-type {\n",
              "        vertical-align: middle;\n",
              "    }\n",
              "\n",
              "    .dataframe tbody tr th {\n",
              "        vertical-align: top;\n",
              "    }\n",
              "\n",
              "    .dataframe thead th {\n",
              "        text-align: right;\n",
              "    }\n",
              "</style>\n",
              "<table border=\"1\" class=\"dataframe\">\n",
              "  <thead>\n",
              "    <tr style=\"text-align: right;\">\n",
              "      <th></th>\n",
              "      <th>key</th>\n",
              "      <th>rating</th>\n",
              "      <th>valid_from</th>\n",
              "      <th>valid_to</th>\n",
              "      <th>ranking</th>\n",
              "      <th>deviation</th>\n",
              "      <th>volatility</th>\n",
              "    </tr>\n",
              "  </thead>\n",
              "  <tbody>\n",
              "    <tr>\n",
              "      <th>46</th>\n",
              "      <td>Marox</td>\n",
              "      <td>(1500.0, 350.0, 0.06)</td>\n",
              "      <td>2017-05-11</td>\n",
              "      <td>2018-04-07</td>\n",
              "      <td>1500.000000</td>\n",
              "      <td>350.000000</td>\n",
              "      <td>0.060000</td>\n",
              "    </tr>\n",
              "    <tr>\n",
              "      <th>47</th>\n",
              "      <td>Marox</td>\n",
              "      <td>(1662.3108949761174, 290.3189646747521, 0.06)</td>\n",
              "      <td>2018-04-07</td>\n",
              "      <td>2018-04-07</td>\n",
              "      <td>1662.310895</td>\n",
              "      <td>290.318965</td>\n",
              "      <td>0.060000</td>\n",
              "    </tr>\n",
              "    <tr>\n",
              "      <th>48</th>\n",
              "      <td>Marox</td>\n",
              "      <td>(1554.5476432507326, 244.29757298606506, 0.059...</td>\n",
              "      <td>2018-04-07</td>\n",
              "      <td>2018-04-07</td>\n",
              "      <td>1554.547643</td>\n",
              "      <td>244.297573</td>\n",
              "      <td>0.059999</td>\n",
              "    </tr>\n",
              "    <tr>\n",
              "      <th>49</th>\n",
              "      <td>Marox</td>\n",
              "      <td>(1678.060100098176, 218.31960158442098, 0.0600...</td>\n",
              "      <td>2018-04-07</td>\n",
              "      <td>2018-09-01</td>\n",
              "      <td>1678.060100</td>\n",
              "      <td>218.319602</td>\n",
              "      <td>0.060000</td>\n",
              "    </tr>\n",
              "    <tr>\n",
              "      <th>50</th>\n",
              "      <td>Marox</td>\n",
              "      <td>(1572.3816807960548, 203.12291818148705, 0.060...</td>\n",
              "      <td>2018-09-01</td>\n",
              "      <td>2019-03-15</td>\n",
              "      <td>1572.381681</td>\n",
              "      <td>203.122918</td>\n",
              "      <td>0.060001</td>\n",
              "    </tr>\n",
              "    <tr>\n",
              "      <th>...</th>\n",
              "      <td>...</td>\n",
              "      <td>...</td>\n",
              "      <td>...</td>\n",
              "      <td>...</td>\n",
              "      <td>...</td>\n",
              "      <td>...</td>\n",
              "      <td>...</td>\n",
              "    </tr>\n",
              "    <tr>\n",
              "      <th>759</th>\n",
              "      <td>Liam</td>\n",
              "      <td>(1910.7808211008173, 232.45067015018944, 0.060...</td>\n",
              "      <td>2023-06-24</td>\n",
              "      <td>NaT</td>\n",
              "      <td>1910.780821</td>\n",
              "      <td>232.450670</td>\n",
              "      <td>0.060001</td>\n",
              "    </tr>\n",
              "    <tr>\n",
              "      <th>777</th>\n",
              "      <td>Sean</td>\n",
              "      <td>(1500.0, 350.0, 0.06)</td>\n",
              "      <td>2017-05-11</td>\n",
              "      <td>2023-06-24</td>\n",
              "      <td>1500.000000</td>\n",
              "      <td>350.000000</td>\n",
              "      <td>0.060000</td>\n",
              "    </tr>\n",
              "    <tr>\n",
              "      <th>778</th>\n",
              "      <td>Sean</td>\n",
              "      <td>(1668.9381929451254, 275.86130044209125, 0.06)</td>\n",
              "      <td>2023-06-24</td>\n",
              "      <td>2023-06-24</td>\n",
              "      <td>1668.938193</td>\n",
              "      <td>275.861300</td>\n",
              "      <td>0.060000</td>\n",
              "    </tr>\n",
              "    <tr>\n",
              "      <th>779</th>\n",
              "      <td>Sean</td>\n",
              "      <td>(1571.6813697455923, 239.69567348805785, 0.059...</td>\n",
              "      <td>2023-06-24</td>\n",
              "      <td>2023-06-24</td>\n",
              "      <td>1571.681370</td>\n",
              "      <td>239.695673</td>\n",
              "      <td>0.059999</td>\n",
              "    </tr>\n",
              "    <tr>\n",
              "      <th>780</th>\n",
              "      <td>Sean</td>\n",
              "      <td>(1650.7627958425385, 218.16044876455294, 0.059...</td>\n",
              "      <td>2023-06-24</td>\n",
              "      <td>NaT</td>\n",
              "      <td>1650.762796</td>\n",
              "      <td>218.160449</td>\n",
              "      <td>0.059999</td>\n",
              "    </tr>\n",
              "  </tbody>\n",
              "</table>\n",
              "<p>69 rows × 7 columns</p>\n",
              "</div>\n",
              "    <div class=\"colab-df-buttons\">\n",
              "\n",
              "  <div class=\"colab-df-container\">\n",
              "    <button class=\"colab-df-convert\" onclick=\"convertToInteractive('df-8911bba6-a4b7-44d2-8e98-dbb93a904f4d')\"\n",
              "            title=\"Convert this dataframe to an interactive table.\"\n",
              "            style=\"display:none;\">\n",
              "\n",
              "  <svg xmlns=\"http://www.w3.org/2000/svg\" height=\"24px\" viewBox=\"0 -960 960 960\">\n",
              "    <path d=\"M120-120v-720h720v720H120Zm60-500h600v-160H180v160Zm220 220h160v-160H400v160Zm0 220h160v-160H400v160ZM180-400h160v-160H180v160Zm440 0h160v-160H620v160ZM180-180h160v-160H180v160Zm440 0h160v-160H620v160Z\"/>\n",
              "  </svg>\n",
              "    </button>\n",
              "\n",
              "  <style>\n",
              "    .colab-df-container {\n",
              "      display:flex;\n",
              "      gap: 12px;\n",
              "    }\n",
              "\n",
              "    .colab-df-convert {\n",
              "      background-color: #E8F0FE;\n",
              "      border: none;\n",
              "      border-radius: 50%;\n",
              "      cursor: pointer;\n",
              "      display: none;\n",
              "      fill: #1967D2;\n",
              "      height: 32px;\n",
              "      padding: 0 0 0 0;\n",
              "      width: 32px;\n",
              "    }\n",
              "\n",
              "    .colab-df-convert:hover {\n",
              "      background-color: #E2EBFA;\n",
              "      box-shadow: 0px 1px 2px rgba(60, 64, 67, 0.3), 0px 1px 3px 1px rgba(60, 64, 67, 0.15);\n",
              "      fill: #174EA6;\n",
              "    }\n",
              "\n",
              "    .colab-df-buttons div {\n",
              "      margin-bottom: 4px;\n",
              "    }\n",
              "\n",
              "    [theme=dark] .colab-df-convert {\n",
              "      background-color: #3B4455;\n",
              "      fill: #D2E3FC;\n",
              "    }\n",
              "\n",
              "    [theme=dark] .colab-df-convert:hover {\n",
              "      background-color: #434B5C;\n",
              "      box-shadow: 0px 1px 3px 1px rgba(0, 0, 0, 0.15);\n",
              "      filter: drop-shadow(0px 1px 2px rgba(0, 0, 0, 0.3));\n",
              "      fill: #FFFFFF;\n",
              "    }\n",
              "  </style>\n",
              "\n",
              "    <script>\n",
              "      const buttonEl =\n",
              "        document.querySelector('#df-8911bba6-a4b7-44d2-8e98-dbb93a904f4d button.colab-df-convert');\n",
              "      buttonEl.style.display =\n",
              "        google.colab.kernel.accessAllowed ? 'block' : 'none';\n",
              "\n",
              "      async function convertToInteractive(key) {\n",
              "        const element = document.querySelector('#df-8911bba6-a4b7-44d2-8e98-dbb93a904f4d');\n",
              "        const dataTable =\n",
              "          await google.colab.kernel.invokeFunction('convertToInteractive',\n",
              "                                                    [key], {});\n",
              "        if (!dataTable) return;\n",
              "\n",
              "        const docLinkHtml = 'Like what you see? Visit the ' +\n",
              "          '<a target=\"_blank\" href=https://colab.research.google.com/notebooks/data_table.ipynb>data table notebook</a>'\n",
              "          + ' to learn more about interactive tables.';\n",
              "        element.innerHTML = '';\n",
              "        dataTable['output_type'] = 'display_data';\n",
              "        await google.colab.output.renderOutput(dataTable, element);\n",
              "        const docLink = document.createElement('div');\n",
              "        docLink.innerHTML = docLinkHtml;\n",
              "        element.appendChild(docLink);\n",
              "      }\n",
              "    </script>\n",
              "  </div>\n",
              "\n",
              "\n",
              "<div id=\"df-e09a6c50-1285-47f1-8c8d-246a1e5d28b9\">\n",
              "  <button class=\"colab-df-quickchart\" onclick=\"quickchart('df-e09a6c50-1285-47f1-8c8d-246a1e5d28b9')\"\n",
              "            title=\"Suggest charts\"\n",
              "            style=\"display:none;\">\n",
              "\n",
              "<svg xmlns=\"http://www.w3.org/2000/svg\" height=\"24px\"viewBox=\"0 0 24 24\"\n",
              "     width=\"24px\">\n",
              "    <g>\n",
              "        <path d=\"M19 3H5c-1.1 0-2 .9-2 2v14c0 1.1.9 2 2 2h14c1.1 0 2-.9 2-2V5c0-1.1-.9-2-2-2zM9 17H7v-7h2v7zm4 0h-2V7h2v10zm4 0h-2v-4h2v4z\"/>\n",
              "    </g>\n",
              "</svg>\n",
              "  </button>\n",
              "\n",
              "<style>\n",
              "  .colab-df-quickchart {\n",
              "      --bg-color: #E8F0FE;\n",
              "      --fill-color: #1967D2;\n",
              "      --hover-bg-color: #E2EBFA;\n",
              "      --hover-fill-color: #174EA6;\n",
              "      --disabled-fill-color: #AAA;\n",
              "      --disabled-bg-color: #DDD;\n",
              "  }\n",
              "\n",
              "  [theme=dark] .colab-df-quickchart {\n",
              "      --bg-color: #3B4455;\n",
              "      --fill-color: #D2E3FC;\n",
              "      --hover-bg-color: #434B5C;\n",
              "      --hover-fill-color: #FFFFFF;\n",
              "      --disabled-bg-color: #3B4455;\n",
              "      --disabled-fill-color: #666;\n",
              "  }\n",
              "\n",
              "  .colab-df-quickchart {\n",
              "    background-color: var(--bg-color);\n",
              "    border: none;\n",
              "    border-radius: 50%;\n",
              "    cursor: pointer;\n",
              "    display: none;\n",
              "    fill: var(--fill-color);\n",
              "    height: 32px;\n",
              "    padding: 0;\n",
              "    width: 32px;\n",
              "  }\n",
              "\n",
              "  .colab-df-quickchart:hover {\n",
              "    background-color: var(--hover-bg-color);\n",
              "    box-shadow: 0 1px 2px rgba(60, 64, 67, 0.3), 0 1px 3px 1px rgba(60, 64, 67, 0.15);\n",
              "    fill: var(--button-hover-fill-color);\n",
              "  }\n",
              "\n",
              "  .colab-df-quickchart-complete:disabled,\n",
              "  .colab-df-quickchart-complete:disabled:hover {\n",
              "    background-color: var(--disabled-bg-color);\n",
              "    fill: var(--disabled-fill-color);\n",
              "    box-shadow: none;\n",
              "  }\n",
              "\n",
              "  .colab-df-spinner {\n",
              "    border: 2px solid var(--fill-color);\n",
              "    border-color: transparent;\n",
              "    border-bottom-color: var(--fill-color);\n",
              "    animation:\n",
              "      spin 1s steps(1) infinite;\n",
              "  }\n",
              "\n",
              "  @keyframes spin {\n",
              "    0% {\n",
              "      border-color: transparent;\n",
              "      border-bottom-color: var(--fill-color);\n",
              "      border-left-color: var(--fill-color);\n",
              "    }\n",
              "    20% {\n",
              "      border-color: transparent;\n",
              "      border-left-color: var(--fill-color);\n",
              "      border-top-color: var(--fill-color);\n",
              "    }\n",
              "    30% {\n",
              "      border-color: transparent;\n",
              "      border-left-color: var(--fill-color);\n",
              "      border-top-color: var(--fill-color);\n",
              "      border-right-color: var(--fill-color);\n",
              "    }\n",
              "    40% {\n",
              "      border-color: transparent;\n",
              "      border-right-color: var(--fill-color);\n",
              "      border-top-color: var(--fill-color);\n",
              "    }\n",
              "    60% {\n",
              "      border-color: transparent;\n",
              "      border-right-color: var(--fill-color);\n",
              "    }\n",
              "    80% {\n",
              "      border-color: transparent;\n",
              "      border-right-color: var(--fill-color);\n",
              "      border-bottom-color: var(--fill-color);\n",
              "    }\n",
              "    90% {\n",
              "      border-color: transparent;\n",
              "      border-bottom-color: var(--fill-color);\n",
              "    }\n",
              "  }\n",
              "</style>\n",
              "\n",
              "  <script>\n",
              "    async function quickchart(key) {\n",
              "      const quickchartButtonEl =\n",
              "        document.querySelector('#' + key + ' button');\n",
              "      quickchartButtonEl.disabled = true;  // To prevent multiple clicks.\n",
              "      quickchartButtonEl.classList.add('colab-df-spinner');\n",
              "      try {\n",
              "        const charts = await google.colab.kernel.invokeFunction(\n",
              "            'suggestCharts', [key], {});\n",
              "      } catch (error) {\n",
              "        console.error('Error during call to suggestCharts:', error);\n",
              "      }\n",
              "      quickchartButtonEl.classList.remove('colab-df-spinner');\n",
              "      quickchartButtonEl.classList.add('colab-df-quickchart-complete');\n",
              "    }\n",
              "    (() => {\n",
              "      let quickchartButtonEl =\n",
              "        document.querySelector('#df-e09a6c50-1285-47f1-8c8d-246a1e5d28b9 button');\n",
              "      quickchartButtonEl.style.display =\n",
              "        google.colab.kernel.accessAllowed ? 'block' : 'none';\n",
              "    })();\n",
              "  </script>\n",
              "</div>\n",
              "    </div>\n",
              "  </div>\n"
            ],
            "application/vnd.google.colaboratory.intrinsic+json": {
              "type": "dataframe",
              "summary": "{\n  \"name\": \"other_glicko_rank[other_glicko_rank['key']\",\n  \"rows\": 69,\n  \"fields\": [\n    {\n      \"column\": \"key\",\n      \"properties\": {\n        \"dtype\": \"category\",\n        \"num_unique_values\": 10,\n        \"samples\": [\n          \"Liam\",\n          \"lyna Rock\",\n          \"Rico\"\n        ],\n        \"semantic_type\": \"\",\n        \"description\": \"\"\n      }\n    },\n    {\n      \"column\": \"rating\",\n      \"properties\": {\n        \"dtype\": \"string\",\n        \"num_unique_values\": 59,\n        \"samples\": [\n          [\n            1500.0,\n            350.0,\n            0.06\n          ],\n          [\n            1455.4930278323016,\n            184.6779894785111,\n            0.06000369049048847\n          ],\n          [\n            1823.2570487163061,\n            131.7701331970436,\n            0.059997701830288304\n          ]\n        ],\n        \"semantic_type\": \"\",\n        \"description\": \"\"\n      }\n    },\n    {\n      \"column\": \"valid_from\",\n      \"properties\": {\n        \"dtype\": \"date\",\n        \"min\": \"2017-05-11 00:00:00\",\n        \"max\": \"2023-11-25 00:00:00\",\n        \"num_unique_values\": 12,\n        \"samples\": [\n          \"2019-11-09 00:00:00\",\n          \"2019-03-23 00:00:00\",\n          \"2017-05-11 00:00:00\"\n        ],\n        \"semantic_type\": \"\",\n        \"description\": \"\"\n      }\n    },\n    {\n      \"column\": \"valid_to\",\n      \"properties\": {\n        \"dtype\": \"date\",\n        \"min\": \"2018-04-07 00:00:00\",\n        \"max\": \"2023-11-25 00:00:00\",\n        \"num_unique_values\": 11,\n        \"samples\": [\n          \"2019-11-30 00:00:00\",\n          \"2018-04-07 00:00:00\",\n          \"2019-11-09 00:00:00\"\n        ],\n        \"semantic_type\": \"\",\n        \"description\": \"\"\n      }\n    },\n    {\n      \"column\": \"ranking\",\n      \"properties\": {\n        \"dtype\": \"number\",\n        \"std\": 161.69141329159078,\n        \"min\": 1256.239644526365,\n        \"max\": 1962.958979951118,\n        \"num_unique_values\": 59,\n        \"samples\": [\n          1500.0,\n          1455.4930278323016,\n          1823.2570487163061\n        ],\n        \"semantic_type\": \"\",\n        \"description\": \"\"\n      }\n    },\n    {\n      \"column\": \"deviation\",\n      \"properties\": {\n        \"dtype\": \"number\",\n        \"std\": 66.7901523589852,\n        \"min\": 131.7701331970436,\n        \"max\": 350.0,\n        \"num_unique_values\": 59,\n        \"samples\": [\n          350.0,\n          184.6779894785111,\n          131.7701331970436\n        ],\n        \"semantic_type\": \"\",\n        \"description\": \"\"\n      }\n    },\n    {\n      \"column\": \"volatility\",\n      \"properties\": {\n        \"dtype\": \"number\",\n        \"std\": 3.1976794411571553e-06,\n        \"min\": 0.05999530333153653,\n        \"max\": 0.06001048529574533,\n        \"num_unique_values\": 57,\n        \"samples\": [\n          0.06,\n          0.06000395539423593,\n          0.05999902482084101\n        ],\n        \"semantic_type\": \"\",\n        \"description\": \"\"\n      }\n    }\n  ]\n}"
            }
          },
          "metadata": {},
          "execution_count": 38
        }
      ]
    },
    {
      "cell_type": "code",
      "source": [
        "# Filter the DataFrames based on 'key' being in their respective top10 lists\n",
        "filtered_boy = boy_glicko_rank[boy_glicko_rank['key'].isin(boy_top10_glicko['key'].to_list())].copy()\n",
        "filtered_girl = girl_glicko_rank[girl_glicko_rank['key'].isin(girl_top10_glicko['key'].to_list())].copy()\n",
        "filtered_other = other_glicko_rank[other_glicko_rank['key'].isin(other_top10_glicko['key'].to_list())].copy()\n",
        "\n",
        "\n",
        "filtered_boy['source'] = 'boy'\n",
        "filtered_girl['source'] = 'girl'\n",
        "filtered_other['source'] = 'other'\n",
        "\n",
        "\n",
        "combined_glicko = pd.concat([filtered_boy, filtered_girl, filtered_other], ignore_index=True)\n"
      ],
      "metadata": {
        "id": "QQhVjm5EvQXR"
      },
      "execution_count": null,
      "outputs": []
    },
    {
      "cell_type": "code",
      "source": [
        "pd.DataFrame(data={'Elo_boys':boy_top10['key'].to_numpy(), 'Glicko_boys': boy_top10_glicko['key'].to_numpy(),\n",
        "                   'Elo_girls': girl_top10['key'].to_numpy(), 'Glicko_girls': girl_top10_glicko['key'].to_numpy(),\n",
        "                   'Elo_Other':other_top10['key'].to_numpy(), 'Glicko_other': other_top10_glicko['key'].to_numpy() })"
      ],
      "metadata": {
        "id": "QQgMmjGd21cR",
        "outputId": "b0c76ab0-3f1d-4795-8ccf-20a727cf04a9",
        "colab": {
          "base_uri": "https://localhost:8080/",
          "height": 363
        }
      },
      "execution_count": null,
      "outputs": [
        {
          "output_type": "execute_result",
          "data": {
            "text/plain": [
              "      Elo_boys  Glicko_boys     Elo_girls Glicko_girls      Elo_Other  \\\n",
              "0     Shigekix  Phil Wizard           Ami          Ami         Lee-On   \n",
              "1  Phil Wizard     Shigekix         Ayumi        Ayumi  Bboy Scheggia   \n",
              "2         Amir       Jeffro           671          671      lyna Rock   \n",
              "3    Dany Dann         Amir         India        India           Liam   \n",
              "4       Jeffro         Wing         Sunny      Logistx            Tik   \n",
              "5        Kuzya        Menno  Alessandrina        Sunny           Rico   \n",
              "6      Gravity        Kuzya          Anti        Kimie          Marox   \n",
              "7          Lee      Gravity         Kimie         Riko          Jaron   \n",
              "8        Menno          Lee         Ayane       koharu           Sean   \n",
              "9      Lil Zoo    Dany Dann         Jilou  Little Sofy      Ryan King   \n",
              "\n",
              "    Glicko_other  \n",
              "0      lyna Rock  \n",
              "1  Bboy Scheggia  \n",
              "2           Liam  \n",
              "3         Lee-On  \n",
              "4           Rico  \n",
              "5          Jaron  \n",
              "6       Kid Kong  \n",
              "7          Marox  \n",
              "8            Tik  \n",
              "9           Sean  "
            ],
            "text/html": [
              "\n",
              "  <div id=\"df-3c605bd9-8c24-46c3-8960-9f3222b9bce6\" class=\"colab-df-container\">\n",
              "    <div>\n",
              "<style scoped>\n",
              "    .dataframe tbody tr th:only-of-type {\n",
              "        vertical-align: middle;\n",
              "    }\n",
              "\n",
              "    .dataframe tbody tr th {\n",
              "        vertical-align: top;\n",
              "    }\n",
              "\n",
              "    .dataframe thead th {\n",
              "        text-align: right;\n",
              "    }\n",
              "</style>\n",
              "<table border=\"1\" class=\"dataframe\">\n",
              "  <thead>\n",
              "    <tr style=\"text-align: right;\">\n",
              "      <th></th>\n",
              "      <th>Elo_boys</th>\n",
              "      <th>Glicko_boys</th>\n",
              "      <th>Elo_girls</th>\n",
              "      <th>Glicko_girls</th>\n",
              "      <th>Elo_Other</th>\n",
              "      <th>Glicko_other</th>\n",
              "    </tr>\n",
              "  </thead>\n",
              "  <tbody>\n",
              "    <tr>\n",
              "      <th>0</th>\n",
              "      <td>Shigekix</td>\n",
              "      <td>Phil Wizard</td>\n",
              "      <td>Ami</td>\n",
              "      <td>Ami</td>\n",
              "      <td>Lee-On</td>\n",
              "      <td>lyna Rock</td>\n",
              "    </tr>\n",
              "    <tr>\n",
              "      <th>1</th>\n",
              "      <td>Phil Wizard</td>\n",
              "      <td>Shigekix</td>\n",
              "      <td>Ayumi</td>\n",
              "      <td>Ayumi</td>\n",
              "      <td>Bboy Scheggia</td>\n",
              "      <td>Bboy Scheggia</td>\n",
              "    </tr>\n",
              "    <tr>\n",
              "      <th>2</th>\n",
              "      <td>Amir</td>\n",
              "      <td>Jeffro</td>\n",
              "      <td>671</td>\n",
              "      <td>671</td>\n",
              "      <td>lyna Rock</td>\n",
              "      <td>Liam</td>\n",
              "    </tr>\n",
              "    <tr>\n",
              "      <th>3</th>\n",
              "      <td>Dany Dann</td>\n",
              "      <td>Amir</td>\n",
              "      <td>India</td>\n",
              "      <td>India</td>\n",
              "      <td>Liam</td>\n",
              "      <td>Lee-On</td>\n",
              "    </tr>\n",
              "    <tr>\n",
              "      <th>4</th>\n",
              "      <td>Jeffro</td>\n",
              "      <td>Wing</td>\n",
              "      <td>Sunny</td>\n",
              "      <td>Logistx</td>\n",
              "      <td>Tik</td>\n",
              "      <td>Rico</td>\n",
              "    </tr>\n",
              "    <tr>\n",
              "      <th>5</th>\n",
              "      <td>Kuzya</td>\n",
              "      <td>Menno</td>\n",
              "      <td>Alessandrina</td>\n",
              "      <td>Sunny</td>\n",
              "      <td>Rico</td>\n",
              "      <td>Jaron</td>\n",
              "    </tr>\n",
              "    <tr>\n",
              "      <th>6</th>\n",
              "      <td>Gravity</td>\n",
              "      <td>Kuzya</td>\n",
              "      <td>Anti</td>\n",
              "      <td>Kimie</td>\n",
              "      <td>Marox</td>\n",
              "      <td>Kid Kong</td>\n",
              "    </tr>\n",
              "    <tr>\n",
              "      <th>7</th>\n",
              "      <td>Lee</td>\n",
              "      <td>Gravity</td>\n",
              "      <td>Kimie</td>\n",
              "      <td>Riko</td>\n",
              "      <td>Jaron</td>\n",
              "      <td>Marox</td>\n",
              "    </tr>\n",
              "    <tr>\n",
              "      <th>8</th>\n",
              "      <td>Menno</td>\n",
              "      <td>Lee</td>\n",
              "      <td>Ayane</td>\n",
              "      <td>koharu</td>\n",
              "      <td>Sean</td>\n",
              "      <td>Tik</td>\n",
              "    </tr>\n",
              "    <tr>\n",
              "      <th>9</th>\n",
              "      <td>Lil Zoo</td>\n",
              "      <td>Dany Dann</td>\n",
              "      <td>Jilou</td>\n",
              "      <td>Little Sofy</td>\n",
              "      <td>Ryan King</td>\n",
              "      <td>Sean</td>\n",
              "    </tr>\n",
              "  </tbody>\n",
              "</table>\n",
              "</div>\n",
              "    <div class=\"colab-df-buttons\">\n",
              "\n",
              "  <div class=\"colab-df-container\">\n",
              "    <button class=\"colab-df-convert\" onclick=\"convertToInteractive('df-3c605bd9-8c24-46c3-8960-9f3222b9bce6')\"\n",
              "            title=\"Convert this dataframe to an interactive table.\"\n",
              "            style=\"display:none;\">\n",
              "\n",
              "  <svg xmlns=\"http://www.w3.org/2000/svg\" height=\"24px\" viewBox=\"0 -960 960 960\">\n",
              "    <path d=\"M120-120v-720h720v720H120Zm60-500h600v-160H180v160Zm220 220h160v-160H400v160Zm0 220h160v-160H400v160ZM180-400h160v-160H180v160Zm440 0h160v-160H620v160ZM180-180h160v-160H180v160Zm440 0h160v-160H620v160Z\"/>\n",
              "  </svg>\n",
              "    </button>\n",
              "\n",
              "  <style>\n",
              "    .colab-df-container {\n",
              "      display:flex;\n",
              "      gap: 12px;\n",
              "    }\n",
              "\n",
              "    .colab-df-convert {\n",
              "      background-color: #E8F0FE;\n",
              "      border: none;\n",
              "      border-radius: 50%;\n",
              "      cursor: pointer;\n",
              "      display: none;\n",
              "      fill: #1967D2;\n",
              "      height: 32px;\n",
              "      padding: 0 0 0 0;\n",
              "      width: 32px;\n",
              "    }\n",
              "\n",
              "    .colab-df-convert:hover {\n",
              "      background-color: #E2EBFA;\n",
              "      box-shadow: 0px 1px 2px rgba(60, 64, 67, 0.3), 0px 1px 3px 1px rgba(60, 64, 67, 0.15);\n",
              "      fill: #174EA6;\n",
              "    }\n",
              "\n",
              "    .colab-df-buttons div {\n",
              "      margin-bottom: 4px;\n",
              "    }\n",
              "\n",
              "    [theme=dark] .colab-df-convert {\n",
              "      background-color: #3B4455;\n",
              "      fill: #D2E3FC;\n",
              "    }\n",
              "\n",
              "    [theme=dark] .colab-df-convert:hover {\n",
              "      background-color: #434B5C;\n",
              "      box-shadow: 0px 1px 3px 1px rgba(0, 0, 0, 0.15);\n",
              "      filter: drop-shadow(0px 1px 2px rgba(0, 0, 0, 0.3));\n",
              "      fill: #FFFFFF;\n",
              "    }\n",
              "  </style>\n",
              "\n",
              "    <script>\n",
              "      const buttonEl =\n",
              "        document.querySelector('#df-3c605bd9-8c24-46c3-8960-9f3222b9bce6 button.colab-df-convert');\n",
              "      buttonEl.style.display =\n",
              "        google.colab.kernel.accessAllowed ? 'block' : 'none';\n",
              "\n",
              "      async function convertToInteractive(key) {\n",
              "        const element = document.querySelector('#df-3c605bd9-8c24-46c3-8960-9f3222b9bce6');\n",
              "        const dataTable =\n",
              "          await google.colab.kernel.invokeFunction('convertToInteractive',\n",
              "                                                    [key], {});\n",
              "        if (!dataTable) return;\n",
              "\n",
              "        const docLinkHtml = 'Like what you see? Visit the ' +\n",
              "          '<a target=\"_blank\" href=https://colab.research.google.com/notebooks/data_table.ipynb>data table notebook</a>'\n",
              "          + ' to learn more about interactive tables.';\n",
              "        element.innerHTML = '';\n",
              "        dataTable['output_type'] = 'display_data';\n",
              "        await google.colab.output.renderOutput(dataTable, element);\n",
              "        const docLink = document.createElement('div');\n",
              "        docLink.innerHTML = docLinkHtml;\n",
              "        element.appendChild(docLink);\n",
              "      }\n",
              "    </script>\n",
              "  </div>\n",
              "\n",
              "\n",
              "<div id=\"df-f20e2254-44e6-4e4e-a86d-cfdeaea30ffa\">\n",
              "  <button class=\"colab-df-quickchart\" onclick=\"quickchart('df-f20e2254-44e6-4e4e-a86d-cfdeaea30ffa')\"\n",
              "            title=\"Suggest charts\"\n",
              "            style=\"display:none;\">\n",
              "\n",
              "<svg xmlns=\"http://www.w3.org/2000/svg\" height=\"24px\"viewBox=\"0 0 24 24\"\n",
              "     width=\"24px\">\n",
              "    <g>\n",
              "        <path d=\"M19 3H5c-1.1 0-2 .9-2 2v14c0 1.1.9 2 2 2h14c1.1 0 2-.9 2-2V5c0-1.1-.9-2-2-2zM9 17H7v-7h2v7zm4 0h-2V7h2v10zm4 0h-2v-4h2v4z\"/>\n",
              "    </g>\n",
              "</svg>\n",
              "  </button>\n",
              "\n",
              "<style>\n",
              "  .colab-df-quickchart {\n",
              "      --bg-color: #E8F0FE;\n",
              "      --fill-color: #1967D2;\n",
              "      --hover-bg-color: #E2EBFA;\n",
              "      --hover-fill-color: #174EA6;\n",
              "      --disabled-fill-color: #AAA;\n",
              "      --disabled-bg-color: #DDD;\n",
              "  }\n",
              "\n",
              "  [theme=dark] .colab-df-quickchart {\n",
              "      --bg-color: #3B4455;\n",
              "      --fill-color: #D2E3FC;\n",
              "      --hover-bg-color: #434B5C;\n",
              "      --hover-fill-color: #FFFFFF;\n",
              "      --disabled-bg-color: #3B4455;\n",
              "      --disabled-fill-color: #666;\n",
              "  }\n",
              "\n",
              "  .colab-df-quickchart {\n",
              "    background-color: var(--bg-color);\n",
              "    border: none;\n",
              "    border-radius: 50%;\n",
              "    cursor: pointer;\n",
              "    display: none;\n",
              "    fill: var(--fill-color);\n",
              "    height: 32px;\n",
              "    padding: 0;\n",
              "    width: 32px;\n",
              "  }\n",
              "\n",
              "  .colab-df-quickchart:hover {\n",
              "    background-color: var(--hover-bg-color);\n",
              "    box-shadow: 0 1px 2px rgba(60, 64, 67, 0.3), 0 1px 3px 1px rgba(60, 64, 67, 0.15);\n",
              "    fill: var(--button-hover-fill-color);\n",
              "  }\n",
              "\n",
              "  .colab-df-quickchart-complete:disabled,\n",
              "  .colab-df-quickchart-complete:disabled:hover {\n",
              "    background-color: var(--disabled-bg-color);\n",
              "    fill: var(--disabled-fill-color);\n",
              "    box-shadow: none;\n",
              "  }\n",
              "\n",
              "  .colab-df-spinner {\n",
              "    border: 2px solid var(--fill-color);\n",
              "    border-color: transparent;\n",
              "    border-bottom-color: var(--fill-color);\n",
              "    animation:\n",
              "      spin 1s steps(1) infinite;\n",
              "  }\n",
              "\n",
              "  @keyframes spin {\n",
              "    0% {\n",
              "      border-color: transparent;\n",
              "      border-bottom-color: var(--fill-color);\n",
              "      border-left-color: var(--fill-color);\n",
              "    }\n",
              "    20% {\n",
              "      border-color: transparent;\n",
              "      border-left-color: var(--fill-color);\n",
              "      border-top-color: var(--fill-color);\n",
              "    }\n",
              "    30% {\n",
              "      border-color: transparent;\n",
              "      border-left-color: var(--fill-color);\n",
              "      border-top-color: var(--fill-color);\n",
              "      border-right-color: var(--fill-color);\n",
              "    }\n",
              "    40% {\n",
              "      border-color: transparent;\n",
              "      border-right-color: var(--fill-color);\n",
              "      border-top-color: var(--fill-color);\n",
              "    }\n",
              "    60% {\n",
              "      border-color: transparent;\n",
              "      border-right-color: var(--fill-color);\n",
              "    }\n",
              "    80% {\n",
              "      border-color: transparent;\n",
              "      border-right-color: var(--fill-color);\n",
              "      border-bottom-color: var(--fill-color);\n",
              "    }\n",
              "    90% {\n",
              "      border-color: transparent;\n",
              "      border-bottom-color: var(--fill-color);\n",
              "    }\n",
              "  }\n",
              "</style>\n",
              "\n",
              "  <script>\n",
              "    async function quickchart(key) {\n",
              "      const quickchartButtonEl =\n",
              "        document.querySelector('#' + key + ' button');\n",
              "      quickchartButtonEl.disabled = true;  // To prevent multiple clicks.\n",
              "      quickchartButtonEl.classList.add('colab-df-spinner');\n",
              "      try {\n",
              "        const charts = await google.colab.kernel.invokeFunction(\n",
              "            'suggestCharts', [key], {});\n",
              "      } catch (error) {\n",
              "        console.error('Error during call to suggestCharts:', error);\n",
              "      }\n",
              "      quickchartButtonEl.classList.remove('colab-df-spinner');\n",
              "      quickchartButtonEl.classList.add('colab-df-quickchart-complete');\n",
              "    }\n",
              "    (() => {\n",
              "      let quickchartButtonEl =\n",
              "        document.querySelector('#df-f20e2254-44e6-4e4e-a86d-cfdeaea30ffa button');\n",
              "      quickchartButtonEl.style.display =\n",
              "        google.colab.kernel.accessAllowed ? 'block' : 'none';\n",
              "    })();\n",
              "  </script>\n",
              "</div>\n",
              "    </div>\n",
              "  </div>\n"
            ],
            "application/vnd.google.colaboratory.intrinsic+json": {
              "type": "dataframe",
              "summary": "{\n  \"name\": \"                   'Elo_Other':other_top10['key']\",\n  \"rows\": 10,\n  \"fields\": [\n    {\n      \"column\": \"Elo_boys\",\n      \"properties\": {\n        \"dtype\": \"string\",\n        \"num_unique_values\": 10,\n        \"samples\": [\n          \"Menno\",\n          \"Phil Wizard\",\n          \"Kuzya\"\n        ],\n        \"semantic_type\": \"\",\n        \"description\": \"\"\n      }\n    },\n    {\n      \"column\": \"Glicko_boys\",\n      \"properties\": {\n        \"dtype\": \"string\",\n        \"num_unique_values\": 10,\n        \"samples\": [\n          \"Lee\",\n          \"Shigekix\",\n          \"Menno\"\n        ],\n        \"semantic_type\": \"\",\n        \"description\": \"\"\n      }\n    },\n    {\n      \"column\": \"Elo_girls\",\n      \"properties\": {\n        \"dtype\": \"string\",\n        \"num_unique_values\": 10,\n        \"samples\": [\n          \"Ayane\",\n          \"Ayumi\",\n          \"Alessandrina\"\n        ],\n        \"semantic_type\": \"\",\n        \"description\": \"\"\n      }\n    },\n    {\n      \"column\": \"Glicko_girls\",\n      \"properties\": {\n        \"dtype\": \"string\",\n        \"num_unique_values\": 10,\n        \"samples\": [\n          \"koharu\",\n          \"Ayumi\",\n          \"Sunny\"\n        ],\n        \"semantic_type\": \"\",\n        \"description\": \"\"\n      }\n    },\n    {\n      \"column\": \"Elo_Other\",\n      \"properties\": {\n        \"dtype\": \"string\",\n        \"num_unique_values\": 10,\n        \"samples\": [\n          \"Sean\",\n          \"Bboy Scheggia\",\n          \"Rico\"\n        ],\n        \"semantic_type\": \"\",\n        \"description\": \"\"\n      }\n    },\n    {\n      \"column\": \"Glicko_other\",\n      \"properties\": {\n        \"dtype\": \"string\",\n        \"num_unique_values\": 10,\n        \"samples\": [\n          \"Tik\",\n          \"Bboy Scheggia\",\n          \"Jaron\"\n        ],\n        \"semantic_type\": \"\",\n        \"description\": \"\"\n      }\n    }\n  ]\n}"
            }
          },
          "metadata": {},
          "execution_count": 40
        }
      ]
    },
    {
      "cell_type": "code",
      "source": [
        "combined_glicko.head(3)"
      ],
      "metadata": {
        "id": "Uk26ClqAIkA-",
        "outputId": "f4c49ef2-7a8d-4163-96f5-60024b9ba52b",
        "colab": {
          "base_uri": "https://localhost:8080/",
          "height": 143
        }
      },
      "execution_count": null,
      "outputs": [
        {
          "output_type": "execute_result",
          "data": {
            "text/plain": [
              "    key                                             rating valid_from  \\\n",
              "0  Amir                              (1500.0, 350.0, 0.06) 2017-05-11   \n",
              "1  Amir      (1662.3108949761174, 290.3189646747521, 0.06) 2021-10-14   \n",
              "2  Amir  (1750.5421120164501, 256.3451719903071, 0.0599... 2021-10-14   \n",
              "\n",
              "    valid_to      ranking   deviation  volatility source  \n",
              "0 2021-10-14  1500.000000  350.000000    0.060000    boy  \n",
              "1 2021-10-14  1662.310895  290.318965    0.060000    boy  \n",
              "2 2021-10-14  1750.542112  256.345172    0.059999    boy  "
            ],
            "text/html": [
              "\n",
              "  <div id=\"df-9d3d86ed-0b2f-4744-8061-05d66f92986c\" class=\"colab-df-container\">\n",
              "    <div>\n",
              "<style scoped>\n",
              "    .dataframe tbody tr th:only-of-type {\n",
              "        vertical-align: middle;\n",
              "    }\n",
              "\n",
              "    .dataframe tbody tr th {\n",
              "        vertical-align: top;\n",
              "    }\n",
              "\n",
              "    .dataframe thead th {\n",
              "        text-align: right;\n",
              "    }\n",
              "</style>\n",
              "<table border=\"1\" class=\"dataframe\">\n",
              "  <thead>\n",
              "    <tr style=\"text-align: right;\">\n",
              "      <th></th>\n",
              "      <th>key</th>\n",
              "      <th>rating</th>\n",
              "      <th>valid_from</th>\n",
              "      <th>valid_to</th>\n",
              "      <th>ranking</th>\n",
              "      <th>deviation</th>\n",
              "      <th>volatility</th>\n",
              "      <th>source</th>\n",
              "    </tr>\n",
              "  </thead>\n",
              "  <tbody>\n",
              "    <tr>\n",
              "      <th>0</th>\n",
              "      <td>Amir</td>\n",
              "      <td>(1500.0, 350.0, 0.06)</td>\n",
              "      <td>2017-05-11</td>\n",
              "      <td>2021-10-14</td>\n",
              "      <td>1500.000000</td>\n",
              "      <td>350.000000</td>\n",
              "      <td>0.060000</td>\n",
              "      <td>boy</td>\n",
              "    </tr>\n",
              "    <tr>\n",
              "      <th>1</th>\n",
              "      <td>Amir</td>\n",
              "      <td>(1662.3108949761174, 290.3189646747521, 0.06)</td>\n",
              "      <td>2021-10-14</td>\n",
              "      <td>2021-10-14</td>\n",
              "      <td>1662.310895</td>\n",
              "      <td>290.318965</td>\n",
              "      <td>0.060000</td>\n",
              "      <td>boy</td>\n",
              "    </tr>\n",
              "    <tr>\n",
              "      <th>2</th>\n",
              "      <td>Amir</td>\n",
              "      <td>(1750.5421120164501, 256.3451719903071, 0.0599...</td>\n",
              "      <td>2021-10-14</td>\n",
              "      <td>2021-10-14</td>\n",
              "      <td>1750.542112</td>\n",
              "      <td>256.345172</td>\n",
              "      <td>0.059999</td>\n",
              "      <td>boy</td>\n",
              "    </tr>\n",
              "  </tbody>\n",
              "</table>\n",
              "</div>\n",
              "    <div class=\"colab-df-buttons\">\n",
              "\n",
              "  <div class=\"colab-df-container\">\n",
              "    <button class=\"colab-df-convert\" onclick=\"convertToInteractive('df-9d3d86ed-0b2f-4744-8061-05d66f92986c')\"\n",
              "            title=\"Convert this dataframe to an interactive table.\"\n",
              "            style=\"display:none;\">\n",
              "\n",
              "  <svg xmlns=\"http://www.w3.org/2000/svg\" height=\"24px\" viewBox=\"0 -960 960 960\">\n",
              "    <path d=\"M120-120v-720h720v720H120Zm60-500h600v-160H180v160Zm220 220h160v-160H400v160Zm0 220h160v-160H400v160ZM180-400h160v-160H180v160Zm440 0h160v-160H620v160ZM180-180h160v-160H180v160Zm440 0h160v-160H620v160Z\"/>\n",
              "  </svg>\n",
              "    </button>\n",
              "\n",
              "  <style>\n",
              "    .colab-df-container {\n",
              "      display:flex;\n",
              "      gap: 12px;\n",
              "    }\n",
              "\n",
              "    .colab-df-convert {\n",
              "      background-color: #E8F0FE;\n",
              "      border: none;\n",
              "      border-radius: 50%;\n",
              "      cursor: pointer;\n",
              "      display: none;\n",
              "      fill: #1967D2;\n",
              "      height: 32px;\n",
              "      padding: 0 0 0 0;\n",
              "      width: 32px;\n",
              "    }\n",
              "\n",
              "    .colab-df-convert:hover {\n",
              "      background-color: #E2EBFA;\n",
              "      box-shadow: 0px 1px 2px rgba(60, 64, 67, 0.3), 0px 1px 3px 1px rgba(60, 64, 67, 0.15);\n",
              "      fill: #174EA6;\n",
              "    }\n",
              "\n",
              "    .colab-df-buttons div {\n",
              "      margin-bottom: 4px;\n",
              "    }\n",
              "\n",
              "    [theme=dark] .colab-df-convert {\n",
              "      background-color: #3B4455;\n",
              "      fill: #D2E3FC;\n",
              "    }\n",
              "\n",
              "    [theme=dark] .colab-df-convert:hover {\n",
              "      background-color: #434B5C;\n",
              "      box-shadow: 0px 1px 3px 1px rgba(0, 0, 0, 0.15);\n",
              "      filter: drop-shadow(0px 1px 2px rgba(0, 0, 0, 0.3));\n",
              "      fill: #FFFFFF;\n",
              "    }\n",
              "  </style>\n",
              "\n",
              "    <script>\n",
              "      const buttonEl =\n",
              "        document.querySelector('#df-9d3d86ed-0b2f-4744-8061-05d66f92986c button.colab-df-convert');\n",
              "      buttonEl.style.display =\n",
              "        google.colab.kernel.accessAllowed ? 'block' : 'none';\n",
              "\n",
              "      async function convertToInteractive(key) {\n",
              "        const element = document.querySelector('#df-9d3d86ed-0b2f-4744-8061-05d66f92986c');\n",
              "        const dataTable =\n",
              "          await google.colab.kernel.invokeFunction('convertToInteractive',\n",
              "                                                    [key], {});\n",
              "        if (!dataTable) return;\n",
              "\n",
              "        const docLinkHtml = 'Like what you see? Visit the ' +\n",
              "          '<a target=\"_blank\" href=https://colab.research.google.com/notebooks/data_table.ipynb>data table notebook</a>'\n",
              "          + ' to learn more about interactive tables.';\n",
              "        element.innerHTML = '';\n",
              "        dataTable['output_type'] = 'display_data';\n",
              "        await google.colab.output.renderOutput(dataTable, element);\n",
              "        const docLink = document.createElement('div');\n",
              "        docLink.innerHTML = docLinkHtml;\n",
              "        element.appendChild(docLink);\n",
              "      }\n",
              "    </script>\n",
              "  </div>\n",
              "\n",
              "\n",
              "<div id=\"df-e2f5c879-4c08-41b5-bed5-2b17354b64ad\">\n",
              "  <button class=\"colab-df-quickchart\" onclick=\"quickchart('df-e2f5c879-4c08-41b5-bed5-2b17354b64ad')\"\n",
              "            title=\"Suggest charts\"\n",
              "            style=\"display:none;\">\n",
              "\n",
              "<svg xmlns=\"http://www.w3.org/2000/svg\" height=\"24px\"viewBox=\"0 0 24 24\"\n",
              "     width=\"24px\">\n",
              "    <g>\n",
              "        <path d=\"M19 3H5c-1.1 0-2 .9-2 2v14c0 1.1.9 2 2 2h14c1.1 0 2-.9 2-2V5c0-1.1-.9-2-2-2zM9 17H7v-7h2v7zm4 0h-2V7h2v10zm4 0h-2v-4h2v4z\"/>\n",
              "    </g>\n",
              "</svg>\n",
              "  </button>\n",
              "\n",
              "<style>\n",
              "  .colab-df-quickchart {\n",
              "      --bg-color: #E8F0FE;\n",
              "      --fill-color: #1967D2;\n",
              "      --hover-bg-color: #E2EBFA;\n",
              "      --hover-fill-color: #174EA6;\n",
              "      --disabled-fill-color: #AAA;\n",
              "      --disabled-bg-color: #DDD;\n",
              "  }\n",
              "\n",
              "  [theme=dark] .colab-df-quickchart {\n",
              "      --bg-color: #3B4455;\n",
              "      --fill-color: #D2E3FC;\n",
              "      --hover-bg-color: #434B5C;\n",
              "      --hover-fill-color: #FFFFFF;\n",
              "      --disabled-bg-color: #3B4455;\n",
              "      --disabled-fill-color: #666;\n",
              "  }\n",
              "\n",
              "  .colab-df-quickchart {\n",
              "    background-color: var(--bg-color);\n",
              "    border: none;\n",
              "    border-radius: 50%;\n",
              "    cursor: pointer;\n",
              "    display: none;\n",
              "    fill: var(--fill-color);\n",
              "    height: 32px;\n",
              "    padding: 0;\n",
              "    width: 32px;\n",
              "  }\n",
              "\n",
              "  .colab-df-quickchart:hover {\n",
              "    background-color: var(--hover-bg-color);\n",
              "    box-shadow: 0 1px 2px rgba(60, 64, 67, 0.3), 0 1px 3px 1px rgba(60, 64, 67, 0.15);\n",
              "    fill: var(--button-hover-fill-color);\n",
              "  }\n",
              "\n",
              "  .colab-df-quickchart-complete:disabled,\n",
              "  .colab-df-quickchart-complete:disabled:hover {\n",
              "    background-color: var(--disabled-bg-color);\n",
              "    fill: var(--disabled-fill-color);\n",
              "    box-shadow: none;\n",
              "  }\n",
              "\n",
              "  .colab-df-spinner {\n",
              "    border: 2px solid var(--fill-color);\n",
              "    border-color: transparent;\n",
              "    border-bottom-color: var(--fill-color);\n",
              "    animation:\n",
              "      spin 1s steps(1) infinite;\n",
              "  }\n",
              "\n",
              "  @keyframes spin {\n",
              "    0% {\n",
              "      border-color: transparent;\n",
              "      border-bottom-color: var(--fill-color);\n",
              "      border-left-color: var(--fill-color);\n",
              "    }\n",
              "    20% {\n",
              "      border-color: transparent;\n",
              "      border-left-color: var(--fill-color);\n",
              "      border-top-color: var(--fill-color);\n",
              "    }\n",
              "    30% {\n",
              "      border-color: transparent;\n",
              "      border-left-color: var(--fill-color);\n",
              "      border-top-color: var(--fill-color);\n",
              "      border-right-color: var(--fill-color);\n",
              "    }\n",
              "    40% {\n",
              "      border-color: transparent;\n",
              "      border-right-color: var(--fill-color);\n",
              "      border-top-color: var(--fill-color);\n",
              "    }\n",
              "    60% {\n",
              "      border-color: transparent;\n",
              "      border-right-color: var(--fill-color);\n",
              "    }\n",
              "    80% {\n",
              "      border-color: transparent;\n",
              "      border-right-color: var(--fill-color);\n",
              "      border-bottom-color: var(--fill-color);\n",
              "    }\n",
              "    90% {\n",
              "      border-color: transparent;\n",
              "      border-bottom-color: var(--fill-color);\n",
              "    }\n",
              "  }\n",
              "</style>\n",
              "\n",
              "  <script>\n",
              "    async function quickchart(key) {\n",
              "      const quickchartButtonEl =\n",
              "        document.querySelector('#' + key + ' button');\n",
              "      quickchartButtonEl.disabled = true;  // To prevent multiple clicks.\n",
              "      quickchartButtonEl.classList.add('colab-df-spinner');\n",
              "      try {\n",
              "        const charts = await google.colab.kernel.invokeFunction(\n",
              "            'suggestCharts', [key], {});\n",
              "      } catch (error) {\n",
              "        console.error('Error during call to suggestCharts:', error);\n",
              "      }\n",
              "      quickchartButtonEl.classList.remove('colab-df-spinner');\n",
              "      quickchartButtonEl.classList.add('colab-df-quickchart-complete');\n",
              "    }\n",
              "    (() => {\n",
              "      let quickchartButtonEl =\n",
              "        document.querySelector('#df-e2f5c879-4c08-41b5-bed5-2b17354b64ad button');\n",
              "      quickchartButtonEl.style.display =\n",
              "        google.colab.kernel.accessAllowed ? 'block' : 'none';\n",
              "    })();\n",
              "  </script>\n",
              "</div>\n",
              "    </div>\n",
              "  </div>\n"
            ],
            "application/vnd.google.colaboratory.intrinsic+json": {
              "type": "dataframe",
              "variable_name": "combined_glicko",
              "summary": "{\n  \"name\": \"combined_glicko\",\n  \"rows\": 635,\n  \"fields\": [\n    {\n      \"column\": \"key\",\n      \"properties\": {\n        \"dtype\": \"category\",\n        \"num_unique_values\": 30,\n        \"samples\": [\n          \"Jaron\",\n          \"koharu\",\n          \"Bboy Scheggia\"\n        ],\n        \"semantic_type\": \"\",\n        \"description\": \"\"\n      }\n    },\n    {\n      \"column\": \"rating\",\n      \"properties\": {\n        \"dtype\": \"string\",\n        \"num_unique_values\": 596,\n        \"samples\": [\n          [\n            2220.739968004413,\n            166.33154127464124,\n            0.06000214497218277\n          ],\n          [\n            1992.057141614386,\n            92.14008674188037,\n            0.05998596768972294\n          ],\n          [\n            1868.6047915634529,\n            102.28730777277816,\n            0.059992590178083775\n          ]\n        ],\n        \"semantic_type\": \"\",\n        \"description\": \"\"\n      }\n    },\n    {\n      \"column\": \"valid_from\",\n      \"properties\": {\n        \"dtype\": \"date\",\n        \"min\": \"2017-05-11 00:00:00\",\n        \"max\": \"2023-11-25 00:00:00\",\n        \"num_unique_values\": 36,\n        \"samples\": [\n          \"2022-04-09 00:00:00\",\n          \"2019-04-20 00:00:00\",\n          \"2018-09-01 00:00:00\"\n        ],\n        \"semantic_type\": \"\",\n        \"description\": \"\"\n      }\n    },\n    {\n      \"column\": \"valid_to\",\n      \"properties\": {\n        \"dtype\": \"date\",\n        \"min\": \"2017-05-11 00:00:00\",\n        \"max\": \"2023-11-25 00:00:00\",\n        \"num_unique_values\": 36,\n        \"samples\": [\n          \"2022-04-09 00:00:00\",\n          \"2019-04-20 00:00:00\",\n          \"2018-09-01 00:00:00\"\n        ],\n        \"semantic_type\": \"\",\n        \"description\": \"\"\n      }\n    },\n    {\n      \"column\": \"ranking\",\n      \"properties\": {\n        \"dtype\": \"number\",\n        \"std\": 207.908343965588,\n        \"min\": 1256.239644526365,\n        \"max\": 2269.0790467819115,\n        \"num_unique_values\": 596,\n        \"samples\": [\n          2220.739968004413,\n          1992.057141614386,\n          1868.6047915634529\n        ],\n        \"semantic_type\": \"\",\n        \"description\": \"\"\n      }\n    },\n    {\n      \"column\": \"deviation\",\n      \"properties\": {\n        \"dtype\": \"number\",\n        \"std\": 69.84163109443912,\n        \"min\": 79.80598147279585,\n        \"max\": 350.0,\n        \"num_unique_values\": 595,\n        \"samples\": [\n          166.33154127464124,\n          92.14008674188037,\n          102.28730777277816\n        ],\n        \"semantic_type\": \"\",\n        \"description\": \"\"\n      }\n    },\n    {\n      \"column\": \"volatility\",\n      \"properties\": {\n        \"dtype\": \"number\",\n        \"std\": 5.375147458361976e-06,\n        \"min\": 0.05998257946912529,\n        \"max\": 0.06001260538046956,\n        \"num_unique_values\": 591,\n        \"samples\": [\n          0.060000456550462704,\n          0.060002458486020795,\n          0.05999918804599768\n        ],\n        \"semantic_type\": \"\",\n        \"description\": \"\"\n      }\n    },\n    {\n      \"column\": \"source\",\n      \"properties\": {\n        \"dtype\": \"category\",\n        \"num_unique_values\": 3,\n        \"samples\": [\n          \"boy\",\n          \"girl\",\n          \"other\"\n        ],\n        \"semantic_type\": \"\",\n        \"description\": \"\"\n      }\n    }\n  ]\n}"
            }
          },
          "metadata": {},
          "execution_count": 41
        }
      ]
    },
    {
      "cell_type": "markdown",
      "source": [
        "Top 10 breakers by breaker gender group"
      ],
      "metadata": {
        "id": "zwhLE85417_p"
      }
    },
    {
      "cell_type": "code",
      "source": [
        "combined_glicko[['source', 'deviation']].boxplot(by='source')\n",
        "# Add a title to the plot\n",
        "plt.title('Glicko Deviation by Gender Group, initial deviation=350')\n",
        "plt.suptitle('')\n",
        "\n",
        "# Show the plot\n",
        "plt.show()"
      ],
      "metadata": {
        "colab": {
          "base_uri": "https://localhost:8080/",
          "height": 462
        },
        "id": "_gFZuilhxWIB",
        "outputId": "8a969c07-3732-4f56-fda7-a976c7718020"
      },
      "execution_count": null,
      "outputs": [
        {
          "output_type": "display_data",
          "data": {
            "text/plain": [
              "<Figure size 640x480 with 1 Axes>"
            ],
            "image/png": "[encoded data removed]"
          },
          "metadata": {}
        }
      ]
    },
    {
      "cell_type": "code",
      "source": [
        "combined_glicko[['source', 'volatility']].boxplot(by='source')\n",
        "# Add a title to the plot\n",
        "plt.title('Glicko Volatility by Gender Group, initial=0.06')\n",
        "plt.suptitle('')\n",
        "\n",
        "# Show the plot\n",
        "plt.show()"
      ],
      "metadata": {
        "colab": {
          "base_uri": "https://localhost:8080/",
          "height": 462
        },
        "id": "JRboF3ijzkd0",
        "outputId": "42898833-6d68-463c-ed64-df009a5aad85"
      },
      "execution_count": null,
      "outputs": [
        {
          "output_type": "display_data",
          "data": {
            "text/plain": [
              "<Figure size 640x480 with 1 Axes>"
            ],
            "image/png": "[encoded data removed]"
          },
          "metadata": {}
        }
      ]
    },
    {
      "cell_type": "code",
      "source": [
        "combined_glicko[['source', 'ranking']].boxplot(by='source')\n",
        "# Add a title to the plot\n",
        "plt.title('Glicko Ranking by Gender Group, initial=1500')\n",
        "plt.suptitle('')\n",
        "\n",
        "# Show the plot\n",
        "plt.show()"
      ],
      "metadata": {
        "colab": {
          "base_uri": "https://localhost:8080/",
          "height": 462
        },
        "id": "j1KiZ1KTz87T",
        "outputId": "604c7065-7a0b-4c5d-ac15-ac7ed2adc4c5"
      },
      "execution_count": null,
      "outputs": [
        {
          "output_type": "display_data",
          "data": {
            "text/plain": [
              "<Figure size 640x480 with 1 Axes>"
            ],
            "image/png": "[encoded data removed]"
          },
          "metadata": {}
        }
      ]
    },
    {
      "cell_type": "code",
      "source": [
        "combined_glicko.groupby(by='source').agg({'key': 'count', 'ranking': np.mean, 'deviation': np.mean, 'volatility': np.mean})"
      ],
      "metadata": {
        "colab": {
          "base_uri": "https://localhost:8080/",
          "height": 175
        },
        "id": "5Tsur5rs0Z49",
        "outputId": "4e6cbdd6-969c-483a-ab9b-042f89f9ba9e"
      },
      "execution_count": null,
      "outputs": [
        {
          "output_type": "execute_result",
          "data": {
            "text/plain": [
              "        key      ranking   deviation  volatility\n",
              "source                                          \n",
              "boy     324  1980.105413  147.055494    0.059996\n",
              "girl    242  1891.970890  157.464825    0.059999\n",
              "other    69  1662.587287  233.225971    0.060001"
            ],
            "text/html": [
              "\n",
              "  <div id=\"df-b422de32-dbf7-46da-8771-d627bf8c468e\" class=\"colab-df-container\">\n",
              "    <div>\n",
              "<style scoped>\n",
              "    .dataframe tbody tr th:only-of-type {\n",
              "        vertical-align: middle;\n",
              "    }\n",
              "\n",
              "    .dataframe tbody tr th {\n",
              "        vertical-align: top;\n",
              "    }\n",
              "\n",
              "    .dataframe thead th {\n",
              "        text-align: right;\n",
              "    }\n",
              "</style>\n",
              "<table border=\"1\" class=\"dataframe\">\n",
              "  <thead>\n",
              "    <tr style=\"text-align: right;\">\n",
              "      <th></th>\n",
              "      <th>key</th>\n",
              "      <th>ranking</th>\n",
              "      <th>deviation</th>\n",
              "      <th>volatility</th>\n",
              "    </tr>\n",
              "    <tr>\n",
              "      <th>source</th>\n",
              "      <th></th>\n",
              "      <th></th>\n",
              "      <th></th>\n",
              "      <th></th>\n",
              "    </tr>\n",
              "  </thead>\n",
              "  <tbody>\n",
              "    <tr>\n",
              "      <th>boy</th>\n",
              "      <td>324</td>\n",
              "      <td>1980.105413</td>\n",
              "      <td>147.055494</td>\n",
              "      <td>0.059996</td>\n",
              "    </tr>\n",
              "    <tr>\n",
              "      <th>girl</th>\n",
              "      <td>242</td>\n",
              "      <td>1891.970890</td>\n",
              "      <td>157.464825</td>\n",
              "      <td>0.059999</td>\n",
              "    </tr>\n",
              "    <tr>\n",
              "      <th>other</th>\n",
              "      <td>69</td>\n",
              "      <td>1662.587287</td>\n",
              "      <td>233.225971</td>\n",
              "      <td>0.060001</td>\n",
              "    </tr>\n",
              "  </tbody>\n",
              "</table>\n",
              "</div>\n",
              "    <div class=\"colab-df-buttons\">\n",
              "\n",
              "  <div class=\"colab-df-container\">\n",
              "    <button class=\"colab-df-convert\" onclick=\"convertToInteractive('df-b422de32-dbf7-46da-8771-d627bf8c468e')\"\n",
              "            title=\"Convert this dataframe to an interactive table.\"\n",
              "            style=\"display:none;\">\n",
              "\n",
              "  <svg xmlns=\"http://www.w3.org/2000/svg\" height=\"24px\" viewBox=\"0 -960 960 960\">\n",
              "    <path d=\"M120-120v-720h720v720H120Zm60-500h600v-160H180v160Zm220 220h160v-160H400v160Zm0 220h160v-160H400v160ZM180-400h160v-160H180v160Zm440 0h160v-160H620v160ZM180-180h160v-160H180v160Zm440 0h160v-160H620v160Z\"/>\n",
              "  </svg>\n",
              "    </button>\n",
              "\n",
              "  <style>\n",
              "    .colab-df-container {\n",
              "      display:flex;\n",
              "      gap: 12px;\n",
              "    }\n",
              "\n",
              "    .colab-df-convert {\n",
              "      background-color: #E8F0FE;\n",
              "      border: none;\n",
              "      border-radius: 50%;\n",
              "      cursor: pointer;\n",
              "      display: none;\n",
              "      fill: #1967D2;\n",
              "      height: 32px;\n",
              "      padding: 0 0 0 0;\n",
              "      width: 32px;\n",
              "    }\n",
              "\n",
              "    .colab-df-convert:hover {\n",
              "      background-color: #E2EBFA;\n",
              "      box-shadow: 0px 1px 2px rgba(60, 64, 67, 0.3), 0px 1px 3px 1px rgba(60, 64, 67, 0.15);\n",
              "      fill: #174EA6;\n",
              "    }\n",
              "\n",
              "    .colab-df-buttons div {\n",
              "      margin-bottom: 4px;\n",
              "    }\n",
              "\n",
              "    [theme=dark] .colab-df-convert {\n",
              "      background-color: #3B4455;\n",
              "      fill: #D2E3FC;\n",
              "    }\n",
              "\n",
              "    [theme=dark] .colab-df-convert:hover {\n",
              "      background-color: #434B5C;\n",
              "      box-shadow: 0px 1px 3px 1px rgba(0, 0, 0, 0.15);\n",
              "      filter: drop-shadow(0px 1px 2px rgba(0, 0, 0, 0.3));\n",
              "      fill: #FFFFFF;\n",
              "    }\n",
              "  </style>\n",
              "\n",
              "    <script>\n",
              "      const buttonEl =\n",
              "        document.querySelector('#df-b422de32-dbf7-46da-8771-d627bf8c468e button.colab-df-convert');\n",
              "      buttonEl.style.display =\n",
              "        google.colab.kernel.accessAllowed ? 'block' : 'none';\n",
              "\n",
              "      async function convertToInteractive(key) {\n",
              "        const element = document.querySelector('#df-b422de32-dbf7-46da-8771-d627bf8c468e');\n",
              "        const dataTable =\n",
              "          await google.colab.kernel.invokeFunction('convertToInteractive',\n",
              "                                                    [key], {});\n",
              "        if (!dataTable) return;\n",
              "\n",
              "        const docLinkHtml = 'Like what you see? Visit the ' +\n",
              "          '<a target=\"_blank\" href=https://colab.research.google.com/notebooks/data_table.ipynb>data table notebook</a>'\n",
              "          + ' to learn more about interactive tables.';\n",
              "        element.innerHTML = '';\n",
              "        dataTable['output_type'] = 'display_data';\n",
              "        await google.colab.output.renderOutput(dataTable, element);\n",
              "        const docLink = document.createElement('div');\n",
              "        docLink.innerHTML = docLinkHtml;\n",
              "        element.appendChild(docLink);\n",
              "      }\n",
              "    </script>\n",
              "  </div>\n",
              "\n",
              "\n",
              "<div id=\"df-0cca544a-2149-401b-8a53-c01371d49c4a\">\n",
              "  <button class=\"colab-df-quickchart\" onclick=\"quickchart('df-0cca544a-2149-401b-8a53-c01371d49c4a')\"\n",
              "            title=\"Suggest charts\"\n",
              "            style=\"display:none;\">\n",
              "\n",
              "<svg xmlns=\"http://www.w3.org/2000/svg\" height=\"24px\"viewBox=\"0 0 24 24\"\n",
              "     width=\"24px\">\n",
              "    <g>\n",
              "        <path d=\"M19 3H5c-1.1 0-2 .9-2 2v14c0 1.1.9 2 2 2h14c1.1 0 2-.9 2-2V5c0-1.1-.9-2-2-2zM9 17H7v-7h2v7zm4 0h-2V7h2v10zm4 0h-2v-4h2v4z\"/>\n",
              "    </g>\n",
              "</svg>\n",
              "  </button>\n",
              "\n",
              "<style>\n",
              "  .colab-df-quickchart {\n",
              "      --bg-color: #E8F0FE;\n",
              "      --fill-color: #1967D2;\n",
              "      --hover-bg-color: #E2EBFA;\n",
              "      --hover-fill-color: #174EA6;\n",
              "      --disabled-fill-color: #AAA;\n",
              "      --disabled-bg-color: #DDD;\n",
              "  }\n",
              "\n",
              "  [theme=dark] .colab-df-quickchart {\n",
              "      --bg-color: #3B4455;\n",
              "      --fill-color: #D2E3FC;\n",
              "      --hover-bg-color: #434B5C;\n",
              "      --hover-fill-color: #FFFFFF;\n",
              "      --disabled-bg-color: #3B4455;\n",
              "      --disabled-fill-color: #666;\n",
              "  }\n",
              "\n",
              "  .colab-df-quickchart {\n",
              "    background-color: var(--bg-color);\n",
              "    border: none;\n",
              "    border-radius: 50%;\n",
              "    cursor: pointer;\n",
              "    display: none;\n",
              "    fill: var(--fill-color);\n",
              "    height: 32px;\n",
              "    padding: 0;\n",
              "    width: 32px;\n",
              "  }\n",
              "\n",
              "  .colab-df-quickchart:hover {\n",
              "    background-color: var(--hover-bg-color);\n",
              "    box-shadow: 0 1px 2px rgba(60, 64, 67, 0.3), 0 1px 3px 1px rgba(60, 64, 67, 0.15);\n",
              "    fill: var(--button-hover-fill-color);\n",
              "  }\n",
              "\n",
              "  .colab-df-quickchart-complete:disabled,\n",
              "  .colab-df-quickchart-complete:disabled:hover {\n",
              "    background-color: var(--disabled-bg-color);\n",
              "    fill: var(--disabled-fill-color);\n",
              "    box-shadow: none;\n",
              "  }\n",
              "\n",
              "  .colab-df-spinner {\n",
              "    border: 2px solid var(--fill-color);\n",
              "    border-color: transparent;\n",
              "    border-bottom-color: var(--fill-color);\n",
              "    animation:\n",
              "      spin 1s steps(1) infinite;\n",
              "  }\n",
              "\n",
              "  @keyframes spin {\n",
              "    0% {\n",
              "      border-color: transparent;\n",
              "      border-bottom-color: var(--fill-color);\n",
              "      border-left-color: var(--fill-color);\n",
              "    }\n",
              "    20% {\n",
              "      border-color: transparent;\n",
              "      border-left-color: var(--fill-color);\n",
              "      border-top-color: var(--fill-color);\n",
              "    }\n",
              "    30% {\n",
              "      border-color: transparent;\n",
              "      border-left-color: var(--fill-color);\n",
              "      border-top-color: var(--fill-color);\n",
              "      border-right-color: var(--fill-color);\n",
              "    }\n",
              "    40% {\n",
              "      border-color: transparent;\n",
              "      border-right-color: var(--fill-color);\n",
              "      border-top-color: var(--fill-color);\n",
              "    }\n",
              "    60% {\n",
              "      border-color: transparent;\n",
              "      border-right-color: var(--fill-color);\n",
              "    }\n",
              "    80% {\n",
              "      border-color: transparent;\n",
              "      border-right-color: var(--fill-color);\n",
              "      border-bottom-color: var(--fill-color);\n",
              "    }\n",
              "    90% {\n",
              "      border-color: transparent;\n",
              "      border-bottom-color: var(--fill-color);\n",
              "    }\n",
              "  }\n",
              "</style>\n",
              "\n",
              "  <script>\n",
              "    async function quickchart(key) {\n",
              "      const quickchartButtonEl =\n",
              "        document.querySelector('#' + key + ' button');\n",
              "      quickchartButtonEl.disabled = true;  // To prevent multiple clicks.\n",
              "      quickchartButtonEl.classList.add('colab-df-spinner');\n",
              "      try {\n",
              "        const charts = await google.colab.kernel.invokeFunction(\n",
              "            'suggestCharts', [key], {});\n",
              "      } catch (error) {\n",
              "        console.error('Error during call to suggestCharts:', error);\n",
              "      }\n",
              "      quickchartButtonEl.classList.remove('colab-df-spinner');\n",
              "      quickchartButtonEl.classList.add('colab-df-quickchart-complete');\n",
              "    }\n",
              "    (() => {\n",
              "      let quickchartButtonEl =\n",
              "        document.querySelector('#df-0cca544a-2149-401b-8a53-c01371d49c4a button');\n",
              "      quickchartButtonEl.style.display =\n",
              "        google.colab.kernel.accessAllowed ? 'block' : 'none';\n",
              "    })();\n",
              "  </script>\n",
              "</div>\n",
              "    </div>\n",
              "  </div>\n"
            ],
            "application/vnd.google.colaboratory.intrinsic+json": {
              "type": "dataframe",
              "summary": "{\n  \"name\": \"combined_glicko\",\n  \"rows\": 3,\n  \"fields\": [\n    {\n      \"column\": \"source\",\n      \"properties\": {\n        \"dtype\": \"string\",\n        \"num_unique_values\": 3,\n        \"samples\": [\n          \"boy\",\n          \"girl\",\n          \"other\"\n        ],\n        \"semantic_type\": \"\",\n        \"description\": \"\"\n      }\n    },\n    {\n      \"column\": \"key\",\n      \"properties\": {\n        \"dtype\": \"number\",\n        \"std\": 130,\n        \"min\": 69,\n        \"max\": 324,\n        \"num_unique_values\": 3,\n        \"samples\": [\n          324,\n          242,\n          69\n        ],\n        \"semantic_type\": \"\",\n        \"description\": \"\"\n      }\n    },\n    {\n      \"column\": \"ranking\",\n      \"properties\": {\n        \"dtype\": \"number\",\n        \"std\": 163.911709662634,\n        \"min\": 1662.5872873456435,\n        \"max\": 1980.1054128101289,\n        \"num_unique_values\": 3,\n        \"samples\": [\n          1980.1054128101289,\n          1891.9708903930086,\n          1662.5872873456435\n        ],\n        \"semantic_type\": \"\",\n        \"description\": \"\"\n      }\n    },\n    {\n      \"column\": \"deviation\",\n      \"properties\": {\n        \"dtype\": \"number\",\n        \"std\": 47.0344845223074,\n        \"min\": 147.05549442079788,\n        \"max\": 233.22597102960182,\n        \"num_unique_values\": 3,\n        \"samples\": [\n          147.05549442079788,\n          157.46482533770404,\n          233.22597102960182\n        ],\n        \"semantic_type\": \"\",\n        \"description\": \"\"\n      }\n    },\n    {\n      \"column\": \"volatility\",\n      \"properties\": {\n        \"dtype\": \"number\",\n        \"std\": 2.4344082924145976e-06,\n        \"min\": 0.059996474329825814,\n        \"max\": 0.06000134222574069,\n        \"num_unique_values\": 3,\n        \"samples\": [\n          0.059996474329825814,\n          0.059998990273051306,\n          0.06000134222574069\n        ],\n        \"semantic_type\": \"\",\n        \"description\": \"\"\n      }\n    }\n  ]\n}"
            }
          },
          "metadata": {},
          "execution_count": 45
        }
      ]
    }
  ]
}
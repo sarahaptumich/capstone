{
  "nbformat": 4,
  "nbformat_minor": 0,
  "metadata": {
    "colab": {
      "provenance": [],
      "authorship_tag": "ABX9TyPXiOTlnEd3WnKwTNutyDuK",
      "include_colab_link": true
    },
    "kernelspec": {
      "name": "python3",
      "display_name": "Python 3"
    },
    "language_info": {
      "name": "python"
    }
  },
  "cells": [
    {
      "cell_type": "markdown",
      "metadata": {
        "id": "view-in-github",
        "colab_type": "text"
      },
      "source": [
        "<a href=\"https://colab.research.google.com/github/sarahaptumich/capstone/blob/main/Capstone.ipynb\" target=\"_parent\"><img src=\"https://colab.research.google.com/assets/colab-badge.svg\" alt=\"Open In Colab\"/></a>"
      ]
    },
    {
      "cell_type": "code",
      "execution_count": 1,
      "metadata": {
        "colab": {
          "base_uri": "https://localhost:8080/"
        },
        "id": "E4VQxcG7yzer",
        "outputId": "9e15be33-fa8a-402e-83fa-1343a1f9d236"
      },
      "outputs": [
        {
          "output_type": "stream",
          "name": "stdout",
          "text": [
            "Mounted at /content/drive\n"
          ]
        }
      ],
      "source": [
        "#Mount google drive\n",
        "from google.colab import drive\n",
        "drive.mount('/content/drive')"
      ]
    },
    {
      "cell_type": "code",
      "source": [
        "#navigate to 699-capstone\n",
        "!ls /content/drive/MyDrive/'699-Capstone'"
      ],
      "metadata": {
        "colab": {
          "base_uri": "https://localhost:8080/"
        },
        "id": "9S5KmlG65uC1",
        "outputId": "18522dce-69f0-45ed-f8a6-435510c96f12"
      },
      "execution_count": 22,
      "outputs": [
        {
          "output_type": "stream",
          "name": "stdout",
          "text": [
            " Capstone.ipynb\n",
            "'Course Syllabus for SIADS 699.pdf'\n",
            "'Introduction Meeting.gdoc'\n",
            "' Project 1st Meeting with Settle it in the Cypher.m4a'\n",
            "' Project 1st Meeting with Settle it in the Cypher.mp4'\n",
            "' Project 1st Meeting with Settle it in the Cypher.txt'\n",
            "'Project proposal.gdoc'\n",
            "'Settle it in the Cypher - Sports Analytics and Data Technology for Competitive Breaking.gdoc'\n",
            " W2-Assignment.gdoc\n",
            " Webscraping.gsheet\n"
          ]
        }
      ]
    }
  ]
}
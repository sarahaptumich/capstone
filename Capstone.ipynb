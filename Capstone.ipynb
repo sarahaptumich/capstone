{
  "nbformat": 4,
  "nbformat_minor": 0,
  "metadata": {
    "colab": {
      "provenance": [],
      "authorship_tag": "ABX9TyPRwHWNTvj06P1989QE185b",
      "include_colab_link": true
    },
    "kernelspec": {
      "name": "python3",
      "display_name": "Python 3"
    },
    "language_info": {
      "name": "python"
    }
  },
  "cells": [
    {
      "cell_type": "markdown",
      "metadata": {
        "id": "view-in-github",
        "colab_type": "text"
      },
      "source": [
        "<a href=\"https://colab.research.google.com/github/sarahaptumich/capstone/blob/shaptonstall/Capstone.ipynb\" target=\"_parent\"><img src=\"https://colab.research.google.com/assets/colab-badge.svg\" alt=\"Open In Colab\"/></a>"
      ]
    },
    {
      "cell_type": "code",
      "execution_count": 1,
      "metadata": {
        "colab": {
          "base_uri": "https://localhost:8080/"
        },
        "id": "E4VQxcG7yzer",
        "outputId": "d00dbc95-152b-4f66-a2a4-8d68f56f4436"
      },
      "outputs": [
        {
          "output_type": "stream",
          "name": "stdout",
          "text": [
            "Mounted at /content/drive\n"
          ]
        }
      ],
      "source": [
        "#Mount google drive\n",
        "from google.colab import drive\n",
        "drive.mount('/content/drive')"
      ]
    },
    {
      "cell_type": "code",
      "source": [
        "#navigate to 699-capstone\n",
        "!ls /content/drive/MyDrive/'699-Capstone'"
      ],
      "metadata": {
        "colab": {
          "base_uri": "https://localhost:8080/"
        },
        "id": "9S5KmlG65uC1",
        "outputId": "e773b7f6-2ca2-4130-a72c-9fdc1184e9dd"
      },
      "execution_count": 2,
      "outputs": [
        {
          "output_type": "stream",
          "name": "stdout",
          "text": [
            " Capstone.ipynb\n",
            "'Course Syllabus for SIADS 699.pdf'\n",
            "'Introduction Meeting.gdoc'\n",
            "' Project 1st Meeting with Settle it in the Cypher.m4a'\n",
            "' Project 1st Meeting with Settle it in the Cypher.mp4'\n",
            "' Project 1st Meeting with Settle it in the Cypher.txt'\n",
            "'Project proposal.gdoc'\n",
            "'Settle it in the Cypher - Sports Analytics and Data Technology for Competitive Breaking.gdoc'\n",
            " W2-Assignment.gdoc\n",
            " Webscraping.gsheet\n"
          ]
        }
      ]
    },
    {
      "cell_type": "code",
      "source": [
        "#how to use google colab with GitHub.\n",
        "# https://colab.research.google.com/github/googlecolab/colabtools/blob/master/notebooks/colab-github-demo.ipynb"
      ],
      "metadata": {
        "id": "jwFIforf7jKh"
      },
      "execution_count": null,
      "outputs": []
    }
  ]
}
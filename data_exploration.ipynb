{
  "nbformat": 4,
  "nbformat_minor": 0,
  "metadata": {
    "colab": {
      "provenance": [],
      "authorship_tag": "ABX9TyPmbu+n44bfeV9e9pEQDalW",
      "include_colab_link": true
    },
    "kernelspec": {
      "name": "python3",
      "display_name": "Python 3"
    },
    "language_info": {
      "name": "python"
    }
  },
  "cells": [
    {
      "cell_type": "markdown",
      "metadata": {
        "id": "view-in-github",
        "colab_type": "text"
      },
      "source": [
        "<a href=\"https://colab.research.google.com/github/sarahaptumich/capstone/blob/shaptonstall/data_exploration.ipynb\" target=\"_parent\"><img src=\"https://colab.research.google.com/assets/colab-badge.svg\" alt=\"Open In Colab\"/></a>"
      ]
    },
    {
      "cell_type": "code",
      "execution_count": 1,
      "metadata": {
        "colab": {
          "base_uri": "https://localhost:8080/"
        },
        "id": "th6dMYKxF4p3",
        "outputId": "3e6402d0-de5d-4864-aec8-5a10b4aa1e12"
      },
      "outputs": [
        {
          "output_type": "stream",
          "name": "stdout",
          "text": [
            "Mounted at /content/drive\n"
          ]
        }
      ],
      "source": [
        "#Mount google drive\n",
        "from google.colab import drive\n",
        "drive.mount('/content/drive')"
      ]
    },
    {
      "cell_type": "code",
      "source": [
        "%cd /content/drive/MyDrive/Github/capstone"
      ],
      "metadata": {
        "colab": {
          "base_uri": "https://localhost:8080/"
        },
        "id": "JnOLse_JGHR0",
        "outputId": "2eb38b63-f24a-4bac-91cf-e9429aba59aa"
      },
      "execution_count": 2,
      "outputs": [
        {
          "output_type": "stream",
          "name": "stdout",
          "text": [
            "/content/drive/MyDrive/Github/capstone\n"
          ]
        }
      ]
    },
    {
      "cell_type": "code",
      "source": [
        "#!git pull   #check that git us up to date\n",
        "#!git checkout -b shaptonstall # create a new branch\n",
        "\n",
        "#!git push origin shaptonstall #commit changes to my branch"
      ],
      "metadata": {
        "id": "nXyPes-VGKjZ"
      },
      "execution_count": null,
      "outputs": []
    },
    {
      "cell_type": "code",
      "source": [
        "# to commit to github\n",
        "#!git status # check untracked files\n",
        "#!git add {filename} # add the files\n",
        "#!git config --global user.email \"sarahapt@umich.edu\"\n",
        "# !git commit"
      ],
      "metadata": {
        "id": "PjxPDhvvHxe1"
      },
      "execution_count": null,
      "outputs": []
    },
    {
      "cell_type": "code",
      "source": [
        "# pip install factor-analyzer"
      ],
      "metadata": {
        "id": "KAvqe_InWUjP",
        "outputId": "5202a836-437c-45ca-abd8-635ede1767fd",
        "colab": {
          "base_uri": "https://localhost:8080/"
        }
      },
      "execution_count": 114,
      "outputs": [
        {
          "output_type": "stream",
          "name": "stdout",
          "text": [
            "Collecting factor-analyzer\n",
            "  Downloading factor_analyzer-0.5.1.tar.gz (42 kB)\n",
            "\u001b[2K     \u001b[90m━━━━━━━━━━━━━━━━━━━━━━━━━━━━━━━━━━━━━━━━\u001b[0m \u001b[32m42.8/42.8 kB\u001b[0m \u001b[31m609.5 kB/s\u001b[0m eta \u001b[36m0:00:00\u001b[0m\n",
            "\u001b[?25h  Installing build dependencies ... \u001b[?25l\u001b[?25hdone\n",
            "  Getting requirements to build wheel ... \u001b[?25l\u001b[?25hdone\n",
            "  Installing backend dependencies ... \u001b[?25l\u001b[?25hdone\n",
            "  Preparing metadata (pyproject.toml) ... \u001b[?25l\u001b[?25hdone\n",
            "Requirement already satisfied: pandas in /usr/local/lib/python3.10/dist-packages (from factor-analyzer) (1.5.3)\n",
            "Requirement already satisfied: scipy in /usr/local/lib/python3.10/dist-packages (from factor-analyzer) (1.11.4)\n",
            "Requirement already satisfied: numpy in /usr/local/lib/python3.10/dist-packages (from factor-analyzer) (1.25.2)\n",
            "Requirement already satisfied: scikit-learn in /usr/local/lib/python3.10/dist-packages (from factor-analyzer) (1.2.2)\n",
            "Requirement already satisfied: python-dateutil>=2.8.1 in /usr/local/lib/python3.10/dist-packages (from pandas->factor-analyzer) (2.8.2)\n",
            "Requirement already satisfied: pytz>=2020.1 in /usr/local/lib/python3.10/dist-packages (from pandas->factor-analyzer) (2023.4)\n",
            "Requirement already satisfied: joblib>=1.1.1 in /usr/local/lib/python3.10/dist-packages (from scikit-learn->factor-analyzer) (1.3.2)\n",
            "Requirement already satisfied: threadpoolctl>=2.0.0 in /usr/local/lib/python3.10/dist-packages (from scikit-learn->factor-analyzer) (3.3.0)\n",
            "Requirement already satisfied: six>=1.5 in /usr/local/lib/python3.10/dist-packages (from python-dateutil>=2.8.1->pandas->factor-analyzer) (1.16.0)\n",
            "Building wheels for collected packages: factor-analyzer\n",
            "  Building wheel for factor-analyzer (pyproject.toml) ... \u001b[?25l\u001b[?25hdone\n",
            "  Created wheel for factor-analyzer: filename=factor_analyzer-0.5.1-py2.py3-none-any.whl size=42564 sha256=217e41919111c0c33ebac3695ab5229abd93af5a5fb77490e9646975ff74468d\n",
            "  Stored in directory: /root/.cache/pip/wheels/24/59/82/6493618e30ed1cb7a013b9e1b0c9e17de80b04dfcef4ba8a4d\n",
            "Successfully built factor-analyzer\n",
            "Installing collected packages: factor-analyzer\n",
            "Successfully installed factor-analyzer-0.5.1\n"
          ]
        }
      ]
    },
    {
      "cell_type": "markdown",
      "source": [
        "Import libraries"
      ],
      "metadata": {
        "id": "AagDi_N95OfP"
      }
    },
    {
      "cell_type": "code",
      "source": [
        "import pandas as pd\n",
        "import numpy as np\n",
        "import re\n",
        "from datetime import datetime, timedelta\n",
        "from sklearn.decomposition import PCA, KernelPCA\n",
        "from sklearn.impute import SimpleImputer\n",
        "from sklearn.preprocessing import StandardScaler\n",
        "import matplotlib.pyplot as plt\n",
        "from factor_analyzer import FactorAnalyzer\n",
        "from sklearn.decomposition import FactorAnalysis\n",
        "from factor_analyzer import calculate_bartlett_sphericity, calculate_kmo\n",
        "from factor_analyzer import Rotator\n",
        "from factor_analyzer import ConfirmatoryFactorAnalyzer"
      ],
      "metadata": {
        "id": "oaiEWLbL4_s1"
      },
      "execution_count": 119,
      "outputs": []
    },
    {
      "cell_type": "code",
      "source": [
        "!ls"
      ],
      "metadata": {
        "id": "VJ8mnr5u5TtW",
        "outputId": "da29f865-9846-429c-8862-43753954e142",
        "colab": {
          "base_uri": "https://localhost:8080/"
        }
      },
      "execution_count": 4,
      "outputs": [
        {
          "output_type": "stream",
          "name": "stdout",
          "text": [
            " Capstone.ipynb\t\t  README.md\t\t\t       Webscraping.xlsx\n",
            " data_exploration.ipynb  'trivium_full_column_names (1).csv'\n"
          ]
        }
      ]
    },
    {
      "cell_type": "code",
      "source": [
        "# Load all sheets into a dictionary of DataFrames\n",
        "webscraping = pd.read_excel('Webscraping.xlsx', sheet_name=None)\n",
        "\n"
      ],
      "metadata": {
        "id": "CezO9uDx5V5R"
      },
      "execution_count": 5,
      "outputs": []
    },
    {
      "cell_type": "code",
      "source": [
        "webscraping.keys()\n",
        "# webscraping['Events and8']"
      ],
      "metadata": {
        "id": "Z-5tOcoD5mQ2",
        "outputId": "a1e8c343-c910-4637-d858-80d3a4d46185",
        "colab": {
          "base_uri": "https://localhost:8080/"
        }
      },
      "execution_count": 6,
      "outputs": [
        {
          "output_type": "execute_result",
          "data": {
            "text/plain": [
              "dict_keys(['Events and8', 'Events WDSF', 'Battles Trivium', 'Battles and8 Threefold', 'Battles and8 Single Slider', 'Battles and8 Round by Round', 'Battles and8 Traditional', 'Research Questions', 'Notes', 'Notes Columns'])"
            ]
          },
          "metadata": {},
          "execution_count": 6
        }
      ]
    },
    {
      "cell_type": "markdown",
      "source": [
        "Events details"
      ],
      "metadata": {
        "id": "pVtXSJzgJBRL"
      }
    },
    {
      "cell_type": "code",
      "source": [
        "eventsAnd8=webscraping['Events and8'][1:].copy()\n",
        "new_header= eventsAnd8.iloc[0]\n",
        "eventsAnd8=eventsAnd8.drop(1)\n",
        "eventsAnd8.columns = new_header\n",
        "eventsAnd8.rename(columns={'Name':'Event'}, inplace=True)\n",
        "eventsAnd8.drop_duplicates(subset=['Event'], inplace=True)\n",
        "\n",
        "eventsWDSF = webscraping['Events WDSF'][1:].copy()\n",
        "new_header = eventsWDSF.iloc[0]\n",
        "eventsWDSF = eventsWDSF.drop(1)\n",
        "eventsWDSF.columns = new_header\n",
        "eventsWDSF.rename(columns={'Name': 'Event'}, inplace=True)\n",
        "eventsWDSF.drop_duplicates(subset=['Event'], inplace=True)\n",
        "\n",
        "combined_events = pd.concat([eventsAnd8, eventsWDSF], ignore_index=True)\n"
      ],
      "metadata": {
        "id": "FyTwAgXO_tJc"
      },
      "execution_count": 13,
      "outputs": []
    },
    {
      "cell_type": "markdown",
      "source": [
        "Threefold Battles"
      ],
      "metadata": {
        "id": "jvH-fO_tI-5b"
      }
    },
    {
      "cell_type": "code",
      "source": [
        "#threefold battles\n",
        "threefold = webscraping['Battles and8 Threefold']\n",
        "threefold.rename(columns={'Unnamed: 0':'Event', 'Unnamed: 1': 'Category'}, inplace=True)\n",
        "threefold[['Event', 'Category']] = threefold[['Event', 'Category']].fillna(method='ffill')\n",
        "threefold.head(2)"
      ],
      "metadata": {
        "id": "-VV9ClgfGfUn",
        "outputId": "2c19da8b-9b4e-424b-bcca-c06e69d88257",
        "colab": {
          "base_uri": "https://localhost:8080/",
          "height": 335
        }
      },
      "execution_count": 20,
      "outputs": [
        {
          "output_type": "execute_result",
          "data": {
            "text/plain": [
              "                                               Event  \\\n",
              "0  Campionato Italiano di Categoria Breaking FIDS...   \n",
              "1  Campionato Italiano di Categoria Breaking FIDS...   \n",
              "\n",
              "                            Category breaker 1 breaker 2   winner  \\\n",
              "0  1vs1 BBoy 12-15 C Top 16 KnockOut   Baruzzo  Elpablix  Baruzzo   \n",
              "1  1vs1 BBoy 12-15 C Top 16 KnockOut      Yoga      Faby     Faby   \n",
              "\n",
              "   battle rounds  number of judges  breaker 1 round wins  \\\n",
              "0              3                 3                     2   \n",
              "1              2                 3                     0   \n",
              "\n",
              "   breaker 2 round wins  breaker 1 vote count  ...  r3j7arti r3j7inte  \\\n",
              "0                     1                   5.0  ...       NaN      NaN   \n",
              "1                     2                   1.0  ...       NaN      NaN   \n",
              "\n",
              "  r3j8over r3j8phys r3j8arti r3j8inte r3j9over r3j9phys  r3j9arti  r3j9inte  \n",
              "0      NaN      NaN      NaN      NaN      NaN      NaN       NaN       NaN  \n",
              "1      NaN      NaN      NaN      NaN      NaN      NaN       NaN       NaN  \n",
              "\n",
              "[2 rows x 128 columns]"
            ],
            "text/html": [
              "\n",
              "  <div id=\"df-a38c3877-171d-4abf-8921-f9527b8691a1\" class=\"colab-df-container\">\n",
              "    <div>\n",
              "<style scoped>\n",
              "    .dataframe tbody tr th:only-of-type {\n",
              "        vertical-align: middle;\n",
              "    }\n",
              "\n",
              "    .dataframe tbody tr th {\n",
              "        vertical-align: top;\n",
              "    }\n",
              "\n",
              "    .dataframe thead th {\n",
              "        text-align: right;\n",
              "    }\n",
              "</style>\n",
              "<table border=\"1\" class=\"dataframe\">\n",
              "  <thead>\n",
              "    <tr style=\"text-align: right;\">\n",
              "      <th></th>\n",
              "      <th>Event</th>\n",
              "      <th>Category</th>\n",
              "      <th>breaker 1</th>\n",
              "      <th>breaker 2</th>\n",
              "      <th>winner</th>\n",
              "      <th>battle rounds</th>\n",
              "      <th>number of judges</th>\n",
              "      <th>breaker 1 round wins</th>\n",
              "      <th>breaker 2 round wins</th>\n",
              "      <th>breaker 1 vote count</th>\n",
              "      <th>...</th>\n",
              "      <th>r3j7arti</th>\n",
              "      <th>r3j7inte</th>\n",
              "      <th>r3j8over</th>\n",
              "      <th>r3j8phys</th>\n",
              "      <th>r3j8arti</th>\n",
              "      <th>r3j8inte</th>\n",
              "      <th>r3j9over</th>\n",
              "      <th>r3j9phys</th>\n",
              "      <th>r3j9arti</th>\n",
              "      <th>r3j9inte</th>\n",
              "    </tr>\n",
              "  </thead>\n",
              "  <tbody>\n",
              "    <tr>\n",
              "      <th>0</th>\n",
              "      <td>Campionato Italiano di Categoria Breaking FIDS...</td>\n",
              "      <td>1vs1 BBoy 12-15 C Top 16 KnockOut</td>\n",
              "      <td>Baruzzo</td>\n",
              "      <td>Elpablix</td>\n",
              "      <td>Baruzzo</td>\n",
              "      <td>3</td>\n",
              "      <td>3</td>\n",
              "      <td>2</td>\n",
              "      <td>1</td>\n",
              "      <td>5.0</td>\n",
              "      <td>...</td>\n",
              "      <td>NaN</td>\n",
              "      <td>NaN</td>\n",
              "      <td>NaN</td>\n",
              "      <td>NaN</td>\n",
              "      <td>NaN</td>\n",
              "      <td>NaN</td>\n",
              "      <td>NaN</td>\n",
              "      <td>NaN</td>\n",
              "      <td>NaN</td>\n",
              "      <td>NaN</td>\n",
              "    </tr>\n",
              "    <tr>\n",
              "      <th>1</th>\n",
              "      <td>Campionato Italiano di Categoria Breaking FIDS...</td>\n",
              "      <td>1vs1 BBoy 12-15 C Top 16 KnockOut</td>\n",
              "      <td>Yoga</td>\n",
              "      <td>Faby</td>\n",
              "      <td>Faby</td>\n",
              "      <td>2</td>\n",
              "      <td>3</td>\n",
              "      <td>0</td>\n",
              "      <td>2</td>\n",
              "      <td>1.0</td>\n",
              "      <td>...</td>\n",
              "      <td>NaN</td>\n",
              "      <td>NaN</td>\n",
              "      <td>NaN</td>\n",
              "      <td>NaN</td>\n",
              "      <td>NaN</td>\n",
              "      <td>NaN</td>\n",
              "      <td>NaN</td>\n",
              "      <td>NaN</td>\n",
              "      <td>NaN</td>\n",
              "      <td>NaN</td>\n",
              "    </tr>\n",
              "  </tbody>\n",
              "</table>\n",
              "<p>2 rows × 128 columns</p>\n",
              "</div>\n",
              "    <div class=\"colab-df-buttons\">\n",
              "\n",
              "  <div class=\"colab-df-container\">\n",
              "    <button class=\"colab-df-convert\" onclick=\"convertToInteractive('df-a38c3877-171d-4abf-8921-f9527b8691a1')\"\n",
              "            title=\"Convert this dataframe to an interactive table.\"\n",
              "            style=\"display:none;\">\n",
              "\n",
              "  <svg xmlns=\"http://www.w3.org/2000/svg\" height=\"24px\" viewBox=\"0 -960 960 960\">\n",
              "    <path d=\"M120-120v-720h720v720H120Zm60-500h600v-160H180v160Zm220 220h160v-160H400v160Zm0 220h160v-160H400v160ZM180-400h160v-160H180v160Zm440 0h160v-160H620v160ZM180-180h160v-160H180v160Zm440 0h160v-160H620v160Z\"/>\n",
              "  </svg>\n",
              "    </button>\n",
              "\n",
              "  <style>\n",
              "    .colab-df-container {\n",
              "      display:flex;\n",
              "      gap: 12px;\n",
              "    }\n",
              "\n",
              "    .colab-df-convert {\n",
              "      background-color: #E8F0FE;\n",
              "      border: none;\n",
              "      border-radius: 50%;\n",
              "      cursor: pointer;\n",
              "      display: none;\n",
              "      fill: #1967D2;\n",
              "      height: 32px;\n",
              "      padding: 0 0 0 0;\n",
              "      width: 32px;\n",
              "    }\n",
              "\n",
              "    .colab-df-convert:hover {\n",
              "      background-color: #E2EBFA;\n",
              "      box-shadow: 0px 1px 2px rgba(60, 64, 67, 0.3), 0px 1px 3px 1px rgba(60, 64, 67, 0.15);\n",
              "      fill: #174EA6;\n",
              "    }\n",
              "\n",
              "    .colab-df-buttons div {\n",
              "      margin-bottom: 4px;\n",
              "    }\n",
              "\n",
              "    [theme=dark] .colab-df-convert {\n",
              "      background-color: #3B4455;\n",
              "      fill: #D2E3FC;\n",
              "    }\n",
              "\n",
              "    [theme=dark] .colab-df-convert:hover {\n",
              "      background-color: #434B5C;\n",
              "      box-shadow: 0px 1px 3px 1px rgba(0, 0, 0, 0.15);\n",
              "      filter: drop-shadow(0px 1px 2px rgba(0, 0, 0, 0.3));\n",
              "      fill: #FFFFFF;\n",
              "    }\n",
              "  </style>\n",
              "\n",
              "    <script>\n",
              "      const buttonEl =\n",
              "        document.querySelector('#df-a38c3877-171d-4abf-8921-f9527b8691a1 button.colab-df-convert');\n",
              "      buttonEl.style.display =\n",
              "        google.colab.kernel.accessAllowed ? 'block' : 'none';\n",
              "\n",
              "      async function convertToInteractive(key) {\n",
              "        const element = document.querySelector('#df-a38c3877-171d-4abf-8921-f9527b8691a1');\n",
              "        const dataTable =\n",
              "          await google.colab.kernel.invokeFunction('convertToInteractive',\n",
              "                                                    [key], {});\n",
              "        if (!dataTable) return;\n",
              "\n",
              "        const docLinkHtml = 'Like what you see? Visit the ' +\n",
              "          '<a target=\"_blank\" href=https://colab.research.google.com/notebooks/data_table.ipynb>data table notebook</a>'\n",
              "          + ' to learn more about interactive tables.';\n",
              "        element.innerHTML = '';\n",
              "        dataTable['output_type'] = 'display_data';\n",
              "        await google.colab.output.renderOutput(dataTable, element);\n",
              "        const docLink = document.createElement('div');\n",
              "        docLink.innerHTML = docLinkHtml;\n",
              "        element.appendChild(docLink);\n",
              "      }\n",
              "    </script>\n",
              "  </div>\n",
              "\n",
              "\n",
              "<div id=\"df-b8f7ad6f-b8dc-4626-afe4-8126d49918ae\">\n",
              "  <button class=\"colab-df-quickchart\" onclick=\"quickchart('df-b8f7ad6f-b8dc-4626-afe4-8126d49918ae')\"\n",
              "            title=\"Suggest charts\"\n",
              "            style=\"display:none;\">\n",
              "\n",
              "<svg xmlns=\"http://www.w3.org/2000/svg\" height=\"24px\"viewBox=\"0 0 24 24\"\n",
              "     width=\"24px\">\n",
              "    <g>\n",
              "        <path d=\"M19 3H5c-1.1 0-2 .9-2 2v14c0 1.1.9 2 2 2h14c1.1 0 2-.9 2-2V5c0-1.1-.9-2-2-2zM9 17H7v-7h2v7zm4 0h-2V7h2v10zm4 0h-2v-4h2v4z\"/>\n",
              "    </g>\n",
              "</svg>\n",
              "  </button>\n",
              "\n",
              "<style>\n",
              "  .colab-df-quickchart {\n",
              "      --bg-color: #E8F0FE;\n",
              "      --fill-color: #1967D2;\n",
              "      --hover-bg-color: #E2EBFA;\n",
              "      --hover-fill-color: #174EA6;\n",
              "      --disabled-fill-color: #AAA;\n",
              "      --disabled-bg-color: #DDD;\n",
              "  }\n",
              "\n",
              "  [theme=dark] .colab-df-quickchart {\n",
              "      --bg-color: #3B4455;\n",
              "      --fill-color: #D2E3FC;\n",
              "      --hover-bg-color: #434B5C;\n",
              "      --hover-fill-color: #FFFFFF;\n",
              "      --disabled-bg-color: #3B4455;\n",
              "      --disabled-fill-color: #666;\n",
              "  }\n",
              "\n",
              "  .colab-df-quickchart {\n",
              "    background-color: var(--bg-color);\n",
              "    border: none;\n",
              "    border-radius: 50%;\n",
              "    cursor: pointer;\n",
              "    display: none;\n",
              "    fill: var(--fill-color);\n",
              "    height: 32px;\n",
              "    padding: 0;\n",
              "    width: 32px;\n",
              "  }\n",
              "\n",
              "  .colab-df-quickchart:hover {\n",
              "    background-color: var(--hover-bg-color);\n",
              "    box-shadow: 0 1px 2px rgba(60, 64, 67, 0.3), 0 1px 3px 1px rgba(60, 64, 67, 0.15);\n",
              "    fill: var(--button-hover-fill-color);\n",
              "  }\n",
              "\n",
              "  .colab-df-quickchart-complete:disabled,\n",
              "  .colab-df-quickchart-complete:disabled:hover {\n",
              "    background-color: var(--disabled-bg-color);\n",
              "    fill: var(--disabled-fill-color);\n",
              "    box-shadow: none;\n",
              "  }\n",
              "\n",
              "  .colab-df-spinner {\n",
              "    border: 2px solid var(--fill-color);\n",
              "    border-color: transparent;\n",
              "    border-bottom-color: var(--fill-color);\n",
              "    animation:\n",
              "      spin 1s steps(1) infinite;\n",
              "  }\n",
              "\n",
              "  @keyframes spin {\n",
              "    0% {\n",
              "      border-color: transparent;\n",
              "      border-bottom-color: var(--fill-color);\n",
              "      border-left-color: var(--fill-color);\n",
              "    }\n",
              "    20% {\n",
              "      border-color: transparent;\n",
              "      border-left-color: var(--fill-color);\n",
              "      border-top-color: var(--fill-color);\n",
              "    }\n",
              "    30% {\n",
              "      border-color: transparent;\n",
              "      border-left-color: var(--fill-color);\n",
              "      border-top-color: var(--fill-color);\n",
              "      border-right-color: var(--fill-color);\n",
              "    }\n",
              "    40% {\n",
              "      border-color: transparent;\n",
              "      border-right-color: var(--fill-color);\n",
              "      border-top-color: var(--fill-color);\n",
              "    }\n",
              "    60% {\n",
              "      border-color: transparent;\n",
              "      border-right-color: var(--fill-color);\n",
              "    }\n",
              "    80% {\n",
              "      border-color: transparent;\n",
              "      border-right-color: var(--fill-color);\n",
              "      border-bottom-color: var(--fill-color);\n",
              "    }\n",
              "    90% {\n",
              "      border-color: transparent;\n",
              "      border-bottom-color: var(--fill-color);\n",
              "    }\n",
              "  }\n",
              "</style>\n",
              "\n",
              "  <script>\n",
              "    async function quickchart(key) {\n",
              "      const quickchartButtonEl =\n",
              "        document.querySelector('#' + key + ' button');\n",
              "      quickchartButtonEl.disabled = true;  // To prevent multiple clicks.\n",
              "      quickchartButtonEl.classList.add('colab-df-spinner');\n",
              "      try {\n",
              "        const charts = await google.colab.kernel.invokeFunction(\n",
              "            'suggestCharts', [key], {});\n",
              "      } catch (error) {\n",
              "        console.error('Error during call to suggestCharts:', error);\n",
              "      }\n",
              "      quickchartButtonEl.classList.remove('colab-df-spinner');\n",
              "      quickchartButtonEl.classList.add('colab-df-quickchart-complete');\n",
              "    }\n",
              "    (() => {\n",
              "      let quickchartButtonEl =\n",
              "        document.querySelector('#df-b8f7ad6f-b8dc-4626-afe4-8126d49918ae button');\n",
              "      quickchartButtonEl.style.display =\n",
              "        google.colab.kernel.accessAllowed ? 'block' : 'none';\n",
              "    })();\n",
              "  </script>\n",
              "</div>\n",
              "    </div>\n",
              "  </div>\n"
            ],
            "application/vnd.google.colaboratory.intrinsic+json": {
              "type": "dataframe",
              "variable_name": "threefold"
            }
          },
          "metadata": {},
          "execution_count": 20
        }
      ]
    },
    {
      "cell_type": "code",
      "source": [
        "pd.merge(threefold, combined_events[['Date', 'Event', 'Format']], on='Event')['Format'].unique()\n"
      ],
      "metadata": {
        "id": "QkywwQX_FXDr",
        "outputId": "844ef3bc-3fc1-4b2c-afeb-d1df582946d7",
        "colab": {
          "base_uri": "https://localhost:8080/"
        }
      },
      "execution_count": 25,
      "outputs": [
        {
          "output_type": "execute_result",
          "data": {
            "text/plain": [
              "array([nan], dtype=object)"
            ]
          },
          "metadata": {},
          "execution_count": 25
        }
      ]
    },
    {
      "cell_type": "markdown",
      "source": [
        "Trivium Battles"
      ],
      "metadata": {
        "id": "2-jTztjiJFJJ"
      }
    },
    {
      "cell_type": "code",
      "source": [
        "trivium=webscraping['Battles Trivium']\n",
        "trivium.rename(columns={'Unnamed: 0':'Event', 'Unnamed: 1': 'Category'}, inplace=True)\n",
        "trivium[['Event', 'Category']]= trivium[['Event', 'Category']].fillna(method='ffill')\n"
      ],
      "metadata": {
        "id": "KpLdLiqk6UXa"
      },
      "execution_count": 28,
      "outputs": []
    },
    {
      "cell_type": "code",
      "source": [
        "trivium_columns=list(trivium.columns)\n",
        "exclude=['judge 1 name ', 'judge 2 name', 'judge 3 name', 'judge 4 name', 'judge 5 name', 'judge 6 name ', 'judge 7 name', 'judge 8 name', 'judge 9 name'  ]\n",
        "trivium_columns= [x for x in trivium_columns if x not in exclude]\n",
        "trivium=trivium[trivium_columns]\n",
        "trivium['BattleID']= trivium.index"
      ],
      "metadata": {
        "id": "3ktjykKa7_9O",
        "outputId": "9ad077e3-6856-463f-e65b-65cd07bb5704",
        "colab": {
          "base_uri": "https://localhost:8080/"
        }
      },
      "execution_count": 29,
      "outputs": [
        {
          "output_type": "stream",
          "name": "stderr",
          "text": [
            "<ipython-input-29-a75688204c39>:5: SettingWithCopyWarning: \n",
            "A value is trying to be set on a copy of a slice from a DataFrame.\n",
            "Try using .loc[row_indexer,col_indexer] = value instead\n",
            "\n",
            "See the caveats in the documentation: https://pandas.pydata.org/pandas-docs/stable/user_guide/indexing.html#returning-a-view-versus-a-copy\n",
            "  trivium['BattleID']= trivium.index\n"
          ]
        }
      ]
    },
    {
      "cell_type": "code",
      "source": [
        "trivium.shape"
      ],
      "metadata": {
        "id": "5pwOxfF_MjIf",
        "outputId": "63112473-a849-414f-fade-1406007276f7",
        "colab": {
          "base_uri": "https://localhost:8080/"
        }
      },
      "execution_count": 58,
      "outputs": [
        {
          "output_type": "execute_result",
          "data": {
            "text/plain": [
              "(1526, 417)"
            ]
          },
          "metadata": {},
          "execution_count": 58
        }
      ]
    },
    {
      "cell_type": "code",
      "source": [
        "category_sums_blue = {\n",
        "    \"Creativity\": trivium.filter(like=\"crea\").sum(axis=1),\n",
        "    \"Musicality\": trivium.filter(like=\"musi\").sum(axis=1),\n",
        "    \"Performance\": trivium.filter(like=\"perf\").sum(axis=1),\n",
        "    \"Personality\": trivium.filter(like=\"pers\").sum(axis=1),\n",
        "    \"Technique\": trivium.filter(like=\"tech\").sum(axis=1),\n",
        "    \"Variety\": trivium.filter(like=\"vari\").sum(axis=1),\n",
        "    \"Overall\":  trivium.filter(like=\"over\").sum(axis=1)\n",
        "}\n",
        "\n",
        "category_sums_red = {\n",
        "    \"Creativity\": trivium.filter(like=\"crea\").sum(axis=1)*-1,\n",
        "    \"Musicality\": trivium.filter(like=\"musi\").sum(axis=1)*-1,\n",
        "    \"Performance\": trivium.filter(like=\"perf\").sum(axis=1)*-1,\n",
        "    \"Personality\": trivium.filter(like=\"pers\").sum(axis=1)*-1,\n",
        "    \"Technique\": trivium.filter(like=\"tech\").sum(axis=1)*-1,\n",
        "    \"Variety\": trivium.filter(like=\"vari\").sum(axis=1)*-1,\n",
        "    \"Overall\":  trivium.filter(like=\"over\").sum(axis=1)*-1\n",
        "}"
      ],
      "metadata": {
        "id": "QGLnGTmj43-r"
      },
      "execution_count": 30,
      "outputs": []
    },
    {
      "cell_type": "code",
      "source": [
        "scorecardBlue=pd.DataFrame({\n",
        "    \"Event\": trivium['Event'],\n",
        "    'Category': trivium['Category'],\n",
        "    \"BattleID\": trivium[\"BattleID\"],\n",
        "    \"Side\": \"BLUE\",\n",
        "    \"Breaker\": trivium[\"breaker 2 (blue)\"],\n",
        "        **category_sums_blue,\n",
        "})\n",
        "\n",
        "scorecardRed=pd.DataFrame({\n",
        "    \"Event\": trivium['Event'],\n",
        "    'Category': trivium['Category'],\n",
        "    \"BattleID\": trivium[\"BattleID\"],\n",
        "    \"Side\": \"RED\",\n",
        "    \"Breaker\": trivium[\"breaker 1 (red)\"],\n",
        "     **category_sums_red,\n",
        "})"
      ],
      "metadata": {
        "id": "rSwx6q5r5B5a"
      },
      "execution_count": 59,
      "outputs": []
    },
    {
      "cell_type": "code",
      "source": [
        "scorecard = pd.concat([scorecardBlue, scorecardRed], ignore_index=True)\n",
        "scorecard['Score Type']=\"trivium\"\n",
        "scorecard.shape"
      ],
      "metadata": {
        "id": "1eOzqiSZ81fp",
        "outputId": "d5b2e531-53a2-4b84-e3cd-ed595bf049cf",
        "colab": {
          "base_uri": "https://localhost:8080/"
        }
      },
      "execution_count": 63,
      "outputs": [
        {
          "output_type": "execute_result",
          "data": {
            "text/plain": [
              "(3052, 13)"
            ]
          },
          "metadata": {},
          "execution_count": 63
        }
      ]
    },
    {
      "cell_type": "code",
      "source": [
        "# scorecard[scorecard['Breaker']==\"Ami\"].mean(), scorecard[scorecard['Breaker']==\"Ami\"].count()"
      ],
      "metadata": {
        "id": "9H5E1UaM9qTH"
      },
      "execution_count": null,
      "outputs": []
    },
    {
      "cell_type": "code",
      "source": [
        "# scorecard[scorecard['Breaker']==671].mean(), scorecard[scorecard['Breaker']==671].count()"
      ],
      "metadata": {
        "id": "BdIJO4Vj97KO"
      },
      "execution_count": null,
      "outputs": []
    },
    {
      "cell_type": "code",
      "source": [
        "\n",
        "scorecard.shape"
      ],
      "metadata": {
        "id": "6jiQDxMiMvW7",
        "outputId": "00691745-469f-485a-ba4d-312a6ad47491",
        "colab": {
          "base_uri": "https://localhost:8080/"
        }
      },
      "execution_count": 64,
      "outputs": [
        {
          "output_type": "execute_result",
          "data": {
            "text/plain": [
              "(3052, 14)"
            ]
          },
          "metadata": {},
          "execution_count": 64
        }
      ]
    },
    {
      "cell_type": "code",
      "source": [
        "scorecard=pd.merge(scorecard, eventsAnd8[['Date', 'Event']], on='Event', how='left')\n",
        "# today = scorecard['Date'].max()\n",
        "# total_days = (today - scorecard['Date'].min()).days + 1  # Get the total number of days dynamically\n",
        "# scorecard['Weight'] = ((today - scorecard['Date']).dt.days / total_days) * 100\n",
        "# scorecard['Weight'] = 100 - scorecard['Weight']  # Reverse the weights so that newer dates have higher weights"
      ],
      "metadata": {
        "id": "ELS9VxDtCENd"
      },
      "execution_count": 66,
      "outputs": []
    },
    {
      "cell_type": "markdown",
      "source": [
        "Trivium PCA"
      ],
      "metadata": {
        "id": "wn2LFY4dKV_Z"
      }
    },
    {
      "cell_type": "code",
      "source": [
        "# triviumFloat=\n",
        "triviumScore=scorecardBlue[['Creativity', 'Musicality', 'Performance', 'Personality', 'Technique', 'Variety']]"
      ],
      "metadata": {
        "id": "XgwjQHm6LEBr"
      },
      "execution_count": 80,
      "outputs": []
    },
    {
      "cell_type": "code",
      "source": [
        "#imputer also get feature name for plotting later\n",
        "names=triviumScore.columns\n",
        "imputer = SimpleImputer(missing_values=np.nan, strategy='mean')\n",
        "triviumNorm = imputer.fit_transform(triviumScore)\n",
        "features=imputer.get_feature_names_out(input_features= names)\n",
        "\n",
        "\n",
        "#normalize float columns\n",
        "triviumNorm= StandardScaler().fit(triviumNorm).transform(triviumNorm)\n"
      ],
      "metadata": {
        "id": "DnsOvODlJ1pA"
      },
      "execution_count": 81,
      "outputs": []
    },
    {
      "cell_type": "code",
      "source": [
        "#set PCA\n",
        "pca = PCA(n_components=3, random_state=0).fit(triviumNorm)\n",
        "X_pca = pca.transform(triviumNorm)\n",
        "X_pca.shape, triviumNorm.shape"
      ],
      "metadata": {
        "id": "W8gGwY6sMAaq",
        "outputId": "fbb4853c-b76c-488a-ab82-4dfa2648d0d2",
        "colab": {
          "base_uri": "https://localhost:8080/"
        }
      },
      "execution_count": 82,
      "outputs": [
        {
          "output_type": "execute_result",
          "data": {
            "text/plain": [
              "((1526, 3), (1526, 6))"
            ]
          },
          "metadata": {},
          "execution_count": 82
        }
      ]
    },
    {
      "cell_type": "code",
      "source": [
        "features"
      ],
      "metadata": {
        "id": "TG75ERshORKx",
        "outputId": "608ad054-9185-4a87-91c3-ba16d57faf71",
        "colab": {
          "base_uri": "https://localhost:8080/"
        }
      },
      "execution_count": 83,
      "outputs": [
        {
          "output_type": "execute_result",
          "data": {
            "text/plain": [
              "array(['Creativity', 'Musicality', 'Performance', 'Personality',\n",
              "       'Technique', 'Variety'], dtype=object)"
            ]
          },
          "metadata": {},
          "execution_count": 83
        }
      ]
    },
    {
      "cell_type": "markdown",
      "source": [],
      "metadata": {
        "id": "JXBRLXLm7aDE"
      }
    },
    {
      "cell_type": "code",
      "source": [
        "loadings_abs = np.abs(pca.components_)\n",
        "pcs = ['PC1', 'PC2', 'PC3']\n",
        "\n",
        "# Create DataFrame\n",
        "pca_loadings = pd.DataFrame(loadings_abs.T, columns=pcs, index=features)\n",
        "\n",
        "# pca_loadings.T.plot.bar(figsize=(10, 20), subplots=True)"
      ],
      "metadata": {
        "id": "HGz71lY2R-gX"
      },
      "execution_count": 166,
      "outputs": []
    },
    {
      "cell_type": "code",
      "source": [
        "print( \" factor Analysis accum variance: \",np.cumsum(pca.explained_variance_ratio_)[2])"
      ],
      "metadata": {
        "id": "D_puypclf_dy",
        "outputId": "ffbc37e4-22bb-4bfa-8237-cc0209570520",
        "colab": {
          "base_uri": "https://localhost:8080/"
        }
      },
      "execution_count": 167,
      "outputs": [
        {
          "output_type": "stream",
          "name": "stdout",
          "text": [
            " factor Analysis accum variance:  0.8822364614685656\n"
          ]
        }
      ]
    },
    {
      "cell_type": "code",
      "source": [
        "pca_loadings.style.background_gradient()"
      ],
      "metadata": {
        "id": "dOwKmbT3coYV",
        "outputId": "05d8cb36-82d8-4a69-c9f2-7e711668e9e8",
        "colab": {
          "base_uri": "https://localhost:8080/",
          "height": 237
        }
      },
      "execution_count": 168,
      "outputs": [
        {
          "output_type": "execute_result",
          "data": {
            "text/plain": [
              "<pandas.io.formats.style.Styler at 0x7ee7a959a140>"
            ],
            "text/html": [
              "<style type=\"text/css\">\n",
              "#T_d36a0_row0_col0 {\n",
              "  background-color: #efe9f3;\n",
              "  color: #000000;\n",
              "}\n",
              "#T_d36a0_row0_col1 {\n",
              "  background-color: #fdf5fa;\n",
              "  color: #000000;\n",
              "}\n",
              "#T_d36a0_row0_col2, #T_d36a0_row2_col0, #T_d36a0_row4_col1 {\n",
              "  background-color: #023858;\n",
              "  color: #f1f1f1;\n",
              "}\n",
              "#T_d36a0_row1_col0 {\n",
              "  background-color: #89b1d4;\n",
              "  color: #000000;\n",
              "}\n",
              "#T_d36a0_row1_col1 {\n",
              "  background-color: #5a9ec9;\n",
              "  color: #f1f1f1;\n",
              "}\n",
              "#T_d36a0_row1_col2 {\n",
              "  background-color: #e7e3f0;\n",
              "  color: #000000;\n",
              "}\n",
              "#T_d36a0_row2_col1 {\n",
              "  background-color: #e0dded;\n",
              "  color: #000000;\n",
              "}\n",
              "#T_d36a0_row2_col2 {\n",
              "  background-color: #cccfe5;\n",
              "  color: #000000;\n",
              "}\n",
              "#T_d36a0_row3_col0 {\n",
              "  background-color: #76aad0;\n",
              "  color: #f1f1f1;\n",
              "}\n",
              "#T_d36a0_row3_col1 {\n",
              "  background-color: #589ec8;\n",
              "  color: #f1f1f1;\n",
              "}\n",
              "#T_d36a0_row3_col2 {\n",
              "  background-color: #dbdaeb;\n",
              "  color: #000000;\n",
              "}\n",
              "#T_d36a0_row4_col0, #T_d36a0_row4_col2, #T_d36a0_row5_col1 {\n",
              "  background-color: #fff7fb;\n",
              "  color: #000000;\n",
              "}\n",
              "#T_d36a0_row5_col0 {\n",
              "  background-color: #056dab;\n",
              "  color: #f1f1f1;\n",
              "}\n",
              "#T_d36a0_row5_col2 {\n",
              "  background-color: #81aed2;\n",
              "  color: #f1f1f1;\n",
              "}\n",
              "</style>\n",
              "<table id=\"T_d36a0\" class=\"dataframe\">\n",
              "  <thead>\n",
              "    <tr>\n",
              "      <th class=\"blank level0\" >&nbsp;</th>\n",
              "      <th id=\"T_d36a0_level0_col0\" class=\"col_heading level0 col0\" >PC1</th>\n",
              "      <th id=\"T_d36a0_level0_col1\" class=\"col_heading level0 col1\" >PC2</th>\n",
              "      <th id=\"T_d36a0_level0_col2\" class=\"col_heading level0 col2\" >PC3</th>\n",
              "    </tr>\n",
              "  </thead>\n",
              "  <tbody>\n",
              "    <tr>\n",
              "      <th id=\"T_d36a0_level0_row0\" class=\"row_heading level0 row0\" >Creativity</th>\n",
              "      <td id=\"T_d36a0_row0_col0\" class=\"data row0 col0\" >0.362888</td>\n",
              "      <td id=\"T_d36a0_row0_col1\" class=\"data row0 col1\" >0.143561</td>\n",
              "      <td id=\"T_d36a0_row0_col2\" class=\"data row0 col2\" >0.713032</td>\n",
              "    </tr>\n",
              "    <tr>\n",
              "      <th id=\"T_d36a0_level0_row1\" class=\"row_heading level0 row1\" >Musicality</th>\n",
              "      <td id=\"T_d36a0_row1_col0\" class=\"data row1 col0\" >0.403575</td>\n",
              "      <td id=\"T_d36a0_row1_col1\" class=\"data row1 col1\" >0.450374</td>\n",
              "      <td id=\"T_d36a0_row1_col2\" class=\"data row1 col2\" >0.269483</td>\n",
              "    </tr>\n",
              "    <tr>\n",
              "      <th id=\"T_d36a0_level0_row2\" class=\"row_heading level0 row2\" >Performance</th>\n",
              "      <td id=\"T_d36a0_row2_col0\" class=\"data row2 col0\" >0.469467</td>\n",
              "      <td id=\"T_d36a0_row2_col1\" class=\"data row2 col1\" >0.239068</td>\n",
              "      <td id=\"T_d36a0_row2_col2\" class=\"data row2 col2\" >0.327888</td>\n",
              "    </tr>\n",
              "    <tr>\n",
              "      <th id=\"T_d36a0_level0_row3\" class=\"row_heading level0 row3\" >Personality</th>\n",
              "      <td id=\"T_d36a0_row3_col0\" class=\"data row3 col0\" >0.409212</td>\n",
              "      <td id=\"T_d36a0_row3_col1\" class=\"data row3 col1\" >0.452774</td>\n",
              "      <td id=\"T_d36a0_row3_col2\" class=\"data row3 col2\" >0.295638</td>\n",
              "    </tr>\n",
              "    <tr>\n",
              "      <th id=\"T_d36a0_level0_row4\" class=\"row_heading level0 row4\" >Technique</th>\n",
              "      <td id=\"T_d36a0_row4_col0\" class=\"data row4 col0\" >0.350112</td>\n",
              "      <td id=\"T_d36a0_row4_col1\" class=\"data row4 col1\" >0.704047</td>\n",
              "      <td id=\"T_d36a0_row4_col2\" class=\"data row4 col2\" >0.190013</td>\n",
              "    </tr>\n",
              "    <tr>\n",
              "      <th id=\"T_d36a0_level0_row5\" class=\"row_heading level0 row5\" >Variety</th>\n",
              "      <td id=\"T_d36a0_row5_col0\" class=\"data row5 col0\" >0.441596</td>\n",
              "      <td id=\"T_d36a0_row5_col1\" class=\"data row5 col1\" >0.136793</td>\n",
              "      <td id=\"T_d36a0_row5_col2\" class=\"data row5 col2\" >0.433527</td>\n",
              "    </tr>\n",
              "  </tbody>\n",
              "</table>\n"
            ]
          },
          "metadata": {},
          "execution_count": 168
        }
      ]
    },
    {
      "cell_type": "markdown",
      "source": [
        "**Factor Analysis.**\n",
        "Kaiser-Meyer-Olkin (KMO) Test measures the suitability of data for factor analysis. It determines the adequacy for each observed variable and for the complete model. KMO estimates the proportion of variance among all the observed variable. Lower proportion id more suitable for factor analysis. KMO values range between 0 and 1. Value of KMO less than 0.6 is considered inadequate."
      ],
      "metadata": {
        "id": "HN8q_re0Y6nM"
      }
    },
    {
      "cell_type": "code",
      "source": [
        "kmo_all,kmo_model=calculate_kmo(triviumNorm)\n",
        "kmo_model"
      ],
      "metadata": {
        "id": "pWyZ-xdTWj4P",
        "outputId": "efef2717-a02f-443e-8287-a936a51fb174",
        "colab": {
          "base_uri": "https://localhost:8080/"
        }
      },
      "execution_count": 121,
      "outputs": [
        {
          "output_type": "execute_result",
          "data": {
            "text/plain": [
              "0.6828153227522676"
            ]
          },
          "metadata": {},
          "execution_count": 121
        }
      ]
    },
    {
      "cell_type": "code",
      "source": [
        "triviumNorm"
      ],
      "metadata": {
        "id": "Yx4adP2CZtcj"
      },
      "execution_count": null,
      "outputs": []
    },
    {
      "cell_type": "code",
      "source": [
        "# perform factor analysis\n",
        "fa = FactorAnalyzer(3, rotation=None)\n",
        "fa.fit(triviumNorm)\n",
        "X_transformed = fa.fit_transform(triviumNorm)"
      ],
      "metadata": {
        "id": "VV58NbsuWjui"
      },
      "execution_count": 170,
      "outputs": []
    },
    {
      "cell_type": "code",
      "source": [
        "print( \" factor Analysis accum variance: \",fa.get_factor_variance()[2][-1], fa.get_params())"
      ],
      "metadata": {
        "id": "nkz6omAVZkkM",
        "outputId": "5ffb9df1-2980-49e9-ab0a-03741e4aeb7b",
        "colab": {
          "base_uri": "https://localhost:8080/"
        }
      },
      "execution_count": 171,
      "outputs": [
        {
          "output_type": "stream",
          "name": "stdout",
          "text": [
            " factor Analysis accum variance:  0.7885636265232234 {'bounds': (0.005, 1), 'impute': 'median', 'is_corr_matrix': False, 'method': 'minres', 'n_factors': 3, 'rotation': None, 'rotation_kwargs': {}, 'svd_method': 'randomized', 'use_smc': True}\n"
          ]
        }
      ]
    },
    {
      "cell_type": "code",
      "source": [
        "faLoadings=np.abs(fa.loadings_)\n",
        "fa = ['Factor1', 'Factor2', 'Factor3']\n",
        "\n",
        "# Create DataFrame\n",
        "fa_loadings = pd.DataFrame(faLoadings, columns=pcs, index=features)\n",
        "\n",
        "# fa_loadings.T.plot.bar(figsize=(10, 20), subplots=True)\n"
      ],
      "metadata": {
        "id": "RJZ1SNvAZp4Q"
      },
      "execution_count": 172,
      "outputs": []
    },
    {
      "cell_type": "code",
      "source": [
        "fa_loadings.style.background_gradient()"
      ],
      "metadata": {
        "id": "4XNmsAlMdzS_",
        "outputId": "8f8410e3-c307-4e7f-e38d-bc42f778ba7a",
        "colab": {
          "base_uri": "https://localhost:8080/",
          "height": 237
        }
      },
      "execution_count": 173,
      "outputs": [
        {
          "output_type": "execute_result",
          "data": {
            "text/plain": [
              "<pandas.io.formats.style.Styler at 0x7ee7a959aef0>"
            ],
            "text/html": [
              "<style type=\"text/css\">\n",
              "#T_17ec7_row0_col0, #T_17ec7_row1_col2, #T_17ec7_row5_col1 {\n",
              "  background-color: #fff7fb;\n",
              "  color: #000000;\n",
              "}\n",
              "#T_17ec7_row0_col1 {\n",
              "  background-color: #ebe6f2;\n",
              "  color: #000000;\n",
              "}\n",
              "#T_17ec7_row0_col2 {\n",
              "  background-color: #62a2cb;\n",
              "  color: #f1f1f1;\n",
              "}\n",
              "#T_17ec7_row1_col0 {\n",
              "  background-color: #b9c6e0;\n",
              "  color: #000000;\n",
              "}\n",
              "#T_17ec7_row1_col1 {\n",
              "  background-color: #88b1d4;\n",
              "  color: #000000;\n",
              "}\n",
              "#T_17ec7_row2_col0, #T_17ec7_row4_col1, #T_17ec7_row5_col2 {\n",
              "  background-color: #023858;\n",
              "  color: #f1f1f1;\n",
              "}\n",
              "#T_17ec7_row2_col1 {\n",
              "  background-color: #e9e5f1;\n",
              "  color: #000000;\n",
              "}\n",
              "#T_17ec7_row2_col2 {\n",
              "  background-color: #b4c4df;\n",
              "  color: #000000;\n",
              "}\n",
              "#T_17ec7_row3_col0 {\n",
              "  background-color: #60a1ca;\n",
              "  color: #f1f1f1;\n",
              "}\n",
              "#T_17ec7_row3_col1 {\n",
              "  background-color: #358fc0;\n",
              "  color: #f1f1f1;\n",
              "}\n",
              "#T_17ec7_row3_col2 {\n",
              "  background-color: #b0c2de;\n",
              "  color: #000000;\n",
              "}\n",
              "#T_17ec7_row4_col0 {\n",
              "  background-color: #a9bfdc;\n",
              "  color: #000000;\n",
              "}\n",
              "#T_17ec7_row4_col2 {\n",
              "  background-color: #f5eff6;\n",
              "  color: #000000;\n",
              "}\n",
              "#T_17ec7_row5_col0 {\n",
              "  background-color: #034267;\n",
              "  color: #f1f1f1;\n",
              "}\n",
              "</style>\n",
              "<table id=\"T_17ec7\" class=\"dataframe\">\n",
              "  <thead>\n",
              "    <tr>\n",
              "      <th class=\"blank level0\" >&nbsp;</th>\n",
              "      <th id=\"T_17ec7_level0_col0\" class=\"col_heading level0 col0\" >PC1</th>\n",
              "      <th id=\"T_17ec7_level0_col1\" class=\"col_heading level0 col1\" >PC2</th>\n",
              "      <th id=\"T_17ec7_level0_col2\" class=\"col_heading level0 col2\" >PC3</th>\n",
              "    </tr>\n",
              "  </thead>\n",
              "  <tbody>\n",
              "    <tr>\n",
              "      <th id=\"T_17ec7_level0_row0\" class=\"row_heading level0 row0\" >Creativity</th>\n",
              "      <td id=\"T_17ec7_row0_col0\" class=\"data row0 col0\" >0.584749</td>\n",
              "      <td id=\"T_17ec7_row0_col1\" class=\"data row0 col1\" >0.144549</td>\n",
              "      <td id=\"T_17ec7_row0_col2\" class=\"data row0 col2\" >0.356931</td>\n",
              "    </tr>\n",
              "    <tr>\n",
              "      <th id=\"T_17ec7_level0_row1\" class=\"row_heading level0 row1\" >Musicality</th>\n",
              "      <td id=\"T_17ec7_row1_col0\" class=\"data row1 col0\" >0.669645</td>\n",
              "      <td id=\"T_17ec7_row1_col1\" class=\"data row1 col1\" >0.352689</td>\n",
              "      <td id=\"T_17ec7_row1_col2\" class=\"data row1 col2\" >0.148181</td>\n",
              "    </tr>\n",
              "    <tr>\n",
              "      <th id=\"T_17ec7_level0_row2\" class=\"row_heading level0 row2\" >Performance</th>\n",
              "      <td id=\"T_17ec7_row2_col0\" class=\"data row2 col0\" >0.850926</td>\n",
              "      <td id=\"T_17ec7_row2_col1\" class=\"data row2 col1\" >0.149023</td>\n",
              "      <td id=\"T_17ec7_row2_col2\" class=\"data row2 col2\" >0.278467</td>\n",
              "    </tr>\n",
              "    <tr>\n",
              "      <th id=\"T_17ec7_level0_row3\" class=\"row_heading level0 row3\" >Personality</th>\n",
              "      <td id=\"T_17ec7_row3_col0\" class=\"data row3 col0\" >0.728653</td>\n",
              "      <td id=\"T_17ec7_row3_col1\" class=\"data row3 col1\" >0.465250</td>\n",
              "      <td id=\"T_17ec7_row3_col2\" class=\"data row3 col2\" >0.282656</td>\n",
              "    </tr>\n",
              "    <tr>\n",
              "      <th id=\"T_17ec7_level0_row4\" class=\"row_heading level0 row4\" >Technique</th>\n",
              "      <td id=\"T_17ec7_row4_col0\" class=\"data row4 col0\" >0.682145</td>\n",
              "      <td id=\"T_17ec7_row4_col1\" class=\"data row4 col1\" >0.707579</td>\n",
              "      <td id=\"T_17ec7_row4_col2\" class=\"data row4 col2\" >0.173523</td>\n",
              "    </tr>\n",
              "    <tr>\n",
              "      <th id=\"T_17ec7_level0_row5\" class=\"row_heading level0 row5\" >Variety</th>\n",
              "      <td id=\"T_17ec7_row5_col0\" class=\"data row5 col0\" >0.840725</td>\n",
              "      <td id=\"T_17ec7_row5_col1\" class=\"data row5 col1\" >0.059744</td>\n",
              "      <td id=\"T_17ec7_row5_col2\" class=\"data row5 col2\" >0.537386</td>\n",
              "    </tr>\n",
              "  </tbody>\n",
              "</table>\n"
            ]
          },
          "metadata": {},
          "execution_count": 173
        }
      ]
    },
    {
      "cell_type": "code",
      "source": [
        "pca_loadings.style.background_gradient()"
      ],
      "metadata": {
        "id": "9c4eOlpneT2K",
        "outputId": "a42ac817-da49-4aaa-fddb-4e18fdba91f1",
        "colab": {
          "base_uri": "https://localhost:8080/",
          "height": 237
        }
      },
      "execution_count": 174,
      "outputs": [
        {
          "output_type": "execute_result",
          "data": {
            "text/plain": [
              "<pandas.io.formats.style.Styler at 0x7ee7a959ab60>"
            ],
            "text/html": [
              "<style type=\"text/css\">\n",
              "#T_25c0f_row0_col0 {\n",
              "  background-color: #efe9f3;\n",
              "  color: #000000;\n",
              "}\n",
              "#T_25c0f_row0_col1 {\n",
              "  background-color: #fdf5fa;\n",
              "  color: #000000;\n",
              "}\n",
              "#T_25c0f_row0_col2, #T_25c0f_row2_col0, #T_25c0f_row4_col1 {\n",
              "  background-color: #023858;\n",
              "  color: #f1f1f1;\n",
              "}\n",
              "#T_25c0f_row1_col0 {\n",
              "  background-color: #89b1d4;\n",
              "  color: #000000;\n",
              "}\n",
              "#T_25c0f_row1_col1 {\n",
              "  background-color: #5a9ec9;\n",
              "  color: #f1f1f1;\n",
              "}\n",
              "#T_25c0f_row1_col2 {\n",
              "  background-color: #e7e3f0;\n",
              "  color: #000000;\n",
              "}\n",
              "#T_25c0f_row2_col1 {\n",
              "  background-color: #e0dded;\n",
              "  color: #000000;\n",
              "}\n",
              "#T_25c0f_row2_col2 {\n",
              "  background-color: #cccfe5;\n",
              "  color: #000000;\n",
              "}\n",
              "#T_25c0f_row3_col0 {\n",
              "  background-color: #76aad0;\n",
              "  color: #f1f1f1;\n",
              "}\n",
              "#T_25c0f_row3_col1 {\n",
              "  background-color: #589ec8;\n",
              "  color: #f1f1f1;\n",
              "}\n",
              "#T_25c0f_row3_col2 {\n",
              "  background-color: #dbdaeb;\n",
              "  color: #000000;\n",
              "}\n",
              "#T_25c0f_row4_col0, #T_25c0f_row4_col2, #T_25c0f_row5_col1 {\n",
              "  background-color: #fff7fb;\n",
              "  color: #000000;\n",
              "}\n",
              "#T_25c0f_row5_col0 {\n",
              "  background-color: #056dab;\n",
              "  color: #f1f1f1;\n",
              "}\n",
              "#T_25c0f_row5_col2 {\n",
              "  background-color: #81aed2;\n",
              "  color: #f1f1f1;\n",
              "}\n",
              "</style>\n",
              "<table id=\"T_25c0f\" class=\"dataframe\">\n",
              "  <thead>\n",
              "    <tr>\n",
              "      <th class=\"blank level0\" >&nbsp;</th>\n",
              "      <th id=\"T_25c0f_level0_col0\" class=\"col_heading level0 col0\" >PC1</th>\n",
              "      <th id=\"T_25c0f_level0_col1\" class=\"col_heading level0 col1\" >PC2</th>\n",
              "      <th id=\"T_25c0f_level0_col2\" class=\"col_heading level0 col2\" >PC3</th>\n",
              "    </tr>\n",
              "  </thead>\n",
              "  <tbody>\n",
              "    <tr>\n",
              "      <th id=\"T_25c0f_level0_row0\" class=\"row_heading level0 row0\" >Creativity</th>\n",
              "      <td id=\"T_25c0f_row0_col0\" class=\"data row0 col0\" >0.362888</td>\n",
              "      <td id=\"T_25c0f_row0_col1\" class=\"data row0 col1\" >0.143561</td>\n",
              "      <td id=\"T_25c0f_row0_col2\" class=\"data row0 col2\" >0.713032</td>\n",
              "    </tr>\n",
              "    <tr>\n",
              "      <th id=\"T_25c0f_level0_row1\" class=\"row_heading level0 row1\" >Musicality</th>\n",
              "      <td id=\"T_25c0f_row1_col0\" class=\"data row1 col0\" >0.403575</td>\n",
              "      <td id=\"T_25c0f_row1_col1\" class=\"data row1 col1\" >0.450374</td>\n",
              "      <td id=\"T_25c0f_row1_col2\" class=\"data row1 col2\" >0.269483</td>\n",
              "    </tr>\n",
              "    <tr>\n",
              "      <th id=\"T_25c0f_level0_row2\" class=\"row_heading level0 row2\" >Performance</th>\n",
              "      <td id=\"T_25c0f_row2_col0\" class=\"data row2 col0\" >0.469467</td>\n",
              "      <td id=\"T_25c0f_row2_col1\" class=\"data row2 col1\" >0.239068</td>\n",
              "      <td id=\"T_25c0f_row2_col2\" class=\"data row2 col2\" >0.327888</td>\n",
              "    </tr>\n",
              "    <tr>\n",
              "      <th id=\"T_25c0f_level0_row3\" class=\"row_heading level0 row3\" >Personality</th>\n",
              "      <td id=\"T_25c0f_row3_col0\" class=\"data row3 col0\" >0.409212</td>\n",
              "      <td id=\"T_25c0f_row3_col1\" class=\"data row3 col1\" >0.452774</td>\n",
              "      <td id=\"T_25c0f_row3_col2\" class=\"data row3 col2\" >0.295638</td>\n",
              "    </tr>\n",
              "    <tr>\n",
              "      <th id=\"T_25c0f_level0_row4\" class=\"row_heading level0 row4\" >Technique</th>\n",
              "      <td id=\"T_25c0f_row4_col0\" class=\"data row4 col0\" >0.350112</td>\n",
              "      <td id=\"T_25c0f_row4_col1\" class=\"data row4 col1\" >0.704047</td>\n",
              "      <td id=\"T_25c0f_row4_col2\" class=\"data row4 col2\" >0.190013</td>\n",
              "    </tr>\n",
              "    <tr>\n",
              "      <th id=\"T_25c0f_level0_row5\" class=\"row_heading level0 row5\" >Variety</th>\n",
              "      <td id=\"T_25c0f_row5_col0\" class=\"data row5 col0\" >0.441596</td>\n",
              "      <td id=\"T_25c0f_row5_col1\" class=\"data row5 col1\" >0.136793</td>\n",
              "      <td id=\"T_25c0f_row5_col2\" class=\"data row5 col2\" >0.433527</td>\n",
              "    </tr>\n",
              "  </tbody>\n",
              "</table>\n"
            ]
          },
          "metadata": {},
          "execution_count": 174
        }
      ]
    }
  ]
}
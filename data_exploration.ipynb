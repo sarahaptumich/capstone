{
  "nbformat": 4,
  "nbformat_minor": 0,
  "metadata": {
    "colab": {
      "provenance": [],
      "authorship_tag": "ABX9TyNetzFoOqdsnnwzFtwIpt3A",
      "include_colab_link": true
    },
    "kernelspec": {
      "name": "python3",
      "display_name": "Python 3"
    },
    "language_info": {
      "name": "python"
    }
  },
  "cells": [
    {
      "cell_type": "markdown",
      "metadata": {
        "id": "view-in-github",
        "colab_type": "text"
      },
      "source": [
        "<a href=\"https://colab.research.google.com/github/sarahaptumich/capstone/blob/shaptonstall/data_exploration.ipynb\" target=\"_parent\"><img src=\"https://colab.research.google.com/assets/colab-badge.svg\" alt=\"Open In Colab\"/></a>"
      ]
    },
    {
      "cell_type": "code",
      "execution_count": null,
      "metadata": {
        "colab": {
          "base_uri": "https://localhost:8080/"
        },
        "id": "th6dMYKxF4p3",
        "outputId": "b43113b0-592a-4b11-a956-8d578b82f722"
      },
      "outputs": [
        {
          "output_type": "stream",
          "name": "stdout",
          "text": [
            "Drive already mounted at /content/drive; to attempt to forcibly remount, call drive.mount(\"/content/drive\", force_remount=True).\n"
          ]
        }
      ],
      "source": [
        "#Mount google drive\n",
        "from google.colab import drive\n",
        "drive.mount('/content/drive')"
      ]
    },
    {
      "cell_type": "code",
      "source": [
        "%cd /content/drive/MyDrive/Github/capstone"
      ],
      "metadata": {
        "colab": {
          "base_uri": "https://localhost:8080/"
        },
        "id": "JnOLse_JGHR0",
        "outputId": "26699af2-83e8-45be-aa10-dc761bff0f2a"
      },
      "execution_count": null,
      "outputs": [
        {
          "output_type": "stream",
          "name": "stdout",
          "text": [
            "/content/drive/MyDrive/Github/capstone\n"
          ]
        }
      ]
    },
    {
      "cell_type": "code",
      "source": [
        "#!git pull   #check that git us up to date\n",
        "#!git checkout -b shaptonstall # create a new branch\n",
        "\n",
        "#!git push origin shaptonstall #commit changes to my branch"
      ],
      "metadata": {
        "id": "nXyPes-VGKjZ"
      },
      "execution_count": null,
      "outputs": []
    },
    {
      "cell_type": "code",
      "source": [
        "# to commit to github\n",
        "#!git status # check untracked files\n",
        "#!git add {filename} # add the files\n",
        "#!git config --global user.email \"sarahapt@umich.edu\"\n",
        "# !git commit"
      ],
      "metadata": {
        "id": "PjxPDhvvHxe1"
      },
      "execution_count": null,
      "outputs": []
    },
    {
      "cell_type": "code",
      "source": [
        "pip install factor-analyzer"
      ],
      "metadata": {
        "id": "KAvqe_InWUjP",
        "outputId": "47959cc3-9219-4c62-cd62-27b1b7ed1f33",
        "colab": {
          "base_uri": "https://localhost:8080/"
        }
      },
      "execution_count": null,
      "outputs": [
        {
          "output_type": "stream",
          "name": "stdout",
          "text": [
            "Collecting factor-analyzer\n",
            "  Downloading factor_analyzer-0.5.1.tar.gz (42 kB)\n",
            "\u001b[?25l     \u001b[90m━━━━━━━━━━━━━━━━━━━━━━━━━━━━━━━━━━━━━━━━\u001b[0m \u001b[32m0.0/42.8 kB\u001b[0m \u001b[31m?\u001b[0m eta \u001b[36m-:--:--\u001b[0m\r\u001b[2K     \u001b[90m━━━━━━━━━━━━━━━━━━━━━━━━━━━━━━━━━━━━━━━━\u001b[0m \u001b[32m42.8/42.8 kB\u001b[0m \u001b[31m2.1 MB/s\u001b[0m eta \u001b[36m0:00:00\u001b[0m\n",
            "\u001b[?25h  Installing build dependencies ... \u001b[?25l\u001b[?25hdone\n",
            "  Getting requirements to build wheel ... \u001b[?25l\u001b[?25hdone\n",
            "  Installing backend dependencies ... \u001b[?25l\u001b[?25hdone\n",
            "  Preparing metadata (pyproject.toml) ... \u001b[?25l\u001b[?25hdone\n",
            "Requirement already satisfied: pandas in /usr/local/lib/python3.10/dist-packages (from factor-analyzer) (1.5.3)\n",
            "Requirement already satisfied: scipy in /usr/local/lib/python3.10/dist-packages (from factor-analyzer) (1.11.4)\n",
            "Requirement already satisfied: numpy in /usr/local/lib/python3.10/dist-packages (from factor-analyzer) (1.25.2)\n",
            "Requirement already satisfied: scikit-learn in /usr/local/lib/python3.10/dist-packages (from factor-analyzer) (1.2.2)\n",
            "Requirement already satisfied: python-dateutil>=2.8.1 in /usr/local/lib/python3.10/dist-packages (from pandas->factor-analyzer) (2.8.2)\n",
            "Requirement already satisfied: pytz>=2020.1 in /usr/local/lib/python3.10/dist-packages (from pandas->factor-analyzer) (2023.4)\n",
            "Requirement already satisfied: joblib>=1.1.1 in /usr/local/lib/python3.10/dist-packages (from scikit-learn->factor-analyzer) (1.3.2)\n",
            "Requirement already satisfied: threadpoolctl>=2.0.0 in /usr/local/lib/python3.10/dist-packages (from scikit-learn->factor-analyzer) (3.3.0)\n",
            "Requirement already satisfied: six>=1.5 in /usr/local/lib/python3.10/dist-packages (from python-dateutil>=2.8.1->pandas->factor-analyzer) (1.16.0)\n",
            "Building wheels for collected packages: factor-analyzer\n",
            "  Building wheel for factor-analyzer (pyproject.toml) ... \u001b[?25l\u001b[?25hdone\n",
            "  Created wheel for factor-analyzer: filename=factor_analyzer-0.5.1-py2.py3-none-any.whl size=42564 sha256=29f510b7d34a75e3467f6a7a7122ea711aa3d29e0b706e0b885ade08493e3d63\n",
            "  Stored in directory: /root/.cache/pip/wheels/24/59/82/6493618e30ed1cb7a013b9e1b0c9e17de80b04dfcef4ba8a4d\n",
            "Successfully built factor-analyzer\n",
            "Installing collected packages: factor-analyzer\n",
            "Successfully installed factor-analyzer-0.5.1\n"
          ]
        }
      ]
    },
    {
      "cell_type": "code",
      "source": [
        "pip install semopy"
      ],
      "metadata": {
        "id": "r29w1ulS2m2g",
        "outputId": "cb32e343-c19f-4f75-979e-cab80316830e",
        "colab": {
          "base_uri": "https://localhost:8080/"
        }
      },
      "execution_count": null,
      "outputs": [
        {
          "output_type": "stream",
          "name": "stdout",
          "text": [
            "Collecting semopy\n",
            "  Downloading semopy-2.3.11.tar.gz (1.6 MB)\n",
            "\u001b[2K     \u001b[90m━━━━━━━━━━━━━━━━━━━━━━━━━━━━━━━━━━━━━━━━\u001b[0m \u001b[32m1.6/1.6 MB\u001b[0m \u001b[31m9.8 MB/s\u001b[0m eta \u001b[36m0:00:00\u001b[0m\n",
            "\u001b[?25h  Preparing metadata (setup.py) ... \u001b[?25l\u001b[?25hdone\n",
            "Requirement already satisfied: scipy in /usr/local/lib/python3.10/dist-packages (from semopy) (1.11.4)\n",
            "Requirement already satisfied: numpy in /usr/local/lib/python3.10/dist-packages (from semopy) (1.25.2)\n",
            "Requirement already satisfied: pandas in /usr/local/lib/python3.10/dist-packages (from semopy) (1.5.3)\n",
            "Requirement already satisfied: sympy in /usr/local/lib/python3.10/dist-packages (from semopy) (1.12)\n",
            "Requirement already satisfied: scikit-learn in /usr/local/lib/python3.10/dist-packages (from semopy) (1.2.2)\n",
            "Requirement already satisfied: statsmodels in /usr/local/lib/python3.10/dist-packages (from semopy) (0.14.1)\n",
            "Collecting numdifftools (from semopy)\n",
            "  Downloading numdifftools-0.9.41-py2.py3-none-any.whl (100 kB)\n",
            "\u001b[2K     \u001b[90m━━━━━━━━━━━━━━━━━━━━━━━━━━━━━━━━━━━━━━━━\u001b[0m \u001b[32m100.2/100.2 kB\u001b[0m \u001b[31m10.6 MB/s\u001b[0m eta \u001b[36m0:00:00\u001b[0m\n",
            "\u001b[?25hRequirement already satisfied: python-dateutil>=2.8.1 in /usr/local/lib/python3.10/dist-packages (from pandas->semopy) (2.8.2)\n",
            "Requirement already satisfied: pytz>=2020.1 in /usr/local/lib/python3.10/dist-packages (from pandas->semopy) (2023.4)\n",
            "Requirement already satisfied: joblib>=1.1.1 in /usr/local/lib/python3.10/dist-packages (from scikit-learn->semopy) (1.3.2)\n",
            "Requirement already satisfied: threadpoolctl>=2.0.0 in /usr/local/lib/python3.10/dist-packages (from scikit-learn->semopy) (3.3.0)\n",
            "Requirement already satisfied: patsy>=0.5.4 in /usr/local/lib/python3.10/dist-packages (from statsmodels->semopy) (0.5.6)\n",
            "Requirement already satisfied: packaging>=21.3 in /usr/local/lib/python3.10/dist-packages (from statsmodels->semopy) (23.2)\n",
            "Requirement already satisfied: mpmath>=0.19 in /usr/local/lib/python3.10/dist-packages (from sympy->semopy) (1.3.0)\n",
            "Requirement already satisfied: six in /usr/local/lib/python3.10/dist-packages (from patsy>=0.5.4->statsmodels->semopy) (1.16.0)\n",
            "Building wheels for collected packages: semopy\n",
            "  Building wheel for semopy (setup.py) ... \u001b[?25l\u001b[?25hdone\n",
            "  Created wheel for semopy: filename=semopy-2.3.11-py3-none-any.whl size=1659680 sha256=30f42aaff1265e5225b7a50ad984622718d55438b8a7cd90d9f50084b482d305\n",
            "  Stored in directory: /root/.cache/pip/wheels/53/ec/0d/0b294c02d8c4e9e80afea58839f2c1b4706770594bc99ec045\n",
            "Successfully built semopy\n",
            "Installing collected packages: numdifftools, semopy\n",
            "Successfully installed numdifftools-0.9.41 semopy-2.3.11\n"
          ]
        }
      ]
    },
    {
      "cell_type": "markdown",
      "source": [
        "Import libraries"
      ],
      "metadata": {
        "id": "AagDi_N95OfP"
      }
    },
    {
      "cell_type": "code",
      "source": [
        "import pandas as pd\n",
        "import numpy as np\n",
        "import re\n",
        "from datetime import datetime, timedelta\n",
        "from sklearn.decomposition import PCA, KernelPCA\n",
        "from sklearn.impute import SimpleImputer\n",
        "from sklearn.preprocessing import StandardScaler\n",
        "import matplotlib.pyplot as plt\n",
        "from factor_analyzer import FactorAnalyzer\n",
        "from sklearn.decomposition import FactorAnalysis\n",
        "from factor_analyzer import calculate_bartlett_sphericity, calculate_kmo\n",
        "from factor_analyzer import Rotator\n",
        "from factor_analyzer import (ConfirmatoryFactorAnalyzer, ModelSpecificationParser)\n",
        "from semopy import Model\n",
        "from semopy import Optimizer\n",
        "from semopy.inspector import inspect\n",
        "from semopy import gather_statistics\n",
        "import semopy\n",
        "from semopy import ModelMeans"
      ],
      "metadata": {
        "id": "oaiEWLbL4_s1"
      },
      "execution_count": 107,
      "outputs": []
    },
    {
      "cell_type": "code",
      "source": [
        "!ls"
      ],
      "metadata": {
        "id": "VJ8mnr5u5TtW",
        "outputId": "d8bbff11-e375-4026-9597-47f0da9912d8",
        "colab": {
          "base_uri": "https://localhost:8080/"
        }
      },
      "execution_count": null,
      "outputs": [
        {
          "output_type": "stream",
          "name": "stdout",
          "text": [
            " Capstone.ipynb\t\t  README.md\t\t\t       Webscraping.xlsx\n",
            " data_exploration.ipynb  'trivium_full_column_names (1).csv'\n"
          ]
        }
      ]
    },
    {
      "cell_type": "code",
      "source": [
        "# Load all sheets into a dictionary of DataFrames\n",
        "webscraping = pd.read_excel('Webscraping.xlsx', sheet_name=None)\n",
        "\n"
      ],
      "metadata": {
        "id": "CezO9uDx5V5R"
      },
      "execution_count": null,
      "outputs": []
    },
    {
      "cell_type": "code",
      "source": [
        "webscraping.keys()\n",
        "# webscraping['Events and8']"
      ],
      "metadata": {
        "id": "Z-5tOcoD5mQ2",
        "outputId": "05584c8e-4d8c-485b-b964-a7628dbd85dc",
        "colab": {
          "base_uri": "https://localhost:8080/"
        }
      },
      "execution_count": null,
      "outputs": [
        {
          "output_type": "execute_result",
          "data": {
            "text/plain": [
              "dict_keys(['Events and8', 'Events WDSF', 'Battles Trivium', 'Battles and8 Threefold', 'Battles and8 Single Slider', 'Battles and8 Round by Round', 'Battles and8 Traditional', 'Research Questions', 'Notes', 'Notes Columns'])"
            ]
          },
          "metadata": {},
          "execution_count": 15
        }
      ]
    },
    {
      "cell_type": "markdown",
      "source": [
        "Events details"
      ],
      "metadata": {
        "id": "pVtXSJzgJBRL"
      }
    },
    {
      "cell_type": "code",
      "source": [
        "eventsAnd8=webscraping['Events and8'][1:].copy()\n",
        "new_header= eventsAnd8.iloc[0]\n",
        "eventsAnd8=eventsAnd8.drop(1)\n",
        "eventsAnd8.columns = new_header\n",
        "eventsAnd8.rename(columns={'Name':'Event'}, inplace=True)\n",
        "eventsAnd8.drop_duplicates(subset=['Event'], inplace=True)\n",
        "\n",
        "eventsWDSF = webscraping['Events WDSF'][1:].copy()\n",
        "new_header = eventsWDSF.iloc[0]\n",
        "eventsWDSF = eventsWDSF.drop(1)\n",
        "eventsWDSF.columns = new_header\n",
        "eventsWDSF.rename(columns={'Name': 'Event'}, inplace=True)\n",
        "eventsWDSF.drop_duplicates(subset=['Event'], inplace=True)\n",
        "\n",
        "combined_events = pd.concat([eventsAnd8, eventsWDSF], ignore_index=True)\n"
      ],
      "metadata": {
        "id": "FyTwAgXO_tJc"
      },
      "execution_count": null,
      "outputs": []
    },
    {
      "cell_type": "markdown",
      "source": [
        "Threefold Battles"
      ],
      "metadata": {
        "id": "jvH-fO_tI-5b"
      }
    },
    {
      "cell_type": "code",
      "source": [
        "#threefold battles\n",
        "threefold = webscraping['Battles and8 Threefold']\n",
        "threefold.rename(columns={'Unnamed: 0':'Event', 'Unnamed: 1': 'Category'}, inplace=True)\n",
        "threefold[['Event', 'Category']] = threefold[['Event', 'Category']].fillna(method='ffill')\n",
        "threefold.head(2)"
      ],
      "metadata": {
        "id": "-VV9ClgfGfUn",
        "outputId": "a9fa7c7c-745e-474c-de32-269f991cc9cf",
        "colab": {
          "base_uri": "https://localhost:8080/",
          "height": 335
        }
      },
      "execution_count": null,
      "outputs": [
        {
          "output_type": "execute_result",
          "data": {
            "text/plain": [
              "                                               Event  \\\n",
              "0  Campionato Italiano di Categoria Breaking FIDS...   \n",
              "1  Campionato Italiano di Categoria Breaking FIDS...   \n",
              "\n",
              "                            Category breaker 1 breaker 2   winner  \\\n",
              "0  1vs1 BBoy 12-15 C Top 16 KnockOut   Baruzzo  Elpablix  Baruzzo   \n",
              "1  1vs1 BBoy 12-15 C Top 16 KnockOut      Yoga      Faby     Faby   \n",
              "\n",
              "   battle rounds  number of judges  breaker 1 round wins  \\\n",
              "0              3                 3                     2   \n",
              "1              2                 3                     0   \n",
              "\n",
              "   breaker 2 round wins  breaker 1 vote count  ...  r3j7arti r3j7inte  \\\n",
              "0                     1                   5.0  ...       NaN      NaN   \n",
              "1                     2                   1.0  ...       NaN      NaN   \n",
              "\n",
              "  r3j8over r3j8phys r3j8arti r3j8inte r3j9over r3j9phys  r3j9arti  r3j9inte  \n",
              "0      NaN      NaN      NaN      NaN      NaN      NaN       NaN       NaN  \n",
              "1      NaN      NaN      NaN      NaN      NaN      NaN       NaN       NaN  \n",
              "\n",
              "[2 rows x 128 columns]"
            ],
            "text/html": [
              "\n",
              "  <div id=\"df-d5bd2e37-f6ae-4377-a0f3-bd023fb99a86\" class=\"colab-df-container\">\n",
              "    <div>\n",
              "<style scoped>\n",
              "    .dataframe tbody tr th:only-of-type {\n",
              "        vertical-align: middle;\n",
              "    }\n",
              "\n",
              "    .dataframe tbody tr th {\n",
              "        vertical-align: top;\n",
              "    }\n",
              "\n",
              "    .dataframe thead th {\n",
              "        text-align: right;\n",
              "    }\n",
              "</style>\n",
              "<table border=\"1\" class=\"dataframe\">\n",
              "  <thead>\n",
              "    <tr style=\"text-align: right;\">\n",
              "      <th></th>\n",
              "      <th>Event</th>\n",
              "      <th>Category</th>\n",
              "      <th>breaker 1</th>\n",
              "      <th>breaker 2</th>\n",
              "      <th>winner</th>\n",
              "      <th>battle rounds</th>\n",
              "      <th>number of judges</th>\n",
              "      <th>breaker 1 round wins</th>\n",
              "      <th>breaker 2 round wins</th>\n",
              "      <th>breaker 1 vote count</th>\n",
              "      <th>...</th>\n",
              "      <th>r3j7arti</th>\n",
              "      <th>r3j7inte</th>\n",
              "      <th>r3j8over</th>\n",
              "      <th>r3j8phys</th>\n",
              "      <th>r3j8arti</th>\n",
              "      <th>r3j8inte</th>\n",
              "      <th>r3j9over</th>\n",
              "      <th>r3j9phys</th>\n",
              "      <th>r3j9arti</th>\n",
              "      <th>r3j9inte</th>\n",
              "    </tr>\n",
              "  </thead>\n",
              "  <tbody>\n",
              "    <tr>\n",
              "      <th>0</th>\n",
              "      <td>Campionato Italiano di Categoria Breaking FIDS...</td>\n",
              "      <td>1vs1 BBoy 12-15 C Top 16 KnockOut</td>\n",
              "      <td>Baruzzo</td>\n",
              "      <td>Elpablix</td>\n",
              "      <td>Baruzzo</td>\n",
              "      <td>3</td>\n",
              "      <td>3</td>\n",
              "      <td>2</td>\n",
              "      <td>1</td>\n",
              "      <td>5.0</td>\n",
              "      <td>...</td>\n",
              "      <td>NaN</td>\n",
              "      <td>NaN</td>\n",
              "      <td>NaN</td>\n",
              "      <td>NaN</td>\n",
              "      <td>NaN</td>\n",
              "      <td>NaN</td>\n",
              "      <td>NaN</td>\n",
              "      <td>NaN</td>\n",
              "      <td>NaN</td>\n",
              "      <td>NaN</td>\n",
              "    </tr>\n",
              "    <tr>\n",
              "      <th>1</th>\n",
              "      <td>Campionato Italiano di Categoria Breaking FIDS...</td>\n",
              "      <td>1vs1 BBoy 12-15 C Top 16 KnockOut</td>\n",
              "      <td>Yoga</td>\n",
              "      <td>Faby</td>\n",
              "      <td>Faby</td>\n",
              "      <td>2</td>\n",
              "      <td>3</td>\n",
              "      <td>0</td>\n",
              "      <td>2</td>\n",
              "      <td>1.0</td>\n",
              "      <td>...</td>\n",
              "      <td>NaN</td>\n",
              "      <td>NaN</td>\n",
              "      <td>NaN</td>\n",
              "      <td>NaN</td>\n",
              "      <td>NaN</td>\n",
              "      <td>NaN</td>\n",
              "      <td>NaN</td>\n",
              "      <td>NaN</td>\n",
              "      <td>NaN</td>\n",
              "      <td>NaN</td>\n",
              "    </tr>\n",
              "  </tbody>\n",
              "</table>\n",
              "<p>2 rows × 128 columns</p>\n",
              "</div>\n",
              "    <div class=\"colab-df-buttons\">\n",
              "\n",
              "  <div class=\"colab-df-container\">\n",
              "    <button class=\"colab-df-convert\" onclick=\"convertToInteractive('df-d5bd2e37-f6ae-4377-a0f3-bd023fb99a86')\"\n",
              "            title=\"Convert this dataframe to an interactive table.\"\n",
              "            style=\"display:none;\">\n",
              "\n",
              "  <svg xmlns=\"http://www.w3.org/2000/svg\" height=\"24px\" viewBox=\"0 -960 960 960\">\n",
              "    <path d=\"M120-120v-720h720v720H120Zm60-500h600v-160H180v160Zm220 220h160v-160H400v160Zm0 220h160v-160H400v160ZM180-400h160v-160H180v160Zm440 0h160v-160H620v160ZM180-180h160v-160H180v160Zm440 0h160v-160H620v160Z\"/>\n",
              "  </svg>\n",
              "    </button>\n",
              "\n",
              "  <style>\n",
              "    .colab-df-container {\n",
              "      display:flex;\n",
              "      gap: 12px;\n",
              "    }\n",
              "\n",
              "    .colab-df-convert {\n",
              "      background-color: #E8F0FE;\n",
              "      border: none;\n",
              "      border-radius: 50%;\n",
              "      cursor: pointer;\n",
              "      display: none;\n",
              "      fill: #1967D2;\n",
              "      height: 32px;\n",
              "      padding: 0 0 0 0;\n",
              "      width: 32px;\n",
              "    }\n",
              "\n",
              "    .colab-df-convert:hover {\n",
              "      background-color: #E2EBFA;\n",
              "      box-shadow: 0px 1px 2px rgba(60, 64, 67, 0.3), 0px 1px 3px 1px rgba(60, 64, 67, 0.15);\n",
              "      fill: #174EA6;\n",
              "    }\n",
              "\n",
              "    .colab-df-buttons div {\n",
              "      margin-bottom: 4px;\n",
              "    }\n",
              "\n",
              "    [theme=dark] .colab-df-convert {\n",
              "      background-color: #3B4455;\n",
              "      fill: #D2E3FC;\n",
              "    }\n",
              "\n",
              "    [theme=dark] .colab-df-convert:hover {\n",
              "      background-color: #434B5C;\n",
              "      box-shadow: 0px 1px 3px 1px rgba(0, 0, 0, 0.15);\n",
              "      filter: drop-shadow(0px 1px 2px rgba(0, 0, 0, 0.3));\n",
              "      fill: #FFFFFF;\n",
              "    }\n",
              "  </style>\n",
              "\n",
              "    <script>\n",
              "      const buttonEl =\n",
              "        document.querySelector('#df-d5bd2e37-f6ae-4377-a0f3-bd023fb99a86 button.colab-df-convert');\n",
              "      buttonEl.style.display =\n",
              "        google.colab.kernel.accessAllowed ? 'block' : 'none';\n",
              "\n",
              "      async function convertToInteractive(key) {\n",
              "        const element = document.querySelector('#df-d5bd2e37-f6ae-4377-a0f3-bd023fb99a86');\n",
              "        const dataTable =\n",
              "          await google.colab.kernel.invokeFunction('convertToInteractive',\n",
              "                                                    [key], {});\n",
              "        if (!dataTable) return;\n",
              "\n",
              "        const docLinkHtml = 'Like what you see? Visit the ' +\n",
              "          '<a target=\"_blank\" href=https://colab.research.google.com/notebooks/data_table.ipynb>data table notebook</a>'\n",
              "          + ' to learn more about interactive tables.';\n",
              "        element.innerHTML = '';\n",
              "        dataTable['output_type'] = 'display_data';\n",
              "        await google.colab.output.renderOutput(dataTable, element);\n",
              "        const docLink = document.createElement('div');\n",
              "        docLink.innerHTML = docLinkHtml;\n",
              "        element.appendChild(docLink);\n",
              "      }\n",
              "    </script>\n",
              "  </div>\n",
              "\n",
              "\n",
              "<div id=\"df-6fd882e6-ad2a-4b13-b857-5f32f7e7a9e1\">\n",
              "  <button class=\"colab-df-quickchart\" onclick=\"quickchart('df-6fd882e6-ad2a-4b13-b857-5f32f7e7a9e1')\"\n",
              "            title=\"Suggest charts\"\n",
              "            style=\"display:none;\">\n",
              "\n",
              "<svg xmlns=\"http://www.w3.org/2000/svg\" height=\"24px\"viewBox=\"0 0 24 24\"\n",
              "     width=\"24px\">\n",
              "    <g>\n",
              "        <path d=\"M19 3H5c-1.1 0-2 .9-2 2v14c0 1.1.9 2 2 2h14c1.1 0 2-.9 2-2V5c0-1.1-.9-2-2-2zM9 17H7v-7h2v7zm4 0h-2V7h2v10zm4 0h-2v-4h2v4z\"/>\n",
              "    </g>\n",
              "</svg>\n",
              "  </button>\n",
              "\n",
              "<style>\n",
              "  .colab-df-quickchart {\n",
              "      --bg-color: #E8F0FE;\n",
              "      --fill-color: #1967D2;\n",
              "      --hover-bg-color: #E2EBFA;\n",
              "      --hover-fill-color: #174EA6;\n",
              "      --disabled-fill-color: #AAA;\n",
              "      --disabled-bg-color: #DDD;\n",
              "  }\n",
              "\n",
              "  [theme=dark] .colab-df-quickchart {\n",
              "      --bg-color: #3B4455;\n",
              "      --fill-color: #D2E3FC;\n",
              "      --hover-bg-color: #434B5C;\n",
              "      --hover-fill-color: #FFFFFF;\n",
              "      --disabled-bg-color: #3B4455;\n",
              "      --disabled-fill-color: #666;\n",
              "  }\n",
              "\n",
              "  .colab-df-quickchart {\n",
              "    background-color: var(--bg-color);\n",
              "    border: none;\n",
              "    border-radius: 50%;\n",
              "    cursor: pointer;\n",
              "    display: none;\n",
              "    fill: var(--fill-color);\n",
              "    height: 32px;\n",
              "    padding: 0;\n",
              "    width: 32px;\n",
              "  }\n",
              "\n",
              "  .colab-df-quickchart:hover {\n",
              "    background-color: var(--hover-bg-color);\n",
              "    box-shadow: 0 1px 2px rgba(60, 64, 67, 0.3), 0 1px 3px 1px rgba(60, 64, 67, 0.15);\n",
              "    fill: var(--button-hover-fill-color);\n",
              "  }\n",
              "\n",
              "  .colab-df-quickchart-complete:disabled,\n",
              "  .colab-df-quickchart-complete:disabled:hover {\n",
              "    background-color: var(--disabled-bg-color);\n",
              "    fill: var(--disabled-fill-color);\n",
              "    box-shadow: none;\n",
              "  }\n",
              "\n",
              "  .colab-df-spinner {\n",
              "    border: 2px solid var(--fill-color);\n",
              "    border-color: transparent;\n",
              "    border-bottom-color: var(--fill-color);\n",
              "    animation:\n",
              "      spin 1s steps(1) infinite;\n",
              "  }\n",
              "\n",
              "  @keyframes spin {\n",
              "    0% {\n",
              "      border-color: transparent;\n",
              "      border-bottom-color: var(--fill-color);\n",
              "      border-left-color: var(--fill-color);\n",
              "    }\n",
              "    20% {\n",
              "      border-color: transparent;\n",
              "      border-left-color: var(--fill-color);\n",
              "      border-top-color: var(--fill-color);\n",
              "    }\n",
              "    30% {\n",
              "      border-color: transparent;\n",
              "      border-left-color: var(--fill-color);\n",
              "      border-top-color: var(--fill-color);\n",
              "      border-right-color: var(--fill-color);\n",
              "    }\n",
              "    40% {\n",
              "      border-color: transparent;\n",
              "      border-right-color: var(--fill-color);\n",
              "      border-top-color: var(--fill-color);\n",
              "    }\n",
              "    60% {\n",
              "      border-color: transparent;\n",
              "      border-right-color: var(--fill-color);\n",
              "    }\n",
              "    80% {\n",
              "      border-color: transparent;\n",
              "      border-right-color: var(--fill-color);\n",
              "      border-bottom-color: var(--fill-color);\n",
              "    }\n",
              "    90% {\n",
              "      border-color: transparent;\n",
              "      border-bottom-color: var(--fill-color);\n",
              "    }\n",
              "  }\n",
              "</style>\n",
              "\n",
              "  <script>\n",
              "    async function quickchart(key) {\n",
              "      const quickchartButtonEl =\n",
              "        document.querySelector('#' + key + ' button');\n",
              "      quickchartButtonEl.disabled = true;  // To prevent multiple clicks.\n",
              "      quickchartButtonEl.classList.add('colab-df-spinner');\n",
              "      try {\n",
              "        const charts = await google.colab.kernel.invokeFunction(\n",
              "            'suggestCharts', [key], {});\n",
              "      } catch (error) {\n",
              "        console.error('Error during call to suggestCharts:', error);\n",
              "      }\n",
              "      quickchartButtonEl.classList.remove('colab-df-spinner');\n",
              "      quickchartButtonEl.classList.add('colab-df-quickchart-complete');\n",
              "    }\n",
              "    (() => {\n",
              "      let quickchartButtonEl =\n",
              "        document.querySelector('#df-6fd882e6-ad2a-4b13-b857-5f32f7e7a9e1 button');\n",
              "      quickchartButtonEl.style.display =\n",
              "        google.colab.kernel.accessAllowed ? 'block' : 'none';\n",
              "    })();\n",
              "  </script>\n",
              "</div>\n",
              "    </div>\n",
              "  </div>\n"
            ],
            "application/vnd.google.colaboratory.intrinsic+json": {
              "type": "dataframe",
              "variable_name": "threefold"
            }
          },
          "metadata": {},
          "execution_count": 17
        }
      ]
    },
    {
      "cell_type": "code",
      "source": [
        "pd.merge(threefold, combined_events[['Date', 'Event', 'Format']], on='Event')['Format'].unique()\n"
      ],
      "metadata": {
        "id": "QkywwQX_FXDr",
        "outputId": "7015eb7c-268b-43b9-dc05-ffa7e0f67b90",
        "colab": {
          "base_uri": "https://localhost:8080/"
        }
      },
      "execution_count": null,
      "outputs": [
        {
          "output_type": "execute_result",
          "data": {
            "text/plain": [
              "array([nan], dtype=object)"
            ]
          },
          "metadata": {},
          "execution_count": 18
        }
      ]
    },
    {
      "cell_type": "markdown",
      "source": [
        "Trivium Battles"
      ],
      "metadata": {
        "id": "2-jTztjiJFJJ"
      }
    },
    {
      "cell_type": "code",
      "source": [
        "trivium=webscraping['Battles Trivium']\n",
        "trivium.rename(columns={'Unnamed: 0':'Event', 'Unnamed: 1': 'Category'}, inplace=True)\n",
        "trivium[['Event', 'Category']]= trivium[['Event', 'Category']].fillna(method='ffill')\n"
      ],
      "metadata": {
        "id": "KpLdLiqk6UXa"
      },
      "execution_count": null,
      "outputs": []
    },
    {
      "cell_type": "code",
      "source": [
        "trivium_columns=list(trivium.columns)\n",
        "exclude=['judge 1 name ', 'judge 2 name', 'judge 3 name', 'judge 4 name', 'judge 5 name', 'judge 6 name ', 'judge 7 name', 'judge 8 name', 'judge 9 name'  ]\n",
        "trivium_columns= [x for x in trivium_columns if x not in exclude]\n",
        "trivium=trivium[trivium_columns]\n",
        "trivium['BattleID']= trivium.index"
      ],
      "metadata": {
        "id": "3ktjykKa7_9O",
        "outputId": "2840c95c-15df-432d-8482-2e3e8f8ca520",
        "colab": {
          "base_uri": "https://localhost:8080/"
        }
      },
      "execution_count": null,
      "outputs": [
        {
          "output_type": "stream",
          "name": "stderr",
          "text": [
            "<ipython-input-20-a75688204c39>:5: SettingWithCopyWarning: \n",
            "A value is trying to be set on a copy of a slice from a DataFrame.\n",
            "Try using .loc[row_indexer,col_indexer] = value instead\n",
            "\n",
            "See the caveats in the documentation: https://pandas.pydata.org/pandas-docs/stable/user_guide/indexing.html#returning-a-view-versus-a-copy\n",
            "  trivium['BattleID']= trivium.index\n"
          ]
        }
      ]
    },
    {
      "cell_type": "code",
      "source": [
        "trivium.shape"
      ],
      "metadata": {
        "id": "5pwOxfF_MjIf",
        "outputId": "e4b56ccd-7fa7-4340-9d2e-b6b1ef7ce8b7",
        "colab": {
          "base_uri": "https://localhost:8080/"
        }
      },
      "execution_count": null,
      "outputs": [
        {
          "output_type": "execute_result",
          "data": {
            "text/plain": [
              "(1526, 417)"
            ]
          },
          "metadata": {},
          "execution_count": 21
        }
      ]
    },
    {
      "cell_type": "code",
      "source": [
        "category_sums_blue = {\n",
        "    \"Creativity\": trivium.filter(like=\"crea\").sum(axis=1),\n",
        "    \"Musicality\": trivium.filter(like=\"musi\").sum(axis=1),\n",
        "    \"Performance\": trivium.filter(like=\"perf\").sum(axis=1),\n",
        "    \"Personality\": trivium.filter(like=\"pers\").sum(axis=1),\n",
        "    \"Technique\": trivium.filter(like=\"tech\").sum(axis=1),\n",
        "    \"Variety\": trivium.filter(like=\"vari\").sum(axis=1),\n",
        "    \"Overall\":  trivium.filter(like=\"over\").sum(axis=1)\n",
        "}\n",
        "\n",
        "category_sums_red = {\n",
        "    \"Creativity\": trivium.filter(like=\"crea\").sum(axis=1)*-1,\n",
        "    \"Musicality\": trivium.filter(like=\"musi\").sum(axis=1)*-1,\n",
        "    \"Performance\": trivium.filter(like=\"perf\").sum(axis=1)*-1,\n",
        "    \"Personality\": trivium.filter(like=\"pers\").sum(axis=1)*-1,\n",
        "    \"Technique\": trivium.filter(like=\"tech\").sum(axis=1)*-1,\n",
        "    \"Variety\": trivium.filter(like=\"vari\").sum(axis=1)*-1,\n",
        "    \"Overall\":  trivium.filter(like=\"over\").sum(axis=1)*-1\n",
        "}"
      ],
      "metadata": {
        "id": "QGLnGTmj43-r"
      },
      "execution_count": null,
      "outputs": []
    },
    {
      "cell_type": "code",
      "source": [
        "scorecardBlue=pd.DataFrame({\n",
        "    \"Event\": trivium['Event'],\n",
        "    'Category': trivium['Category'],\n",
        "    \"BattleID\": trivium[\"BattleID\"],\n",
        "    \"Side\": \"BLUE\",\n",
        "    \"Breaker\": trivium[\"breaker 2 (blue)\"],\n",
        "        **category_sums_blue,\n",
        "})\n",
        "\n",
        "scorecardRed=pd.DataFrame({\n",
        "    \"Event\": trivium['Event'],\n",
        "    'Category': trivium['Category'],\n",
        "    \"BattleID\": trivium[\"BattleID\"],\n",
        "    \"Side\": \"RED\",\n",
        "    \"Breaker\": trivium[\"breaker 1 (red)\"],\n",
        "     **category_sums_red,\n",
        "})"
      ],
      "metadata": {
        "id": "rSwx6q5r5B5a"
      },
      "execution_count": null,
      "outputs": []
    },
    {
      "cell_type": "code",
      "source": [
        "scorecard = pd.concat([scorecardBlue, scorecardRed], ignore_index=True)\n",
        "scorecard['Score Type']=\"trivium\"\n",
        "scorecard.shape"
      ],
      "metadata": {
        "id": "1eOzqiSZ81fp",
        "outputId": "232cadc0-24ca-46bc-aedd-a67ab137aa0f",
        "colab": {
          "base_uri": "https://localhost:8080/"
        }
      },
      "execution_count": null,
      "outputs": [
        {
          "output_type": "execute_result",
          "data": {
            "text/plain": [
              "(3052, 13)"
            ]
          },
          "metadata": {},
          "execution_count": 24
        }
      ]
    },
    {
      "cell_type": "code",
      "source": [
        "# scorecard[scorecard['Breaker']==\"Ami\"].mean(), scorecard[scorecard['Breaker']==\"Ami\"].count()"
      ],
      "metadata": {
        "id": "9H5E1UaM9qTH"
      },
      "execution_count": null,
      "outputs": []
    },
    {
      "cell_type": "code",
      "source": [
        "# scorecard[scorecard['Breaker']==671].mean(), scorecard[scorecard['Breaker']==671].count()"
      ],
      "metadata": {
        "id": "BdIJO4Vj97KO"
      },
      "execution_count": null,
      "outputs": []
    },
    {
      "cell_type": "code",
      "source": [
        "\n",
        "scorecard.shape"
      ],
      "metadata": {
        "id": "6jiQDxMiMvW7",
        "outputId": "33e92867-f22c-4866-cfde-b42e78b98a9a",
        "colab": {
          "base_uri": "https://localhost:8080/"
        }
      },
      "execution_count": null,
      "outputs": [
        {
          "output_type": "execute_result",
          "data": {
            "text/plain": [
              "(3052, 13)"
            ]
          },
          "metadata": {},
          "execution_count": 27
        }
      ]
    },
    {
      "cell_type": "code",
      "source": [
        "scorecard=pd.merge(scorecard, eventsAnd8[['Date', 'Event']], on='Event', how='left')\n",
        "# today = scorecard['Date'].max()\n",
        "# total_days = (today - scorecard['Date'].min()).days + 1  # Get the total number of days dynamically\n",
        "# scorecard['Weight'] = ((today - scorecard['Date']).dt.days / total_days) * 100\n",
        "# scorecard['Weight'] = 100 - scorecard['Weight']  # Reverse the weights so that newer dates have higher weights"
      ],
      "metadata": {
        "id": "ELS9VxDtCENd"
      },
      "execution_count": null,
      "outputs": []
    },
    {
      "cell_type": "markdown",
      "source": [
        "Trivium PCA"
      ],
      "metadata": {
        "id": "wn2LFY4dKV_Z"
      }
    },
    {
      "cell_type": "code",
      "source": [
        "# triviumFloat=\n",
        "triviumScore=scorecardBlue[['Creativity', 'Musicality', 'Performance', 'Personality', 'Technique', 'Variety']]"
      ],
      "metadata": {
        "id": "XgwjQHm6LEBr"
      },
      "execution_count": null,
      "outputs": []
    },
    {
      "cell_type": "code",
      "source": [
        "#imputer also get feature name for plotting later\n",
        "names=triviumScore.columns\n",
        "imputer = SimpleImputer(missing_values=np.nan, strategy='mean')\n",
        "triviumNorm = imputer.fit_transform(triviumScore)\n",
        "features=imputer.get_feature_names_out(input_features= names)\n",
        "\n",
        "\n",
        "#normalize float columns\n",
        "triviumNorm= StandardScaler().fit(triviumNorm).transform(triviumNorm)\n"
      ],
      "metadata": {
        "id": "DnsOvODlJ1pA"
      },
      "execution_count": null,
      "outputs": []
    },
    {
      "cell_type": "code",
      "source": [
        "#set PCA\n",
        "pca = PCA(n_components=3, random_state=0).fit(triviumNorm)\n",
        "X_pca = pca.transform(triviumNorm)\n",
        "X_pca.shape, triviumNorm.shape"
      ],
      "metadata": {
        "id": "W8gGwY6sMAaq",
        "outputId": "a54aa6c9-5148-4b8c-acc4-77ef4d8cd092",
        "colab": {
          "base_uri": "https://localhost:8080/"
        }
      },
      "execution_count": null,
      "outputs": [
        {
          "output_type": "execute_result",
          "data": {
            "text/plain": [
              "((1526, 3), (1526, 6))"
            ]
          },
          "metadata": {},
          "execution_count": 31
        }
      ]
    },
    {
      "cell_type": "code",
      "source": [
        "features"
      ],
      "metadata": {
        "id": "TG75ERshORKx",
        "outputId": "124474b1-bccc-45e1-a3b2-20b4377e528e",
        "colab": {
          "base_uri": "https://localhost:8080/"
        }
      },
      "execution_count": null,
      "outputs": [
        {
          "output_type": "execute_result",
          "data": {
            "text/plain": [
              "array(['Creativity', 'Musicality', 'Performance', 'Personality',\n",
              "       'Technique', 'Variety'], dtype=object)"
            ]
          },
          "metadata": {},
          "execution_count": 32
        }
      ]
    },
    {
      "cell_type": "markdown",
      "source": [],
      "metadata": {
        "id": "JXBRLXLm7aDE"
      }
    },
    {
      "cell_type": "code",
      "source": [
        "loadings_abs = np.abs(pca.components_)\n",
        "pcs = ['PC1', 'PC2', 'PC3']\n",
        "\n",
        "# Create DataFrame\n",
        "pca_loadings = pd.DataFrame(loadings_abs.T, columns=pcs, index=features)\n",
        "\n",
        "# pca_loadings.T.plot.bar(figsize=(10, 20), subplots=True)"
      ],
      "metadata": {
        "id": "HGz71lY2R-gX"
      },
      "execution_count": null,
      "outputs": []
    },
    {
      "cell_type": "code",
      "source": [
        "print( \" factor Analysis accum variance: \",np.cumsum(pca.explained_variance_ratio_)[2])"
      ],
      "metadata": {
        "id": "D_puypclf_dy",
        "outputId": "2668f6a9-c092-43ab-961a-6aa887f23b36",
        "colab": {
          "base_uri": "https://localhost:8080/"
        }
      },
      "execution_count": null,
      "outputs": [
        {
          "output_type": "stream",
          "name": "stdout",
          "text": [
            " factor Analysis accum variance:  0.8822364614685656\n"
          ]
        }
      ]
    },
    {
      "cell_type": "code",
      "source": [
        "pca_loadings.style.background_gradient()"
      ],
      "metadata": {
        "id": "dOwKmbT3coYV",
        "outputId": "a618ac79-f200-4d51-f379-042a25823822",
        "colab": {
          "base_uri": "https://localhost:8080/",
          "height": 237
        }
      },
      "execution_count": null,
      "outputs": [
        {
          "output_type": "execute_result",
          "data": {
            "text/plain": [
              "<pandas.io.formats.style.Styler at 0x7fe230ec1a80>"
            ],
            "text/html": [
              "<style type=\"text/css\">\n",
              "#T_728c9_row0_col0 {\n",
              "  background-color: #efe9f3;\n",
              "  color: #000000;\n",
              "}\n",
              "#T_728c9_row0_col1 {\n",
              "  background-color: #fdf5fa;\n",
              "  color: #000000;\n",
              "}\n",
              "#T_728c9_row0_col2, #T_728c9_row2_col0, #T_728c9_row4_col1 {\n",
              "  background-color: #023858;\n",
              "  color: #f1f1f1;\n",
              "}\n",
              "#T_728c9_row1_col0 {\n",
              "  background-color: #89b1d4;\n",
              "  color: #000000;\n",
              "}\n",
              "#T_728c9_row1_col1 {\n",
              "  background-color: #5a9ec9;\n",
              "  color: #f1f1f1;\n",
              "}\n",
              "#T_728c9_row1_col2 {\n",
              "  background-color: #e7e3f0;\n",
              "  color: #000000;\n",
              "}\n",
              "#T_728c9_row2_col1 {\n",
              "  background-color: #e0dded;\n",
              "  color: #000000;\n",
              "}\n",
              "#T_728c9_row2_col2 {\n",
              "  background-color: #cccfe5;\n",
              "  color: #000000;\n",
              "}\n",
              "#T_728c9_row3_col0 {\n",
              "  background-color: #76aad0;\n",
              "  color: #f1f1f1;\n",
              "}\n",
              "#T_728c9_row3_col1 {\n",
              "  background-color: #589ec8;\n",
              "  color: #f1f1f1;\n",
              "}\n",
              "#T_728c9_row3_col2 {\n",
              "  background-color: #dbdaeb;\n",
              "  color: #000000;\n",
              "}\n",
              "#T_728c9_row4_col0, #T_728c9_row4_col2, #T_728c9_row5_col1 {\n",
              "  background-color: #fff7fb;\n",
              "  color: #000000;\n",
              "}\n",
              "#T_728c9_row5_col0 {\n",
              "  background-color: #056dab;\n",
              "  color: #f1f1f1;\n",
              "}\n",
              "#T_728c9_row5_col2 {\n",
              "  background-color: #81aed2;\n",
              "  color: #f1f1f1;\n",
              "}\n",
              "</style>\n",
              "<table id=\"T_728c9\" class=\"dataframe\">\n",
              "  <thead>\n",
              "    <tr>\n",
              "      <th class=\"blank level0\" >&nbsp;</th>\n",
              "      <th id=\"T_728c9_level0_col0\" class=\"col_heading level0 col0\" >PC1</th>\n",
              "      <th id=\"T_728c9_level0_col1\" class=\"col_heading level0 col1\" >PC2</th>\n",
              "      <th id=\"T_728c9_level0_col2\" class=\"col_heading level0 col2\" >PC3</th>\n",
              "    </tr>\n",
              "  </thead>\n",
              "  <tbody>\n",
              "    <tr>\n",
              "      <th id=\"T_728c9_level0_row0\" class=\"row_heading level0 row0\" >Creativity</th>\n",
              "      <td id=\"T_728c9_row0_col0\" class=\"data row0 col0\" >0.362888</td>\n",
              "      <td id=\"T_728c9_row0_col1\" class=\"data row0 col1\" >0.143561</td>\n",
              "      <td id=\"T_728c9_row0_col2\" class=\"data row0 col2\" >0.713032</td>\n",
              "    </tr>\n",
              "    <tr>\n",
              "      <th id=\"T_728c9_level0_row1\" class=\"row_heading level0 row1\" >Musicality</th>\n",
              "      <td id=\"T_728c9_row1_col0\" class=\"data row1 col0\" >0.403575</td>\n",
              "      <td id=\"T_728c9_row1_col1\" class=\"data row1 col1\" >0.450374</td>\n",
              "      <td id=\"T_728c9_row1_col2\" class=\"data row1 col2\" >0.269483</td>\n",
              "    </tr>\n",
              "    <tr>\n",
              "      <th id=\"T_728c9_level0_row2\" class=\"row_heading level0 row2\" >Performance</th>\n",
              "      <td id=\"T_728c9_row2_col0\" class=\"data row2 col0\" >0.469467</td>\n",
              "      <td id=\"T_728c9_row2_col1\" class=\"data row2 col1\" >0.239068</td>\n",
              "      <td id=\"T_728c9_row2_col2\" class=\"data row2 col2\" >0.327888</td>\n",
              "    </tr>\n",
              "    <tr>\n",
              "      <th id=\"T_728c9_level0_row3\" class=\"row_heading level0 row3\" >Personality</th>\n",
              "      <td id=\"T_728c9_row3_col0\" class=\"data row3 col0\" >0.409212</td>\n",
              "      <td id=\"T_728c9_row3_col1\" class=\"data row3 col1\" >0.452774</td>\n",
              "      <td id=\"T_728c9_row3_col2\" class=\"data row3 col2\" >0.295638</td>\n",
              "    </tr>\n",
              "    <tr>\n",
              "      <th id=\"T_728c9_level0_row4\" class=\"row_heading level0 row4\" >Technique</th>\n",
              "      <td id=\"T_728c9_row4_col0\" class=\"data row4 col0\" >0.350112</td>\n",
              "      <td id=\"T_728c9_row4_col1\" class=\"data row4 col1\" >0.704047</td>\n",
              "      <td id=\"T_728c9_row4_col2\" class=\"data row4 col2\" >0.190013</td>\n",
              "    </tr>\n",
              "    <tr>\n",
              "      <th id=\"T_728c9_level0_row5\" class=\"row_heading level0 row5\" >Variety</th>\n",
              "      <td id=\"T_728c9_row5_col0\" class=\"data row5 col0\" >0.441596</td>\n",
              "      <td id=\"T_728c9_row5_col1\" class=\"data row5 col1\" >0.136793</td>\n",
              "      <td id=\"T_728c9_row5_col2\" class=\"data row5 col2\" >0.433527</td>\n",
              "    </tr>\n",
              "  </tbody>\n",
              "</table>\n"
            ]
          },
          "metadata": {},
          "execution_count": 35
        }
      ]
    },
    {
      "cell_type": "markdown",
      "source": [
        "**Factor Analysis.**\n",
        "Kaiser-Meyer-Olkin (KMO) Test measures the suitability of data for factor analysis. It determines the adequacy for each observed variable and for the complete model. KMO estimates the proportion of variance among all the observed variable. Lower proportion id more suitable for factor analysis. KMO values range between 0 and 1. Value of KMO less than 0.6 is considered inadequate."
      ],
      "metadata": {
        "id": "HN8q_re0Y6nM"
      }
    },
    {
      "cell_type": "code",
      "source": [
        "kmo_all,kmo_model=calculate_kmo(triviumNorm)\n",
        "kmo_model"
      ],
      "metadata": {
        "id": "pWyZ-xdTWj4P",
        "outputId": "c87d60ce-9978-4240-dbf6-efa02accad0b",
        "colab": {
          "base_uri": "https://localhost:8080/"
        }
      },
      "execution_count": null,
      "outputs": [
        {
          "output_type": "execute_result",
          "data": {
            "text/plain": [
              "0.6828153227522676"
            ]
          },
          "metadata": {},
          "execution_count": 36
        }
      ]
    },
    {
      "cell_type": "code",
      "source": [
        "# perform factor analysis\n",
        "fa = FactorAnalyzer(3, rotation=None)\n",
        "fa.fit(triviumNorm)\n",
        "X_transformed = fa.fit_transform(triviumNorm)"
      ],
      "metadata": {
        "id": "VV58NbsuWjui"
      },
      "execution_count": null,
      "outputs": []
    },
    {
      "cell_type": "code",
      "source": [
        "print( \" factor Analysis accum variance: \",fa.get_factor_variance()[2][-1], fa.get_params())"
      ],
      "metadata": {
        "id": "nkz6omAVZkkM",
        "outputId": "d69fbf9d-2961-4f6e-ed41-34d350010126",
        "colab": {
          "base_uri": "https://localhost:8080/"
        }
      },
      "execution_count": null,
      "outputs": [
        {
          "output_type": "stream",
          "name": "stdout",
          "text": [
            " factor Analysis accum variance:  0.7885636265232234 {'bounds': (0.005, 1), 'impute': 'median', 'is_corr_matrix': False, 'method': 'minres', 'n_factors': 3, 'rotation': None, 'rotation_kwargs': {}, 'svd_method': 'randomized', 'use_smc': True}\n"
          ]
        }
      ]
    },
    {
      "cell_type": "code",
      "source": [
        "faLoadings=np.abs(fa.loadings_)\n",
        "fa = ['Factor1', 'Factor2', 'Factor3']\n",
        "\n",
        "# Create DataFrame\n",
        "fa_loadings = pd.DataFrame(faLoadings, columns=pcs, index=features)\n",
        "\n",
        "# fa_loadings.T.plot.bar(figsize=(10, 20), subplots=True)\n"
      ],
      "metadata": {
        "id": "RJZ1SNvAZp4Q"
      },
      "execution_count": null,
      "outputs": []
    },
    {
      "cell_type": "code",
      "source": [
        "fa_loadings.style.background_gradient()"
      ],
      "metadata": {
        "id": "4XNmsAlMdzS_",
        "outputId": "0a69d06f-73e2-41f7-9331-d69fea67a223",
        "colab": {
          "base_uri": "https://localhost:8080/",
          "height": 237
        }
      },
      "execution_count": null,
      "outputs": [
        {
          "output_type": "execute_result",
          "data": {
            "text/plain": [
              "<pandas.io.formats.style.Styler at 0x7fe230e3ae60>"
            ],
            "text/html": [
              "<style type=\"text/css\">\n",
              "#T_5d6ef_row0_col0, #T_5d6ef_row1_col2, #T_5d6ef_row5_col1 {\n",
              "  background-color: #fff7fb;\n",
              "  color: #000000;\n",
              "}\n",
              "#T_5d6ef_row0_col1 {\n",
              "  background-color: #ebe6f2;\n",
              "  color: #000000;\n",
              "}\n",
              "#T_5d6ef_row0_col2 {\n",
              "  background-color: #62a2cb;\n",
              "  color: #f1f1f1;\n",
              "}\n",
              "#T_5d6ef_row1_col0 {\n",
              "  background-color: #b9c6e0;\n",
              "  color: #000000;\n",
              "}\n",
              "#T_5d6ef_row1_col1 {\n",
              "  background-color: #88b1d4;\n",
              "  color: #000000;\n",
              "}\n",
              "#T_5d6ef_row2_col0, #T_5d6ef_row4_col1, #T_5d6ef_row5_col2 {\n",
              "  background-color: #023858;\n",
              "  color: #f1f1f1;\n",
              "}\n",
              "#T_5d6ef_row2_col1 {\n",
              "  background-color: #e9e5f1;\n",
              "  color: #000000;\n",
              "}\n",
              "#T_5d6ef_row2_col2 {\n",
              "  background-color: #b4c4df;\n",
              "  color: #000000;\n",
              "}\n",
              "#T_5d6ef_row3_col0 {\n",
              "  background-color: #60a1ca;\n",
              "  color: #f1f1f1;\n",
              "}\n",
              "#T_5d6ef_row3_col1 {\n",
              "  background-color: #358fc0;\n",
              "  color: #f1f1f1;\n",
              "}\n",
              "#T_5d6ef_row3_col2 {\n",
              "  background-color: #b0c2de;\n",
              "  color: #000000;\n",
              "}\n",
              "#T_5d6ef_row4_col0 {\n",
              "  background-color: #a9bfdc;\n",
              "  color: #000000;\n",
              "}\n",
              "#T_5d6ef_row4_col2 {\n",
              "  background-color: #f5eff6;\n",
              "  color: #000000;\n",
              "}\n",
              "#T_5d6ef_row5_col0 {\n",
              "  background-color: #034267;\n",
              "  color: #f1f1f1;\n",
              "}\n",
              "</style>\n",
              "<table id=\"T_5d6ef\" class=\"dataframe\">\n",
              "  <thead>\n",
              "    <tr>\n",
              "      <th class=\"blank level0\" >&nbsp;</th>\n",
              "      <th id=\"T_5d6ef_level0_col0\" class=\"col_heading level0 col0\" >PC1</th>\n",
              "      <th id=\"T_5d6ef_level0_col1\" class=\"col_heading level0 col1\" >PC2</th>\n",
              "      <th id=\"T_5d6ef_level0_col2\" class=\"col_heading level0 col2\" >PC3</th>\n",
              "    </tr>\n",
              "  </thead>\n",
              "  <tbody>\n",
              "    <tr>\n",
              "      <th id=\"T_5d6ef_level0_row0\" class=\"row_heading level0 row0\" >Creativity</th>\n",
              "      <td id=\"T_5d6ef_row0_col0\" class=\"data row0 col0\" >0.584749</td>\n",
              "      <td id=\"T_5d6ef_row0_col1\" class=\"data row0 col1\" >0.144549</td>\n",
              "      <td id=\"T_5d6ef_row0_col2\" class=\"data row0 col2\" >0.356931</td>\n",
              "    </tr>\n",
              "    <tr>\n",
              "      <th id=\"T_5d6ef_level0_row1\" class=\"row_heading level0 row1\" >Musicality</th>\n",
              "      <td id=\"T_5d6ef_row1_col0\" class=\"data row1 col0\" >0.669645</td>\n",
              "      <td id=\"T_5d6ef_row1_col1\" class=\"data row1 col1\" >0.352689</td>\n",
              "      <td id=\"T_5d6ef_row1_col2\" class=\"data row1 col2\" >0.148181</td>\n",
              "    </tr>\n",
              "    <tr>\n",
              "      <th id=\"T_5d6ef_level0_row2\" class=\"row_heading level0 row2\" >Performance</th>\n",
              "      <td id=\"T_5d6ef_row2_col0\" class=\"data row2 col0\" >0.850926</td>\n",
              "      <td id=\"T_5d6ef_row2_col1\" class=\"data row2 col1\" >0.149023</td>\n",
              "      <td id=\"T_5d6ef_row2_col2\" class=\"data row2 col2\" >0.278467</td>\n",
              "    </tr>\n",
              "    <tr>\n",
              "      <th id=\"T_5d6ef_level0_row3\" class=\"row_heading level0 row3\" >Personality</th>\n",
              "      <td id=\"T_5d6ef_row3_col0\" class=\"data row3 col0\" >0.728653</td>\n",
              "      <td id=\"T_5d6ef_row3_col1\" class=\"data row3 col1\" >0.465250</td>\n",
              "      <td id=\"T_5d6ef_row3_col2\" class=\"data row3 col2\" >0.282656</td>\n",
              "    </tr>\n",
              "    <tr>\n",
              "      <th id=\"T_5d6ef_level0_row4\" class=\"row_heading level0 row4\" >Technique</th>\n",
              "      <td id=\"T_5d6ef_row4_col0\" class=\"data row4 col0\" >0.682145</td>\n",
              "      <td id=\"T_5d6ef_row4_col1\" class=\"data row4 col1\" >0.707579</td>\n",
              "      <td id=\"T_5d6ef_row4_col2\" class=\"data row4 col2\" >0.173523</td>\n",
              "    </tr>\n",
              "    <tr>\n",
              "      <th id=\"T_5d6ef_level0_row5\" class=\"row_heading level0 row5\" >Variety</th>\n",
              "      <td id=\"T_5d6ef_row5_col0\" class=\"data row5 col0\" >0.840725</td>\n",
              "      <td id=\"T_5d6ef_row5_col1\" class=\"data row5 col1\" >0.059744</td>\n",
              "      <td id=\"T_5d6ef_row5_col2\" class=\"data row5 col2\" >0.537386</td>\n",
              "    </tr>\n",
              "  </tbody>\n",
              "</table>\n"
            ]
          },
          "metadata": {},
          "execution_count": 41
        }
      ]
    },
    {
      "cell_type": "code",
      "source": [
        "pca_loadings.style.background_gradient()"
      ],
      "metadata": {
        "id": "9c4eOlpneT2K",
        "outputId": "cfb6b954-7930-4e4d-efbe-211291d3d9b6",
        "colab": {
          "base_uri": "https://localhost:8080/",
          "height": 237
        }
      },
      "execution_count": null,
      "outputs": [
        {
          "output_type": "execute_result",
          "data": {
            "text/plain": [
              "<pandas.io.formats.style.Styler at 0x7fe230e3a8c0>"
            ],
            "text/html": [
              "<style type=\"text/css\">\n",
              "#T_b5e46_row0_col0 {\n",
              "  background-color: #efe9f3;\n",
              "  color: #000000;\n",
              "}\n",
              "#T_b5e46_row0_col1 {\n",
              "  background-color: #fdf5fa;\n",
              "  color: #000000;\n",
              "}\n",
              "#T_b5e46_row0_col2, #T_b5e46_row2_col0, #T_b5e46_row4_col1 {\n",
              "  background-color: #023858;\n",
              "  color: #f1f1f1;\n",
              "}\n",
              "#T_b5e46_row1_col0 {\n",
              "  background-color: #89b1d4;\n",
              "  color: #000000;\n",
              "}\n",
              "#T_b5e46_row1_col1 {\n",
              "  background-color: #5a9ec9;\n",
              "  color: #f1f1f1;\n",
              "}\n",
              "#T_b5e46_row1_col2 {\n",
              "  background-color: #e7e3f0;\n",
              "  color: #000000;\n",
              "}\n",
              "#T_b5e46_row2_col1 {\n",
              "  background-color: #e0dded;\n",
              "  color: #000000;\n",
              "}\n",
              "#T_b5e46_row2_col2 {\n",
              "  background-color: #cccfe5;\n",
              "  color: #000000;\n",
              "}\n",
              "#T_b5e46_row3_col0 {\n",
              "  background-color: #76aad0;\n",
              "  color: #f1f1f1;\n",
              "}\n",
              "#T_b5e46_row3_col1 {\n",
              "  background-color: #589ec8;\n",
              "  color: #f1f1f1;\n",
              "}\n",
              "#T_b5e46_row3_col2 {\n",
              "  background-color: #dbdaeb;\n",
              "  color: #000000;\n",
              "}\n",
              "#T_b5e46_row4_col0, #T_b5e46_row4_col2, #T_b5e46_row5_col1 {\n",
              "  background-color: #fff7fb;\n",
              "  color: #000000;\n",
              "}\n",
              "#T_b5e46_row5_col0 {\n",
              "  background-color: #056dab;\n",
              "  color: #f1f1f1;\n",
              "}\n",
              "#T_b5e46_row5_col2 {\n",
              "  background-color: #81aed2;\n",
              "  color: #f1f1f1;\n",
              "}\n",
              "</style>\n",
              "<table id=\"T_b5e46\" class=\"dataframe\">\n",
              "  <thead>\n",
              "    <tr>\n",
              "      <th class=\"blank level0\" >&nbsp;</th>\n",
              "      <th id=\"T_b5e46_level0_col0\" class=\"col_heading level0 col0\" >PC1</th>\n",
              "      <th id=\"T_b5e46_level0_col1\" class=\"col_heading level0 col1\" >PC2</th>\n",
              "      <th id=\"T_b5e46_level0_col2\" class=\"col_heading level0 col2\" >PC3</th>\n",
              "    </tr>\n",
              "  </thead>\n",
              "  <tbody>\n",
              "    <tr>\n",
              "      <th id=\"T_b5e46_level0_row0\" class=\"row_heading level0 row0\" >Creativity</th>\n",
              "      <td id=\"T_b5e46_row0_col0\" class=\"data row0 col0\" >0.362888</td>\n",
              "      <td id=\"T_b5e46_row0_col1\" class=\"data row0 col1\" >0.143561</td>\n",
              "      <td id=\"T_b5e46_row0_col2\" class=\"data row0 col2\" >0.713032</td>\n",
              "    </tr>\n",
              "    <tr>\n",
              "      <th id=\"T_b5e46_level0_row1\" class=\"row_heading level0 row1\" >Musicality</th>\n",
              "      <td id=\"T_b5e46_row1_col0\" class=\"data row1 col0\" >0.403575</td>\n",
              "      <td id=\"T_b5e46_row1_col1\" class=\"data row1 col1\" >0.450374</td>\n",
              "      <td id=\"T_b5e46_row1_col2\" class=\"data row1 col2\" >0.269483</td>\n",
              "    </tr>\n",
              "    <tr>\n",
              "      <th id=\"T_b5e46_level0_row2\" class=\"row_heading level0 row2\" >Performance</th>\n",
              "      <td id=\"T_b5e46_row2_col0\" class=\"data row2 col0\" >0.469467</td>\n",
              "      <td id=\"T_b5e46_row2_col1\" class=\"data row2 col1\" >0.239068</td>\n",
              "      <td id=\"T_b5e46_row2_col2\" class=\"data row2 col2\" >0.327888</td>\n",
              "    </tr>\n",
              "    <tr>\n",
              "      <th id=\"T_b5e46_level0_row3\" class=\"row_heading level0 row3\" >Personality</th>\n",
              "      <td id=\"T_b5e46_row3_col0\" class=\"data row3 col0\" >0.409212</td>\n",
              "      <td id=\"T_b5e46_row3_col1\" class=\"data row3 col1\" >0.452774</td>\n",
              "      <td id=\"T_b5e46_row3_col2\" class=\"data row3 col2\" >0.295638</td>\n",
              "    </tr>\n",
              "    <tr>\n",
              "      <th id=\"T_b5e46_level0_row4\" class=\"row_heading level0 row4\" >Technique</th>\n",
              "      <td id=\"T_b5e46_row4_col0\" class=\"data row4 col0\" >0.350112</td>\n",
              "      <td id=\"T_b5e46_row4_col1\" class=\"data row4 col1\" >0.704047</td>\n",
              "      <td id=\"T_b5e46_row4_col2\" class=\"data row4 col2\" >0.190013</td>\n",
              "    </tr>\n",
              "    <tr>\n",
              "      <th id=\"T_b5e46_level0_row5\" class=\"row_heading level0 row5\" >Variety</th>\n",
              "      <td id=\"T_b5e46_row5_col0\" class=\"data row5 col0\" >0.441596</td>\n",
              "      <td id=\"T_b5e46_row5_col1\" class=\"data row5 col1\" >0.136793</td>\n",
              "      <td id=\"T_b5e46_row5_col2\" class=\"data row5 col2\" >0.433527</td>\n",
              "    </tr>\n",
              "  </tbody>\n",
              "</table>\n"
            ]
          },
          "metadata": {},
          "execution_count": 42
        }
      ]
    },
    {
      "cell_type": "code",
      "source": [
        "normdf = pd.DataFrame(triviumNorm, columns=features)\n",
        "normdf"
      ],
      "metadata": {
        "id": "LNwrNof1pR62",
        "outputId": "538b86e6-d9da-458d-b421-e95e6d3191b9",
        "colab": {
          "base_uri": "https://localhost:8080/",
          "height": 423
        }
      },
      "execution_count": null,
      "outputs": [
        {
          "output_type": "execute_result",
          "data": {
            "text/plain": [
              "      Creativity  Musicality  Performance  Personality  Technique   Variety\n",
              "0      -1.516892   -0.136318     0.560938     0.313784   2.168559 -1.087127\n",
              "1       0.104730    0.941751     1.159945     1.219928   1.537056  0.823927\n",
              "2      -0.986180   -0.407644     0.994701     0.134033   1.989348  1.752689\n",
              "3      -0.204852   -1.808894    -2.155249     0.202978  -1.040159 -2.638185\n",
              "4       2.301292    1.279402    -1.318704    -0.110971  -1.620459  1.233439\n",
              "...          ...         ...          ...          ...        ...       ...\n",
              "1521    0.709153    0.523306     0.612576     0.514465   0.530065  0.216351\n",
              "1522    0.576475   -0.313585     0.602249     0.168505   0.231381 -0.140968\n",
              "1523    1.490480   -0.024170     0.808803     1.334427  -0.118506  0.145423\n",
              "1524    1.136672    0.859751     0.437005     0.563712   0.350854  0.554934\n",
              "1525   -1.325246    0.249568    -0.606093     0.103253  -0.570799 -0.355091\n",
              "\n",
              "[1526 rows x 6 columns]"
            ],
            "text/html": [
              "\n",
              "  <div id=\"df-4012b31a-7f7f-4df0-9393-7ab4f2680627\" class=\"colab-df-container\">\n",
              "    <div>\n",
              "<style scoped>\n",
              "    .dataframe tbody tr th:only-of-type {\n",
              "        vertical-align: middle;\n",
              "    }\n",
              "\n",
              "    .dataframe tbody tr th {\n",
              "        vertical-align: top;\n",
              "    }\n",
              "\n",
              "    .dataframe thead th {\n",
              "        text-align: right;\n",
              "    }\n",
              "</style>\n",
              "<table border=\"1\" class=\"dataframe\">\n",
              "  <thead>\n",
              "    <tr style=\"text-align: right;\">\n",
              "      <th></th>\n",
              "      <th>Creativity</th>\n",
              "      <th>Musicality</th>\n",
              "      <th>Performance</th>\n",
              "      <th>Personality</th>\n",
              "      <th>Technique</th>\n",
              "      <th>Variety</th>\n",
              "    </tr>\n",
              "  </thead>\n",
              "  <tbody>\n",
              "    <tr>\n",
              "      <th>0</th>\n",
              "      <td>-1.516892</td>\n",
              "      <td>-0.136318</td>\n",
              "      <td>0.560938</td>\n",
              "      <td>0.313784</td>\n",
              "      <td>2.168559</td>\n",
              "      <td>-1.087127</td>\n",
              "    </tr>\n",
              "    <tr>\n",
              "      <th>1</th>\n",
              "      <td>0.104730</td>\n",
              "      <td>0.941751</td>\n",
              "      <td>1.159945</td>\n",
              "      <td>1.219928</td>\n",
              "      <td>1.537056</td>\n",
              "      <td>0.823927</td>\n",
              "    </tr>\n",
              "    <tr>\n",
              "      <th>2</th>\n",
              "      <td>-0.986180</td>\n",
              "      <td>-0.407644</td>\n",
              "      <td>0.994701</td>\n",
              "      <td>0.134033</td>\n",
              "      <td>1.989348</td>\n",
              "      <td>1.752689</td>\n",
              "    </tr>\n",
              "    <tr>\n",
              "      <th>3</th>\n",
              "      <td>-0.204852</td>\n",
              "      <td>-1.808894</td>\n",
              "      <td>-2.155249</td>\n",
              "      <td>0.202978</td>\n",
              "      <td>-1.040159</td>\n",
              "      <td>-2.638185</td>\n",
              "    </tr>\n",
              "    <tr>\n",
              "      <th>4</th>\n",
              "      <td>2.301292</td>\n",
              "      <td>1.279402</td>\n",
              "      <td>-1.318704</td>\n",
              "      <td>-0.110971</td>\n",
              "      <td>-1.620459</td>\n",
              "      <td>1.233439</td>\n",
              "    </tr>\n",
              "    <tr>\n",
              "      <th>...</th>\n",
              "      <td>...</td>\n",
              "      <td>...</td>\n",
              "      <td>...</td>\n",
              "      <td>...</td>\n",
              "      <td>...</td>\n",
              "      <td>...</td>\n",
              "    </tr>\n",
              "    <tr>\n",
              "      <th>1521</th>\n",
              "      <td>0.709153</td>\n",
              "      <td>0.523306</td>\n",
              "      <td>0.612576</td>\n",
              "      <td>0.514465</td>\n",
              "      <td>0.530065</td>\n",
              "      <td>0.216351</td>\n",
              "    </tr>\n",
              "    <tr>\n",
              "      <th>1522</th>\n",
              "      <td>0.576475</td>\n",
              "      <td>-0.313585</td>\n",
              "      <td>0.602249</td>\n",
              "      <td>0.168505</td>\n",
              "      <td>0.231381</td>\n",
              "      <td>-0.140968</td>\n",
              "    </tr>\n",
              "    <tr>\n",
              "      <th>1523</th>\n",
              "      <td>1.490480</td>\n",
              "      <td>-0.024170</td>\n",
              "      <td>0.808803</td>\n",
              "      <td>1.334427</td>\n",
              "      <td>-0.118506</td>\n",
              "      <td>0.145423</td>\n",
              "    </tr>\n",
              "    <tr>\n",
              "      <th>1524</th>\n",
              "      <td>1.136672</td>\n",
              "      <td>0.859751</td>\n",
              "      <td>0.437005</td>\n",
              "      <td>0.563712</td>\n",
              "      <td>0.350854</td>\n",
              "      <td>0.554934</td>\n",
              "    </tr>\n",
              "    <tr>\n",
              "      <th>1525</th>\n",
              "      <td>-1.325246</td>\n",
              "      <td>0.249568</td>\n",
              "      <td>-0.606093</td>\n",
              "      <td>0.103253</td>\n",
              "      <td>-0.570799</td>\n",
              "      <td>-0.355091</td>\n",
              "    </tr>\n",
              "  </tbody>\n",
              "</table>\n",
              "<p>1526 rows × 6 columns</p>\n",
              "</div>\n",
              "    <div class=\"colab-df-buttons\">\n",
              "\n",
              "  <div class=\"colab-df-container\">\n",
              "    <button class=\"colab-df-convert\" onclick=\"convertToInteractive('df-4012b31a-7f7f-4df0-9393-7ab4f2680627')\"\n",
              "            title=\"Convert this dataframe to an interactive table.\"\n",
              "            style=\"display:none;\">\n",
              "\n",
              "  <svg xmlns=\"http://www.w3.org/2000/svg\" height=\"24px\" viewBox=\"0 -960 960 960\">\n",
              "    <path d=\"M120-120v-720h720v720H120Zm60-500h600v-160H180v160Zm220 220h160v-160H400v160Zm0 220h160v-160H400v160ZM180-400h160v-160H180v160Zm440 0h160v-160H620v160ZM180-180h160v-160H180v160Zm440 0h160v-160H620v160Z\"/>\n",
              "  </svg>\n",
              "    </button>\n",
              "\n",
              "  <style>\n",
              "    .colab-df-container {\n",
              "      display:flex;\n",
              "      gap: 12px;\n",
              "    }\n",
              "\n",
              "    .colab-df-convert {\n",
              "      background-color: #E8F0FE;\n",
              "      border: none;\n",
              "      border-radius: 50%;\n",
              "      cursor: pointer;\n",
              "      display: none;\n",
              "      fill: #1967D2;\n",
              "      height: 32px;\n",
              "      padding: 0 0 0 0;\n",
              "      width: 32px;\n",
              "    }\n",
              "\n",
              "    .colab-df-convert:hover {\n",
              "      background-color: #E2EBFA;\n",
              "      box-shadow: 0px 1px 2px rgba(60, 64, 67, 0.3), 0px 1px 3px 1px rgba(60, 64, 67, 0.15);\n",
              "      fill: #174EA6;\n",
              "    }\n",
              "\n",
              "    .colab-df-buttons div {\n",
              "      margin-bottom: 4px;\n",
              "    }\n",
              "\n",
              "    [theme=dark] .colab-df-convert {\n",
              "      background-color: #3B4455;\n",
              "      fill: #D2E3FC;\n",
              "    }\n",
              "\n",
              "    [theme=dark] .colab-df-convert:hover {\n",
              "      background-color: #434B5C;\n",
              "      box-shadow: 0px 1px 3px 1px rgba(0, 0, 0, 0.15);\n",
              "      filter: drop-shadow(0px 1px 2px rgba(0, 0, 0, 0.3));\n",
              "      fill: #FFFFFF;\n",
              "    }\n",
              "  </style>\n",
              "\n",
              "    <script>\n",
              "      const buttonEl =\n",
              "        document.querySelector('#df-4012b31a-7f7f-4df0-9393-7ab4f2680627 button.colab-df-convert');\n",
              "      buttonEl.style.display =\n",
              "        google.colab.kernel.accessAllowed ? 'block' : 'none';\n",
              "\n",
              "      async function convertToInteractive(key) {\n",
              "        const element = document.querySelector('#df-4012b31a-7f7f-4df0-9393-7ab4f2680627');\n",
              "        const dataTable =\n",
              "          await google.colab.kernel.invokeFunction('convertToInteractive',\n",
              "                                                    [key], {});\n",
              "        if (!dataTable) return;\n",
              "\n",
              "        const docLinkHtml = 'Like what you see? Visit the ' +\n",
              "          '<a target=\"_blank\" href=https://colab.research.google.com/notebooks/data_table.ipynb>data table notebook</a>'\n",
              "          + ' to learn more about interactive tables.';\n",
              "        element.innerHTML = '';\n",
              "        dataTable['output_type'] = 'display_data';\n",
              "        await google.colab.output.renderOutput(dataTable, element);\n",
              "        const docLink = document.createElement('div');\n",
              "        docLink.innerHTML = docLinkHtml;\n",
              "        element.appendChild(docLink);\n",
              "      }\n",
              "    </script>\n",
              "  </div>\n",
              "\n",
              "\n",
              "<div id=\"df-52250338-7254-44d6-a4c1-9eb20e772bbe\">\n",
              "  <button class=\"colab-df-quickchart\" onclick=\"quickchart('df-52250338-7254-44d6-a4c1-9eb20e772bbe')\"\n",
              "            title=\"Suggest charts\"\n",
              "            style=\"display:none;\">\n",
              "\n",
              "<svg xmlns=\"http://www.w3.org/2000/svg\" height=\"24px\"viewBox=\"0 0 24 24\"\n",
              "     width=\"24px\">\n",
              "    <g>\n",
              "        <path d=\"M19 3H5c-1.1 0-2 .9-2 2v14c0 1.1.9 2 2 2h14c1.1 0 2-.9 2-2V5c0-1.1-.9-2-2-2zM9 17H7v-7h2v7zm4 0h-2V7h2v10zm4 0h-2v-4h2v4z\"/>\n",
              "    </g>\n",
              "</svg>\n",
              "  </button>\n",
              "\n",
              "<style>\n",
              "  .colab-df-quickchart {\n",
              "      --bg-color: #E8F0FE;\n",
              "      --fill-color: #1967D2;\n",
              "      --hover-bg-color: #E2EBFA;\n",
              "      --hover-fill-color: #174EA6;\n",
              "      --disabled-fill-color: #AAA;\n",
              "      --disabled-bg-color: #DDD;\n",
              "  }\n",
              "\n",
              "  [theme=dark] .colab-df-quickchart {\n",
              "      --bg-color: #3B4455;\n",
              "      --fill-color: #D2E3FC;\n",
              "      --hover-bg-color: #434B5C;\n",
              "      --hover-fill-color: #FFFFFF;\n",
              "      --disabled-bg-color: #3B4455;\n",
              "      --disabled-fill-color: #666;\n",
              "  }\n",
              "\n",
              "  .colab-df-quickchart {\n",
              "    background-color: var(--bg-color);\n",
              "    border: none;\n",
              "    border-radius: 50%;\n",
              "    cursor: pointer;\n",
              "    display: none;\n",
              "    fill: var(--fill-color);\n",
              "    height: 32px;\n",
              "    padding: 0;\n",
              "    width: 32px;\n",
              "  }\n",
              "\n",
              "  .colab-df-quickchart:hover {\n",
              "    background-color: var(--hover-bg-color);\n",
              "    box-shadow: 0 1px 2px rgba(60, 64, 67, 0.3), 0 1px 3px 1px rgba(60, 64, 67, 0.15);\n",
              "    fill: var(--button-hover-fill-color);\n",
              "  }\n",
              "\n",
              "  .colab-df-quickchart-complete:disabled,\n",
              "  .colab-df-quickchart-complete:disabled:hover {\n",
              "    background-color: var(--disabled-bg-color);\n",
              "    fill: var(--disabled-fill-color);\n",
              "    box-shadow: none;\n",
              "  }\n",
              "\n",
              "  .colab-df-spinner {\n",
              "    border: 2px solid var(--fill-color);\n",
              "    border-color: transparent;\n",
              "    border-bottom-color: var(--fill-color);\n",
              "    animation:\n",
              "      spin 1s steps(1) infinite;\n",
              "  }\n",
              "\n",
              "  @keyframes spin {\n",
              "    0% {\n",
              "      border-color: transparent;\n",
              "      border-bottom-color: var(--fill-color);\n",
              "      border-left-color: var(--fill-color);\n",
              "    }\n",
              "    20% {\n",
              "      border-color: transparent;\n",
              "      border-left-color: var(--fill-color);\n",
              "      border-top-color: var(--fill-color);\n",
              "    }\n",
              "    30% {\n",
              "      border-color: transparent;\n",
              "      border-left-color: var(--fill-color);\n",
              "      border-top-color: var(--fill-color);\n",
              "      border-right-color: var(--fill-color);\n",
              "    }\n",
              "    40% {\n",
              "      border-color: transparent;\n",
              "      border-right-color: var(--fill-color);\n",
              "      border-top-color: var(--fill-color);\n",
              "    }\n",
              "    60% {\n",
              "      border-color: transparent;\n",
              "      border-right-color: var(--fill-color);\n",
              "    }\n",
              "    80% {\n",
              "      border-color: transparent;\n",
              "      border-right-color: var(--fill-color);\n",
              "      border-bottom-color: var(--fill-color);\n",
              "    }\n",
              "    90% {\n",
              "      border-color: transparent;\n",
              "      border-bottom-color: var(--fill-color);\n",
              "    }\n",
              "  }\n",
              "</style>\n",
              "\n",
              "  <script>\n",
              "    async function quickchart(key) {\n",
              "      const quickchartButtonEl =\n",
              "        document.querySelector('#' + key + ' button');\n",
              "      quickchartButtonEl.disabled = true;  // To prevent multiple clicks.\n",
              "      quickchartButtonEl.classList.add('colab-df-spinner');\n",
              "      try {\n",
              "        const charts = await google.colab.kernel.invokeFunction(\n",
              "            'suggestCharts', [key], {});\n",
              "      } catch (error) {\n",
              "        console.error('Error during call to suggestCharts:', error);\n",
              "      }\n",
              "      quickchartButtonEl.classList.remove('colab-df-spinner');\n",
              "      quickchartButtonEl.classList.add('colab-df-quickchart-complete');\n",
              "    }\n",
              "    (() => {\n",
              "      let quickchartButtonEl =\n",
              "        document.querySelector('#df-52250338-7254-44d6-a4c1-9eb20e772bbe button');\n",
              "      quickchartButtonEl.style.display =\n",
              "        google.colab.kernel.accessAllowed ? 'block' : 'none';\n",
              "    })();\n",
              "  </script>\n",
              "</div>\n",
              "    </div>\n",
              "  </div>\n"
            ],
            "application/vnd.google.colaboratory.intrinsic+json": {
              "type": "dataframe",
              "variable_name": "normdf",
              "summary": "{\n  \"name\": \"normdf\",\n  \"rows\": 1526,\n  \"fields\": [\n    {\n      \"column\": \"Creativity\",\n      \"properties\": {\n        \"dtype\": \"number\",\n        \"std\": 1.000327815121082,\n        \"min\": -5.438270749757595,\n        \"max\": 6.134217928050891,\n        \"num_unique_values\": 527,\n        \"samples\": [\n          1.357802218993631,\n          0.384828648630115,\n          -0.5144348027664681\n        ],\n        \"semantic_type\": \"\",\n        \"description\": \"\"\n      }\n    },\n    {\n      \"column\": \"Musicality\",\n      \"properties\": {\n        \"dtype\": \"number\",\n        \"std\": 1.0003278151210822,\n        \"min\": -3.76967799005619,\n        \"max\": 6.345364077028802,\n        \"num_unique_values\": 777,\n        \"samples\": [\n          -0.136318220370081,\n          1.3770792276737516,\n          -0.18455399560653785\n        ],\n        \"semantic_type\": \"\",\n        \"description\": \"\"\n      }\n    },\n    {\n      \"column\": \"Performance\",\n      \"properties\": {\n        \"dtype\": \"number\",\n        \"std\": 1.0003278151210822,\n        \"min\": -4.262100317813392,\n        \"max\": 3.5146614418317683,\n        \"num_unique_values\": 578,\n        \"samples\": [\n          0.10651883800321231,\n          -1.4529645958698543,\n          -0.07937984947834537\n        ],\n        \"semantic_type\": \"\",\n        \"description\": \"\"\n      }\n    },\n    {\n      \"column\": \"Personality\",\n      \"properties\": {\n        \"dtype\": \"number\",\n        \"std\": 1.0003278151210822,\n        \"min\": -4.101206652565633,\n        \"max\": 6.110152159034702,\n        \"num_unique_values\": 832,\n        \"samples\": [\n          0.449213189208521,\n          -1.2264148964664316,\n          3.319080248509266\n        ],\n        \"semantic_type\": \"\",\n        \"description\": \"\"\n      }\n    },\n    {\n      \"column\": \"Technique\",\n      \"properties\": {\n        \"dtype\": \"number\",\n        \"std\": 1.000327815121082,\n        \"min\": -3.7027119505152903,\n        \"max\": 3.4656998213001904,\n        \"num_unique_values\": 692,\n        \"samples\": [\n          0.6495380538012515,\n          1.4005145251343016,\n          -0.357453123668066\n        ],\n        \"semantic_type\": \"\",\n        \"description\": \"\"\n      }\n    },\n    {\n      \"column\": \"Variety\",\n      \"properties\": {\n        \"dtype\": \"number\",\n        \"std\": 1.0003278151210822,\n        \"min\": -4.815555105711395,\n        \"max\": 4.837407717433743,\n        \"num_unique_values\": 785,\n        \"samples\": [\n          -1.926223796246491,\n          -0.3189579775029292,\n          -1.17679094154508\n        ],\n        \"semantic_type\": \"\",\n        \"description\": \"\"\n      }\n    }\n  ]\n}"
            }
          },
          "metadata": {},
          "execution_count": 43
        }
      ]
    },
    {
      "cell_type": "code",
      "source": [
        "model_dict = {\"Physical\": ['Technique', 'Variety'], \"Artistic\": ['Creativity', 'Personality'], \"Interpretive\": ['Performance', 'Musicality']}\n",
        "\n",
        "\n",
        "model_spec = ModelSpecificationParser.parse_model_specification_from_dict(normdf, model_dict)\n",
        "\n",
        "cfa = ConfirmatoryFactorAnalyzer(model_spec, disp=False)\n"
      ],
      "metadata": {
        "id": "2KM1zivUp2k_"
      },
      "execution_count": null,
      "outputs": []
    },
    {
      "cell_type": "code",
      "source": [
        "cfa.fit(normdf.values)\n",
        "\n",
        "cfa.loadings_"
      ],
      "metadata": {
        "id": "y-vLMTPFqjj4",
        "outputId": "b09414c3-4aad-4d03-d5a9-46f92debdc2a",
        "colab": {
          "base_uri": "https://localhost:8080/"
        }
      },
      "execution_count": null,
      "outputs": [
        {
          "output_type": "execute_result",
          "data": {
            "text/plain": [
              "array([[0.46116327, 0.        , 0.        ],\n",
              "       [0.79510733, 0.        , 0.        ],\n",
              "       [0.        , 0.98885383, 0.        ],\n",
              "       [0.        , 0.63190673, 0.        ],\n",
              "       [0.        , 0.        , 0.8877747 ],\n",
              "       [0.        , 0.        , 0.5921204 ]])"
            ]
          },
          "metadata": {},
          "execution_count": 66
        }
      ]
    },
    {
      "cell_type": "code",
      "source": [
        "model_spec = '''Physical=~ Technique + Variety\n",
        "Artistic =~ Creativity + Personality\n",
        "Interpretive =~ Performance + Musicality\n",
        "'''"
      ],
      "metadata": {
        "id": "E9yh5PNB06e9"
      },
      "execution_count": 125,
      "outputs": []
    },
    {
      "cell_type": "code",
      "source": [
        "modelCFA= Model(model_spec)\n"
      ],
      "metadata": {
        "id": "XUpNJykH26qL"
      },
      "execution_count": 126,
      "outputs": []
    },
    {
      "cell_type": "code",
      "source": [
        "modelCFA.fit(normdf)"
      ],
      "metadata": {
        "id": "R0BHfndi30BV",
        "outputId": "b8196fcd-0956-4616-9a27-58d9649c373b",
        "colab": {
          "base_uri": "https://localhost:8080/"
        }
      },
      "execution_count": 121,
      "outputs": [
        {
          "output_type": "execute_result",
          "data": {
            "text/plain": [
              "SolverResult(fun=1.0002738219571627, success=True, n_it=34, x=array([0.70333331, 2.20873099, 0.7049806 , 0.18421626, 0.13451218,\n",
              "       0.81585685, 0.79908718, 0.30858884, 0.70211414, 0.60280773,\n",
              "       0.20108571, 0.10155843, 0.74745609, 0.25253753, 0.63024941]), message='Optimization terminated successfully', name_method='SLSQP', name_obj='MLW')"
            ]
          },
          "metadata": {},
          "execution_count": 121
        }
      ]
    },
    {
      "cell_type": "code",
      "source": [
        "modelCFA.inspect()"
      ],
      "metadata": {
        "id": "HXEc6_0p5i0j",
        "outputId": "897916f8-8867-42d3-d5b0-d2e1bbd0ac50",
        "colab": {
          "base_uri": "https://localhost:8080/",
          "height": 614
        }
      },
      "execution_count": 122,
      "outputs": [
        {
          "output_type": "execute_result",
          "data": {
            "text/plain": [
              "            lval  op          rval  Estimate  Std. Err    z-value   p-value\n",
              "0      Technique   ~      Physical  1.000000         -          -         -\n",
              "1        Variety   ~      Physical  0.703333  0.029187  24.097385       0.0\n",
              "2     Creativity   ~      Artistic  1.000000         -          -         -\n",
              "3    Personality   ~      Artistic  2.208731  0.152256  14.506704       0.0\n",
              "4    Performance   ~  Interpretive  1.000000         -          -         -\n",
              "5     Musicality   ~  Interpretive  0.704981  0.024745  28.489786       0.0\n",
              "6       Artistic  ~~      Artistic  0.184216  0.022579   8.158696       0.0\n",
              "7       Artistic  ~~      Physical  0.134512  0.014929   9.009963       0.0\n",
              "8   Interpretive  ~~  Interpretive  0.799087  0.038265  20.883249       0.0\n",
              "9   Interpretive  ~~      Artistic  0.308589  0.025005  12.341045       0.0\n",
              "10  Interpretive  ~~      Physical  0.702114  0.031123  22.559375       0.0\n",
              "11      Physical  ~~      Physical  0.747456  0.040648  18.388649       0.0\n",
              "12    Creativity  ~~    Creativity  0.815857  0.030721  26.557252       0.0\n",
              "13    Musicality  ~~    Musicality  0.602808   0.02296  26.254841       0.0\n",
              "14   Performance  ~~   Performance  0.201086  0.016096  12.492595       0.0\n",
              "15   Personality  ~~   Personality  0.101558  0.041382    2.45418  0.014121\n",
              "16     Technique  ~~     Technique  0.252538  0.022557  11.195674       0.0\n",
              "17       Variety  ~~       Variety  0.630249  0.024993   25.21705       0.0"
            ],
            "text/html": [
              "\n",
              "  <div id=\"df-b565aafe-c7a4-479c-8847-f2e762f50961\" class=\"colab-df-container\">\n",
              "    <div>\n",
              "<style scoped>\n",
              "    .dataframe tbody tr th:only-of-type {\n",
              "        vertical-align: middle;\n",
              "    }\n",
              "\n",
              "    .dataframe tbody tr th {\n",
              "        vertical-align: top;\n",
              "    }\n",
              "\n",
              "    .dataframe thead th {\n",
              "        text-align: right;\n",
              "    }\n",
              "</style>\n",
              "<table border=\"1\" class=\"dataframe\">\n",
              "  <thead>\n",
              "    <tr style=\"text-align: right;\">\n",
              "      <th></th>\n",
              "      <th>lval</th>\n",
              "      <th>op</th>\n",
              "      <th>rval</th>\n",
              "      <th>Estimate</th>\n",
              "      <th>Std. Err</th>\n",
              "      <th>z-value</th>\n",
              "      <th>p-value</th>\n",
              "    </tr>\n",
              "  </thead>\n",
              "  <tbody>\n",
              "    <tr>\n",
              "      <th>0</th>\n",
              "      <td>Technique</td>\n",
              "      <td>~</td>\n",
              "      <td>Physical</td>\n",
              "      <td>1.000000</td>\n",
              "      <td>-</td>\n",
              "      <td>-</td>\n",
              "      <td>-</td>\n",
              "    </tr>\n",
              "    <tr>\n",
              "      <th>1</th>\n",
              "      <td>Variety</td>\n",
              "      <td>~</td>\n",
              "      <td>Physical</td>\n",
              "      <td>0.703333</td>\n",
              "      <td>0.029187</td>\n",
              "      <td>24.097385</td>\n",
              "      <td>0.0</td>\n",
              "    </tr>\n",
              "    <tr>\n",
              "      <th>2</th>\n",
              "      <td>Creativity</td>\n",
              "      <td>~</td>\n",
              "      <td>Artistic</td>\n",
              "      <td>1.000000</td>\n",
              "      <td>-</td>\n",
              "      <td>-</td>\n",
              "      <td>-</td>\n",
              "    </tr>\n",
              "    <tr>\n",
              "      <th>3</th>\n",
              "      <td>Personality</td>\n",
              "      <td>~</td>\n",
              "      <td>Artistic</td>\n",
              "      <td>2.208731</td>\n",
              "      <td>0.152256</td>\n",
              "      <td>14.506704</td>\n",
              "      <td>0.0</td>\n",
              "    </tr>\n",
              "    <tr>\n",
              "      <th>4</th>\n",
              "      <td>Performance</td>\n",
              "      <td>~</td>\n",
              "      <td>Interpretive</td>\n",
              "      <td>1.000000</td>\n",
              "      <td>-</td>\n",
              "      <td>-</td>\n",
              "      <td>-</td>\n",
              "    </tr>\n",
              "    <tr>\n",
              "      <th>5</th>\n",
              "      <td>Musicality</td>\n",
              "      <td>~</td>\n",
              "      <td>Interpretive</td>\n",
              "      <td>0.704981</td>\n",
              "      <td>0.024745</td>\n",
              "      <td>28.489786</td>\n",
              "      <td>0.0</td>\n",
              "    </tr>\n",
              "    <tr>\n",
              "      <th>6</th>\n",
              "      <td>Artistic</td>\n",
              "      <td>~~</td>\n",
              "      <td>Artistic</td>\n",
              "      <td>0.184216</td>\n",
              "      <td>0.022579</td>\n",
              "      <td>8.158696</td>\n",
              "      <td>0.0</td>\n",
              "    </tr>\n",
              "    <tr>\n",
              "      <th>7</th>\n",
              "      <td>Artistic</td>\n",
              "      <td>~~</td>\n",
              "      <td>Physical</td>\n",
              "      <td>0.134512</td>\n",
              "      <td>0.014929</td>\n",
              "      <td>9.009963</td>\n",
              "      <td>0.0</td>\n",
              "    </tr>\n",
              "    <tr>\n",
              "      <th>8</th>\n",
              "      <td>Interpretive</td>\n",
              "      <td>~~</td>\n",
              "      <td>Interpretive</td>\n",
              "      <td>0.799087</td>\n",
              "      <td>0.038265</td>\n",
              "      <td>20.883249</td>\n",
              "      <td>0.0</td>\n",
              "    </tr>\n",
              "    <tr>\n",
              "      <th>9</th>\n",
              "      <td>Interpretive</td>\n",
              "      <td>~~</td>\n",
              "      <td>Artistic</td>\n",
              "      <td>0.308589</td>\n",
              "      <td>0.025005</td>\n",
              "      <td>12.341045</td>\n",
              "      <td>0.0</td>\n",
              "    </tr>\n",
              "    <tr>\n",
              "      <th>10</th>\n",
              "      <td>Interpretive</td>\n",
              "      <td>~~</td>\n",
              "      <td>Physical</td>\n",
              "      <td>0.702114</td>\n",
              "      <td>0.031123</td>\n",
              "      <td>22.559375</td>\n",
              "      <td>0.0</td>\n",
              "    </tr>\n",
              "    <tr>\n",
              "      <th>11</th>\n",
              "      <td>Physical</td>\n",
              "      <td>~~</td>\n",
              "      <td>Physical</td>\n",
              "      <td>0.747456</td>\n",
              "      <td>0.040648</td>\n",
              "      <td>18.388649</td>\n",
              "      <td>0.0</td>\n",
              "    </tr>\n",
              "    <tr>\n",
              "      <th>12</th>\n",
              "      <td>Creativity</td>\n",
              "      <td>~~</td>\n",
              "      <td>Creativity</td>\n",
              "      <td>0.815857</td>\n",
              "      <td>0.030721</td>\n",
              "      <td>26.557252</td>\n",
              "      <td>0.0</td>\n",
              "    </tr>\n",
              "    <tr>\n",
              "      <th>13</th>\n",
              "      <td>Musicality</td>\n",
              "      <td>~~</td>\n",
              "      <td>Musicality</td>\n",
              "      <td>0.602808</td>\n",
              "      <td>0.02296</td>\n",
              "      <td>26.254841</td>\n",
              "      <td>0.0</td>\n",
              "    </tr>\n",
              "    <tr>\n",
              "      <th>14</th>\n",
              "      <td>Performance</td>\n",
              "      <td>~~</td>\n",
              "      <td>Performance</td>\n",
              "      <td>0.201086</td>\n",
              "      <td>0.016096</td>\n",
              "      <td>12.492595</td>\n",
              "      <td>0.0</td>\n",
              "    </tr>\n",
              "    <tr>\n",
              "      <th>15</th>\n",
              "      <td>Personality</td>\n",
              "      <td>~~</td>\n",
              "      <td>Personality</td>\n",
              "      <td>0.101558</td>\n",
              "      <td>0.041382</td>\n",
              "      <td>2.45418</td>\n",
              "      <td>0.014121</td>\n",
              "    </tr>\n",
              "    <tr>\n",
              "      <th>16</th>\n",
              "      <td>Technique</td>\n",
              "      <td>~~</td>\n",
              "      <td>Technique</td>\n",
              "      <td>0.252538</td>\n",
              "      <td>0.022557</td>\n",
              "      <td>11.195674</td>\n",
              "      <td>0.0</td>\n",
              "    </tr>\n",
              "    <tr>\n",
              "      <th>17</th>\n",
              "      <td>Variety</td>\n",
              "      <td>~~</td>\n",
              "      <td>Variety</td>\n",
              "      <td>0.630249</td>\n",
              "      <td>0.024993</td>\n",
              "      <td>25.21705</td>\n",
              "      <td>0.0</td>\n",
              "    </tr>\n",
              "  </tbody>\n",
              "</table>\n",
              "</div>\n",
              "    <div class=\"colab-df-buttons\">\n",
              "\n",
              "  <div class=\"colab-df-container\">\n",
              "    <button class=\"colab-df-convert\" onclick=\"convertToInteractive('df-b565aafe-c7a4-479c-8847-f2e762f50961')\"\n",
              "            title=\"Convert this dataframe to an interactive table.\"\n",
              "            style=\"display:none;\">\n",
              "\n",
              "  <svg xmlns=\"http://www.w3.org/2000/svg\" height=\"24px\" viewBox=\"0 -960 960 960\">\n",
              "    <path d=\"M120-120v-720h720v720H120Zm60-500h600v-160H180v160Zm220 220h160v-160H400v160Zm0 220h160v-160H400v160ZM180-400h160v-160H180v160Zm440 0h160v-160H620v160ZM180-180h160v-160H180v160Zm440 0h160v-160H620v160Z\"/>\n",
              "  </svg>\n",
              "    </button>\n",
              "\n",
              "  <style>\n",
              "    .colab-df-container {\n",
              "      display:flex;\n",
              "      gap: 12px;\n",
              "    }\n",
              "\n",
              "    .colab-df-convert {\n",
              "      background-color: #E8F0FE;\n",
              "      border: none;\n",
              "      border-radius: 50%;\n",
              "      cursor: pointer;\n",
              "      display: none;\n",
              "      fill: #1967D2;\n",
              "      height: 32px;\n",
              "      padding: 0 0 0 0;\n",
              "      width: 32px;\n",
              "    }\n",
              "\n",
              "    .colab-df-convert:hover {\n",
              "      background-color: #E2EBFA;\n",
              "      box-shadow: 0px 1px 2px rgba(60, 64, 67, 0.3), 0px 1px 3px 1px rgba(60, 64, 67, 0.15);\n",
              "      fill: #174EA6;\n",
              "    }\n",
              "\n",
              "    .colab-df-buttons div {\n",
              "      margin-bottom: 4px;\n",
              "    }\n",
              "\n",
              "    [theme=dark] .colab-df-convert {\n",
              "      background-color: #3B4455;\n",
              "      fill: #D2E3FC;\n",
              "    }\n",
              "\n",
              "    [theme=dark] .colab-df-convert:hover {\n",
              "      background-color: #434B5C;\n",
              "      box-shadow: 0px 1px 3px 1px rgba(0, 0, 0, 0.15);\n",
              "      filter: drop-shadow(0px 1px 2px rgba(0, 0, 0, 0.3));\n",
              "      fill: #FFFFFF;\n",
              "    }\n",
              "  </style>\n",
              "\n",
              "    <script>\n",
              "      const buttonEl =\n",
              "        document.querySelector('#df-b565aafe-c7a4-479c-8847-f2e762f50961 button.colab-df-convert');\n",
              "      buttonEl.style.display =\n",
              "        google.colab.kernel.accessAllowed ? 'block' : 'none';\n",
              "\n",
              "      async function convertToInteractive(key) {\n",
              "        const element = document.querySelector('#df-b565aafe-c7a4-479c-8847-f2e762f50961');\n",
              "        const dataTable =\n",
              "          await google.colab.kernel.invokeFunction('convertToInteractive',\n",
              "                                                    [key], {});\n",
              "        if (!dataTable) return;\n",
              "\n",
              "        const docLinkHtml = 'Like what you see? Visit the ' +\n",
              "          '<a target=\"_blank\" href=https://colab.research.google.com/notebooks/data_table.ipynb>data table notebook</a>'\n",
              "          + ' to learn more about interactive tables.';\n",
              "        element.innerHTML = '';\n",
              "        dataTable['output_type'] = 'display_data';\n",
              "        await google.colab.output.renderOutput(dataTable, element);\n",
              "        const docLink = document.createElement('div');\n",
              "        docLink.innerHTML = docLinkHtml;\n",
              "        element.appendChild(docLink);\n",
              "      }\n",
              "    </script>\n",
              "  </div>\n",
              "\n",
              "\n",
              "<div id=\"df-e3a3843a-044a-46d2-b47a-4f65d8052f8b\">\n",
              "  <button class=\"colab-df-quickchart\" onclick=\"quickchart('df-e3a3843a-044a-46d2-b47a-4f65d8052f8b')\"\n",
              "            title=\"Suggest charts\"\n",
              "            style=\"display:none;\">\n",
              "\n",
              "<svg xmlns=\"http://www.w3.org/2000/svg\" height=\"24px\"viewBox=\"0 0 24 24\"\n",
              "     width=\"24px\">\n",
              "    <g>\n",
              "        <path d=\"M19 3H5c-1.1 0-2 .9-2 2v14c0 1.1.9 2 2 2h14c1.1 0 2-.9 2-2V5c0-1.1-.9-2-2-2zM9 17H7v-7h2v7zm4 0h-2V7h2v10zm4 0h-2v-4h2v4z\"/>\n",
              "    </g>\n",
              "</svg>\n",
              "  </button>\n",
              "\n",
              "<style>\n",
              "  .colab-df-quickchart {\n",
              "      --bg-color: #E8F0FE;\n",
              "      --fill-color: #1967D2;\n",
              "      --hover-bg-color: #E2EBFA;\n",
              "      --hover-fill-color: #174EA6;\n",
              "      --disabled-fill-color: #AAA;\n",
              "      --disabled-bg-color: #DDD;\n",
              "  }\n",
              "\n",
              "  [theme=dark] .colab-df-quickchart {\n",
              "      --bg-color: #3B4455;\n",
              "      --fill-color: #D2E3FC;\n",
              "      --hover-bg-color: #434B5C;\n",
              "      --hover-fill-color: #FFFFFF;\n",
              "      --disabled-bg-color: #3B4455;\n",
              "      --disabled-fill-color: #666;\n",
              "  }\n",
              "\n",
              "  .colab-df-quickchart {\n",
              "    background-color: var(--bg-color);\n",
              "    border: none;\n",
              "    border-radius: 50%;\n",
              "    cursor: pointer;\n",
              "    display: none;\n",
              "    fill: var(--fill-color);\n",
              "    height: 32px;\n",
              "    padding: 0;\n",
              "    width: 32px;\n",
              "  }\n",
              "\n",
              "  .colab-df-quickchart:hover {\n",
              "    background-color: var(--hover-bg-color);\n",
              "    box-shadow: 0 1px 2px rgba(60, 64, 67, 0.3), 0 1px 3px 1px rgba(60, 64, 67, 0.15);\n",
              "    fill: var(--button-hover-fill-color);\n",
              "  }\n",
              "\n",
              "  .colab-df-quickchart-complete:disabled,\n",
              "  .colab-df-quickchart-complete:disabled:hover {\n",
              "    background-color: var(--disabled-bg-color);\n",
              "    fill: var(--disabled-fill-color);\n",
              "    box-shadow: none;\n",
              "  }\n",
              "\n",
              "  .colab-df-spinner {\n",
              "    border: 2px solid var(--fill-color);\n",
              "    border-color: transparent;\n",
              "    border-bottom-color: var(--fill-color);\n",
              "    animation:\n",
              "      spin 1s steps(1) infinite;\n",
              "  }\n",
              "\n",
              "  @keyframes spin {\n",
              "    0% {\n",
              "      border-color: transparent;\n",
              "      border-bottom-color: var(--fill-color);\n",
              "      border-left-color: var(--fill-color);\n",
              "    }\n",
              "    20% {\n",
              "      border-color: transparent;\n",
              "      border-left-color: var(--fill-color);\n",
              "      border-top-color: var(--fill-color);\n",
              "    }\n",
              "    30% {\n",
              "      border-color: transparent;\n",
              "      border-left-color: var(--fill-color);\n",
              "      border-top-color: var(--fill-color);\n",
              "      border-right-color: var(--fill-color);\n",
              "    }\n",
              "    40% {\n",
              "      border-color: transparent;\n",
              "      border-right-color: var(--fill-color);\n",
              "      border-top-color: var(--fill-color);\n",
              "    }\n",
              "    60% {\n",
              "      border-color: transparent;\n",
              "      border-right-color: var(--fill-color);\n",
              "    }\n",
              "    80% {\n",
              "      border-color: transparent;\n",
              "      border-right-color: var(--fill-color);\n",
              "      border-bottom-color: var(--fill-color);\n",
              "    }\n",
              "    90% {\n",
              "      border-color: transparent;\n",
              "      border-bottom-color: var(--fill-color);\n",
              "    }\n",
              "  }\n",
              "</style>\n",
              "\n",
              "  <script>\n",
              "    async function quickchart(key) {\n",
              "      const quickchartButtonEl =\n",
              "        document.querySelector('#' + key + ' button');\n",
              "      quickchartButtonEl.disabled = true;  // To prevent multiple clicks.\n",
              "      quickchartButtonEl.classList.add('colab-df-spinner');\n",
              "      try {\n",
              "        const charts = await google.colab.kernel.invokeFunction(\n",
              "            'suggestCharts', [key], {});\n",
              "      } catch (error) {\n",
              "        console.error('Error during call to suggestCharts:', error);\n",
              "      }\n",
              "      quickchartButtonEl.classList.remove('colab-df-spinner');\n",
              "      quickchartButtonEl.classList.add('colab-df-quickchart-complete');\n",
              "    }\n",
              "    (() => {\n",
              "      let quickchartButtonEl =\n",
              "        document.querySelector('#df-e3a3843a-044a-46d2-b47a-4f65d8052f8b button');\n",
              "      quickchartButtonEl.style.display =\n",
              "        google.colab.kernel.accessAllowed ? 'block' : 'none';\n",
              "    })();\n",
              "  </script>\n",
              "</div>\n",
              "    </div>\n",
              "  </div>\n"
            ],
            "application/vnd.google.colaboratory.intrinsic+json": {
              "type": "dataframe",
              "summary": "{\n  \"name\": \"modelCFA\",\n  \"rows\": 18,\n  \"fields\": [\n    {\n      \"column\": \"lval\",\n      \"properties\": {\n        \"dtype\": \"string\",\n        \"num_unique_values\": 9,\n        \"samples\": [\n          \"Interpretive\",\n          \"Variety\",\n          \"Musicality\"\n        ],\n        \"semantic_type\": \"\",\n        \"description\": \"\"\n      }\n    },\n    {\n      \"column\": \"op\",\n      \"properties\": {\n        \"dtype\": \"category\",\n        \"num_unique_values\": 2,\n        \"samples\": [\n          \"~~\",\n          \"~\"\n        ],\n        \"semantic_type\": \"\",\n        \"description\": \"\"\n      }\n    },\n    {\n      \"column\": \"rval\",\n      \"properties\": {\n        \"dtype\": \"string\",\n        \"num_unique_values\": 9,\n        \"samples\": [\n          \"Technique\",\n          \"Artistic\"\n        ],\n        \"semantic_type\": \"\",\n        \"description\": \"\"\n      }\n    },\n    {\n      \"column\": \"Estimate\",\n      \"properties\": {\n        \"dtype\": \"number\",\n        \"std\": 0.49219479006282457,\n        \"min\": 0.10155843317398572,\n        \"max\": 2.2087309921677893,\n        \"num_unique_values\": 16,\n        \"samples\": [\n          1.0,\n          0.703333314053165\n        ],\n        \"semantic_type\": \"\",\n        \"description\": \"\"\n      }\n    },\n    {\n      \"column\": \"Std. Err\",\n      \"properties\": {\n        \"dtype\": \"string\",\n        \"num_unique_values\": 16,\n        \"samples\": [\n          \"-\",\n          0.029187122408879357\n        ],\n        \"semantic_type\": \"\",\n        \"description\": \"\"\n      }\n    },\n    {\n      \"column\": \"z-value\",\n      \"properties\": {\n        \"dtype\": \"string\",\n        \"num_unique_values\": 16,\n        \"samples\": [\n          \"-\",\n          24.09738459914426\n        ],\n        \"semantic_type\": \"\",\n        \"description\": \"\"\n      }\n    },\n    {\n      \"column\": \"p-value\",\n      \"properties\": {\n        \"dtype\": \"category\",\n        \"num_unique_values\": 4,\n        \"samples\": [\n          0.0,\n          0.014120615984392515\n        ],\n        \"semantic_type\": \"\",\n        \"description\": \"\"\n      }\n    }\n  ]\n}"
            }
          },
          "metadata": {},
          "execution_count": 122
        }
      ]
    },
    {
      "cell_type": "markdown",
      "source": [
        "1. **Technique ~ Physical**: The estimated regression coefficient between the latent variable Technique and the observed variable Physical is 1.000, indicating a perfect relationship.\n",
        "2. **Variety ~ Physical**: The estimated regression coefficient between the latent variable Variety and the observed variable Physical is 0.703. This suggests that Physical has a significant positive effect on Variety.\n",
        "3. **Creativity ~ Artistic**: The estimated regression coefficient between the latent variable Creativity and the latent variable Artistic is 1.000, indicating a perfect relationship.\n",
        "4. **Personality ~ Artistic**: The estimated regression coefficient between the latent variable Personality and the latent variable Artistic is 2.209. This indicates a significant positive effect of Artistic on Personality.\n",
        "5. **Performance ~ Interpretive**: The estimated regression coefficient between the latent variable Performance and the latent variable Interpretive is 1.000, indicating a perfect relationship.\n",
        "6. **Musicality ~ Interpretive**: The estimated regression coefficient between the latent variable Musicality and the latent variable Interpretive is 0.705. This suggests that Interpretive has a significant positive effect on Musicality.\n"
      ],
      "metadata": {
        "id": "-jN-pkhD6V-T"
      }
    },
    {
      "cell_type": "code",
      "source": [
        "g = semopy.semplot(modelCFA, \"pd.png\")"
      ],
      "metadata": {
        "id": "FFf3NsGD6Ygn"
      },
      "execution_count": 105,
      "outputs": []
    },
    {
      "cell_type": "markdown",
      "source": [
        "![pd.png](data:image/png;base64,iVBORw0KGgoAAAANSUhEUgAAAt8AAAEYCAIAAAALbQ0CAAAABmJLR0QA/wD/AP+gvaeTAAAgAElEQVR4nOzddVzT2/8H8AOMHA1eBWkVDEQRJSSkDEokJBQQMK4Sih0YYGC3iIoBqICglAgISpciqIhBSAgiSsc2atvvj92vP6/XQNh2tnGej/vHBbdzXtv4bO99TnzYyGQyQBAEQRAEYRjssAMgCIIgCIL8C6pOEARBEARhLKg6QRAEQRCEsWBgB0AYEQ6Ha/0fAEBvby+BQMBgMAICAgAALBYrJiYmLi4uKioKOymCIAjCglB1Mtq1tra+fPny1atXFRUV1TU1tTU1NbW1fb29Q7kvBweHpKSknLycgrzCxIkTlZWVVVRU5OXl2djYaB0bQRAEYWFsaM3OaEMkEp8/f56Xl5efn5+Xl/fx40cAgLCoiMKkSeNkpMbLSEtISYmIiQqJiAiJiQqLCAMAOLm4eHh5iYODeBwOAEDAEzra2tpb2zra2r40fvr4ob6pvuFDde3HDx/IZDK/gMCc2bN1dXW1tLS0tbUpp1sQBEEQZOhQdTJaNDc3JyUlJScnp6altre1C4uKTFebNX32rCkq0xUmK44ZO3bkXeBx+Op35RVv3r4qLil7VlJXXcPJyamtrW1iYmJqaqqsrDzyLhAEQZDRAFUnLK6trS0mJibyTmRmRiYGg1HV1NA00NPS15ObNJHW4y9tzS1FuXn56ZlPsnLbWlomT5nsYO9gZ2c3ZcoUmvaLIAiCMDtUnbAmMpmcmZl55cqV2NhYNja2uUYGxhZmOvMNeXh56R+GRCKVlTxPi0/MeJD8pemzppbm6lWr7e3tsVgs/cMgCIIgjA9VJ6wGj8eHhIScOXOmsrJyutqsJU4ORuZmfFg+2LkAAIBEIpXkF8ZH3MlISuHm5lm1cuWGDRtkZWVh50IQBEEYC6pOWEdbW9vp06cvBgXhcTjTpda2ri4TpyjBDvVjne3t9yPvRt8IbW76bG1j47trl4qKCuxQCIIgCKNA1Qkr6OzsPH369KnTpzGcGFtXF1tXZxExJtiJZHBg8HHig1tBwZVv3tra2vr5+aEpKQiCIAhA1QmzGxgYCAoK8vP3J5KIy9ascljlxsfPZJM5yGRyZvLD4BNnaiqr3NzcDh48OJYaC4gQBEEQ5oWqEyaWkpKycdPG6upq+5Vurus9BAQFYScaPhKJlBqXcPHwcVx3z25fXx8fHy4uLtihEARBEDhQdcKUmpubN2zYEBERYWCy0HvPTik5FplY2ksg3Lx4+dbFK/Ly8teuXdPU1ISdCEEQBIEAXQWQ+YSHh0+ZOiUjO+t02LWj1y6xTGkCAODh5V292Sc8PYVfXFRbW3vDhg14PB52KARBEITe0LkTZtLR0eHh4REZGWnr6uy5cxvTTTEZOjKZ/CDq3hn/g5ISEuG3w1VVVWEnQhAEQegHnTthGnl5eTNmzkh7/Pjs7ZCth/xZuDQBALCxsZnb295+lIwVEdbU1Dx16hQqoxEEQUYPVJ0wh/PnzxsYGMgqTrr9OFlTXw92HDoZKykRGHV79Rafbdu3L7Wz6+7uhp0IQRAEoQc0ssPoent7V69eHR4evmbLRrcNnrS+OA5jKs4r8F23/q8x4vFx8YqKirDjIAgyevX09FRXV7e3t+NwOBwOR/kfAAAWixUREcFisZT/UVBQ4Ofnhx2WiaHqhKG1tLQstrQse1128OI5LYN5sOPA9OVT0/aVaz/V18fFxunq6sKOgyDIqDA4OFhcXPz06dN37969e/euoqKioaHh2xsICgnx8vECAAh4Qldn57f/JCUlpaSkpKSkNHnyZHV1dTU1NQwGQ9f0zAxVJ4yrqqpqkckiQl//6ZvX5BUnwY4DXy+BsNdrY356ZmhIiIODA+w4CIKwJhKJ9PLly4yMjPSMjKysrJ7ubhExUfmJE6UnyMsoKMhOVJCRlxMUFubh4/vvJczwOHwvHt/V0fGhprauqvpDdfWH99U1lVUdbe0CgoJ6enpGhoYGBgYqKirs7Ghmxa+g6oRBvXr1yni+8RgJiZOhV0XHiMOOwyhIJNJZ/0N3roVcuHBh3bp1sOMgCMJS3r17FxkZGRoaWltbKyImOm2W6kz12eq62krTlUc4qv6x7sPTnLyinLzi/IL21jbJ8ZK2Nrbu7u4zZsygVngWg6oTRlRSUrJg4QLZiRNPhV1j7bU5wxMWeCkw4NixY8e2bNkCOwt8nz59qqur6+np6ejo6OnpoYyFCwsL8/Pz8/PzY7HYMWPGyMvLCwgIwE6KIAyqo6Pj1q1boWGhz4qejRsvuch6yXxL84lTJtNinh+JRKp88/ZRwoOUmLjPjZ/mqM9xcXZxcnISFhamel9MDVUnDKe4uNjQyEh5lurRa0HcPDyw4zCoiODrZ/wOHj58ePv27bCz0BWBQMjPzy8oKHj79m15eXlFZWV3V9fXf+Xl5eXl4+Pl4+vu7sL14IiDg1//SVJSkjIEPm3aNH19/WnTpo3OGdYI8q2WlpYLFy6cOXumr7dPZ76hia21tqE+OwcHHbomkUilz0qS78akxt1nY2Nzd3PbsWOHhIQEHbpmCqg6YSyvXr3SN9CfrKJy7MZldKGZX4u6Hnpyj/+5c+e8vLxgZ6EtMplcUFCQlpaWnpHxpLCwr69PSlZWXnGizAQFGQV5GQV5SRlpfgF+rIDAdyPZ/f39BByuvaW1vraOMgReX11b+eZNV2fXmDFjDAwMDAwMTExMZGVZZ7thBBmiz58/nz59+tz587y8vDauTg6r3WFdqgyPwydE3LkZeKmro3PFihV79uyRkpKCkoShoOqEgVRVVWnraMtMUDh96wY6azIUoReCLh4+HhIS4uLiAjsLTdTV1UVGRl65cqW6unrM2L9U1Ger6+po6utJSI0fdpskEqm2suplUXFRTt7T7Nyuzs5Zamouzs5OTk5iYmJUDI8gjIlAIBw6dOjEiRPCYqJO69YsWe7ACO+3vQRC3O3IW0FXOts7tm/btmPHDl5eXtihYELVCaNoaWnRmqvFjcUGRof/dx448jOBAcfCL19NSkoyNjaGnYVqBgYGwsPDL12+XFhQMFZi3AIrS1Nb6wmTqb/Ry+DAYGFmdtLdmJzUR2zs7FZLlvj4+Kirq1O9IwRhEPfv31+/fn1La+vqLT62rs6cnJywE/1Lf3//3RthwSfP/jVmzIULF0xNTWEnggZVJwyht7fXyNi49sOH64kxaIXOHyGTyf4btuSkPsrNyVFRUYEdZ6R6e3uvX79+7Nixj42NxuamZnY2c3Tm0mEUvLur61HCg4TwO69fvDSeb7zbd/e8eaN6fx2E9dTX13t5eyfExy+0Wrxhr6/42L9gJ/qp5qamM36H0hISl1gtOX/u/Ogc6EHVCUNwdnaOv59wNf4u2tdkGPr7+73tnduaPhcXFzPv2MTAwEBgYODRY0fb29oXL7N3WrdmJMM3w/YkOzfkXGBxfqG2jvahg4dQjYKwhoSEBFc3VyFR0W0B+2frzIUdZ0ie5uQd37W3u6MjNCTU3Nwcdhx6Q7vBwHfu3Lnw8PADgWdRaTI8XFxcx29cHiST7eztiEQi7DjDkZWVNWPmjJ07d863Whz3JGfrIX8opQkAQENPJ+huRHB8NAmDMTAwcHZ2bmpqgpIEQahicHDQz8/PyspKy9AgNCWBWUoTAIC6rvbtR0kLlixevHjxhg0b+vv7YSeiK3TuBLK8vDwDA4OVG9e7+7D4whNae/Oi9G8ruy1bthw8eBB2lj/w+fPnrVu33rp1S8fYcPOBfZIy0rAT/b+ctMcnd/v3dHXu99/v5eXFQZdllghCRbW1tXb2dq9fv9lx9OAi6yWw4wxTUnTM0Z17VFSm34m8M3pW2KHqBKaOjg6VGSpySoonQoLR5hMjF3c78sh237S0NENDQ9hZhiQuLs7N3Y0Py7/xwN55C+fDjvMDvQTC9TMXbl++qqY2607kHRkZGdiJEGSoSkpKTExNhMTEAi5fkJ2gADvOiNRWVu3626u7oyMlOWXmzJmw49ADGtmBycPDA4cn+J44gkoTqliy3MHIwtTZ2bm1tRV2lt/o7+/38fGxtrbWNzWJzEplzNIEAMDDy+uxc+vNh/db2ttnqs5MSEiAnQhBhiQzM9PA0FB20sTguGhmL00AAHKTJl69H6MwebKOrm5qairsOPSAqhNowsPDIyMj/c6dRIt0qGj74QNEQP577VrYQX6lrq5Ob57e1WvX/M+f2nU8gIfhdzVQUFIMSY5faGW5ZMmSUTj+jTCduLi4RSYms7W1Tt+6wTIXA+HD8p0IDdY2NrCwsIiKioIdh+Y4/Pz8YGcYjZqbm80tzM3sbe1XusLOwlK4eXgmTFY6dSBg+vTpU6ZMgR3nB4qKiubpzyMCcC48dI6uNuw4Q8WBwWgZ6isoKZ4/duJx+mNrK2tubm7YoRDkB0JCQpycnKxdlu8+dRSDwcCOQ00cHBz6JgvbWloP7vWTlZVl7SEeNO8EjmXLlmXmZEekP2SZup6h7N+4tSgr5+2btyIiIrCz/Et6errlkiXTVGccvXaZSffce/+uYsPyFVISksnJyX/9xbg7RiCjU0JCgo2NjbPn2nXbN8POQkOBAcduXwqOiYmxsLCAnYVW0MgOBA8fPoyIiNh2+AAqTWjEZ5/vIJG0a9cu2EH+JSYmxsTUVHeB8embN5i0NAEATJiseCU2qqWjXVNTs6qqCnYcBPl/hYWFjsuWWTgsZe3SBADgsXOruZ2Nnb19Tk4O7Cy0gs6d0Nvg4OB0lemS8nJHrgbBzsLKkqJjDmzaVlJSwiAbyIaGhrq7uzuuWbl+z04WmATd1tzi4+Ta2dKWl5cnLy8POw6CgLKyMl09XRX1OUeDL3Kw1oDOD5GIxF1rvZ/l5mdnZc2YMQN2HOpD1Qm9nTt3bsvWrZGZqdJyo2XZOhRkMnmlubW4kHBGRgbsLCAxMdHKysrZ4+91O7bAzkI1PV3dHksdBwl9eXl5aIgHgau5uXmm6kwJWZmzt0O4Rs2MqL7e3vWOK5obG5+XPBcXZ7XVFWhkh646Ozv9/P0dV7uj0oTW2NjYNu7fk5WVdf/+fbhJCgsL7R0cLByWslJpAgDgFxQ4Gx42CMjG8407Ojpgx0FGLxKJ5OTsDNg5jl27NHpKEwAANw/PseuXiGTyCtcVrHeiAVUndHX69OlB4uAKL4Ze78oypqvN0l+0YNeuXSQSCVaG169fm5iaas7T3X74AKwMtCMiJnr65vVPTZ+tra3RMmMElqNHj6anpx+4eEZASAh2FnoTEhEJuByYlvboxIkTsLNQGVpRTD8dHR0Ojg7L167WmKcHO8toMWGy4qWTZ6ZPnz516lT6997d3W1oZDhWavzxG5cxDHahdmoRFBaao6t96eSZjvb2hQsXwo6DjDqFhYUrVqzw8t1ubGEGOwscf0mM4+LiOup/wMjIiJV2c0bzTuhnz549gUEXYwuy0VIdevJd5/3pfW1paSn956I6OzsnpaTcTEscM3Ysnbums9T4+3s8NsTExCxZwqyXMkGYUXd399RpUxWmTjl+/TILTDYfNjKZvHnFqg+VVa/LXvPz88OOQx1oZIdO8Hh80KWgpW4rUGlCZ27rvV6/fv3w4UM69xscHBweHu5//hTLlyYAgAWWFhb2S93c3Wpra2FnQUaRffv29eBwu08eHc2lCQCAjY1tz+njnV1d/v7+sLNQDapO6CQkJATXg7NZ4QQ7yKgzcYqShp4unQdlX79+vX7DhhVe6zTm6dKzX4i2HPITHzvWcZkjkUiEnQUZFcrKyi5cuOC5a7uwKGNtugiFiJjouu1bzpw5U1paCjsLdaCRHXogk8lKSkrTNefsOHoIdpbR6ElWjrejy8uXL+mz9wmZTNbV0+vE9QTHR4+GfRe+qi6vcF5ocerkSS8vL9hZEBZHJpP1DQxaOzuuJcaws6Ov2QAAQCKRVlvaCvJic7KzWeBkEnpR6SEjI6OyshKdOIFFY56u/KSJV69epU93oaGhBfn5mw/6jarSBACgoKS4bM3KXb6+nz59gp0FYXEhISF5ubk7jh1CpclX7OzsWw76FxYU3Lx5E3YWKkDnTujB0dHxTVXl1YS7sIOMXjcvXg67ENT4sZGPj7ZbyLe3tytNVjIwN91y0I+mHTGmXgLB0WCR4bx5YWFhsLMgLKu/v3/CxAmaRgbbAvbDzsJwDm/bVZKTX1lZycnk6wRR1UlzbW1tsbGxi5fZwQ4yqpkttcHh8LGxsbTuyNfXlwzY1m5j8ct8/AwPL6+Pn++tW7eys7NhZ0FYVlhYWFPTZ2ePv2EHYURuG7waP326ffs27CAjhaoTmouJiWFjYzM2H6Vr8RmE6BhxLX298IhwmvZSW1t79erVdTu38AsK0LQjRjZv0QJ1PR3f3bthB0FYE5FIPHrsqLmdjYTUeNhZGNG48ZKLrCwPHjzI7PPTUXVCc5F3IrWNDdFCYuiMF5unpaa1tbXRrotjx46Jj/3LxNqKdl0whTVbfHJzclj46qkIRHfu3KmprkEnTn7BbYNnbV3d3bvMPZcAVSe01dzcnJWZZWRuCjsIAvQWGLOzs8fFxdGo/aamphshISu81mE4R9dk2P+arjZrlqbGwUMHYQdBWNDhw4fnW1pIy8vBDsK4pORkjS1MAwICYAcZEVSd0FZSUhI7B7u2sQHsIAjACvBrzNNNoNlFAU+cOMEvIGBmZ0Oj9pmL2wbP1IepRUVFsIMgLKWoqKisrMxhlRvsIIzOfqVbaWlpcXEx7CDDh6oT2kpOTlbV1OCl8ToRZIg09fUeP35Mi+vV4fH4K8HBy/5exc3DQ/XGmZHGPN2pM1TOnDkDOwjCUsLCwhQmTZw6kx4bFzE15Vkz5SdNZOqlxag6oSEikZj2KE3LYB7sIMg/5hrq93R35+fnU73l2NhYPB5vajvaZ5x8a7GjXUxsbGdnJ+wgCIsYGBiIiIxYhI6yoVloZRkeET4wMAA7yDCh6oSGnj9/3tbapjlq9jJnfJIy0rITFNLS0qjectjNMG0jA9Ex4lRvmXnNtzQnkYh0WMWNjBIPHjxob2s3sUHVyZCY2Fq1NLfQ/xJj1IKqExrKzc0VFhWRV5wEOwjy/2aoz8nNy6Vum42NjY8fPUZvmt8REBLSMTZC27Ih1BIeHq42V3OspATsIMxBQmq8qoZ6eDhtt1GgHVSd0FB+fr7KbDUWuN4BK5mhrvb0aRF1p56Eh4djBfh1FxhRsU3WYGJrlZWVVV9fDzsIwvRIJFLaozS9hfNhB2EmuguMHqY+JJFIsIMMB6pOaKigoEBZTRV2CuRfVGar9RIIL168oGKbSUlJOsaGXFxcVGyTNcw11Ofm4UlJSYEdBGF6z58/72jvUJurBTsIM5mtM7etta2srAx2kOFA1QmttLa2NjQ0TFGZDjsI8i8yCvL8AgIvX76kVoN9fX0FhYWztedSq0FWwsnJOWPO7MzMTNhBEKaXkZEhKiY2YbIi7CDMZNLUKSJiounp6bCDDAeqTmiltLQUADBhshLsIMi/sLGxyStOevXqFbUazM/P7yUQ1LTRV7ofU9PWfPT4EbraKDJC6RkZs7S10ED5H2FnZ5+poZ6ekQE7yHCg6oRWSktLRcRExcf+BTsI8r0JkxVfllLt3ElGRoa0nCy65MfPzNHR/vL5y9u3b2EHQZgYkUjMycmZPVcTdhDmM1tbKysrkxmvuYOqE1qpqKiQmzgBdgrkB+QmTSx/V06t1rKys1S10JvmT02ePk1QSAgN7iAjUV1d3dPdjTZhG4apM2d0dXbV1dXBDvLHUHVCK9U1NRIy0rBTID8wXkb6y5cveDyeKq2VlZUpKk+lSlMsiZ2DY8JkxTdv3sAOgjCx8vJyAIC0vDzsIMxHdoIC+N8TyFxQdUIrtTU1ktJSsFMgPyApI00mkz98+DDyptra2tpa2yjHP/Iz0vLy7969g50CYWLl5eV/jRuLFeCHHYT58AsKiI0Zg6oT5P99qK8fR9W5CGXFz+30jDXGK6hLyi9UmX39zAUqNk5reY8zDJSm56Q9hh0EAAAkpKQAALW1tSNvivKhS93q5GFsvLqk/EqL4VxNcBjPMx1eGtmJCsz45ogwjvLy8pEfZekPkpdo6qlLylP+05KZaKaqucfTp7ayCgCwf+NWHTkldUn5/r6+kQceyWF1Kyh44XQ1dUn5mLDbI08CAJCdwJQHIKpOaAKHw+FxODFxau5rrqymGpX9SGOeLgDgbm66u48XFRunOUZassEvKMDNzd3c3DzypsrLy3l4eP6SGDfypr5KiU2QkpN9VVxSX/vnQ8XDeJ5p/9LITFD4+PFjT08PrTtCWNW78ncyI57GZ2hmEleYLSUnyy8o8LSxJv1d6Y5jh14+LXI1tax7X7339PHl69ZQJS0AIzqsnNatvno/hmpJAJCdqMCMJy9RdUITLS0tAAAhUVGIGfp6e4f3/ZsWvWsbG2aUv9Kdzyi7qQqLilBeoxF6//69tLwcOzvVjqPO9vaaiso1W3wAAEnR9357+2E8z/R/aWTk5chkcnV1Ne26QFhb/Yd6qi+L4+Xj051vtPnAPjwOH3U9lLqNM9Q7noS0FFUGsukMVSc00draCgAQFhWBmCE+Iqq9tXV09v5bwqKirdSI197eLiRCzVf5UcIDHSMDvQXzubi5k+7G/nabkGE8z/R/aShPUUdHBz07RVhJd083HxZLi5anqs4AALz/dhEfy22pwsfP393dDTvFH0PVCU1Q/hSw/LSdw3U35KbehKm6ClOyHqZtWO6qr6hsNkvrYVwCAODU3v1n/Q421NapS8pbz9UHAJCIxMvHT1nMnqsjP3mZ0aK0hEQAwM2Ll3UVpuhPmtbe0nrG/5CZquaxXXt15JQWTlc7st3XZKa6jpzSSgubspIXP7xx3fvqHzb7Xe8vnj6zmD1XXVI+6kYYAMBOz1hdUl5jvILLQoteAgEAcP7gYQOl6TpySol37v6wQarDUulw7e7u5uOn5pvmw9h4A9NFfPxYzXm6n+obXjwp+vpP/33+Nyx3/cXzDAAoKXjiamqpqzBFX1HZ0XAhrrvn1y8NRdLdWJdFi3XklPQmTLVU17l2+vwIHxTlKWLG90eEQfR09/DR5u2UOEgEAHD+7zIU7OzseY/SNyx3NVCabjJTPSEyCgBwcPMOylQVK6155WWvAQD7N27VVZhioDQ9O/XRf4+yoR9WL54U2c2bT3n3czRcWJiZTYvHiMViu5lwXBVVJzTR19cHvvmLpxFbV2fHNSv7enuxWGzApQuxBdnjZaUDtuwcHBjctH+v7gJjKTnZp401MfmZAIALAUdvBl7e6L8n+eVT3fnGezw2vH35ytnj72V/r8Lj8DfOBUrKSCurqdq5rzC3t+0l9Dqscot/mnszNZFIHPRycPrc+Om/NyaTyT9s9rveZ6rPvvbNMGpkxkMJaamxkhIhSXE8vLwAAO/dOy0d7T19t5vb2/6wQao/dRguzj5qzH3r7u7m4eMbeTsUTR8b695Xq2qqAwCMLMwAAA+i//95++/zv9F/zy+eZwIev9l1lZG56eO3L2LyMmUUFAYGBn790gAAIoKv+63fZGRukvTiyYOSAtf1nnXvRzoiw8PLy4HBdHV1jbAdZHQaGBjo6+vDUvVrwFfPC58CABSnTaH8SCKRBAQFDwWdT3iaO3m68rEde3oJhN0njxiambBzcFyJi1JSngYA2Hv6uL7Jwv0XzszRmfvfo2zoh1Vrc8v8xeYJT3OTXjzhxWL3ePrQ4jHy8WN7CYTBwUFaNE47qDqhCcolcDm5OOnTncocNawAv4iY6AJLCwIe3/Tx4/d5+vruhtzSN1loaGYiICjo7uOFwWDu34n+egMv3+12bi5HrwZRdpDjwHDITZrIxcUlrzhp++GD+B7c/cgf3FhSWurXzf4QOweHwyq3po+NGUkPKb/pJRDSHyQvdrD7bU5q4eTiokp10tXVRcU3zYex8TrGRuwcHAAAvQXGXFxcjxMf9PX2fnez716sn/lU34Dr7lFQnMTFzS06Rvzo1aDfDjUODgxePXlWTVtrhdc6QWFhASEhS0c7qmyBhcVi0bkTZHgofzm81B7ZIeDx6Q+Sz+4/JCIu5rDK7evvVeao8QsKCAgJzbe06O/vb/xQDwCwWbGcRCQm/u9tENfd8+bFS21D/aEcZb84rIzMTVZv3iAgJCQoLKy3wLizvb29tY26DxMAQDntxHTT0lF1QhMDAwMAAA4ODJ37pZyt+W+NXPe+updA+HoBLW4eHrG/xtRWvR9Km1NmTOfh5a370Y2H3azlMgd+QYGI4OuUH5Pvxc1btAArwD+SnH+Ek5OTUkGOEA6H46XeuRPKsA7l/7EC/BrzdHHdPVkP04bX2nhZGRFxsb1eG4NPnvlU3zCUu1S9fdvd1aWlr/f1N5RScngBvsWL5WO6N0eEQVA2TuTl46VWgz1d3eqS8gZKKif37Nc2NAhJih8z7gfL7jCcGPC/t9PZ2nNlFOQTIqMpU8FS4+8vWGLBzsExlKNsiIcVBsMJACDRYMt5PiwfQNUJQsHBwQEAIJFJsIP8g4DHAwCCjp78utb/U8NHypyPoeDk4vrhPMphN8uH5bNycix9Vvz6+UsAwL3QW/YrXUeec+iIRCIGQ4XakZuHmypVDgDg/buKqrflm1as/PrYKZslJEUPc20hNw9PUHT4DI3Z189eWKKp57vW+7+nYb6D6+4BAPALCg6vx1/o7+vj4eGherPIaMDFxQUA6O+jzoEGAKCsKC6sr3pQUrDn9LGhrAZiY2Ozdln+se5DUW4+ACApOmaxoz0Y2lH2i8Mq71H6WhuHBcqztGUVzx88TIXH9iP9vX0AAKY7AFF1QhOUw2mwfwB2kH+IiIkBADb673naWPP1v+tDW1I/ODDY09X1l6QEdZu1X+mG4cREXLn2vPDpWEkJKTnZETb4R/r7+7m5uUfejoCAIJ5K30hSYuIWLln87QN//PYFNw9PYRTYOpAAACAASURBVFZO65dhbs2ioKR4KvRa0vOnLp5r0xISbwUF//r24uPGAgA626h/bhnX0yMgIED1ZpHRgPKXQ8BR59ITw2Zhb8vFzR1/O7LufTVWgP9rTfPbo+xnh1XTx8atK/8WGzPmxoO4jIpXXr47aJQch8OB/z2NTARVJzRB+eQbGKBasT9CYyUluLi5K14P51onxQWFZDJZeZYqdZv9S2KcsYX54wdJl46ddFztPvIG/8hg/wBVqhNBAQE8Nd40yWRyavx9Wzfnb38pICRkZGFKIhIfxsYPo83mz59rKioBACJiop67tk2erkz58RckpKUEhYULs3KG0d0vDAwM9Pf1C9LglAwyGvDy8mIwGBwO8sCEgJDQfEvzrJTUW0FXlix3oPxyKEfZzw6r92/fDQ4M2ro6j5eV4eLmZqPZSmZ8Tw8nJydV3vHoCVUnNMHHxwcAIOCpPyQxdILCQs1Nnz/VN+B7cOzsHBYOS1NjE+6G3MR195CIxC+fmlo+f/nZfUkkUndnJ3GQWPX23am9+8eNlzS3t/3vzbi4uX/W7Le9Dw78eK748rWriIPE7s7O2Tpzf9sgdfUS8HzUmC8iICBAwOFG3k7ps2IsP/+MObO/+72tixP498qd7/zieW5p+nJ4u29t1fuBgYHystefGj4qq6n++i5cXFxu6z2eFz49sduvuamJRCLhe3C/rWl+i3J6iem+uiGMA8uPxfdQ4UAbIRsXp/7+/txH6brzjSm/+dlR9q2fHVZjx48HADzNye3v66uvqX39/DmNYuN7cPxMeIkiVJ3QhJiYGACgg6pnyMtKXjgYLHyanQsAsNMzvnEu8G7IzYgr1wAAjoaLPtZ9iLsdecb/IABgw7IV9TW1NiucRMXF7ObN93Fy7ero2LR/r+OalWGBl4ynzTSZqX5q7/7uzs6bFy+HX74KALDRNki+F/e1r/6+PgeDRToKSquXLJVRkA+6G8HFxfXDG/+wWQDAt71fPX12hcliAMCFg0e2uK7+2ouS8jQ1ba3vZof9rEHq6mhtp7xGIyQoKNjTNdKlKAc371jvuKKmsnK5sSllNwWK62cubFu1FgBQ+eat2SwtS3Wd/z7/v3iehcVESUTSSgsbXYUpm5xXWrsst3Nz+fVdAADL167eesi/pKDQSktfb8LUv63ti/MLR/gAKU8Rqk6QYePH8o/8a0Dps2JbHcOG2rqerm5TVY2df3t++69f398ob6cpMXFHd+wBAGxyWVldXkG5jfKsmUrK0yzsl3JgOCi/+eFRFnUjbCiH1cQpSi6ea6Nv3DSZoX7xyPFZWpoAgNVLlp7ed2C1pS0A4Oz+gO2r1o3wUQMAcD04AX7mO/rYfrsZJTIMHR0dIiIi5yPCKJfFYS5Htvs+up/06A2tCnlGoD9J+fy5c+7u7iNs5/z58/v8/R6+KqZKKlZVlJvnaef05cuXMWPGwM6CMCU1NbWpGmrr9+yCHQRsdHbfeshfUkYadpA/cMb/UEXxi6Kiot/flJGgcyc0ISQkhMFgqHvuhJ5IJOqvamMc/X19eByOKudOlJSU2lvbOtvbR94UC6urqhYWEUalCTJsSkpKH6prYfX+dQC06u07Lm5u5ipNAAAf3ldPnjwZdoo/hqoTmmBjY5OUlPzc+Al2EOQHKK+LtDQV3mKUlJQAAB+qa0beFAure1+tpKgEOwXCxJSUlH645RJ9XDh0pL6m9kN1zX6frWu3bYIVY9jqqt5T3qmYC6pOaEVOXq5xaFtgMZSLh4/fj4zu6eq21NB9nJgMOw5NUDZ/lJOTG3lT0tLSvHx8dVXo6ru/Ul9dw4xf3RDGoaSk1FD34Wfz62mNm5d3qa6Rp93y1Vt85BUnQckwbAMDA40NH5mxOqH3Zqajh4K8Qnkt832l9ti51WPnVtgpaOvjh3oBQUFRUdGRN8XOzq44aVJN5UhXtbC2msoq8/kLYadAmJiSkhJxcPDjhw+yExTo3/u67ZvXbd9M/36poqGmljg4yIzVCTp3QisTJ05EJ/wZU31N7cQJv7pCzR+ZO3fui0Imm25GT58aPn5q+KitrQ07CMLElJSUMBhM1Zt3sIMwn6p35RgMZtIkJjvlA1B1QjvKysqN9fWUPYwRhlL19t2MGTOo1ZqBgcGbl6Xd6AK8P1GUk8vLx6ehoQE7CMLE+Pj4VGepFheMdHH7KFScVzB7zmxeXqpdpYhuUHVCKyoqKmQyubqiAnYQ5Hvv35ZPnz6dWq0ZGhqSyeSXT55Rq0EW8yy3QEdHm+n2qUQYjaGBYcmIt94ZhYrzCowMjWCnGA5UndCKnJycgKBg5eu3sIMg/9Le0try5QsVqxMxMbFp06Y9yy+gVoMspqSg0NDAEHYKhOkZGBhUV1Q2NzXBDsJMPjd+qquuMTAwgB1kOFB1QitsbGzq6nNeFZfADoL8S+mzYnZ29jlz5lCxzfnz5+c9SqdigyzjXemrL02fjY2NYQdBmJ6uri43N/fIdy4eVZ7l5nNzc8+dOxd2kOFA1QkN6WjrlBahXUQZy8uiZ9OmTRMWFqZim46OjnXvq8tKXlCxTdaQdDd2woQJampqsIMgTI+Pj2+O+pzCzGzYQZhJYWa2lpYWM046Aag6oSltbe362rrWL82wgyD/r7SohOrrR2bPnj1t2rTke7HUbZbZEQcHHyU8WLFiBe0uvoqMKnZL7TKSHlLlquCjAR6Hz0l7bG9vDzvIMKHqhIa0tLS4uLie5uTBDoL8o7ur6/WLl/r6+lRv2cnJKTUuob+/n+otM6/CzOzW5ubly5fDDoKwiGXLlhEHB7NSUmEHYQ7piUmDAwNLly6FHWSYUHVCQ/z8/Nra2gUZWbCDIP94mp0HyOT58+dTvWUnJ6fuzq7ctMdUb5l5PYiO0dbRUVCAsH0WwpLExMQWmZgk30UnKYck+V6smbk5VS4oBgWqTmjLxMTkSVY2iUSCHQQBAICC9Ex1DXWq7BL7HSkpKTNz89uXrlK9ZSbVUFuXkfxw3dq1sIMgLMXF2flpTu6XT2jlzm80NzWVFDxxcXaGHWT4UHVCW2ZmZu2tbaXP0Mod+EhEYt7jDDNTMxq1v9vX91VxybPcfBq1z1zCLgTJysjY2dnBDoKwFHNzc2ER4YSIKNhBGF3srQhhEWFTU1PYQYYPVSe0NXXq1KlTpz5KSIQdBAHFBYWtzc20+7xUV1c3Mja6cS6QRu0zkS+fmh7cjd21axcGg67khVATNze3t5f3nWs38D042FkYF667J+p66Hrv9VxcXLCzDB+qTmjO3t4+PTGZRCTCDjLapcUnqqqq0vR6E7t9dxfl5qNNbsICL40bN9aZmc8qIwxr/fr1xEHivbDbsIMwruiQMDKJ7O3tDTvIiKDqhObs7e1bvnx5hjYRgqq/vz8z+aGDgwNNe9HX19fV0zvrHzCaZxrVva+OvRWxc8dOpv7ehjAsUVHRdWvXhl++2tfbCzsLI+olECKDb3h7eYmIiMDOMiKoOqE5JSUlTS2t+PBI2EFGtczkhz1d3U5OTrTu6GJg4NuXpYl3omndEcM6vfeAkqLi6tWrYQdBWNbmzZtxPT3x4XdgB2FEsbciegkEHx8f2EFGClUn9LBm9erM5NT2llbYQUavhPA7pmZmkpKStO5IWVnZ09Pz/MEjHW3ttO6LAaXG3y/Myr5y5QqacYLQztixY9etXXvt1Lmujg7YWRhLR1v7jbMXvDw9x4wZAzvLSKHqhB7s7e15eXkTo+7CDjJK1dfUPssrWOnuTp/u/P39+Xh5LwYcpU93jAPX3XPO/5C7u7uWlhbsLAiL8/Pz4+Hmvnj4OOwgjCXw0FFuLq5du3bBDkIFqDqhBz4+vlUrV965FjIwMAA7y2h0+1KwjIyMmRmt1hJ/R1BQ8MzpM/ERUblpo+vSgMd27SURiUeOHIEdBGF9goKCx48fj7sdWVb8HHYWRvHmRen9O9Hnzp4TEhKCnYUK2MhkMuwMo0JDQ4OCgoLvyaOmtlaws4wu7a1tlnO0T5486eHhQc9+3dzcYuJibz5MlJCWome/sCRE3Dm0ZWd8fLyFhQXsLMhoYWhk2NTSfONBHDsHB+wskJGIRFdTy/Fjxz1KewQ7C3Wgcyd0IiUlZWtrG34pGJWDdBZ1PYQPy+fq6krnfi9cuDBeUtJ33frBgUE6d01/1eUVJ3f7b9++HZUmCD0FXgh8/67iZtAV2EHgC70QVFNRdTHwIuwgVIOqE/rx9fWtelee/iAFdpBRpLO9/c7VkM2bNvPx8dG5aywWGx0V/f5d+cUjx+jcNZ3he3A713iqzpp14MAB2FmQ0WXKlCkBAQGXjp168fQZ7CwwvXhSdOXk2aNHjyoqKsLOQjVoZIeuHBwcip6XhKensLOjupAeAgOO3Y+4U1tTKyAgACVAWFiYq6vr1kP+tq6suTXZwMDARie3usqqoqdF0tLSsOMgow6ZTLayti58+uRm6gNhUebe4WN42lvbnBeYzVGbfT8hgY2NDXYcqkGfkXTl5+dX97465V4c7CCjQsvnL9E3wnZs3wGrNAEAuLi4HDhw4MRuv0cJD2BloB0SibTPe9Pbl6+SHiSh0gSBgo2N7cb16zycXP4bNo/CL9tkMvnQ5u3cnJyhISGsVJoAADj8/PxgZxhFxMXFGxoabl2/YeW8jJOTE3YcFndi977O1tawsDC4T7Wenl5nZ+ex/QenzZwhJScLMQnVnfE7mHIvNj4uTkdHB3YWZPTi5eXV0NA45L+fRCKpzdWEHYeuLh07lXw3JiU5habX6IACnTuht4MHD/biCWGBl2AHYXHvXpUl3Y09eeIk/Wec/NeJEydsrK13rvEsys2DnYU6yGTyuQMBUddDw8PD58+fDzsOMtppaWldvHjx6qlz90Jvwc5CP9E3wkLOBV6+fFldXR12FupD507oDYvFcmIwZ4+dmG9pISgsDDsOayKRSNtXrZuoMOHEiROMcLaTjY1t8eLFb9++PR1wRHbCBAUl5v6WMzgweHDTtvsR0aGhofb29rDjIAgAAMyaNQuDwRzas09+0iRmP8SGIisl9cCmbQEBAV5eXrCz0ASqTiBQV1ePjY3Nzcg0W2rDCJ+drCfqeuiDqLtxsbESEhKws/yDg4PD2tq6s7PzoO8erAD/dLVZsBMNUy+BsGO1R0FGVkxMjLW1New4CPL/9PT0Ojo6ju0/qKw6k8VGUb9TnFewdeXfa1avCQgIgJ2FVlB1AgE7O7uamtoh//1/SUooKU+DHYfVNH1s3LnaY9vWrY6OjrCz/AsbG9uCBQswGMzhff4EPG62thbTLd361PBxk7N7bUVlWmqqvr4+7DgI8r0FCxa8efPmwvFTU1Sms2qBkp+euW3lWhtr6+DgYBb+fouqEzjGjx/f0dERdObsQitLfkFoK0pYD4lE2rnGgxuDCQ8PZ8wL0enp6cnLyx8/dLggI0tjni4/vPVEfyo79dFGJzdBLH9qaqqKigrsOAjyA2xsbFZWVnW1tUf99v8lMY71vv4l34vb7bHe3s7uxo0bjPkWRy1M9tWNlQQEBMhKy+z18iERibCzsI7bl66WFDwJDQnl5uaGneWnXFxcSoqLiYQ+5wVmeY+Y4Fo8xMHB4JNntrn/vdjc4smTJ6y04xPCejg4OIKDg3f7+h7avOPmRZbaRjby6g3/DZs91q0LDQ1l+VWf6NwJNBgMRltb+/DBQ+zs7KqaLDjjmv7evSrb6+Vz8MABxp+qKS4uvmLFiur31cf8DjR/+qQyR42Hlxd2qB8rK36+xW1N/uPMa1ev7tu3j4uLC3YiBPkNNjY2fX19fn7+Q3v29XR1zdHRZudg7q/iAwMDp/fuv372wsmTJ/39/Vl4QOcrtFcsZGfOnNmyZcu5iNA5OtqwszC3ro6OFYsslSZNTEtNY6L5HFFRUT4+PoS+Xs9d2y0cljJU8s729guHjt6PjMZwYq5dvebk5AQ7EYL8mYiIiFWrV0+YrHQw6JyE1HjYcYbpU32D71rvmsqq69eu2dnZwY5DJ6g6gc/BwSEl9WFocoKkDNptc5hIJNIml5UfKqtKikvGjBkDO86f6e7u3rdv3/nz56fMUFm/d+eMObNhJwL9/f33I6IuHz/Fy81z6tSp6OjokpKS0tJSiLvuIsjwlJeXL126tLaubteJI0bmJrDj/LHs1EcHNm6VGCcRHRWlrKwMOw79oOoEvp6eHg0NDcCJCboXwcsAW4cxo4uHj0dcuZaVlaWhoQE7yzCVlpauX78+KytLTUvTdYOnhh6c3Vd7CYS425G3gq50trV7enru27dPUFCwubl52rRpS5cuDQwMhJIKQUaCQCB4e3tfv359qavzuh1bsQL8sBMNCa67J/DwsXuht1atWnX27FleRh38pRFUnTCEqqoqTS1N5dmzjgYHsXNwwI7DZOLD7wRs3Xnt2jU3NzfYWUYqOzv7UMCh1Iepyqozl69drbvQmG7zPFo+f7l/J/rO1ZBeAuHvNWu2bNkiKSn59V/Dw8OdnJxSUlIWLFhAnzwIQl3h4eHe69djODHr9/kusLSAHec3HsbGn9sfQCISL5y/4ODgADsOBKg6YRR5eXlGxsZWyx02HdgHOwszeZKVs9Fl5c4dO/bv3w87C9U8e/bsUEDA/YQErAC/sYWZia2Vymw1Gs2DI+DxmcmpKffinubkCggKeHp4btiw4YejY7a2tsXFxWh8B2Fe7e3tfn5+gYGBMzXmbAvYL6/IiFvK1tfUHt+170l2jpOT08mTJ5luqJpaUHXCQKKjox0cHFZt2rBq03rYWZjDq+ISbwcXG2vr0NBQ1pvE3tjYGB4eHhoaWlZWJiUrM9fIYI7O3FlaGgJCQiNv/EN1zbPc/Gd5BfnpmQP9/YtMTFycnS0sLH6xEru5uVlZWdna2jooKGjkARAElsLCwnUe616/fmNma+XitY5xNm2rr60LPXcx6V7s9OnKl4IuseTVc4YOVSeMJSQkxN3d3ct3u7PH37CzMLqqt+/W2Trq6erdu3uXtZf+v3z5Mjw8PO1R2ssXL9nY2JSUp87U1JCfNFF2goLsBAURcbHftkAiEhvrG+reV9dVva9487Y4r+Bz4ycsP1ZPT8/UxNTBwUFcXHwoSSIjI5ctW5acnLxw4cIRPywEgYZIJIaGhgYcDqirrZtvaeHqvQ7ueZTq8oqQ80Fp8ffl5eV37drl4uLCMeqH+FF1wnBOnz69efNmH7/djqvdYWdhXBWv36x3cJk1SzXxfiIjb7xGXW1tbVlZWRkZGbm5uRWVlbieHgCAoJCghLS0oJAgDxbLh8XyYfl4eHkJeHx3VxehB0/A4zrbO+prawf6BwAAY8eOVVZW1tfXNzQ0VFdXH8Zek0uXLi0qKiotLRUUFKT+I0QQOiISiZGRkQEBAe/evdOZb2RhbzvXyICeX3UGBgbyHqUnRt3LTXs8ZcoUX19fOzs7VJdQoOqEEZ04cWLbtm1rt21y28CaF58coVfFJT5Obhrq6nGxcVgsFnYcaBoaGioqKsrLyz98+NDR0dHY2FhQUDB58uT+/n5+fn5RUVEBAQF+fn5hYWFFRUVFRUUlJaWRlxQtLS3Tpk1bsmTJ5cuXqfIoEAQuEokUFxcXeDEwMyNTUFjIeLG5qY2VspoqTTstfVacfC/uUUJid2eXgYGBl5eXpaUl6w1PjwSqThhUUFCQl5fXsr9Xeu/eif5kv/UkK2f7qnXGxsZRd+6MnrMmQ5GdnT1v3rzGxkZaX5k5KirKwcEhKSlp0aJFNO0IQeipoaHh9u3boWGhb9+8lZSWUpurNVtn7mwdrTFjx1Kl/eampqLcgmd5+c9y85s+Nk6bNs3FxWX58uXjxzPrNnE0haoTxnXz5s1Vq1bpmyzYe+YEF/oYBgAAEB9+5+jOPY4ODtevX2ftK2ANQ0pKiomJSUdHhxA1ps3+mp2dXX5+fllZmbCwMK37QhA6s7S0/PTpEw8v75PCwv7+fvlJE1XmqMlNnCA7YYLspAmSUuM5hvDmQxwcbKxvqKuqrq16X1v1vrToWW3Ve25ubg1NzQkKCgkJCTU1NWj52y+g6oShpaenW9vYyCtOPHr10lAmP7IwEokUdOREWOCl3bt3j5LLTPyp2NhYa2vr/v5+Ogyct7S0KCsrW1hYBAcH07ovBKGnwcFBCQmJHTt2bN68GY/H5+XlpaenP3nypLy8vLGxEQDAycUpJSsrICjIi+XjFxTgxWIpu2gS8HgCDtfT1Y3vwfV0dzfU1VEme0lKSiopKWlqahoaGs6dO5ePj6+1tXXcuHG3bt1i/CuCQYSqE0b3+vVrc3NzQn/f4SsXlWfNhB0Hjq6Ojr2eG4vzCy5duuTq6go7DoO6ffu2m5tbf38/fbqLj4+3srJ68OCBiQnz7Q6OID/z+PFjY2PjioqKSZO+X8XT3d1dXl5OmezV09PT09PT3t7eg8P19HQDAPj5BfixWBEREX5+fgEBAcpML0VFxR+eIJk/f76oqOidO3fo8ZCYE6pOmMDnz5/nams3NNRv9Ntjs2LUXYntXemrnWu82Miku9F3mXejejoIDg7eunVrR0cH3Xp0cHDIzc199eqViIgI3TpFEJry8vLKycl5+fIlTXsJCgratm3bly9fRtv+9EPHQBdERX7myJEjn5uaVrqvPO67b5v7353t7bAT0QmJRLp58crKxbZKkyaWFJeg0uTX8Hg8H32v0xQYGDg4OLhlyxZ6doogtEMmkxMSEpYsWULrjqytrQkEQmpqKq07Yl6oOmF0cXFxZ8+evXjx4sWLF9PT06tev1luZFKYmQ07F819avi43tHl8rGTB/bvT0tNG7XbOQ8dHo+n8/cwMTGxK1eu3LhxIzk5mZ79IgiNPHv2rL6+3srKitYdjR07VktLKyYmhtYdMS9UnTC0ioqKFStWeHh4uLi4AADmzZtX+rLUUN9g/bIVfus3d7Sx5kkUEokUefWGo8HCzuaWvLy87du3s7OjP9TfIxAIdD53AgBYvHixg4PDqlWr2kfNKT2EhcXGxsrJyc2YMYMOfdnY2CQkJNBtohjTQW/6jAuHw1lbW0+ePPnkyZNffykiIhIREREfH/+ioNBh3vyEyCgSiQQxJNW9eVG6ysLm/IHDmzdtevni5ezZs2EnYhr0H9mhOH/+PIlE2rRpE/27RhDqio2NtbKyos+SQFtb287OzoyMDDr0xYxQdcK41q1b9+nTpzs/2nNs8eLFb16/WeboeGSbr5vpkhdPn0FJSF0tn7/s37jV3dxKmJ+/pKRk//79aLO1PwKrOqGM74SEhMTFxdG/dwShlsrKynfv3tFh0gmFlJSUmpravXv36NMd00HVCYM6f/787du3b9++LScn98MbCAkJnT9/vqysTE5Kas2SpV4Ozu9KX9E3I9V0dXQEnzxjp2f8PK/gxo0b2VnZysrKsEMxHygjOxQWFhbLly/38PBoa2uDEgBBRu7evXvi4uJz586lW482NjaxsbGDg4N065GJoOqEET158mTLli1+fn6/3SlcSUkp6UFSYmLiQA9uhYnlzjWe716V0SckVbS3tF46dnKJhl5s2O19e/dWVlS6uLigndaGB9a5E4oLFy6ws7Nv3LgRVgAEGaHY2FhLS0t6bkJtY2PT0tKSl5dHtx6ZCKpOGE5bW5uDg8O8efN27do1xLuYmZkVPyu+d+9eS/1Hl4UWnnbL89MzGXwnm/qa2iPbfS3VdeJvRezcsaOmumbLli1o6f9I0H/NzreEhYUvXboUFhYWGxsLKwOCDNvHjx+LioroNqxDMWnSJGVlZTS480OoOmEsJBJp2bJlJBIpPDz8j66jzcbGZmVl9eLFi5ycnL+ERTY6u1uq61w4dLTpYyPt0g5Df3//4/tJ3g7OtjqGz3MLjhw58qHuw65du/j5+WFHY3pwz50AAMzNzZ2dnT09PdH4DsJ04uLisFissbExnfu1sbGJiYlh8C+TUKDqhLHs3bs3MzOTMvw5vBZ0dHQS7ye+evXK3nbp/Yg7VlrzNjq7P4i619PVTd2of4REJBbl5gVs3WmmqrHHc8NYEbGEhISqqqoNGzbA/UBlJdCrEwDA+fPnOTg4NmzYADcGgvypuLg4ExMTHh4eOvdrbW398ePHp0+f0rlfxod2smcgDx48WLx4cVBQ0Jo1a6jSYG9vb2xsbERkZOrDh2RAnqOjrWWoP9dgnpScLFXa/63urq6nWbkFGVm5j9LbWlpUVVUdHR2dnJwkJCToE2BUmTFjhoWFxcGDB+HGePDggbm5+b1796ytreEmQZAh6ujoGDt2bEhIiKOjI/17nzx58uLFi48dO0b/rhkZqk4YRV1dnZqa2qJFi27dukX1xjs6OuLi4u7fv5/26FF3V5e0nOwMjTkz5syeMUdNZoICdfc6a2tueVVc8vxJ0atnJW9elgIyWUNTw9zMfOnSpRMnTqRiR8h3Jk2a5Orq6uvrCzsIcHV1TUpKev36NdrhF2EKN2/eXLly5ZcvX4SFhenf+44dO6Kioqqrq+nfNSND1QlD6O3t1dHR6e/vLywspOnJ+YGBgfz8/MePH+fk5DwtKsLjcLx8fAqKkyZOnSw3cYKkjLSkjLSE1HjBoR2i/X19nxo+Nn6o/1Tf8KGm9v3bd1Vvy1ubm9nZ2adNm6arq6uvr29sbIwuEUcfUlJSmzdvZoRVM52dndOnT9fV1b19+zbsLAjyezY2NjgcLiUlBUrvRUVF6urqz58/nzlzlF6F/ofot3QK+QVvb++KioqnT5/Set4AJyfnvHnz5s2bBwAYHBx8+fLlixcvXr16VVpaGpWR3dTURKlWMZycIqKiQiLC/IIC3Dw8AAA+fv5ePIFEIhIHibieno62to62dgIeT2lWSFhogsKEGTNm2FlaqaioqKurCwoK0vSBIP/FCPNOKISEhK5du7Zw4UJra2sbGxvYcRDkVwgEwsOHD7/dkpvOZs+eLSMjqFLfSQAAIABJREFUExMTg6qTb6FzJ/DdunXLxcXl7t270Mfp+/r6amtr6+rqmpubW1tbW1tbu7u7cTgcAKCzszMmJkZLS2v69OkCAgJi/yMtLS0nJ4fOjjACHh6e4OBgZ2dn2EH+4e7unpiYWFZW9tdff8HOgiA/FR8fb21t3dDQAHE+nI+PT1pa2uvXr2EFYECoOoGstLRUS0vL29v7yJEjsLP8hqio6OHDh//++2/YQZAfIBKJGAwmOjra1tYWdpZ/UMZ3tLW1IyIiYGdBkJ9ydXWtrKyEuyVaTk6Onp7e27dvJ0+eDDEGQ0ErimHq6OiwtrZWV1eHvs5iKDAYDNpxmWHh8XgAAIOM7FAICQldv379zp07d+/ehZ0FQX6MSCQ+ePCAzpuw/Ze2traEhERMTAzcGAwFVSfQkMlkd3d3HA53+/Zteu6dPGyoOmFkDFidAACMjY3d3d3XrVv35csX2FkQ5Aeys7NbWlosLS3hxmBnZ1+8eDHaNPZbqDqB5tixY4mJidHR0ZKSkrCzDAmqThgZgUAAjFedAABOnTrFx8fn7e0NOwiC/EBsbKyysrKioiLsIMDGxqakpAStK/4KVSdw5OTk7N69+/Dhwzo6OrCzDBWqThgZY547AQAICgpev349Ojo6OjoadhYE+RcymRwfH29lZQU7CAAA6Ovri4qKxsXFwQ7CKFB1AkFzc7Ojo+OiRYs2bdoEO8sfQNUJI2PY6gQAYGRktGrVKg8Pj8+fP8POgiD/r7i4+MOHD9AnnVBwcnKiwZ1voeqE3kgkkrOzMwcHR0hICBsbG+w4fwBVJ4yMkasTAMCJEyf4+PjQgi+EocTFxcnKyqqqqsIO8g9ra+vCwsLGRsa6dCssqDqht4CAgPT09MjISDExMdhZ/gwGgyESibBTID9GqU54eXlhB/kxQUHBGzduJCQkREVFwc6CIP+IjY1dsmQJ43xLXLBgAT8/f2xsLOwgDAFVJ3SVlZXl5+d34sQJLS0t2Fn+GDp3wsgY/NwJAMDQ0HDNmjWenp5ofAdhBJWVlW/evGGQYR0Kbm5uU1NTtK6YAlUn9PPly5dly5aZmpoy6foFVJ0wMjwez8nJycnJCTvIr5w8eVJISIhal+BGkJGIiYkRExNjtHUJ1tbWWVlZzc3NsIPAh6oTOiGRSE5OTpycnEw33eQrVJ0wMgKBwMgnTiiwWOyVK1fu378fGRkJOwsy2sXFxS1evJjR9poyMzPj5uZOSEiAHQQ+VJ3Qib+/f3Z29r1790RFRWFnGSZUnTAyxrkE4K8ZGhquXbvWy8urqakJdhZk9Gpqanr69CmDrCX+Fh8f34IFC9DgDkDVCX1kZGQcOnTo1KlTampqsLMMH6pOGBmzVCcAgOPHjwsLC6PxHQSi2NhYHh4eIyMj2EF+wNraOi0trb29HXYQyFB1QnOfP39evny5jY2Nh4cH7CwjwsHBgaoThkUgEBh2wc53sFhscHBwYmJieHg47CzIKBUXF2diYsKYBb2FhQUbG1tSUhLsIJCh6oS2SCTS8uXLKW/HsLOMFDp3wsiY6NwJAMDAwMDDw8PT0/Pjx4+wsyCjTmdnZ2ZmJgMO61AICwsbGhqiwR1UndDWnj178vLyoqKiBAUFYWcZKbTfCSNjruoEAHDs2DFxcfG1a9fCDoKMOomJiWQy2dTUFHaQn7K2tk5JScHhcLCDwISqExp6/Pjx0aNHz507xzh7EY4EOnfCyJiuOuHj4wsJCUlKSrp16xbsLMjoEhsba2BgICIiAjvIT1lZWfX396ekpMAOAhOqTmiloaHB0dHR1tZ29erVsLNQB6pOGBlTrCj+jra2tqenp7e3d0NDA+wsyGjR19eXmprKUJuw/Ze4uLiOjs4oH9xB1QlNDA4OLlu2TFhY+MqVK7CzUA2qThgZ0507oThy5MiYMWPQ+A5CN6mpqT09PRYWFrCD/IaNjc39+/d7e3thB4EGVSc04evrW1RUxBrTTb5C1Qkjw+PxzLJm51uU8Z3k5OSwsDDYWZBRITY2VkNDQ0pKCnaQ37Cysurp6Xn8+DHsINCg6oT6kpKSjh8/fvHixZkzZ8LOQk2oOmFkTHruBAAwd+5cb2/v9evX19fXw86CsDgikZiYmMjgwzoU48eP19DQuHfvHuwg0KDqhMrq6+tXrFjh6Ojo5uYGOwuVoeqEkTFvdQIACAgI+Ouvv1auXEkmk2FnQVhZTk5Oc3MzU1QnAAAbG5uEhIRR+66LqhNqGhgYsLOzGzt2LCtNN/kKVSeMjElHdij4+PhCQ0PT09NDQ0NhZ0FYWVxc3NSpU5WUlGAHGRJbW9vW1tasrCzYQeBA1Qk17d27t7S0NCoqCovFws5Cfag6YWRMfe4EAKClpbV+/XofHx80voPQTkJCAsNuwvZfcnJyM2fOHLWDO6g6oZrMzMzjx4+fPXt26tSpsLPQBKpOGBkzrij+TkBAwPjx493d3dH4DkILJSUlNTU1zDKsQ2FjYxMTE0MikWAHgQBVJ9TR3Ny8bNmyJUuWrFq1ahh37+3tXbdunYiIiLCwsIeHR19f339vIywszPZvBw4c+MV9Fy1a9O2NR75oE1UnjIzZz50AAHh4eK5evZqRkXHjxg26dWpoaCguLs7Nza2goLBjx44fLuD82W1+duj19PQEBARYWVlZW1ujawkxjri4uPHjxzPXpViXLl36+fPngoICajVIi8+aBQsWiIqKcnFxycjIeHl5dXd3UycrGRkxEolkYWEhLS3d2to6vBbWr18/a9asxsbG6upqRUVFHx+f/97GwcHh2x91dXXr6up+cV8zM7PhhfmZHTt2zJo1i7ptIlRBqRrv3r0LOwgVbN68WVBQkPK3TQeLFi36+PFjX19fbm6ukJDQpk2bhn6bHx56AwMDqqqqs2fPvnv37pUrVwQEBM6cOUOfx4L8mrKysre3N+wUf2zKlCkbN26kVmu0+KwxNTVtaGjo6+t78uSJuLj4mjVrqBIVVSdUcOrUKQwGk5eXN7y7U+YzRkVFUX4MCQnh5eXF4/G/uEt2dra9vf2v70v16sTX11dFRYW6bSJU0dXVBQB48OAB7CBU0NvbO3XqVCMjIxKJROeuXV1dFRUVh3ibnx16CQkJAIB3795Rfr9v3z4xMbHBwUGaJkd+q7KyEgCQnp4OO8gf8/X1lZWVpcrhQKPPmm+tWrXqtwfREKGRnZF69erVrl27/Pz85s6dO7wWiouLCQTC181R5syZQyAQSkpKfnGX48ePb9q0aXj3HTY0ssOw8Hg8AIDZR3YouLm5r127lpmZee3aNTp3zcbGxs7+m7fEr7f52aFXVVWFwWC+rgoxMjJqbW19/fo1TZMjvxUbGysqKqqrqws7yB+zsbGpq6srLi4eeVN0+KwZHBwUEhIaeVSA5p2MEA6Hs7Oz09DQ2LFjx7AboSxSEBYWpvwoKir69Zc/9Pbt246ODnV19V/fl0gkSkpKYjCYcePGLVmy5M2bN8NOSMHBwYGqE8bEStUJAEBTU3PTpk2bN2/+8OEDPfutqKjQ1tYe4m1+duhJSkoODg5++fKF8vuxY8eCXx7OCH3ExcVZWFhgMBjYQf6YqqqqgoICVa65Q6PPGoru7u6HDx/Gx8dv3bp15FEBqk5GyMvL6/Pnz2FhYRwcHMNuhDLJjpubm/IjZdcKAoHws9sfP37cx8fnt/cNDAwsKSnp7e3Nzc3t6ekxMzOjfIYNGwaDIRKJI2kBoRHKK84y1QkA4MCBA9LS0m5ubmR6rd8pLy9//vz5li1bhnibnx16ZmZmUlJSy5cvv3//fmxs7IULF8AvD2eEDj5//lxYWMhEa4m/Y2Vldffu3ZG3Q6PPGgDA1atXBQUFra2tfXx8qLUqClUnwxcVFRUaGnrjxg0ZGZmRtEN5mb8uBKDUED/bWevTp0+FhYVfX/5f3FdBQWHcuHEYDGbixIknTpyora0d4a4+aGSHYbHYuRPwv/GdrKys4OBgOnTX39+/evXqixcvTp48eYi3+dmhx8/PX1hYOHXq1MDAwMjISMqLIiIiQodHgfxMXFwcDw/P/PnzYQcZJhsbm8rKyrKyshG2Q6PPGgDAqlWrcDhcfn5+YWHh3Llz+/v7RxgVoOpk2Kqrq1evXu3t7W1paTnCpijFTWtrK+VHyjnhn1U8Z86cWbt27dfR8SHeV0JCAgAwwoVeqDphWKxXnQAANDQ0tmzZsmnTpvfv39O0IyKR6Orq6ujouGLFiqHf5heH3vjx48+ePZuSknLnzp3FixcDAOTl5Wn6EJBfi4uLW7RoEfMeIJqamlJSUiMf3KHpZw0fH9+MGTPOnTv37Nmz9PT0EUYFqDoZnsHBQScnJxkZmSNHjoy8NVVVVV5e3mfPnlF+LCgo4OXlVVVV/e8tu7u779y54+7u/qf3rampAQBMmDBhJDm/rU7wePzhw4enTJnysxv/bGX8n/4eGYrvqhOWeXX+r73zDmjq7B7/c0MWBCEgCgKCgqJgAQEHVtSCvlpXGQH01daJCmi1FgG3uLUqaB1YHFW0im0UWvdqrSLWbVkKTiyOYmXPJHB/f9xv88ubgVnk3iTn8xc8uffJec5zznNPnnHuypUru3btShxQbKOvEIlEkyZNGj16dExMjErXKOl6R44c6dmzp4uLS1sIDyhDVVXVr7/+KrXcoF8+gmFYcHCw5kljdfCs0ebqv1ZO/hgbCQkJHA6nsLBQWxXOnTvX29v71atXT5486dat29y5c4nykSNHDhs2THzZpk2b4uPjlbm3trZ2zJgxZWVlAoEgPz8/ICAgICBAQyF37drVvn17HMevXLmSmJj4xRdf2NrattIiuSfjVS0HlIEYtgQCAW5wvXP37l0Gg5GamtoWlTc2NkZGRv7yyy+yH4ldr5Vr5LpeRUVFZGRkZWVldXX1nj17WCzWqVOn2kJ4QEmOHDnCYDAkk1Hpo48QsxFFRUUa1qP1Z83NmzfnzZtXXl4uFAofP3782WefOTo6VlVVaSgnDvlO1OC3336j0Wj79u3TYp0NDQ0zZsxo164dl8uNiYlpaGggyiUtRiAQdOnS5eXLl0re27t3bwsLCzqd7uzsPGPGDLUzxYlJS0uztLQU/5uSkqLItxWdjFe1XEOBjYdDhw4xGAzJEkPqnUWLFnE4nCdPnmi95lOnTsn+YHv+/Dku4XqtXCPX9Wpqatzc3ExNTdlsdr9+/SA0IZ2IiAjJ564Y/fIRkUjUsWPHjRs3aliP1p81JSUl7u7u5ubmJiYmdnZ2PB7v4cOHGgpJANGJapSVlXXq1Ck8PJxsQUhg//79HA5H/G8rvn3t2jWEUHFxMfEvkewhOztb1fK2bI1B8d1330kGjrhh9U5jY6Onp2dgYKDu87MB+k5jY2O7du127Ngh+5He+UhUVFS/fv20WyeVgX0nKoDj+PTp0+l0elpaGtmykIDyu2IVnYxXtVy78hswKr0CUO96h8ViHTx4MDs7OzU1VWdfChgGly5dqq2tJfYmKw81fSQsLOz27ds6TgJEIhCdqEBycvLZs2czMjKM83yg8tGJopPxqpZrV34DRqVXAOpj7/j4+MTHxyckJDx58kSX3wvoO5mZmX379u3cubNKd1HTR4YNG8blcjMzM7VbLWWB6ERZ7t27t3jx4lWrVqmdsV7fIbKx4UqcnlB0Ml7Vcq03wVBRae5ET3tnxYoVLi4uU6ZMMc63yQNq0NLScvr0aTWSsFHTRxgMxujRo7WSNFYvgOhEKerq6iZMmDBgwICEhASyZSENIgm0MtMnik7Gq1qu7RYYLMSmPCUv1tPeYTKZ6enpt27d2rVrl46/GtBTsrOz3759q0bqUsr6SFhYWHZ29ps3b7ReMwWB6EQpYmNjy8vLjxw5oknGen1H+ehE0cl4Vcvbph0GiEorO/rbO717905MTExMTCTeNwsArZOVleXm5tZK/l9FUNZHPv30U1NTU+I92IYP2dty9YBjx45hGPbzzz+TKMPy5cs5HI6zs3PrlzU0NERHR3O5XEtLy5iYmMbGRuWv+eC9Z86cQQhVV1cT/8rueJc8k6boVL2q5YAyTJ48edSoUZIlhto7AoHA19f3448/JhYZdQAVXA9QDxcXl0WLFin6VE99JDw8fPjw4W1UOU4lg4fo5AM8ffrUwsKCCsnBtm/f/kGLUSYjkNrZhM6fP48QKi8v37lzZ69evZhMJkLIzs4uMDCQMC9J31Z0ql7VckAZIiIixKfcDb53Hjx4wGAwtm3bprNvJN31ADW4f/8+QujWrVuyH+m1j8gml9M6FDF4iE5aQyAQ+Pv7e3p6UuFh+UGLUSYjkCbZhC5fvowQevfunbZaBGiLMWPGTJo0iWwpdMfy5cvNzMzE6SXaGtJdD1CDFStWODg4GF6OnOrqajabfeDAgbb7CooYPOw7aY0lS5bk5eX9+OOPbDZb+buSkpJoNFpQUJCrqyuHw/nkk0/kHoN0dXXFMMzGxoZIRpmQkMBms4n3cWzZssXBwYHJZDo7O//000+y9y5btqxLly61tbWShXfv3m1oaOjduzfxb9++fRsaGu7du6fMNcrcq/y+E0DHqLTvxABYtmyZu7v75MmTpV7qYaiuB6hBZmZmSEgIhmFkC6Jl2rVrN2zYMOLkjmEbPEQnCrl48eKWLVu2b9+u6qaqpKQkLy8vDw+P3Nzcx48f0+n0sLAw2ctu375tamoaHx8/ZswYhNA333wzePDgnJwchFBpaenZs2erq6sjIiLi4+Nl7xX/IJAsVCYjkCbZhCA6oSzGFp3Q6fR9+/bdvXt3+/btkuWG6nqAqrx48SI3N1eNs8R6QVhY2Pnz56urqw3b4CE6kc/79++nTJkSERExdepU9Wqws7PjcDj29varV6/Oy8sjFkElsba2/vzzz1NTU4n8DcXFxTY2NnZ2dgihlJQULy8vNpvt7+//999/y1a+du3akpKSdu3aSRYqkxFIk2xCEJ1QFpVOFBsG3t7eixcvXrJkSXFxsdRHhud6gKocP36cy+UOHjyYbEHahJCQkJaWlrNnzxL/GqrBQ3Qin9jYWAzDtJJZoUePHgih58+fy340b968kpISYrYtLS0tNjaWKN+0aZObmxuHw4mMjMSVfne8MhmBNMkmBNEJZTHC6AQhtGTJEg8PjylTpih6abvBuB6gKllZWWPHjmUwGGQL0iZYWVkNGTJENi2bgRk8RCdy2LdvH5/PT09PJyadNEQoFCKE6HT67t27sX/55JNPEEK9evUaOnTozp07BQLBgwcPAgICEELE273XrVv35s2bjIwM5b9ImYxAmmQTguiEshjbyg6BeH1n27Ztci8wGNcDVKKsrOzGjRuGuqxDwOPxTp06RTzaxRiYwUN0Is2zZ8/mz5+/YMGCoKAgrVSYn5+PEOrevXt0dLR4N/KVK1eIT+fNm3fx4sUNGzZERkYSJQ8fPrS3tw8PD7ewsKDRVOggZTICaZJNCKITymKc0QlCyMvLa+nSpYsXLy4sLJT91GBcD1CJn3/+mclkDh8+nGxB2pDQ0NCmpqaLFy9KFhqawbd+ssjYEAqFAwYM8PHxaWpq0qQeb2/vhQsXCgSCkpKSAQMGDBkyRNGVzc3Nrq6uVlZWtbW1RElWVhaTySwsLHz//n1iYiKLxSLKJU95LV261NnZuaamRqo2RRmBNMkyJKaoqAghdP/+fTWVArQZLBYrPT2dbCnIQSgU9u3b19/fXyQS4QbqeoBKjBw5MiQkhGwp2pyAgIAvvvjCgA0eopP/Yfny5Ww2Ozc3V8N6vL29raysmEymqalpSEhI6zlCtm7dKtk9jY2NY8aMMTU19fb2XrVqFUJo+PDhK1euNDc3Rwh5eXmVlZUpshhFGYE0yTIk5unTpwih27dva6IZQOsQs1l8Pp9sQUijsLCQzWZv2rQJN1DXA5SnpqamrdOBUISUlBQul+vl5WWoBg/Ryf/n1q1bDAZj+/btmlfl7e29du1azeuhFCUlJcREHNmCAP9DdXU1QujMmTNkC0Ima9asYbFY+fn5Bul6gPJkZGSYmJgYQ9LIv/76C8MwFxcXQzV42Hfyf9TV1U2cODEwMHD27NlaqdDw3vMO+06oCZzyQAglJiZ6eXlNnz4dx3HDcz1AeTIzM4cMGWJjY0O2IG2Oo6Ojn59fVVWVoRo8nWwBqMKcOXMqKip+//13zXMLzp49Ozc3t7i4+O3btzt27NCKeFQAohNqQkQnxrkrVgydTj948KCnp2dLS8vjx48NzPUAJWlqajp79uyaNWvIFkRH0On09+/fr1u3ziANHuZOEEIoMzPzwIEDqampnTp10ry2nTt3trS01NfXG5i5QHRCTSA6IXB3d1+9ejWTybx165aBuR6gJJcvX66pqQkODiZbEB2Rnp6OEDp79qxBGjxEJ+j169czZsyYNWtWeHg42bJQGohOqAmRZhGiE4RQfHy8t7f35MmTicQPgLGRlZXl5+dnPNliunfv7unpefz4cbIFaROMPTrBcTwqKorL5W7atIlsWaiOiYkJQkhRXk6ALGDuRAyxvlNYWLhlyxayZQF0TUtLy8mTJw07CZssYWFhJ06cwJVO86pHGHt0kpKScvHixR9++EHqPQKALDB3Qk0gOpGkZ8+eSUlJSUlJeXl5ZMsC6JScnJy3b9+GhISQLYhO4fF4r169unnzJtmCaB+jjk4KCgqWLFmSlJTUv39/smXRAyA6oSYQnUgRHx/ft29fWN8xNrKysrp37+7h4UG2IDrF09OzR48esu/cMQCMNzppamqaMGGCn5/fwoULyZZFPzAxMcEwDKITqlFfX89gMIjYEUAI0Wi0vXv3Pnr0CJZrjYqsrKywsDCypSCBkJAQPp9PthTax3ijk8TExGfPnh04cIDYTgEoA51Oh+iEahjtS3ZaoUePHitXrly5ciWs7xgJubm5T58+NbZNJwQ8Hu/58+cPHjwgWxAtY6TRycWLF7/99ttdu3Z169aNbFn0CYhOKAhEJ3KJi4vr16/fpEmTYH3HGMjMzLS3t+/Xrx/ZgpBAnz59nJycDG9xxxijk4qKiunTp4eFhX3xxRdky6JnQHRCQRoaGiA6kYVY3ykqKtq4cSPZsgBtTlZWVnBwsOa5NPURDMNCQ0MN71yxMUYn0dHRLS0taWlpZAuif0B0QkEgOlFEjx49Vq9evWrVqnv37pEtC9CGvHjx4s8//zTOZR0CHo9XWFj48OFDsgXRJgYenRAvrpNk3759fD4/PT3d2tqaFJH0GohOKAis7LTC/Pnz/f39p02bJrW+8/jxY7JEAjTn+++/X7x4MfG+dIRQZmampaXlkCFDyJaLNAYOHNipUyfx4k5ubu6KFSt27dpFrlQaYuD7/P/73//a2dnt2bOnffv2CKFnz57Nnz9/wYIFQUFBZIumH6SlpT179gwhVF9f39TUJBQKjx07dufOnbq6OuKCFStW9OrVi1QZjY5ff/31woULDAbD3Nzc1NT0wYMHNTU1fD6fy+UymUwOh9OxY8fOnTuTLSYloNFoBw4c8PLyWr9+/fLlyxFCAoFg9erVGzdufPPmDTEsAHrH33//vX79+vXr19va2oaHh1+9enX06NFMJpNsuUiDRqMFBwcfOnSouro6IyPj5cuXCCG9P45K7iuS25TKykoTExMajWZjY3P27FmhUOjv7//RRx81NDSQLZresGHDBoQQk8lkMpmMfxEfXjUzMwNl6p779+8jhOh0OovFInpEyql37NhBtozUIjk5mU6n37lz5+7du+7u7sTZeD6fT7ZcgJokJyeLYxEWi0WMRTwe7+DBg9XV1WRLp1Oam5uvXbuWmJhob29PjNVitaxYsYJs6TTCkKOTEydOEJukaDQaQsjHx8fU1LSgoIBsufSJ0tJSQnuyMBiMiRMnki2gMdLS0mJnZ6fo9waTyayoqCBbRmrR3Nw8cOBALy8vOp1OxNYMBmP27NlkywWoSWpqqmyCHwaDgWEYi8UKDw9vbGwkW8Y2p7m5+csvv7SyspIMSsSwWKw1a9aQLaNGGPK+k/PnzxMW3NLSghDKy8szNzcvLy8nWy59wsHBYfDgwXJTwohEosjISN2LBGAYFh4eLncem8FgREZGcrlc3UtFZQoKCsrLywsKCkQiEbFxSigUnjt3jmy5ADVhs9m4zJtlhEIhjuNNTU19+/YlJlQMGxqN5ubmVlFRgRASCARSn+I4ru9KMOTo5PTp05Jb4UQiUXl5+ZAhQxYuXCjbl4Aipk6dKjsQIITYbPbw4cN1Lw+AEAoODpZrw0KhcObMmbqXh7KIRKKNGzf6+vo+fvxY6gWWT58+ffXqFVmCAZrAYrGI35xSMBiM//znP/Hx8boXiRTmzJkzfvx4RXmi9X0jjsFGJ8XFxaWlpVKFzc3NLS0tmzdv9vf3LyoqIkUwvYPH48nG4AwGIywsjM1mkyISMGTIEHNzc9nyrl27BgQE6F4eavLkyRNfX9/FixeLp0wkodFov/32GymCARoid+7ExMTE2tr6yJEjRpX1ZM+ePc7OzrIBSktLC0QnFEW8rCMLhmE1NTVNTU06FklP4XA44eHhUlsvYVmHXBgMxqhRo6QsnE6nz54926iG5tZxcnIKDAzEcVzu3ikTE5PLly/rXipAc+T+LsJxnM/n29jY6F4eEjE3N8/MzJRdfIeVHepy5swZ2ak/YuAeN27cgwcPvLy8yJBLL5FNBw7LOqQTGhoqtVSBEIL0x5Iwmcxt27ZlZmZyOBzZk02w9UR/kY1OaDTa2rVrjXPi0NPTc8eOHVKFOI7D3AkVEQgEV65ckYpOGAyGmZnZ0aNHDx8+zOFwyJJNHwkKCpI8JEKn00NDQ2FZh1xGjhwp+YOJTqeHhIR07NiRRJGoSXBwcH5+PnFgR+qjt2/fEul8AP1CavBhMBhDhw5NSEggSx7SiYqKmjRpkqSFw8oORcnOzm5sbJQsMTEx8fbT0sIzAAAWEUlEQVT2zsvLGz9+PFlS6S80Gm3KlCniX5/Nzc2wrEM6lpaWAQEB4jULkUgE+2EV4eTkdOPGjbi4OAzDJFe+YHFHT5GMTkxMTKysrI4cOaIo94GRsHv3bjc3N8kABaITKnL+/Hlxx9BoNBqNtmDBgpycnK5du5IrmP4iubgDyzoUISwsTPysdXR0HDp0KLnyUBkGg7Fhw4bMzExzc3NxnI1hGEQn+ohkdILj+NGjR41tu4kspqammZmZTCZTPCbAvhMqcvLkSeK8JZ1O79ix45UrVzZs2CC78Awoj7u7u7e3N41GYzAYoaGhpqamZEsEoODgYGL5ksFgREdHG/lvR2UIDg7Oy8sTr/KIRKILFy7IPTAPUBlxdEKj0dasWQNvJiFwc3Pbv3+/2J5h7oRyvH379tGjRwghDMPGjh1bWFg4aNAgsoUyBKZPn45hmEgkioiIIFsWACGEnJycPDw8EEItLS1TpkwhWxz9wNnZ+fr169HR0cQqT0VFRUFBAdlCAapB/DrCMCwwMDAxMZFscSjEuHHjZs6cSfxQ0ffo5H+2ieE4LjfFjX5x7tw54jDVtm3boqKiEEKyRxu0hdwkqqrS0tKiF7/exo0b9/XXX7PZ7GHDhrWdSrULjUbT7glbqvkIj8crKCgYMWKEnZ0dFToFwzDNp3Da2iPodPrWrVsHDRo0bdq0urq6S5cuubu7t93X6QytWDsVrOiDEBPhNjY2hw8fxnFc9zJrxc5R22g7OTk5JycnPz+fTqdToTfVf0pKprU/duyYVqUyfLTyNoHw8HCy22GwHDt2TCt9JAZ8pHXCw8M1VzJ4hHpoxdrJboR+oBU7NxJtq60cOfnK+Hy+7hugLXAcP378eHBwcFvvMsnJyUlOTtZWbQMGDIiLi9NWbW3HjRs3TExM+vXrR7YgStF2Dznq+AiO44sWLVq7dq1WpvE0ZMuWLdqqSmceIRQK+Xz+uHHj9H3Xjhat/euvv/7444+1VVtbgON4ZmZmWFgYKd+uRTtHbabtO3fudOrUycHBQes1K4+GT0k50QmPx9NAHvLRzQ8v7c6YOTg46IXax4wZ09LSAltiKdVZ3t7e3bt3J1sKhBDKyMjQVlW69AjIMiBF//79KWXhcuHxeGSlRdainaM20zaPx8NxnNzM0Ro+JeXnegcAuej7ETWDhCKhCQDoEnhjwwfRdxXp92QmAAAAAACGB0QnAAAAAABQC4hOAAAAAACgFhCdAAAAAABALSA6AQAAAACAWkB0AgAAAAAAtYDoBAAAAAAAagHRCQAAAAAA1AKiEwAAAAAAqAVEJwAAAAAAUAuITgAAAAAAoBYQnQAAAAAAQC0gOgEAAAAAgFqoHJ0cP37cxcUFwzAMw5YtWyb3muTkZAzDaDRaz549r169qoZYZ86csbS0PHnypBr3bt68uWPHjhiG7d69W/PaKIKk2jEMYzAYDg4OEydOfPjwoRq1NTU1zZs3z87OzszM7Ny5c1qXFiAoKir68ssve/Xq1a5dOzqdbmlp6ebmNnr06Bs3brTF1ylv5+ARusTARqTx48djrXLq1Cnla5s6dSqbzcYwrLGxUSUx9FqHyjNr1iwOh0NYuLe3t6R579+/38nJCcMwW1vbAwcOKFObfilN5eiEx+M9e/bM1dUVIbR3716hUCh1QXNz87fffosQCgoKevTo0eDBg9UQC8dxNe4iWLBgQU5OjrZqowhitVtaWuI4XllZuXv37uzs7H79+hUVFala25YtW86dO/fo0aOtW7fW1ta2hcDAvn37PD09c3Nzk5OT//rrr7q6uvv3769evbqysjIvL68tvlF5OweP0CWGNyJduHChsrJSKBS+efMGIfTZZ58JBIK6urqysrIZM2aoVNX333+/YMECNWTQdx0qyXfffUf8mPHz8/vzzz/d3d3FH02bNu3atWv29valpaVTpkxRpjb9Uhpd7Tv9/Pzu3r2blZUVEREhWX78+HEHB4eSkhJNxBo9enRVVZUmNbRSW0NDw9ChQ6XGC/2Cw+GMHTu2ubk5NDR0+/btO3bsUOn2rKysPn36cLncmTNntpGERs4ff/wxa9asIUOGnD9/nk7/Py9zcXFxcXHhcrmPHz/WyrdIWbLyXgMeQS56rX8MwwYOHGhmZiZZwmAwGAyGmZmZn5+fbsTQ7jOCynh5eQUEBGRnZ9+7d8/X11fyo927d0+bNo3BYChZlZJKo4hBqr/vJDY2FiGUmpoqVZ6cnBwXF6eRUG3Mvn37ysrKyJZCC/Tr1w8hlJ+fr+qNpaWlyhs0oAZr1qxpbm5ev369ODQRM2LEiDlz5mjlW7RlyeAR5KJf+j969KhkaCLFrFmzxowZo0a1GIZpIJQcSkpKGhoatFsnWRAjxs6dOyULBQJBenr6rFmztP51FDFI9aOToKAgd3f33377TXIe9fr16/X19cOHD5e8cu7cuUwm087Ojvh39uzZxELaP//8gxD6/fff+/XrZ2ZmZmFh4enpWV1dnZ2dTSynSf4AOnToUJ8+fdhsNofD6dKly+rVqxFC165d8/DwsLS0ZLPZnp6e58+fl5VTqravvvoqLi7u6dOnGIZ169YtKiqKWCt1dXW9f/8+Qmjq1KlmZmaWlpa//PKL2srRDSKRCCHEYrEQQs3NzcuXL3dycjI1NfXy8jp27BhC6JtvvjEzM2vXrl1ZWVlcXJyDg8OOHTu6dev25s2bgwcPYhhmbm6OEMJxPDk52d3dncViWVlZhYSEPHr0SO7tMTExHA6HRqP5+fnZ2toyGAwOh+Pr6zto0KDOnTuz2Wwul5uQkCCWUG4H7dq1i8PhmJmZ/fzzzyNHjrSwsHB0dDx69Kj4Lrl9LbeB1EQgEFy+fLl9+/bEw1IusrotKipS1Ea5apSyZCk7d3d3J/Z++fn51dfXI4QSEhKIGqKiosAjJNUuOwQhxU7RuvUa+YhE0IqrynVthBCNRjt9+vTIkSMtLS07deq0f/9+1KqqZZ8ROI5v2rTJzc2NyWRyuVwPD4+uXbsWFRW1/vTRl1GFx+PZ29tnZGRUVlaKC/l8fv/+/R0dHeVanayp79u3T0ppcptPIYPEJSCEw5XA1dX1+fPn27ZtIxojLg8NDf3+++9ramoQQkOHDhWXT5w40dbWVvzvpk2bEELv3r2rra21sLDYuHFjQ0PD27dvw8LC3r17h+P4X3/9hRDavn07cX1KSgpCaP369e/fvy8vL//uu+8mTpyI4/hPP/2UlJRUXl7+/v17f3//9u3bE9cTM+epqanEv1K18Xg8V1dXsTA8Hs/ExOTVq1fikgkTJvzyyy+ta0B5XX2Q8PDw8PBwZa4Ur7ITHDp0CCEUHx+P4/iCBQtYLBafz6+oqFi8eDGNRrt9+zaO40uWLEEIzZs3b/v27WFhYQ8fPsRx3NbWdvLkyeJ6li9fzmQyDx06VFlZmZub6+vra2Nj8/btW7m3r1ixAiF08+bNurq6f/7559NPP0UInT59+t27d3V1dXPnzkUIPXjwgKhZUQcR1V6+fLmqqqqsrGzQoEEcDkcgEOCK+1pRA1sBIXTs2DEle0FJlOn34uJihJC/v3/rl8nqVlEbFalRypIl7VwkEnXp0sXJyUkkEokvmD9/fkpKCt42HoGrYsnaqkdzj7hz547cIeiDTiHXekkckbRl7SrVQ+w7CQ4OlixUpHlFri3WZ2VlZXl5+ahRo1gsVl1dHd6qqqV0uG7dOgzDvvnmm/Ly8vr6euIBfP/+fVzx06cVUVtHW3aOq6LtpKQkhFBycrK4JCAg4NKlS/iHhlnJEUZKaYqar60BQcOnpEbRSWVlJYfDsbKyqq+vx3H86dOnjo6OTU1NykcnxBzsqVOnpOqXVKJAIOByuYGBgeJPRSLR1q1bpW5Zt24dQqisrAxXcSy4dOkSQmjNmjXEv1VVVd27d5cc0+VCbnRSW1vL5/NtbW07duxYWlra0NBgZmY2fvx44rL6+noWixUbG4v/a6ANDQ2S9UhGJ/X19ebm5uJ7cRy/desWQmjVqlVybyeik5qaGuLfgwcPIoTy8vIk783IyJAVXrKDpKolZiyfPHmiqK9baWArkBWd3LlzByE0bNiw1i+TUoKSbZRUYyvRCf7vw+DHH38k/q2rq3NycqqqqpK9UisegZManajtEXKHIJWcQmy9UrLpeESiSHSiSPOtDONS+kxPT0cI5efny34kqWpJHdbV1XG5XEmPI6ZYWo9O1BtVcJKikzdv3jAYDDc3t5aWFhzHc3Nze/bsKXtZK8Ms/r9Ka6X52hoQNHxKapTvxNLScsKECRUVFRkZGQihlJSU2NhYJpOpfA0uLi4dO3b8/PPPk5KSXrx4Ifea3NzcysrKESNGiEtMTEzmzZsndRmxkaK5uVnVVgQFBbm5ue3fvx/HcYRQRkbG+PHjTUxMVK1HN1RVVWEYZmlpOW/evFGjRt26dYuYna6vr//oo4+Ia0xNTe3s7IiJ6A9SUFBQW1vbp08fcUnfvn2ZTObNmzeVuZ3obmJGHf3bC7InuVCrHURUIhQKFfW1Jg3UPcR6GbGeojxKtlF5O4+KirK0tNy6dSvx7+HDh0NCQiwsLD54o1F5hNwhSCWnEFuvVLmRjEhSKNK8ksM4anUMUaTqx48fV1ZWDhs2TCuiqlSJzrCzs+PxeMXFxUSskJqaGhMTI3uZ8lanfPPJMkhNs7ERe2N3795dWVn5008/RUdHq3S7qanpr7/+GhAQsHbtWhcXl/Hjx8vuYyKWgblcruztp0+f/uSTTzp06MBisSS3O6gEhmHR0dHPnj27fPkyQig9PX369OnqVaUDiF+KIpGotLR0//79zs7OCKG6ujqE0NKlS8UpB0pKSpR8OhILmcQDVQyXyyUmwDRE1Q5S1NeaNFD3dOnShc1mE+s7ytNKG9Wzc3Nz85kzZ+bk5BC/+1NTU4l1tw9iVB4hdwhS2ymMcESSQpHmWxnGNYeYwunQoYNWRG0LCbUCsTd2165dNTU1mZmZkydPJsrVszrlm0+WQWoanfTu3dvf3//WrVuzZs2KiIiwsrJStYZevXqdPHny9evXiYmJx44d27x5s9QF9vb2CCFiE5MkL1++DA0NtbOzu3nzZlVV1caNG9VuxZQpU9hs9t69e4uKiiwsLIgBTo8g3JLYUiBGyZRfxHghNexWVlY6OjpqKJUaHaSorzVpoO5hsVgjRoz4559/rl+/LvtpeXl5VFSUbLmiNmpi53PnzmUwGCkpKVevXu3cuTORpkgZjMojZIcg9ZwCRiSkWPOKXFsr2NjYoH9/aGkualtIqBUGDhzo4+Nz8uTJ9evXBwcHW1paIg2sTqXmk2KQWshkT0yf8Pn8+fPnK7qGTqfLnal7/fp1YWEhQqhDhw7r16/39fUl/pWkS5cu1tbWFy5ckCrPy8sTCoWxsbEuLi5EtkG1m2BlZTVu3LisrKzNmzermk2IChDnZR48eKDGvR999JG5uTmxVYLg5s2bAoFA87wFanSQor7WpIGkkJSUxGKxvv76a9m5wPz8fNljxkhxGzWxc0dHx8jISD6fv2zZsq+++kr5G43HI+QOQeo5BYxISLHmFbm2VujWrRuLxfrjjz/kfqro6aN3owpCaPbs2c3NzRs2bCAeu0gDq1Op+aQYpBaik8jISBsbm9DQUBcXF0XXdOvWrby8PCsrSygUvnv3Tpyr7fXr19HR0Y8ePRIIBPfv3y8pKfH395e6l8ViLV68+OrVq3Pnzn316lVLS0tNTU1hYaGTkxNC6NKlS42NjY8fP1ZynwRCyNra+vXr1y9evKipqRFbbUxMTFNT06lTp8aOHauyCsiGzWZPnTr16NGju3btqq6ubm5uLi0tJWY7lbk3Li7uxIkThw8frq6uzsvLi4mJ6dSpk+bH6NXoIEV9rUkDSaF3794//PBDfn7+oEGDzpw5U1VVJRQKnz9/vmfPnunTp8tNNqOoja2oUa4lSxEXFycSiSoqKoKCghRJa8weIXcIUs8pYERCijWvyLW18qVcLnfy5MknTpxIS0urqampr6+XTAeq6Omjd6MKQmjChAnW1tYDBw708vIiStS2ulaaTxWDlJzVUWaH7YkTJ4j5YRsbmzlz5hCFCQkJOTk5xN9Lly4lDpfTaDQPD49r167hOP7+/fvAwEA2m921a9cvv/wyPj4eIdStW7dr1659/PHHVlZWJiYm9vb2S5YsEYlE27dvJ2owMzP77LPPiGp37Njh6enJZrPZbLaPj8/OnTtxHE9MTLS2tuZyuREREcQRMldX16+++srW1hYhxOFwwsLCZGu7d++es7OzqalpQEAAcUSQwMfHZ9GiRa03XyVdKYkyO8CvX7/u5uZGdFmnTp0iIiKkLmhqakpMTHRycqLT6R06dODxeAUFBRs3bjQ1NUUIde7c+dChQziOv3jxwsfHByFEp9N9fX35fD6O4y0tLZs2berevTuDwbCysgoNDS0qKsJxXPb2rVu3EomYunTpcu3atQ0bNhCzi7a2tj/88ENGRgaheSsrq6NHj+IKOmjhwoVEJd27d3/69GlaWhqxVdPZ2bm4uBhX0NdyG9i60hBJZ3bEvHz5csGCBZ6enubm5iYmJlwu18fHZ/r06devX5fVLa64jXLV+PLlS0lLFvudpNcQBAYG7t27V/xvG3kErtszO1r0CNkhCFfsFDt37mzFekkckbRl7UrWU11dPXjwYGtra2Ko79at29q1a4mPWnFVWdcW9wihz8OHDxPbAxwdHWNjYxWpeu7cuVI6rK2tnTlzpo2NDZ1Ot7a27tmzJ/r3zI6ip8/Lly/VGFVwks7siImPjz9y5IhkiVyrmzNnjpSpyxqeouZra0Ag50SxQTJq1Khnz54peTEpJ4oBlSA9OtF3VPIInIwTxYaNSvrXcXRCcfh8vjg60TrkRickouqAQOaJYgNAPG2Vm5tLBNfkygMA5AIeQS6gf62gaKETUBUSDVL9twAaBomJiTExMTiOT506lUg0CQDGDHgEuYD+AUpBokEae3RiZmbWs2dPBweHnTt3enh4kC0OAJAMeAS5gP41Jy0tjUj7ERwcnJOT4+DgQLZEegyJBmnsKzvEu2RfvnypXxvjAaCNAI8gF9C/5sycObOyshLH8ZKSEghNNIREgzT26AQAAAAAAKoB0QkAAAAAANQCohMAAAAAAKgFRCcAAAAAAFALiE4AAAAAAKAWEJ0AAAAAAEAtIDoBAAAAAIBaQHQCAAAAAAC1gOgEAAAAAABqAdEJAAAAAADUAqITAAAAAACoBUQnAAAAAABQCznvKG5ubta9HHoHjuParRDUrkdAZ+kAUDJZ4DgOytcZBqxtDZ+ScqITOl1OIdCm8Pl8ULseAZ2liPDwcK3UAx5BIuPHjydbBKqjLTtHoG3FYJLRzatXr/744w8SpdE7eDye5pXcvHmztLRU83oAWfz9/bX7CnXwkdZxdHTs37+/hpWAR6iHVqz9+PHjWhHGsNGKnSPj0LbaT0lM6ysUAAAAAAAAmgC7YgEAAAAAoBYQnQAAAAAAQC0gOgEAAAAAgFr8P9or8UQiXifzAAAAAElFTkSuQmCC)"
      ],
      "metadata": {
        "id": "15GJ-Ko68lQ6"
      }
    },
    {
      "cell_type": "code",
      "source": [
        "ModelMeans()"
      ],
      "metadata": {
        "id": "pDkmQZjW9SEE",
        "outputId": "5983278b-ae6d-4f0d-d677-cddb6179c219",
        "colab": {
          "base_uri": "https://localhost:8080/",
          "height": 287
        }
      },
      "execution_count": 110,
      "outputs": [
        {
          "output_type": "error",
          "ename": "TypeError",
          "evalue": "cannot unpack non-iterable Model object",
          "traceback": [
            "\u001b[0;31m---------------------------------------------------------------------------\u001b[0m",
            "\u001b[0;31mTypeError\u001b[0m                                 Traceback (most recent call last)",
            "\u001b[0;32m<ipython-input-110-e17b47c4427e>\u001b[0m in \u001b[0;36m<cell line: 1>\u001b[0;34m()\u001b[0m\n\u001b[0;32m----> 1\u001b[0;31m \u001b[0mModelMeans\u001b[0m\u001b[0;34m(\u001b[0m\u001b[0mmodelCFA\u001b[0m\u001b[0;34m)\u001b[0m\u001b[0;34m\u001b[0m\u001b[0;34m\u001b[0m\u001b[0m\n\u001b[0m",
            "\u001b[0;32m/usr/local/lib/python3.10/dist-packages/semopy/model_means.py\u001b[0m in \u001b[0;36m__init__\u001b[0;34m(self, description, mimic_lavaan, baseline, cov_diag, intercepts)\u001b[0m\n\u001b[1;32m     57\u001b[0m         \u001b[0mself\u001b[0m\u001b[0;34m.\u001b[0m\u001b[0mintercepts\u001b[0m \u001b[0;34m=\u001b[0m \u001b[0mintercepts\u001b[0m\u001b[0;34m\u001b[0m\u001b[0;34m\u001b[0m\u001b[0m\n\u001b[1;32m     58\u001b[0m         \u001b[0mself\u001b[0m\u001b[0;34m.\u001b[0m\u001b[0mcalc_fim\u001b[0m \u001b[0;34m=\u001b[0m \u001b[0mself\u001b[0m\u001b[0;34m.\u001b[0m\u001b[0mcalc_fim_ml\u001b[0m\u001b[0;34m\u001b[0m\u001b[0;34m\u001b[0m\u001b[0m\n\u001b[0;32m---> 59\u001b[0;31m         super().__init__(description, mimic_lavaan=mimic_lavaan,\n\u001b[0m\u001b[1;32m     60\u001b[0m                          cov_diag=cov_diag, baseline=baseline)\n\u001b[1;32m     61\u001b[0m         self.objectives = {'FIML': (self.obj_fiml, self.grad_fiml),\n",
            "\u001b[0;32m/usr/local/lib/python3.10/dist-packages/semopy/model.py\u001b[0m in \u001b[0;36m__init__\u001b[0;34m(self, description, mimic_lavaan, baseline, cov_diag)\u001b[0m\n\u001b[1;32m    103\u001b[0m                            \u001b[0;34m'DWLS'\u001b[0m\u001b[0;34m:\u001b[0m \u001b[0;34m(\u001b[0m\u001b[0mself\u001b[0m\u001b[0;34m.\u001b[0m\u001b[0mobj_dwls\u001b[0m\u001b[0;34m,\u001b[0m \u001b[0mself\u001b[0m\u001b[0;34m.\u001b[0m\u001b[0mgrad_dwls\u001b[0m\u001b[0;34m)\u001b[0m\u001b[0;34m,\u001b[0m\u001b[0;34m\u001b[0m\u001b[0;34m\u001b[0m\u001b[0m\n\u001b[1;32m    104\u001b[0m                            'FIML': (self.obj_fiml, self.grad_fiml)}\n\u001b[0;32m--> 105\u001b[0;31m         \u001b[0msuper\u001b[0m\u001b[0;34m(\u001b[0m\u001b[0;34m)\u001b[0m\u001b[0;34m.\u001b[0m\u001b[0m__init__\u001b[0m\u001b[0;34m(\u001b[0m\u001b[0mdescription\u001b[0m\u001b[0;34m)\u001b[0m\u001b[0;34m\u001b[0m\u001b[0;34m\u001b[0m\u001b[0m\n\u001b[0m\u001b[1;32m    106\u001b[0m \u001b[0;34m\u001b[0m\u001b[0m\n\u001b[1;32m    107\u001b[0m     def add_param(self, name: str, active: bool, start: float, bound: tuple,\n",
            "\u001b[0;32m/usr/local/lib/python3.10/dist-packages/semopy/model_base.py\u001b[0m in \u001b[0;36m__init__\u001b[0;34m(self, description)\u001b[0m\n\u001b[1;32m     53\u001b[0m             \u001b[0meffects\u001b[0m\u001b[0;34m,\u001b[0m \u001b[0moperations\u001b[0m \u001b[0;34m=\u001b[0m \u001b[0mparse_desc\u001b[0m\u001b[0;34m(\u001b[0m\u001b[0mdescription\u001b[0m\u001b[0;34m)\u001b[0m\u001b[0;34m\u001b[0m\u001b[0;34m\u001b[0m\u001b[0m\n\u001b[1;32m     54\u001b[0m         \u001b[0;32melse\u001b[0m\u001b[0;34m:\u001b[0m\u001b[0;34m\u001b[0m\u001b[0;34m\u001b[0m\u001b[0m\n\u001b[0;32m---> 55\u001b[0;31m             \u001b[0meffects\u001b[0m\u001b[0;34m,\u001b[0m \u001b[0moperations\u001b[0m \u001b[0;34m=\u001b[0m \u001b[0mdescription\u001b[0m\u001b[0;34m\u001b[0m\u001b[0;34m\u001b[0m\u001b[0m\n\u001b[0m\u001b[1;32m     56\u001b[0m         \u001b[0mself\u001b[0m\u001b[0;34m.\u001b[0m\u001b[0mbefore_classification\u001b[0m\u001b[0;34m(\u001b[0m\u001b[0meffects\u001b[0m\u001b[0;34m,\u001b[0m \u001b[0moperations\u001b[0m\u001b[0;34m)\u001b[0m\u001b[0;34m\u001b[0m\u001b[0;34m\u001b[0m\u001b[0m\n\u001b[1;32m     57\u001b[0m         \u001b[0mself\u001b[0m\u001b[0;34m.\u001b[0m\u001b[0mclassify_variables\u001b[0m\u001b[0;34m(\u001b[0m\u001b[0meffects\u001b[0m\u001b[0;34m,\u001b[0m \u001b[0moperations\u001b[0m\u001b[0;34m)\u001b[0m\u001b[0;34m\u001b[0m\u001b[0;34m\u001b[0m\u001b[0m\n",
            "\u001b[0;31mTypeError\u001b[0m: cannot unpack non-iterable Model object"
          ]
        }
      ]
    },
    {
      "cell_type": "code",
      "source": [
        "desc = modelCFA.get_model()\n",
        "data = modelCFA.get_data()\n",
        "model = ModelMeans(desc)\n",
        "model.fit(data)\n",
        "report(model, \"Political Democracy\")"
      ],
      "metadata": {
        "id": "E3ypwEhB8wCf",
        "outputId": "5a4e3f35-f982-4349-e160-19889b2dcf72",
        "colab": {
          "base_uri": "https://localhost:8080/",
          "height": 211
        }
      },
      "execution_count": 109,
      "outputs": [
        {
          "output_type": "error",
          "ename": "AttributeError",
          "evalue": "'Model' object has no attribute 'get_model'",
          "traceback": [
            "\u001b[0;31m---------------------------------------------------------------------------\u001b[0m",
            "\u001b[0;31mAttributeError\u001b[0m                            Traceback (most recent call last)",
            "\u001b[0;32m<ipython-input-109-e9d18cbdcbce>\u001b[0m in \u001b[0;36m<cell line: 1>\u001b[0;34m()\u001b[0m\n\u001b[0;32m----> 1\u001b[0;31m \u001b[0mdesc\u001b[0m \u001b[0;34m=\u001b[0m \u001b[0mmodelCFA\u001b[0m\u001b[0;34m.\u001b[0m\u001b[0mget_model\u001b[0m\u001b[0;34m(\u001b[0m\u001b[0;34m)\u001b[0m\u001b[0;34m\u001b[0m\u001b[0;34m\u001b[0m\u001b[0m\n\u001b[0m\u001b[1;32m      2\u001b[0m \u001b[0mdata\u001b[0m \u001b[0;34m=\u001b[0m \u001b[0mmodelCFA\u001b[0m\u001b[0;34m.\u001b[0m\u001b[0mget_data\u001b[0m\u001b[0;34m(\u001b[0m\u001b[0;34m)\u001b[0m\u001b[0;34m\u001b[0m\u001b[0;34m\u001b[0m\u001b[0m\n\u001b[1;32m      3\u001b[0m \u001b[0mmodel\u001b[0m \u001b[0;34m=\u001b[0m \u001b[0mModelMeans\u001b[0m\u001b[0;34m(\u001b[0m\u001b[0mdesc\u001b[0m\u001b[0;34m)\u001b[0m\u001b[0;34m\u001b[0m\u001b[0;34m\u001b[0m\u001b[0m\n\u001b[1;32m      4\u001b[0m \u001b[0mmodel\u001b[0m\u001b[0;34m.\u001b[0m\u001b[0mfit\u001b[0m\u001b[0;34m(\u001b[0m\u001b[0mdata\u001b[0m\u001b[0;34m)\u001b[0m\u001b[0;34m\u001b[0m\u001b[0;34m\u001b[0m\u001b[0m\n\u001b[1;32m      5\u001b[0m \u001b[0mreport\u001b[0m\u001b[0;34m(\u001b[0m\u001b[0mmodel\u001b[0m\u001b[0;34m,\u001b[0m \u001b[0;34m\"Political Democracy\"\u001b[0m\u001b[0;34m)\u001b[0m\u001b[0;34m\u001b[0m\u001b[0;34m\u001b[0m\u001b[0m\n",
            "\u001b[0;31mAttributeError\u001b[0m: 'Model' object has no attribute 'get_model'"
          ]
        }
      ]
    }
  ]
}
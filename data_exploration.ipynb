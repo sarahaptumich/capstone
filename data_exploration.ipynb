{
  "nbformat": 4,
  "nbformat_minor": 0,
  "metadata": {
    "colab": {
      "provenance": [],
      "authorship_tag": "ABX9TyNSuB6Z1uc8E9EPvGOIo3Oh",
      "include_colab_link": true
    },
    "kernelspec": {
      "name": "python3",
      "display_name": "Python 3"
    },
    "language_info": {
      "name": "python"
    }
  },
  "cells": [
    {
      "cell_type": "markdown",
      "metadata": {
        "id": "view-in-github",
        "colab_type": "text"
      },
      "source": [
        "<a href=\"https://colab.research.google.com/github/sarahaptumich/capstone/blob/shaptonstall/data_exploration.ipynb\" target=\"_parent\"><img src=\"https://colab.research.google.com/assets/colab-badge.svg\" alt=\"Open In Colab\"/></a>"
      ]
    },
    {
      "cell_type": "code",
      "execution_count": 9,
      "metadata": {
        "colab": {
          "base_uri": "https://localhost:8080/"
        },
        "id": "th6dMYKxF4p3",
        "outputId": "b43113b0-592a-4b11-a956-8d578b82f722"
      },
      "outputs": [
        {
          "output_type": "stream",
          "name": "stdout",
          "text": [
            "Drive already mounted at /content/drive; to attempt to forcibly remount, call drive.mount(\"/content/drive\", force_remount=True).\n"
          ]
        }
      ],
      "source": [
        "#Mount google drive\n",
        "from google.colab import drive\n",
        "drive.mount('/content/drive')"
      ]
    },
    {
      "cell_type": "code",
      "source": [
        "%cd /content/drive/MyDrive/Github/capstone"
      ],
      "metadata": {
        "colab": {
          "base_uri": "https://localhost:8080/"
        },
        "id": "JnOLse_JGHR0",
        "outputId": "26699af2-83e8-45be-aa10-dc761bff0f2a"
      },
      "execution_count": 10,
      "outputs": [
        {
          "output_type": "stream",
          "name": "stdout",
          "text": [
            "/content/drive/MyDrive/Github/capstone\n"
          ]
        }
      ]
    },
    {
      "cell_type": "code",
      "source": [
        "#!git pull   #check that git us up to date\n",
        "#!git checkout -b shaptonstall # create a new branch\n",
        "\n",
        "#!git push origin shaptonstall #commit changes to my branch"
      ],
      "metadata": {
        "id": "nXyPes-VGKjZ"
      },
      "execution_count": 11,
      "outputs": []
    },
    {
      "cell_type": "code",
      "source": [
        "# to commit to github\n",
        "#!git status # check untracked files\n",
        "#!git add {filename} # add the files\n",
        "#!git config --global user.email \"sarahapt@umich.edu\"\n",
        "# !git commit"
      ],
      "metadata": {
        "id": "PjxPDhvvHxe1"
      },
      "execution_count": 12,
      "outputs": []
    },
    {
      "cell_type": "code",
      "source": [
        "pip install factor-analyzer"
      ],
      "metadata": {
        "id": "KAvqe_InWUjP",
        "outputId": "47959cc3-9219-4c62-cd62-27b1b7ed1f33",
        "colab": {
          "base_uri": "https://localhost:8080/"
        }
      },
      "execution_count": 7,
      "outputs": [
        {
          "output_type": "stream",
          "name": "stdout",
          "text": [
            "Collecting factor-analyzer\n",
            "  Downloading factor_analyzer-0.5.1.tar.gz (42 kB)\n",
            "\u001b[?25l     \u001b[90m━━━━━━━━━━━━━━━━━━━━━━━━━━━━━━━━━━━━━━━━\u001b[0m \u001b[32m0.0/42.8 kB\u001b[0m \u001b[31m?\u001b[0m eta \u001b[36m-:--:--\u001b[0m\r\u001b[2K     \u001b[90m━━━━━━━━━━━━━━━━━━━━━━━━━━━━━━━━━━━━━━━━\u001b[0m \u001b[32m42.8/42.8 kB\u001b[0m \u001b[31m2.1 MB/s\u001b[0m eta \u001b[36m0:00:00\u001b[0m\n",
            "\u001b[?25h  Installing build dependencies ... \u001b[?25l\u001b[?25hdone\n",
            "  Getting requirements to build wheel ... \u001b[?25l\u001b[?25hdone\n",
            "  Installing backend dependencies ... \u001b[?25l\u001b[?25hdone\n",
            "  Preparing metadata (pyproject.toml) ... \u001b[?25l\u001b[?25hdone\n",
            "Requirement already satisfied: pandas in /usr/local/lib/python3.10/dist-packages (from factor-analyzer) (1.5.3)\n",
            "Requirement already satisfied: scipy in /usr/local/lib/python3.10/dist-packages (from factor-analyzer) (1.11.4)\n",
            "Requirement already satisfied: numpy in /usr/local/lib/python3.10/dist-packages (from factor-analyzer) (1.25.2)\n",
            "Requirement already satisfied: scikit-learn in /usr/local/lib/python3.10/dist-packages (from factor-analyzer) (1.2.2)\n",
            "Requirement already satisfied: python-dateutil>=2.8.1 in /usr/local/lib/python3.10/dist-packages (from pandas->factor-analyzer) (2.8.2)\n",
            "Requirement already satisfied: pytz>=2020.1 in /usr/local/lib/python3.10/dist-packages (from pandas->factor-analyzer) (2023.4)\n",
            "Requirement already satisfied: joblib>=1.1.1 in /usr/local/lib/python3.10/dist-packages (from scikit-learn->factor-analyzer) (1.3.2)\n",
            "Requirement already satisfied: threadpoolctl>=2.0.0 in /usr/local/lib/python3.10/dist-packages (from scikit-learn->factor-analyzer) (3.3.0)\n",
            "Requirement already satisfied: six>=1.5 in /usr/local/lib/python3.10/dist-packages (from python-dateutil>=2.8.1->pandas->factor-analyzer) (1.16.0)\n",
            "Building wheels for collected packages: factor-analyzer\n",
            "  Building wheel for factor-analyzer (pyproject.toml) ... \u001b[?25l\u001b[?25hdone\n",
            "  Created wheel for factor-analyzer: filename=factor_analyzer-0.5.1-py2.py3-none-any.whl size=42564 sha256=29f510b7d34a75e3467f6a7a7122ea711aa3d29e0b706e0b885ade08493e3d63\n",
            "  Stored in directory: /root/.cache/pip/wheels/24/59/82/6493618e30ed1cb7a013b9e1b0c9e17de80b04dfcef4ba8a4d\n",
            "Successfully built factor-analyzer\n",
            "Installing collected packages: factor-analyzer\n",
            "Successfully installed factor-analyzer-0.5.1\n"
          ]
        }
      ]
    },
    {
      "cell_type": "code",
      "source": [
        "pip install semopy"
      ],
      "metadata": {
        "id": "r29w1ulS2m2g",
        "outputId": "cb32e343-c19f-4f75-979e-cab80316830e",
        "colab": {
          "base_uri": "https://localhost:8080/"
        }
      },
      "execution_count": 78,
      "outputs": [
        {
          "output_type": "stream",
          "name": "stdout",
          "text": [
            "Collecting semopy\n",
            "  Downloading semopy-2.3.11.tar.gz (1.6 MB)\n",
            "\u001b[2K     \u001b[90m━━━━━━━━━━━━━━━━━━━━━━━━━━━━━━━━━━━━━━━━\u001b[0m \u001b[32m1.6/1.6 MB\u001b[0m \u001b[31m9.8 MB/s\u001b[0m eta \u001b[36m0:00:00\u001b[0m\n",
            "\u001b[?25h  Preparing metadata (setup.py) ... \u001b[?25l\u001b[?25hdone\n",
            "Requirement already satisfied: scipy in /usr/local/lib/python3.10/dist-packages (from semopy) (1.11.4)\n",
            "Requirement already satisfied: numpy in /usr/local/lib/python3.10/dist-packages (from semopy) (1.25.2)\n",
            "Requirement already satisfied: pandas in /usr/local/lib/python3.10/dist-packages (from semopy) (1.5.3)\n",
            "Requirement already satisfied: sympy in /usr/local/lib/python3.10/dist-packages (from semopy) (1.12)\n",
            "Requirement already satisfied: scikit-learn in /usr/local/lib/python3.10/dist-packages (from semopy) (1.2.2)\n",
            "Requirement already satisfied: statsmodels in /usr/local/lib/python3.10/dist-packages (from semopy) (0.14.1)\n",
            "Collecting numdifftools (from semopy)\n",
            "  Downloading numdifftools-0.9.41-py2.py3-none-any.whl (100 kB)\n",
            "\u001b[2K     \u001b[90m━━━━━━━━━━━━━━━━━━━━━━━━━━━━━━━━━━━━━━━━\u001b[0m \u001b[32m100.2/100.2 kB\u001b[0m \u001b[31m10.6 MB/s\u001b[0m eta \u001b[36m0:00:00\u001b[0m\n",
            "\u001b[?25hRequirement already satisfied: python-dateutil>=2.8.1 in /usr/local/lib/python3.10/dist-packages (from pandas->semopy) (2.8.2)\n",
            "Requirement already satisfied: pytz>=2020.1 in /usr/local/lib/python3.10/dist-packages (from pandas->semopy) (2023.4)\n",
            "Requirement already satisfied: joblib>=1.1.1 in /usr/local/lib/python3.10/dist-packages (from scikit-learn->semopy) (1.3.2)\n",
            "Requirement already satisfied: threadpoolctl>=2.0.0 in /usr/local/lib/python3.10/dist-packages (from scikit-learn->semopy) (3.3.0)\n",
            "Requirement already satisfied: patsy>=0.5.4 in /usr/local/lib/python3.10/dist-packages (from statsmodels->semopy) (0.5.6)\n",
            "Requirement already satisfied: packaging>=21.3 in /usr/local/lib/python3.10/dist-packages (from statsmodels->semopy) (23.2)\n",
            "Requirement already satisfied: mpmath>=0.19 in /usr/local/lib/python3.10/dist-packages (from sympy->semopy) (1.3.0)\n",
            "Requirement already satisfied: six in /usr/local/lib/python3.10/dist-packages (from patsy>=0.5.4->statsmodels->semopy) (1.16.0)\n",
            "Building wheels for collected packages: semopy\n",
            "  Building wheel for semopy (setup.py) ... \u001b[?25l\u001b[?25hdone\n",
            "  Created wheel for semopy: filename=semopy-2.3.11-py3-none-any.whl size=1659680 sha256=30f42aaff1265e5225b7a50ad984622718d55438b8a7cd90d9f50084b482d305\n",
            "  Stored in directory: /root/.cache/pip/wheels/53/ec/0d/0b294c02d8c4e9e80afea58839f2c1b4706770594bc99ec045\n",
            "Successfully built semopy\n",
            "Installing collected packages: numdifftools, semopy\n",
            "Successfully installed numdifftools-0.9.41 semopy-2.3.11\n"
          ]
        }
      ]
    },
    {
      "cell_type": "markdown",
      "source": [
        "Import libraries"
      ],
      "metadata": {
        "id": "AagDi_N95OfP"
      }
    },
    {
      "cell_type": "code",
      "source": [
        "import pandas as pd\n",
        "import numpy as np\n",
        "import re\n",
        "from datetime import datetime, timedelta\n",
        "from sklearn.decomposition import PCA, KernelPCA\n",
        "from sklearn.impute import SimpleImputer\n",
        "from sklearn.preprocessing import StandardScaler\n",
        "import matplotlib.pyplot as plt\n",
        "from factor_analyzer import FactorAnalyzer\n",
        "from sklearn.decomposition import FactorAnalysis\n",
        "from factor_analyzer import calculate_bartlett_sphericity, calculate_kmo\n",
        "from factor_analyzer import Rotator\n",
        "from factor_analyzer import (ConfirmatoryFactorAnalyzer, ModelSpecificationParser)\n",
        "from semopy import Model\n",
        "from semopy import Optimizer\n",
        "from semopy.inspector import inspect\n",
        "from semopy import gather_statistics"
      ],
      "metadata": {
        "id": "oaiEWLbL4_s1"
      },
      "execution_count": 102,
      "outputs": []
    },
    {
      "cell_type": "code",
      "source": [
        "!ls"
      ],
      "metadata": {
        "id": "VJ8mnr5u5TtW",
        "outputId": "d8bbff11-e375-4026-9597-47f0da9912d8",
        "colab": {
          "base_uri": "https://localhost:8080/"
        }
      },
      "execution_count": 13,
      "outputs": [
        {
          "output_type": "stream",
          "name": "stdout",
          "text": [
            " Capstone.ipynb\t\t  README.md\t\t\t       Webscraping.xlsx\n",
            " data_exploration.ipynb  'trivium_full_column_names (1).csv'\n"
          ]
        }
      ]
    },
    {
      "cell_type": "code",
      "source": [
        "# Load all sheets into a dictionary of DataFrames\n",
        "webscraping = pd.read_excel('Webscraping.xlsx', sheet_name=None)\n",
        "\n"
      ],
      "metadata": {
        "id": "CezO9uDx5V5R"
      },
      "execution_count": 14,
      "outputs": []
    },
    {
      "cell_type": "code",
      "source": [
        "webscraping.keys()\n",
        "# webscraping['Events and8']"
      ],
      "metadata": {
        "id": "Z-5tOcoD5mQ2",
        "outputId": "05584c8e-4d8c-485b-b964-a7628dbd85dc",
        "colab": {
          "base_uri": "https://localhost:8080/"
        }
      },
      "execution_count": 15,
      "outputs": [
        {
          "output_type": "execute_result",
          "data": {
            "text/plain": [
              "dict_keys(['Events and8', 'Events WDSF', 'Battles Trivium', 'Battles and8 Threefold', 'Battles and8 Single Slider', 'Battles and8 Round by Round', 'Battles and8 Traditional', 'Research Questions', 'Notes', 'Notes Columns'])"
            ]
          },
          "metadata": {},
          "execution_count": 15
        }
      ]
    },
    {
      "cell_type": "markdown",
      "source": [
        "Events details"
      ],
      "metadata": {
        "id": "pVtXSJzgJBRL"
      }
    },
    {
      "cell_type": "code",
      "source": [
        "eventsAnd8=webscraping['Events and8'][1:].copy()\n",
        "new_header= eventsAnd8.iloc[0]\n",
        "eventsAnd8=eventsAnd8.drop(1)\n",
        "eventsAnd8.columns = new_header\n",
        "eventsAnd8.rename(columns={'Name':'Event'}, inplace=True)\n",
        "eventsAnd8.drop_duplicates(subset=['Event'], inplace=True)\n",
        "\n",
        "eventsWDSF = webscraping['Events WDSF'][1:].copy()\n",
        "new_header = eventsWDSF.iloc[0]\n",
        "eventsWDSF = eventsWDSF.drop(1)\n",
        "eventsWDSF.columns = new_header\n",
        "eventsWDSF.rename(columns={'Name': 'Event'}, inplace=True)\n",
        "eventsWDSF.drop_duplicates(subset=['Event'], inplace=True)\n",
        "\n",
        "combined_events = pd.concat([eventsAnd8, eventsWDSF], ignore_index=True)\n"
      ],
      "metadata": {
        "id": "FyTwAgXO_tJc"
      },
      "execution_count": 16,
      "outputs": []
    },
    {
      "cell_type": "markdown",
      "source": [
        "Threefold Battles"
      ],
      "metadata": {
        "id": "jvH-fO_tI-5b"
      }
    },
    {
      "cell_type": "code",
      "source": [
        "#threefold battles\n",
        "threefold = webscraping['Battles and8 Threefold']\n",
        "threefold.rename(columns={'Unnamed: 0':'Event', 'Unnamed: 1': 'Category'}, inplace=True)\n",
        "threefold[['Event', 'Category']] = threefold[['Event', 'Category']].fillna(method='ffill')\n",
        "threefold.head(2)"
      ],
      "metadata": {
        "id": "-VV9ClgfGfUn",
        "outputId": "a9fa7c7c-745e-474c-de32-269f991cc9cf",
        "colab": {
          "base_uri": "https://localhost:8080/",
          "height": 335
        }
      },
      "execution_count": 17,
      "outputs": [
        {
          "output_type": "execute_result",
          "data": {
            "text/plain": [
              "                                               Event  \\\n",
              "0  Campionato Italiano di Categoria Breaking FIDS...   \n",
              "1  Campionato Italiano di Categoria Breaking FIDS...   \n",
              "\n",
              "                            Category breaker 1 breaker 2   winner  \\\n",
              "0  1vs1 BBoy 12-15 C Top 16 KnockOut   Baruzzo  Elpablix  Baruzzo   \n",
              "1  1vs1 BBoy 12-15 C Top 16 KnockOut      Yoga      Faby     Faby   \n",
              "\n",
              "   battle rounds  number of judges  breaker 1 round wins  \\\n",
              "0              3                 3                     2   \n",
              "1              2                 3                     0   \n",
              "\n",
              "   breaker 2 round wins  breaker 1 vote count  ...  r3j7arti r3j7inte  \\\n",
              "0                     1                   5.0  ...       NaN      NaN   \n",
              "1                     2                   1.0  ...       NaN      NaN   \n",
              "\n",
              "  r3j8over r3j8phys r3j8arti r3j8inte r3j9over r3j9phys  r3j9arti  r3j9inte  \n",
              "0      NaN      NaN      NaN      NaN      NaN      NaN       NaN       NaN  \n",
              "1      NaN      NaN      NaN      NaN      NaN      NaN       NaN       NaN  \n",
              "\n",
              "[2 rows x 128 columns]"
            ],
            "text/html": [
              "\n",
              "  <div id=\"df-d5bd2e37-f6ae-4377-a0f3-bd023fb99a86\" class=\"colab-df-container\">\n",
              "    <div>\n",
              "<style scoped>\n",
              "    .dataframe tbody tr th:only-of-type {\n",
              "        vertical-align: middle;\n",
              "    }\n",
              "\n",
              "    .dataframe tbody tr th {\n",
              "        vertical-align: top;\n",
              "    }\n",
              "\n",
              "    .dataframe thead th {\n",
              "        text-align: right;\n",
              "    }\n",
              "</style>\n",
              "<table border=\"1\" class=\"dataframe\">\n",
              "  <thead>\n",
              "    <tr style=\"text-align: right;\">\n",
              "      <th></th>\n",
              "      <th>Event</th>\n",
              "      <th>Category</th>\n",
              "      <th>breaker 1</th>\n",
              "      <th>breaker 2</th>\n",
              "      <th>winner</th>\n",
              "      <th>battle rounds</th>\n",
              "      <th>number of judges</th>\n",
              "      <th>breaker 1 round wins</th>\n",
              "      <th>breaker 2 round wins</th>\n",
              "      <th>breaker 1 vote count</th>\n",
              "      <th>...</th>\n",
              "      <th>r3j7arti</th>\n",
              "      <th>r3j7inte</th>\n",
              "      <th>r3j8over</th>\n",
              "      <th>r3j8phys</th>\n",
              "      <th>r3j8arti</th>\n",
              "      <th>r3j8inte</th>\n",
              "      <th>r3j9over</th>\n",
              "      <th>r3j9phys</th>\n",
              "      <th>r3j9arti</th>\n",
              "      <th>r3j9inte</th>\n",
              "    </tr>\n",
              "  </thead>\n",
              "  <tbody>\n",
              "    <tr>\n",
              "      <th>0</th>\n",
              "      <td>Campionato Italiano di Categoria Breaking FIDS...</td>\n",
              "      <td>1vs1 BBoy 12-15 C Top 16 KnockOut</td>\n",
              "      <td>Baruzzo</td>\n",
              "      <td>Elpablix</td>\n",
              "      <td>Baruzzo</td>\n",
              "      <td>3</td>\n",
              "      <td>3</td>\n",
              "      <td>2</td>\n",
              "      <td>1</td>\n",
              "      <td>5.0</td>\n",
              "      <td>...</td>\n",
              "      <td>NaN</td>\n",
              "      <td>NaN</td>\n",
              "      <td>NaN</td>\n",
              "      <td>NaN</td>\n",
              "      <td>NaN</td>\n",
              "      <td>NaN</td>\n",
              "      <td>NaN</td>\n",
              "      <td>NaN</td>\n",
              "      <td>NaN</td>\n",
              "      <td>NaN</td>\n",
              "    </tr>\n",
              "    <tr>\n",
              "      <th>1</th>\n",
              "      <td>Campionato Italiano di Categoria Breaking FIDS...</td>\n",
              "      <td>1vs1 BBoy 12-15 C Top 16 KnockOut</td>\n",
              "      <td>Yoga</td>\n",
              "      <td>Faby</td>\n",
              "      <td>Faby</td>\n",
              "      <td>2</td>\n",
              "      <td>3</td>\n",
              "      <td>0</td>\n",
              "      <td>2</td>\n",
              "      <td>1.0</td>\n",
              "      <td>...</td>\n",
              "      <td>NaN</td>\n",
              "      <td>NaN</td>\n",
              "      <td>NaN</td>\n",
              "      <td>NaN</td>\n",
              "      <td>NaN</td>\n",
              "      <td>NaN</td>\n",
              "      <td>NaN</td>\n",
              "      <td>NaN</td>\n",
              "      <td>NaN</td>\n",
              "      <td>NaN</td>\n",
              "    </tr>\n",
              "  </tbody>\n",
              "</table>\n",
              "<p>2 rows × 128 columns</p>\n",
              "</div>\n",
              "    <div class=\"colab-df-buttons\">\n",
              "\n",
              "  <div class=\"colab-df-container\">\n",
              "    <button class=\"colab-df-convert\" onclick=\"convertToInteractive('df-d5bd2e37-f6ae-4377-a0f3-bd023fb99a86')\"\n",
              "            title=\"Convert this dataframe to an interactive table.\"\n",
              "            style=\"display:none;\">\n",
              "\n",
              "  <svg xmlns=\"http://www.w3.org/2000/svg\" height=\"24px\" viewBox=\"0 -960 960 960\">\n",
              "    <path d=\"M120-120v-720h720v720H120Zm60-500h600v-160H180v160Zm220 220h160v-160H400v160Zm0 220h160v-160H400v160ZM180-400h160v-160H180v160Zm440 0h160v-160H620v160ZM180-180h160v-160H180v160Zm440 0h160v-160H620v160Z\"/>\n",
              "  </svg>\n",
              "    </button>\n",
              "\n",
              "  <style>\n",
              "    .colab-df-container {\n",
              "      display:flex;\n",
              "      gap: 12px;\n",
              "    }\n",
              "\n",
              "    .colab-df-convert {\n",
              "      background-color: #E8F0FE;\n",
              "      border: none;\n",
              "      border-radius: 50%;\n",
              "      cursor: pointer;\n",
              "      display: none;\n",
              "      fill: #1967D2;\n",
              "      height: 32px;\n",
              "      padding: 0 0 0 0;\n",
              "      width: 32px;\n",
              "    }\n",
              "\n",
              "    .colab-df-convert:hover {\n",
              "      background-color: #E2EBFA;\n",
              "      box-shadow: 0px 1px 2px rgba(60, 64, 67, 0.3), 0px 1px 3px 1px rgba(60, 64, 67, 0.15);\n",
              "      fill: #174EA6;\n",
              "    }\n",
              "\n",
              "    .colab-df-buttons div {\n",
              "      margin-bottom: 4px;\n",
              "    }\n",
              "\n",
              "    [theme=dark] .colab-df-convert {\n",
              "      background-color: #3B4455;\n",
              "      fill: #D2E3FC;\n",
              "    }\n",
              "\n",
              "    [theme=dark] .colab-df-convert:hover {\n",
              "      background-color: #434B5C;\n",
              "      box-shadow: 0px 1px 3px 1px rgba(0, 0, 0, 0.15);\n",
              "      filter: drop-shadow(0px 1px 2px rgba(0, 0, 0, 0.3));\n",
              "      fill: #FFFFFF;\n",
              "    }\n",
              "  </style>\n",
              "\n",
              "    <script>\n",
              "      const buttonEl =\n",
              "        document.querySelector('#df-d5bd2e37-f6ae-4377-a0f3-bd023fb99a86 button.colab-df-convert');\n",
              "      buttonEl.style.display =\n",
              "        google.colab.kernel.accessAllowed ? 'block' : 'none';\n",
              "\n",
              "      async function convertToInteractive(key) {\n",
              "        const element = document.querySelector('#df-d5bd2e37-f6ae-4377-a0f3-bd023fb99a86');\n",
              "        const dataTable =\n",
              "          await google.colab.kernel.invokeFunction('convertToInteractive',\n",
              "                                                    [key], {});\n",
              "        if (!dataTable) return;\n",
              "\n",
              "        const docLinkHtml = 'Like what you see? Visit the ' +\n",
              "          '<a target=\"_blank\" href=https://colab.research.google.com/notebooks/data_table.ipynb>data table notebook</a>'\n",
              "          + ' to learn more about interactive tables.';\n",
              "        element.innerHTML = '';\n",
              "        dataTable['output_type'] = 'display_data';\n",
              "        await google.colab.output.renderOutput(dataTable, element);\n",
              "        const docLink = document.createElement('div');\n",
              "        docLink.innerHTML = docLinkHtml;\n",
              "        element.appendChild(docLink);\n",
              "      }\n",
              "    </script>\n",
              "  </div>\n",
              "\n",
              "\n",
              "<div id=\"df-6fd882e6-ad2a-4b13-b857-5f32f7e7a9e1\">\n",
              "  <button class=\"colab-df-quickchart\" onclick=\"quickchart('df-6fd882e6-ad2a-4b13-b857-5f32f7e7a9e1')\"\n",
              "            title=\"Suggest charts\"\n",
              "            style=\"display:none;\">\n",
              "\n",
              "<svg xmlns=\"http://www.w3.org/2000/svg\" height=\"24px\"viewBox=\"0 0 24 24\"\n",
              "     width=\"24px\">\n",
              "    <g>\n",
              "        <path d=\"M19 3H5c-1.1 0-2 .9-2 2v14c0 1.1.9 2 2 2h14c1.1 0 2-.9 2-2V5c0-1.1-.9-2-2-2zM9 17H7v-7h2v7zm4 0h-2V7h2v10zm4 0h-2v-4h2v4z\"/>\n",
              "    </g>\n",
              "</svg>\n",
              "  </button>\n",
              "\n",
              "<style>\n",
              "  .colab-df-quickchart {\n",
              "      --bg-color: #E8F0FE;\n",
              "      --fill-color: #1967D2;\n",
              "      --hover-bg-color: #E2EBFA;\n",
              "      --hover-fill-color: #174EA6;\n",
              "      --disabled-fill-color: #AAA;\n",
              "      --disabled-bg-color: #DDD;\n",
              "  }\n",
              "\n",
              "  [theme=dark] .colab-df-quickchart {\n",
              "      --bg-color: #3B4455;\n",
              "      --fill-color: #D2E3FC;\n",
              "      --hover-bg-color: #434B5C;\n",
              "      --hover-fill-color: #FFFFFF;\n",
              "      --disabled-bg-color: #3B4455;\n",
              "      --disabled-fill-color: #666;\n",
              "  }\n",
              "\n",
              "  .colab-df-quickchart {\n",
              "    background-color: var(--bg-color);\n",
              "    border: none;\n",
              "    border-radius: 50%;\n",
              "    cursor: pointer;\n",
              "    display: none;\n",
              "    fill: var(--fill-color);\n",
              "    height: 32px;\n",
              "    padding: 0;\n",
              "    width: 32px;\n",
              "  }\n",
              "\n",
              "  .colab-df-quickchart:hover {\n",
              "    background-color: var(--hover-bg-color);\n",
              "    box-shadow: 0 1px 2px rgba(60, 64, 67, 0.3), 0 1px 3px 1px rgba(60, 64, 67, 0.15);\n",
              "    fill: var(--button-hover-fill-color);\n",
              "  }\n",
              "\n",
              "  .colab-df-quickchart-complete:disabled,\n",
              "  .colab-df-quickchart-complete:disabled:hover {\n",
              "    background-color: var(--disabled-bg-color);\n",
              "    fill: var(--disabled-fill-color);\n",
              "    box-shadow: none;\n",
              "  }\n",
              "\n",
              "  .colab-df-spinner {\n",
              "    border: 2px solid var(--fill-color);\n",
              "    border-color: transparent;\n",
              "    border-bottom-color: var(--fill-color);\n",
              "    animation:\n",
              "      spin 1s steps(1) infinite;\n",
              "  }\n",
              "\n",
              "  @keyframes spin {\n",
              "    0% {\n",
              "      border-color: transparent;\n",
              "      border-bottom-color: var(--fill-color);\n",
              "      border-left-color: var(--fill-color);\n",
              "    }\n",
              "    20% {\n",
              "      border-color: transparent;\n",
              "      border-left-color: var(--fill-color);\n",
              "      border-top-color: var(--fill-color);\n",
              "    }\n",
              "    30% {\n",
              "      border-color: transparent;\n",
              "      border-left-color: var(--fill-color);\n",
              "      border-top-color: var(--fill-color);\n",
              "      border-right-color: var(--fill-color);\n",
              "    }\n",
              "    40% {\n",
              "      border-color: transparent;\n",
              "      border-right-color: var(--fill-color);\n",
              "      border-top-color: var(--fill-color);\n",
              "    }\n",
              "    60% {\n",
              "      border-color: transparent;\n",
              "      border-right-color: var(--fill-color);\n",
              "    }\n",
              "    80% {\n",
              "      border-color: transparent;\n",
              "      border-right-color: var(--fill-color);\n",
              "      border-bottom-color: var(--fill-color);\n",
              "    }\n",
              "    90% {\n",
              "      border-color: transparent;\n",
              "      border-bottom-color: var(--fill-color);\n",
              "    }\n",
              "  }\n",
              "</style>\n",
              "\n",
              "  <script>\n",
              "    async function quickchart(key) {\n",
              "      const quickchartButtonEl =\n",
              "        document.querySelector('#' + key + ' button');\n",
              "      quickchartButtonEl.disabled = true;  // To prevent multiple clicks.\n",
              "      quickchartButtonEl.classList.add('colab-df-spinner');\n",
              "      try {\n",
              "        const charts = await google.colab.kernel.invokeFunction(\n",
              "            'suggestCharts', [key], {});\n",
              "      } catch (error) {\n",
              "        console.error('Error during call to suggestCharts:', error);\n",
              "      }\n",
              "      quickchartButtonEl.classList.remove('colab-df-spinner');\n",
              "      quickchartButtonEl.classList.add('colab-df-quickchart-complete');\n",
              "    }\n",
              "    (() => {\n",
              "      let quickchartButtonEl =\n",
              "        document.querySelector('#df-6fd882e6-ad2a-4b13-b857-5f32f7e7a9e1 button');\n",
              "      quickchartButtonEl.style.display =\n",
              "        google.colab.kernel.accessAllowed ? 'block' : 'none';\n",
              "    })();\n",
              "  </script>\n",
              "</div>\n",
              "    </div>\n",
              "  </div>\n"
            ],
            "application/vnd.google.colaboratory.intrinsic+json": {
              "type": "dataframe",
              "variable_name": "threefold"
            }
          },
          "metadata": {},
          "execution_count": 17
        }
      ]
    },
    {
      "cell_type": "code",
      "source": [
        "pd.merge(threefold, combined_events[['Date', 'Event', 'Format']], on='Event')['Format'].unique()\n"
      ],
      "metadata": {
        "id": "QkywwQX_FXDr",
        "outputId": "7015eb7c-268b-43b9-dc05-ffa7e0f67b90",
        "colab": {
          "base_uri": "https://localhost:8080/"
        }
      },
      "execution_count": 18,
      "outputs": [
        {
          "output_type": "execute_result",
          "data": {
            "text/plain": [
              "array([nan], dtype=object)"
            ]
          },
          "metadata": {},
          "execution_count": 18
        }
      ]
    },
    {
      "cell_type": "markdown",
      "source": [
        "Trivium Battles"
      ],
      "metadata": {
        "id": "2-jTztjiJFJJ"
      }
    },
    {
      "cell_type": "code",
      "source": [
        "trivium=webscraping['Battles Trivium']\n",
        "trivium.rename(columns={'Unnamed: 0':'Event', 'Unnamed: 1': 'Category'}, inplace=True)\n",
        "trivium[['Event', 'Category']]= trivium[['Event', 'Category']].fillna(method='ffill')\n"
      ],
      "metadata": {
        "id": "KpLdLiqk6UXa"
      },
      "execution_count": 19,
      "outputs": []
    },
    {
      "cell_type": "code",
      "source": [
        "trivium_columns=list(trivium.columns)\n",
        "exclude=['judge 1 name ', 'judge 2 name', 'judge 3 name', 'judge 4 name', 'judge 5 name', 'judge 6 name ', 'judge 7 name', 'judge 8 name', 'judge 9 name'  ]\n",
        "trivium_columns= [x for x in trivium_columns if x not in exclude]\n",
        "trivium=trivium[trivium_columns]\n",
        "trivium['BattleID']= trivium.index"
      ],
      "metadata": {
        "id": "3ktjykKa7_9O",
        "outputId": "2840c95c-15df-432d-8482-2e3e8f8ca520",
        "colab": {
          "base_uri": "https://localhost:8080/"
        }
      },
      "execution_count": 20,
      "outputs": [
        {
          "output_type": "stream",
          "name": "stderr",
          "text": [
            "<ipython-input-20-a75688204c39>:5: SettingWithCopyWarning: \n",
            "A value is trying to be set on a copy of a slice from a DataFrame.\n",
            "Try using .loc[row_indexer,col_indexer] = value instead\n",
            "\n",
            "See the caveats in the documentation: https://pandas.pydata.org/pandas-docs/stable/user_guide/indexing.html#returning-a-view-versus-a-copy\n",
            "  trivium['BattleID']= trivium.index\n"
          ]
        }
      ]
    },
    {
      "cell_type": "code",
      "source": [
        "trivium.shape"
      ],
      "metadata": {
        "id": "5pwOxfF_MjIf",
        "outputId": "e4b56ccd-7fa7-4340-9d2e-b6b1ef7ce8b7",
        "colab": {
          "base_uri": "https://localhost:8080/"
        }
      },
      "execution_count": 21,
      "outputs": [
        {
          "output_type": "execute_result",
          "data": {
            "text/plain": [
              "(1526, 417)"
            ]
          },
          "metadata": {},
          "execution_count": 21
        }
      ]
    },
    {
      "cell_type": "code",
      "source": [
        "category_sums_blue = {\n",
        "    \"Creativity\": trivium.filter(like=\"crea\").sum(axis=1),\n",
        "    \"Musicality\": trivium.filter(like=\"musi\").sum(axis=1),\n",
        "    \"Performance\": trivium.filter(like=\"perf\").sum(axis=1),\n",
        "    \"Personality\": trivium.filter(like=\"pers\").sum(axis=1),\n",
        "    \"Technique\": trivium.filter(like=\"tech\").sum(axis=1),\n",
        "    \"Variety\": trivium.filter(like=\"vari\").sum(axis=1),\n",
        "    \"Overall\":  trivium.filter(like=\"over\").sum(axis=1)\n",
        "}\n",
        "\n",
        "category_sums_red = {\n",
        "    \"Creativity\": trivium.filter(like=\"crea\").sum(axis=1)*-1,\n",
        "    \"Musicality\": trivium.filter(like=\"musi\").sum(axis=1)*-1,\n",
        "    \"Performance\": trivium.filter(like=\"perf\").sum(axis=1)*-1,\n",
        "    \"Personality\": trivium.filter(like=\"pers\").sum(axis=1)*-1,\n",
        "    \"Technique\": trivium.filter(like=\"tech\").sum(axis=1)*-1,\n",
        "    \"Variety\": trivium.filter(like=\"vari\").sum(axis=1)*-1,\n",
        "    \"Overall\":  trivium.filter(like=\"over\").sum(axis=1)*-1\n",
        "}"
      ],
      "metadata": {
        "id": "QGLnGTmj43-r"
      },
      "execution_count": 22,
      "outputs": []
    },
    {
      "cell_type": "code",
      "source": [
        "scorecardBlue=pd.DataFrame({\n",
        "    \"Event\": trivium['Event'],\n",
        "    'Category': trivium['Category'],\n",
        "    \"BattleID\": trivium[\"BattleID\"],\n",
        "    \"Side\": \"BLUE\",\n",
        "    \"Breaker\": trivium[\"breaker 2 (blue)\"],\n",
        "        **category_sums_blue,\n",
        "})\n",
        "\n",
        "scorecardRed=pd.DataFrame({\n",
        "    \"Event\": trivium['Event'],\n",
        "    'Category': trivium['Category'],\n",
        "    \"BattleID\": trivium[\"BattleID\"],\n",
        "    \"Side\": \"RED\",\n",
        "    \"Breaker\": trivium[\"breaker 1 (red)\"],\n",
        "     **category_sums_red,\n",
        "})"
      ],
      "metadata": {
        "id": "rSwx6q5r5B5a"
      },
      "execution_count": 23,
      "outputs": []
    },
    {
      "cell_type": "code",
      "source": [
        "scorecard = pd.concat([scorecardBlue, scorecardRed], ignore_index=True)\n",
        "scorecard['Score Type']=\"trivium\"\n",
        "scorecard.shape"
      ],
      "metadata": {
        "id": "1eOzqiSZ81fp",
        "outputId": "232cadc0-24ca-46bc-aedd-a67ab137aa0f",
        "colab": {
          "base_uri": "https://localhost:8080/"
        }
      },
      "execution_count": 24,
      "outputs": [
        {
          "output_type": "execute_result",
          "data": {
            "text/plain": [
              "(3052, 13)"
            ]
          },
          "metadata": {},
          "execution_count": 24
        }
      ]
    },
    {
      "cell_type": "code",
      "source": [
        "# scorecard[scorecard['Breaker']==\"Ami\"].mean(), scorecard[scorecard['Breaker']==\"Ami\"].count()"
      ],
      "metadata": {
        "id": "9H5E1UaM9qTH"
      },
      "execution_count": 25,
      "outputs": []
    },
    {
      "cell_type": "code",
      "source": [
        "# scorecard[scorecard['Breaker']==671].mean(), scorecard[scorecard['Breaker']==671].count()"
      ],
      "metadata": {
        "id": "BdIJO4Vj97KO"
      },
      "execution_count": 26,
      "outputs": []
    },
    {
      "cell_type": "code",
      "source": [
        "\n",
        "scorecard.shape"
      ],
      "metadata": {
        "id": "6jiQDxMiMvW7",
        "outputId": "33e92867-f22c-4866-cfde-b42e78b98a9a",
        "colab": {
          "base_uri": "https://localhost:8080/"
        }
      },
      "execution_count": 27,
      "outputs": [
        {
          "output_type": "execute_result",
          "data": {
            "text/plain": [
              "(3052, 13)"
            ]
          },
          "metadata": {},
          "execution_count": 27
        }
      ]
    },
    {
      "cell_type": "code",
      "source": [
        "scorecard=pd.merge(scorecard, eventsAnd8[['Date', 'Event']], on='Event', how='left')\n",
        "# today = scorecard['Date'].max()\n",
        "# total_days = (today - scorecard['Date'].min()).days + 1  # Get the total number of days dynamically\n",
        "# scorecard['Weight'] = ((today - scorecard['Date']).dt.days / total_days) * 100\n",
        "# scorecard['Weight'] = 100 - scorecard['Weight']  # Reverse the weights so that newer dates have higher weights"
      ],
      "metadata": {
        "id": "ELS9VxDtCENd"
      },
      "execution_count": 28,
      "outputs": []
    },
    {
      "cell_type": "markdown",
      "source": [
        "Trivium PCA"
      ],
      "metadata": {
        "id": "wn2LFY4dKV_Z"
      }
    },
    {
      "cell_type": "code",
      "source": [
        "# triviumFloat=\n",
        "triviumScore=scorecardBlue[['Creativity', 'Musicality', 'Performance', 'Personality', 'Technique', 'Variety']]"
      ],
      "metadata": {
        "id": "XgwjQHm6LEBr"
      },
      "execution_count": 29,
      "outputs": []
    },
    {
      "cell_type": "code",
      "source": [
        "#imputer also get feature name for plotting later\n",
        "names=triviumScore.columns\n",
        "imputer = SimpleImputer(missing_values=np.nan, strategy='mean')\n",
        "triviumNorm = imputer.fit_transform(triviumScore)\n",
        "features=imputer.get_feature_names_out(input_features= names)\n",
        "\n",
        "\n",
        "#normalize float columns\n",
        "triviumNorm= StandardScaler().fit(triviumNorm).transform(triviumNorm)\n"
      ],
      "metadata": {
        "id": "DnsOvODlJ1pA"
      },
      "execution_count": 30,
      "outputs": []
    },
    {
      "cell_type": "code",
      "source": [
        "#set PCA\n",
        "pca = PCA(n_components=3, random_state=0).fit(triviumNorm)\n",
        "X_pca = pca.transform(triviumNorm)\n",
        "X_pca.shape, triviumNorm.shape"
      ],
      "metadata": {
        "id": "W8gGwY6sMAaq",
        "outputId": "a54aa6c9-5148-4b8c-acc4-77ef4d8cd092",
        "colab": {
          "base_uri": "https://localhost:8080/"
        }
      },
      "execution_count": 31,
      "outputs": [
        {
          "output_type": "execute_result",
          "data": {
            "text/plain": [
              "((1526, 3), (1526, 6))"
            ]
          },
          "metadata": {},
          "execution_count": 31
        }
      ]
    },
    {
      "cell_type": "code",
      "source": [
        "features"
      ],
      "metadata": {
        "id": "TG75ERshORKx",
        "outputId": "124474b1-bccc-45e1-a3b2-20b4377e528e",
        "colab": {
          "base_uri": "https://localhost:8080/"
        }
      },
      "execution_count": 32,
      "outputs": [
        {
          "output_type": "execute_result",
          "data": {
            "text/plain": [
              "array(['Creativity', 'Musicality', 'Performance', 'Personality',\n",
              "       'Technique', 'Variety'], dtype=object)"
            ]
          },
          "metadata": {},
          "execution_count": 32
        }
      ]
    },
    {
      "cell_type": "markdown",
      "source": [],
      "metadata": {
        "id": "JXBRLXLm7aDE"
      }
    },
    {
      "cell_type": "code",
      "source": [
        "loadings_abs = np.abs(pca.components_)\n",
        "pcs = ['PC1', 'PC2', 'PC3']\n",
        "\n",
        "# Create DataFrame\n",
        "pca_loadings = pd.DataFrame(loadings_abs.T, columns=pcs, index=features)\n",
        "\n",
        "# pca_loadings.T.plot.bar(figsize=(10, 20), subplots=True)"
      ],
      "metadata": {
        "id": "HGz71lY2R-gX"
      },
      "execution_count": 33,
      "outputs": []
    },
    {
      "cell_type": "code",
      "source": [
        "print( \" factor Analysis accum variance: \",np.cumsum(pca.explained_variance_ratio_)[2])"
      ],
      "metadata": {
        "id": "D_puypclf_dy",
        "outputId": "2668f6a9-c092-43ab-961a-6aa887f23b36",
        "colab": {
          "base_uri": "https://localhost:8080/"
        }
      },
      "execution_count": 34,
      "outputs": [
        {
          "output_type": "stream",
          "name": "stdout",
          "text": [
            " factor Analysis accum variance:  0.8822364614685656\n"
          ]
        }
      ]
    },
    {
      "cell_type": "code",
      "source": [
        "pca_loadings.style.background_gradient()"
      ],
      "metadata": {
        "id": "dOwKmbT3coYV",
        "outputId": "a618ac79-f200-4d51-f379-042a25823822",
        "colab": {
          "base_uri": "https://localhost:8080/",
          "height": 237
        }
      },
      "execution_count": 35,
      "outputs": [
        {
          "output_type": "execute_result",
          "data": {
            "text/plain": [
              "<pandas.io.formats.style.Styler at 0x7fe230ec1a80>"
            ],
            "text/html": [
              "<style type=\"text/css\">\n",
              "#T_728c9_row0_col0 {\n",
              "  background-color: #efe9f3;\n",
              "  color: #000000;\n",
              "}\n",
              "#T_728c9_row0_col1 {\n",
              "  background-color: #fdf5fa;\n",
              "  color: #000000;\n",
              "}\n",
              "#T_728c9_row0_col2, #T_728c9_row2_col0, #T_728c9_row4_col1 {\n",
              "  background-color: #023858;\n",
              "  color: #f1f1f1;\n",
              "}\n",
              "#T_728c9_row1_col0 {\n",
              "  background-color: #89b1d4;\n",
              "  color: #000000;\n",
              "}\n",
              "#T_728c9_row1_col1 {\n",
              "  background-color: #5a9ec9;\n",
              "  color: #f1f1f1;\n",
              "}\n",
              "#T_728c9_row1_col2 {\n",
              "  background-color: #e7e3f0;\n",
              "  color: #000000;\n",
              "}\n",
              "#T_728c9_row2_col1 {\n",
              "  background-color: #e0dded;\n",
              "  color: #000000;\n",
              "}\n",
              "#T_728c9_row2_col2 {\n",
              "  background-color: #cccfe5;\n",
              "  color: #000000;\n",
              "}\n",
              "#T_728c9_row3_col0 {\n",
              "  background-color: #76aad0;\n",
              "  color: #f1f1f1;\n",
              "}\n",
              "#T_728c9_row3_col1 {\n",
              "  background-color: #589ec8;\n",
              "  color: #f1f1f1;\n",
              "}\n",
              "#T_728c9_row3_col2 {\n",
              "  background-color: #dbdaeb;\n",
              "  color: #000000;\n",
              "}\n",
              "#T_728c9_row4_col0, #T_728c9_row4_col2, #T_728c9_row5_col1 {\n",
              "  background-color: #fff7fb;\n",
              "  color: #000000;\n",
              "}\n",
              "#T_728c9_row5_col0 {\n",
              "  background-color: #056dab;\n",
              "  color: #f1f1f1;\n",
              "}\n",
              "#T_728c9_row5_col2 {\n",
              "  background-color: #81aed2;\n",
              "  color: #f1f1f1;\n",
              "}\n",
              "</style>\n",
              "<table id=\"T_728c9\" class=\"dataframe\">\n",
              "  <thead>\n",
              "    <tr>\n",
              "      <th class=\"blank level0\" >&nbsp;</th>\n",
              "      <th id=\"T_728c9_level0_col0\" class=\"col_heading level0 col0\" >PC1</th>\n",
              "      <th id=\"T_728c9_level0_col1\" class=\"col_heading level0 col1\" >PC2</th>\n",
              "      <th id=\"T_728c9_level0_col2\" class=\"col_heading level0 col2\" >PC3</th>\n",
              "    </tr>\n",
              "  </thead>\n",
              "  <tbody>\n",
              "    <tr>\n",
              "      <th id=\"T_728c9_level0_row0\" class=\"row_heading level0 row0\" >Creativity</th>\n",
              "      <td id=\"T_728c9_row0_col0\" class=\"data row0 col0\" >0.362888</td>\n",
              "      <td id=\"T_728c9_row0_col1\" class=\"data row0 col1\" >0.143561</td>\n",
              "      <td id=\"T_728c9_row0_col2\" class=\"data row0 col2\" >0.713032</td>\n",
              "    </tr>\n",
              "    <tr>\n",
              "      <th id=\"T_728c9_level0_row1\" class=\"row_heading level0 row1\" >Musicality</th>\n",
              "      <td id=\"T_728c9_row1_col0\" class=\"data row1 col0\" >0.403575</td>\n",
              "      <td id=\"T_728c9_row1_col1\" class=\"data row1 col1\" >0.450374</td>\n",
              "      <td id=\"T_728c9_row1_col2\" class=\"data row1 col2\" >0.269483</td>\n",
              "    </tr>\n",
              "    <tr>\n",
              "      <th id=\"T_728c9_level0_row2\" class=\"row_heading level0 row2\" >Performance</th>\n",
              "      <td id=\"T_728c9_row2_col0\" class=\"data row2 col0\" >0.469467</td>\n",
              "      <td id=\"T_728c9_row2_col1\" class=\"data row2 col1\" >0.239068</td>\n",
              "      <td id=\"T_728c9_row2_col2\" class=\"data row2 col2\" >0.327888</td>\n",
              "    </tr>\n",
              "    <tr>\n",
              "      <th id=\"T_728c9_level0_row3\" class=\"row_heading level0 row3\" >Personality</th>\n",
              "      <td id=\"T_728c9_row3_col0\" class=\"data row3 col0\" >0.409212</td>\n",
              "      <td id=\"T_728c9_row3_col1\" class=\"data row3 col1\" >0.452774</td>\n",
              "      <td id=\"T_728c9_row3_col2\" class=\"data row3 col2\" >0.295638</td>\n",
              "    </tr>\n",
              "    <tr>\n",
              "      <th id=\"T_728c9_level0_row4\" class=\"row_heading level0 row4\" >Technique</th>\n",
              "      <td id=\"T_728c9_row4_col0\" class=\"data row4 col0\" >0.350112</td>\n",
              "      <td id=\"T_728c9_row4_col1\" class=\"data row4 col1\" >0.704047</td>\n",
              "      <td id=\"T_728c9_row4_col2\" class=\"data row4 col2\" >0.190013</td>\n",
              "    </tr>\n",
              "    <tr>\n",
              "      <th id=\"T_728c9_level0_row5\" class=\"row_heading level0 row5\" >Variety</th>\n",
              "      <td id=\"T_728c9_row5_col0\" class=\"data row5 col0\" >0.441596</td>\n",
              "      <td id=\"T_728c9_row5_col1\" class=\"data row5 col1\" >0.136793</td>\n",
              "      <td id=\"T_728c9_row5_col2\" class=\"data row5 col2\" >0.433527</td>\n",
              "    </tr>\n",
              "  </tbody>\n",
              "</table>\n"
            ]
          },
          "metadata": {},
          "execution_count": 35
        }
      ]
    },
    {
      "cell_type": "markdown",
      "source": [
        "**Factor Analysis.**\n",
        "Kaiser-Meyer-Olkin (KMO) Test measures the suitability of data for factor analysis. It determines the adequacy for each observed variable and for the complete model. KMO estimates the proportion of variance among all the observed variable. Lower proportion id more suitable for factor analysis. KMO values range between 0 and 1. Value of KMO less than 0.6 is considered inadequate."
      ],
      "metadata": {
        "id": "HN8q_re0Y6nM"
      }
    },
    {
      "cell_type": "code",
      "source": [
        "kmo_all,kmo_model=calculate_kmo(triviumNorm)\n",
        "kmo_model"
      ],
      "metadata": {
        "id": "pWyZ-xdTWj4P",
        "outputId": "c87d60ce-9978-4240-dbf6-efa02accad0b",
        "colab": {
          "base_uri": "https://localhost:8080/"
        }
      },
      "execution_count": 36,
      "outputs": [
        {
          "output_type": "execute_result",
          "data": {
            "text/plain": [
              "0.6828153227522676"
            ]
          },
          "metadata": {},
          "execution_count": 36
        }
      ]
    },
    {
      "cell_type": "code",
      "source": [
        "# perform factor analysis\n",
        "fa = FactorAnalyzer(3, rotation=None)\n",
        "fa.fit(triviumNorm)\n",
        "X_transformed = fa.fit_transform(triviumNorm)"
      ],
      "metadata": {
        "id": "VV58NbsuWjui"
      },
      "execution_count": 38,
      "outputs": []
    },
    {
      "cell_type": "code",
      "source": [
        "print( \" factor Analysis accum variance: \",fa.get_factor_variance()[2][-1], fa.get_params())"
      ],
      "metadata": {
        "id": "nkz6omAVZkkM",
        "outputId": "d69fbf9d-2961-4f6e-ed41-34d350010126",
        "colab": {
          "base_uri": "https://localhost:8080/"
        }
      },
      "execution_count": 39,
      "outputs": [
        {
          "output_type": "stream",
          "name": "stdout",
          "text": [
            " factor Analysis accum variance:  0.7885636265232234 {'bounds': (0.005, 1), 'impute': 'median', 'is_corr_matrix': False, 'method': 'minres', 'n_factors': 3, 'rotation': None, 'rotation_kwargs': {}, 'svd_method': 'randomized', 'use_smc': True}\n"
          ]
        }
      ]
    },
    {
      "cell_type": "code",
      "source": [
        "faLoadings=np.abs(fa.loadings_)\n",
        "fa = ['Factor1', 'Factor2', 'Factor3']\n",
        "\n",
        "# Create DataFrame\n",
        "fa_loadings = pd.DataFrame(faLoadings, columns=pcs, index=features)\n",
        "\n",
        "# fa_loadings.T.plot.bar(figsize=(10, 20), subplots=True)\n"
      ],
      "metadata": {
        "id": "RJZ1SNvAZp4Q"
      },
      "execution_count": 40,
      "outputs": []
    },
    {
      "cell_type": "code",
      "source": [
        "fa_loadings.style.background_gradient()"
      ],
      "metadata": {
        "id": "4XNmsAlMdzS_",
        "outputId": "0a69d06f-73e2-41f7-9331-d69fea67a223",
        "colab": {
          "base_uri": "https://localhost:8080/",
          "height": 237
        }
      },
      "execution_count": 41,
      "outputs": [
        {
          "output_type": "execute_result",
          "data": {
            "text/plain": [
              "<pandas.io.formats.style.Styler at 0x7fe230e3ae60>"
            ],
            "text/html": [
              "<style type=\"text/css\">\n",
              "#T_5d6ef_row0_col0, #T_5d6ef_row1_col2, #T_5d6ef_row5_col1 {\n",
              "  background-color: #fff7fb;\n",
              "  color: #000000;\n",
              "}\n",
              "#T_5d6ef_row0_col1 {\n",
              "  background-color: #ebe6f2;\n",
              "  color: #000000;\n",
              "}\n",
              "#T_5d6ef_row0_col2 {\n",
              "  background-color: #62a2cb;\n",
              "  color: #f1f1f1;\n",
              "}\n",
              "#T_5d6ef_row1_col0 {\n",
              "  background-color: #b9c6e0;\n",
              "  color: #000000;\n",
              "}\n",
              "#T_5d6ef_row1_col1 {\n",
              "  background-color: #88b1d4;\n",
              "  color: #000000;\n",
              "}\n",
              "#T_5d6ef_row2_col0, #T_5d6ef_row4_col1, #T_5d6ef_row5_col2 {\n",
              "  background-color: #023858;\n",
              "  color: #f1f1f1;\n",
              "}\n",
              "#T_5d6ef_row2_col1 {\n",
              "  background-color: #e9e5f1;\n",
              "  color: #000000;\n",
              "}\n",
              "#T_5d6ef_row2_col2 {\n",
              "  background-color: #b4c4df;\n",
              "  color: #000000;\n",
              "}\n",
              "#T_5d6ef_row3_col0 {\n",
              "  background-color: #60a1ca;\n",
              "  color: #f1f1f1;\n",
              "}\n",
              "#T_5d6ef_row3_col1 {\n",
              "  background-color: #358fc0;\n",
              "  color: #f1f1f1;\n",
              "}\n",
              "#T_5d6ef_row3_col2 {\n",
              "  background-color: #b0c2de;\n",
              "  color: #000000;\n",
              "}\n",
              "#T_5d6ef_row4_col0 {\n",
              "  background-color: #a9bfdc;\n",
              "  color: #000000;\n",
              "}\n",
              "#T_5d6ef_row4_col2 {\n",
              "  background-color: #f5eff6;\n",
              "  color: #000000;\n",
              "}\n",
              "#T_5d6ef_row5_col0 {\n",
              "  background-color: #034267;\n",
              "  color: #f1f1f1;\n",
              "}\n",
              "</style>\n",
              "<table id=\"T_5d6ef\" class=\"dataframe\">\n",
              "  <thead>\n",
              "    <tr>\n",
              "      <th class=\"blank level0\" >&nbsp;</th>\n",
              "      <th id=\"T_5d6ef_level0_col0\" class=\"col_heading level0 col0\" >PC1</th>\n",
              "      <th id=\"T_5d6ef_level0_col1\" class=\"col_heading level0 col1\" >PC2</th>\n",
              "      <th id=\"T_5d6ef_level0_col2\" class=\"col_heading level0 col2\" >PC3</th>\n",
              "    </tr>\n",
              "  </thead>\n",
              "  <tbody>\n",
              "    <tr>\n",
              "      <th id=\"T_5d6ef_level0_row0\" class=\"row_heading level0 row0\" >Creativity</th>\n",
              "      <td id=\"T_5d6ef_row0_col0\" class=\"data row0 col0\" >0.584749</td>\n",
              "      <td id=\"T_5d6ef_row0_col1\" class=\"data row0 col1\" >0.144549</td>\n",
              "      <td id=\"T_5d6ef_row0_col2\" class=\"data row0 col2\" >0.356931</td>\n",
              "    </tr>\n",
              "    <tr>\n",
              "      <th id=\"T_5d6ef_level0_row1\" class=\"row_heading level0 row1\" >Musicality</th>\n",
              "      <td id=\"T_5d6ef_row1_col0\" class=\"data row1 col0\" >0.669645</td>\n",
              "      <td id=\"T_5d6ef_row1_col1\" class=\"data row1 col1\" >0.352689</td>\n",
              "      <td id=\"T_5d6ef_row1_col2\" class=\"data row1 col2\" >0.148181</td>\n",
              "    </tr>\n",
              "    <tr>\n",
              "      <th id=\"T_5d6ef_level0_row2\" class=\"row_heading level0 row2\" >Performance</th>\n",
              "      <td id=\"T_5d6ef_row2_col0\" class=\"data row2 col0\" >0.850926</td>\n",
              "      <td id=\"T_5d6ef_row2_col1\" class=\"data row2 col1\" >0.149023</td>\n",
              "      <td id=\"T_5d6ef_row2_col2\" class=\"data row2 col2\" >0.278467</td>\n",
              "    </tr>\n",
              "    <tr>\n",
              "      <th id=\"T_5d6ef_level0_row3\" class=\"row_heading level0 row3\" >Personality</th>\n",
              "      <td id=\"T_5d6ef_row3_col0\" class=\"data row3 col0\" >0.728653</td>\n",
              "      <td id=\"T_5d6ef_row3_col1\" class=\"data row3 col1\" >0.465250</td>\n",
              "      <td id=\"T_5d6ef_row3_col2\" class=\"data row3 col2\" >0.282656</td>\n",
              "    </tr>\n",
              "    <tr>\n",
              "      <th id=\"T_5d6ef_level0_row4\" class=\"row_heading level0 row4\" >Technique</th>\n",
              "      <td id=\"T_5d6ef_row4_col0\" class=\"data row4 col0\" >0.682145</td>\n",
              "      <td id=\"T_5d6ef_row4_col1\" class=\"data row4 col1\" >0.707579</td>\n",
              "      <td id=\"T_5d6ef_row4_col2\" class=\"data row4 col2\" >0.173523</td>\n",
              "    </tr>\n",
              "    <tr>\n",
              "      <th id=\"T_5d6ef_level0_row5\" class=\"row_heading level0 row5\" >Variety</th>\n",
              "      <td id=\"T_5d6ef_row5_col0\" class=\"data row5 col0\" >0.840725</td>\n",
              "      <td id=\"T_5d6ef_row5_col1\" class=\"data row5 col1\" >0.059744</td>\n",
              "      <td id=\"T_5d6ef_row5_col2\" class=\"data row5 col2\" >0.537386</td>\n",
              "    </tr>\n",
              "  </tbody>\n",
              "</table>\n"
            ]
          },
          "metadata": {},
          "execution_count": 41
        }
      ]
    },
    {
      "cell_type": "code",
      "source": [
        "pca_loadings.style.background_gradient()"
      ],
      "metadata": {
        "id": "9c4eOlpneT2K",
        "outputId": "cfb6b954-7930-4e4d-efbe-211291d3d9b6",
        "colab": {
          "base_uri": "https://localhost:8080/",
          "height": 237
        }
      },
      "execution_count": 42,
      "outputs": [
        {
          "output_type": "execute_result",
          "data": {
            "text/plain": [
              "<pandas.io.formats.style.Styler at 0x7fe230e3a8c0>"
            ],
            "text/html": [
              "<style type=\"text/css\">\n",
              "#T_b5e46_row0_col0 {\n",
              "  background-color: #efe9f3;\n",
              "  color: #000000;\n",
              "}\n",
              "#T_b5e46_row0_col1 {\n",
              "  background-color: #fdf5fa;\n",
              "  color: #000000;\n",
              "}\n",
              "#T_b5e46_row0_col2, #T_b5e46_row2_col0, #T_b5e46_row4_col1 {\n",
              "  background-color: #023858;\n",
              "  color: #f1f1f1;\n",
              "}\n",
              "#T_b5e46_row1_col0 {\n",
              "  background-color: #89b1d4;\n",
              "  color: #000000;\n",
              "}\n",
              "#T_b5e46_row1_col1 {\n",
              "  background-color: #5a9ec9;\n",
              "  color: #f1f1f1;\n",
              "}\n",
              "#T_b5e46_row1_col2 {\n",
              "  background-color: #e7e3f0;\n",
              "  color: #000000;\n",
              "}\n",
              "#T_b5e46_row2_col1 {\n",
              "  background-color: #e0dded;\n",
              "  color: #000000;\n",
              "}\n",
              "#T_b5e46_row2_col2 {\n",
              "  background-color: #cccfe5;\n",
              "  color: #000000;\n",
              "}\n",
              "#T_b5e46_row3_col0 {\n",
              "  background-color: #76aad0;\n",
              "  color: #f1f1f1;\n",
              "}\n",
              "#T_b5e46_row3_col1 {\n",
              "  background-color: #589ec8;\n",
              "  color: #f1f1f1;\n",
              "}\n",
              "#T_b5e46_row3_col2 {\n",
              "  background-color: #dbdaeb;\n",
              "  color: #000000;\n",
              "}\n",
              "#T_b5e46_row4_col0, #T_b5e46_row4_col2, #T_b5e46_row5_col1 {\n",
              "  background-color: #fff7fb;\n",
              "  color: #000000;\n",
              "}\n",
              "#T_b5e46_row5_col0 {\n",
              "  background-color: #056dab;\n",
              "  color: #f1f1f1;\n",
              "}\n",
              "#T_b5e46_row5_col2 {\n",
              "  background-color: #81aed2;\n",
              "  color: #f1f1f1;\n",
              "}\n",
              "</style>\n",
              "<table id=\"T_b5e46\" class=\"dataframe\">\n",
              "  <thead>\n",
              "    <tr>\n",
              "      <th class=\"blank level0\" >&nbsp;</th>\n",
              "      <th id=\"T_b5e46_level0_col0\" class=\"col_heading level0 col0\" >PC1</th>\n",
              "      <th id=\"T_b5e46_level0_col1\" class=\"col_heading level0 col1\" >PC2</th>\n",
              "      <th id=\"T_b5e46_level0_col2\" class=\"col_heading level0 col2\" >PC3</th>\n",
              "    </tr>\n",
              "  </thead>\n",
              "  <tbody>\n",
              "    <tr>\n",
              "      <th id=\"T_b5e46_level0_row0\" class=\"row_heading level0 row0\" >Creativity</th>\n",
              "      <td id=\"T_b5e46_row0_col0\" class=\"data row0 col0\" >0.362888</td>\n",
              "      <td id=\"T_b5e46_row0_col1\" class=\"data row0 col1\" >0.143561</td>\n",
              "      <td id=\"T_b5e46_row0_col2\" class=\"data row0 col2\" >0.713032</td>\n",
              "    </tr>\n",
              "    <tr>\n",
              "      <th id=\"T_b5e46_level0_row1\" class=\"row_heading level0 row1\" >Musicality</th>\n",
              "      <td id=\"T_b5e46_row1_col0\" class=\"data row1 col0\" >0.403575</td>\n",
              "      <td id=\"T_b5e46_row1_col1\" class=\"data row1 col1\" >0.450374</td>\n",
              "      <td id=\"T_b5e46_row1_col2\" class=\"data row1 col2\" >0.269483</td>\n",
              "    </tr>\n",
              "    <tr>\n",
              "      <th id=\"T_b5e46_level0_row2\" class=\"row_heading level0 row2\" >Performance</th>\n",
              "      <td id=\"T_b5e46_row2_col0\" class=\"data row2 col0\" >0.469467</td>\n",
              "      <td id=\"T_b5e46_row2_col1\" class=\"data row2 col1\" >0.239068</td>\n",
              "      <td id=\"T_b5e46_row2_col2\" class=\"data row2 col2\" >0.327888</td>\n",
              "    </tr>\n",
              "    <tr>\n",
              "      <th id=\"T_b5e46_level0_row3\" class=\"row_heading level0 row3\" >Personality</th>\n",
              "      <td id=\"T_b5e46_row3_col0\" class=\"data row3 col0\" >0.409212</td>\n",
              "      <td id=\"T_b5e46_row3_col1\" class=\"data row3 col1\" >0.452774</td>\n",
              "      <td id=\"T_b5e46_row3_col2\" class=\"data row3 col2\" >0.295638</td>\n",
              "    </tr>\n",
              "    <tr>\n",
              "      <th id=\"T_b5e46_level0_row4\" class=\"row_heading level0 row4\" >Technique</th>\n",
              "      <td id=\"T_b5e46_row4_col0\" class=\"data row4 col0\" >0.350112</td>\n",
              "      <td id=\"T_b5e46_row4_col1\" class=\"data row4 col1\" >0.704047</td>\n",
              "      <td id=\"T_b5e46_row4_col2\" class=\"data row4 col2\" >0.190013</td>\n",
              "    </tr>\n",
              "    <tr>\n",
              "      <th id=\"T_b5e46_level0_row5\" class=\"row_heading level0 row5\" >Variety</th>\n",
              "      <td id=\"T_b5e46_row5_col0\" class=\"data row5 col0\" >0.441596</td>\n",
              "      <td id=\"T_b5e46_row5_col1\" class=\"data row5 col1\" >0.136793</td>\n",
              "      <td id=\"T_b5e46_row5_col2\" class=\"data row5 col2\" >0.433527</td>\n",
              "    </tr>\n",
              "  </tbody>\n",
              "</table>\n"
            ]
          },
          "metadata": {},
          "execution_count": 42
        }
      ]
    },
    {
      "cell_type": "code",
      "source": [
        "normdf = pd.DataFrame(triviumNorm, columns=features)\n",
        "normdf"
      ],
      "metadata": {
        "id": "LNwrNof1pR62",
        "outputId": "538b86e6-d9da-458d-b421-e95e6d3191b9",
        "colab": {
          "base_uri": "https://localhost:8080/",
          "height": 423
        }
      },
      "execution_count": 43,
      "outputs": [
        {
          "output_type": "execute_result",
          "data": {
            "text/plain": [
              "      Creativity  Musicality  Performance  Personality  Technique   Variety\n",
              "0      -1.516892   -0.136318     0.560938     0.313784   2.168559 -1.087127\n",
              "1       0.104730    0.941751     1.159945     1.219928   1.537056  0.823927\n",
              "2      -0.986180   -0.407644     0.994701     0.134033   1.989348  1.752689\n",
              "3      -0.204852   -1.808894    -2.155249     0.202978  -1.040159 -2.638185\n",
              "4       2.301292    1.279402    -1.318704    -0.110971  -1.620459  1.233439\n",
              "...          ...         ...          ...          ...        ...       ...\n",
              "1521    0.709153    0.523306     0.612576     0.514465   0.530065  0.216351\n",
              "1522    0.576475   -0.313585     0.602249     0.168505   0.231381 -0.140968\n",
              "1523    1.490480   -0.024170     0.808803     1.334427  -0.118506  0.145423\n",
              "1524    1.136672    0.859751     0.437005     0.563712   0.350854  0.554934\n",
              "1525   -1.325246    0.249568    -0.606093     0.103253  -0.570799 -0.355091\n",
              "\n",
              "[1526 rows x 6 columns]"
            ],
            "text/html": [
              "\n",
              "  <div id=\"df-4012b31a-7f7f-4df0-9393-7ab4f2680627\" class=\"colab-df-container\">\n",
              "    <div>\n",
              "<style scoped>\n",
              "    .dataframe tbody tr th:only-of-type {\n",
              "        vertical-align: middle;\n",
              "    }\n",
              "\n",
              "    .dataframe tbody tr th {\n",
              "        vertical-align: top;\n",
              "    }\n",
              "\n",
              "    .dataframe thead th {\n",
              "        text-align: right;\n",
              "    }\n",
              "</style>\n",
              "<table border=\"1\" class=\"dataframe\">\n",
              "  <thead>\n",
              "    <tr style=\"text-align: right;\">\n",
              "      <th></th>\n",
              "      <th>Creativity</th>\n",
              "      <th>Musicality</th>\n",
              "      <th>Performance</th>\n",
              "      <th>Personality</th>\n",
              "      <th>Technique</th>\n",
              "      <th>Variety</th>\n",
              "    </tr>\n",
              "  </thead>\n",
              "  <tbody>\n",
              "    <tr>\n",
              "      <th>0</th>\n",
              "      <td>-1.516892</td>\n",
              "      <td>-0.136318</td>\n",
              "      <td>0.560938</td>\n",
              "      <td>0.313784</td>\n",
              "      <td>2.168559</td>\n",
              "      <td>-1.087127</td>\n",
              "    </tr>\n",
              "    <tr>\n",
              "      <th>1</th>\n",
              "      <td>0.104730</td>\n",
              "      <td>0.941751</td>\n",
              "      <td>1.159945</td>\n",
              "      <td>1.219928</td>\n",
              "      <td>1.537056</td>\n",
              "      <td>0.823927</td>\n",
              "    </tr>\n",
              "    <tr>\n",
              "      <th>2</th>\n",
              "      <td>-0.986180</td>\n",
              "      <td>-0.407644</td>\n",
              "      <td>0.994701</td>\n",
              "      <td>0.134033</td>\n",
              "      <td>1.989348</td>\n",
              "      <td>1.752689</td>\n",
              "    </tr>\n",
              "    <tr>\n",
              "      <th>3</th>\n",
              "      <td>-0.204852</td>\n",
              "      <td>-1.808894</td>\n",
              "      <td>-2.155249</td>\n",
              "      <td>0.202978</td>\n",
              "      <td>-1.040159</td>\n",
              "      <td>-2.638185</td>\n",
              "    </tr>\n",
              "    <tr>\n",
              "      <th>4</th>\n",
              "      <td>2.301292</td>\n",
              "      <td>1.279402</td>\n",
              "      <td>-1.318704</td>\n",
              "      <td>-0.110971</td>\n",
              "      <td>-1.620459</td>\n",
              "      <td>1.233439</td>\n",
              "    </tr>\n",
              "    <tr>\n",
              "      <th>...</th>\n",
              "      <td>...</td>\n",
              "      <td>...</td>\n",
              "      <td>...</td>\n",
              "      <td>...</td>\n",
              "      <td>...</td>\n",
              "      <td>...</td>\n",
              "    </tr>\n",
              "    <tr>\n",
              "      <th>1521</th>\n",
              "      <td>0.709153</td>\n",
              "      <td>0.523306</td>\n",
              "      <td>0.612576</td>\n",
              "      <td>0.514465</td>\n",
              "      <td>0.530065</td>\n",
              "      <td>0.216351</td>\n",
              "    </tr>\n",
              "    <tr>\n",
              "      <th>1522</th>\n",
              "      <td>0.576475</td>\n",
              "      <td>-0.313585</td>\n",
              "      <td>0.602249</td>\n",
              "      <td>0.168505</td>\n",
              "      <td>0.231381</td>\n",
              "      <td>-0.140968</td>\n",
              "    </tr>\n",
              "    <tr>\n",
              "      <th>1523</th>\n",
              "      <td>1.490480</td>\n",
              "      <td>-0.024170</td>\n",
              "      <td>0.808803</td>\n",
              "      <td>1.334427</td>\n",
              "      <td>-0.118506</td>\n",
              "      <td>0.145423</td>\n",
              "    </tr>\n",
              "    <tr>\n",
              "      <th>1524</th>\n",
              "      <td>1.136672</td>\n",
              "      <td>0.859751</td>\n",
              "      <td>0.437005</td>\n",
              "      <td>0.563712</td>\n",
              "      <td>0.350854</td>\n",
              "      <td>0.554934</td>\n",
              "    </tr>\n",
              "    <tr>\n",
              "      <th>1525</th>\n",
              "      <td>-1.325246</td>\n",
              "      <td>0.249568</td>\n",
              "      <td>-0.606093</td>\n",
              "      <td>0.103253</td>\n",
              "      <td>-0.570799</td>\n",
              "      <td>-0.355091</td>\n",
              "    </tr>\n",
              "  </tbody>\n",
              "</table>\n",
              "<p>1526 rows × 6 columns</p>\n",
              "</div>\n",
              "    <div class=\"colab-df-buttons\">\n",
              "\n",
              "  <div class=\"colab-df-container\">\n",
              "    <button class=\"colab-df-convert\" onclick=\"convertToInteractive('df-4012b31a-7f7f-4df0-9393-7ab4f2680627')\"\n",
              "            title=\"Convert this dataframe to an interactive table.\"\n",
              "            style=\"display:none;\">\n",
              "\n",
              "  <svg xmlns=\"http://www.w3.org/2000/svg\" height=\"24px\" viewBox=\"0 -960 960 960\">\n",
              "    <path d=\"M120-120v-720h720v720H120Zm60-500h600v-160H180v160Zm220 220h160v-160H400v160Zm0 220h160v-160H400v160ZM180-400h160v-160H180v160Zm440 0h160v-160H620v160ZM180-180h160v-160H180v160Zm440 0h160v-160H620v160Z\"/>\n",
              "  </svg>\n",
              "    </button>\n",
              "\n",
              "  <style>\n",
              "    .colab-df-container {\n",
              "      display:flex;\n",
              "      gap: 12px;\n",
              "    }\n",
              "\n",
              "    .colab-df-convert {\n",
              "      background-color: #E8F0FE;\n",
              "      border: none;\n",
              "      border-radius: 50%;\n",
              "      cursor: pointer;\n",
              "      display: none;\n",
              "      fill: #1967D2;\n",
              "      height: 32px;\n",
              "      padding: 0 0 0 0;\n",
              "      width: 32px;\n",
              "    }\n",
              "\n",
              "    .colab-df-convert:hover {\n",
              "      background-color: #E2EBFA;\n",
              "      box-shadow: 0px 1px 2px rgba(60, 64, 67, 0.3), 0px 1px 3px 1px rgba(60, 64, 67, 0.15);\n",
              "      fill: #174EA6;\n",
              "    }\n",
              "\n",
              "    .colab-df-buttons div {\n",
              "      margin-bottom: 4px;\n",
              "    }\n",
              "\n",
              "    [theme=dark] .colab-df-convert {\n",
              "      background-color: #3B4455;\n",
              "      fill: #D2E3FC;\n",
              "    }\n",
              "\n",
              "    [theme=dark] .colab-df-convert:hover {\n",
              "      background-color: #434B5C;\n",
              "      box-shadow: 0px 1px 3px 1px rgba(0, 0, 0, 0.15);\n",
              "      filter: drop-shadow(0px 1px 2px rgba(0, 0, 0, 0.3));\n",
              "      fill: #FFFFFF;\n",
              "    }\n",
              "  </style>\n",
              "\n",
              "    <script>\n",
              "      const buttonEl =\n",
              "        document.querySelector('#df-4012b31a-7f7f-4df0-9393-7ab4f2680627 button.colab-df-convert');\n",
              "      buttonEl.style.display =\n",
              "        google.colab.kernel.accessAllowed ? 'block' : 'none';\n",
              "\n",
              "      async function convertToInteractive(key) {\n",
              "        const element = document.querySelector('#df-4012b31a-7f7f-4df0-9393-7ab4f2680627');\n",
              "        const dataTable =\n",
              "          await google.colab.kernel.invokeFunction('convertToInteractive',\n",
              "                                                    [key], {});\n",
              "        if (!dataTable) return;\n",
              "\n",
              "        const docLinkHtml = 'Like what you see? Visit the ' +\n",
              "          '<a target=\"_blank\" href=https://colab.research.google.com/notebooks/data_table.ipynb>data table notebook</a>'\n",
              "          + ' to learn more about interactive tables.';\n",
              "        element.innerHTML = '';\n",
              "        dataTable['output_type'] = 'display_data';\n",
              "        await google.colab.output.renderOutput(dataTable, element);\n",
              "        const docLink = document.createElement('div');\n",
              "        docLink.innerHTML = docLinkHtml;\n",
              "        element.appendChild(docLink);\n",
              "      }\n",
              "    </script>\n",
              "  </div>\n",
              "\n",
              "\n",
              "<div id=\"df-52250338-7254-44d6-a4c1-9eb20e772bbe\">\n",
              "  <button class=\"colab-df-quickchart\" onclick=\"quickchart('df-52250338-7254-44d6-a4c1-9eb20e772bbe')\"\n",
              "            title=\"Suggest charts\"\n",
              "            style=\"display:none;\">\n",
              "\n",
              "<svg xmlns=\"http://www.w3.org/2000/svg\" height=\"24px\"viewBox=\"0 0 24 24\"\n",
              "     width=\"24px\">\n",
              "    <g>\n",
              "        <path d=\"M19 3H5c-1.1 0-2 .9-2 2v14c0 1.1.9 2 2 2h14c1.1 0 2-.9 2-2V5c0-1.1-.9-2-2-2zM9 17H7v-7h2v7zm4 0h-2V7h2v10zm4 0h-2v-4h2v4z\"/>\n",
              "    </g>\n",
              "</svg>\n",
              "  </button>\n",
              "\n",
              "<style>\n",
              "  .colab-df-quickchart {\n",
              "      --bg-color: #E8F0FE;\n",
              "      --fill-color: #1967D2;\n",
              "      --hover-bg-color: #E2EBFA;\n",
              "      --hover-fill-color: #174EA6;\n",
              "      --disabled-fill-color: #AAA;\n",
              "      --disabled-bg-color: #DDD;\n",
              "  }\n",
              "\n",
              "  [theme=dark] .colab-df-quickchart {\n",
              "      --bg-color: #3B4455;\n",
              "      --fill-color: #D2E3FC;\n",
              "      --hover-bg-color: #434B5C;\n",
              "      --hover-fill-color: #FFFFFF;\n",
              "      --disabled-bg-color: #3B4455;\n",
              "      --disabled-fill-color: #666;\n",
              "  }\n",
              "\n",
              "  .colab-df-quickchart {\n",
              "    background-color: var(--bg-color);\n",
              "    border: none;\n",
              "    border-radius: 50%;\n",
              "    cursor: pointer;\n",
              "    display: none;\n",
              "    fill: var(--fill-color);\n",
              "    height: 32px;\n",
              "    padding: 0;\n",
              "    width: 32px;\n",
              "  }\n",
              "\n",
              "  .colab-df-quickchart:hover {\n",
              "    background-color: var(--hover-bg-color);\n",
              "    box-shadow: 0 1px 2px rgba(60, 64, 67, 0.3), 0 1px 3px 1px rgba(60, 64, 67, 0.15);\n",
              "    fill: var(--button-hover-fill-color);\n",
              "  }\n",
              "\n",
              "  .colab-df-quickchart-complete:disabled,\n",
              "  .colab-df-quickchart-complete:disabled:hover {\n",
              "    background-color: var(--disabled-bg-color);\n",
              "    fill: var(--disabled-fill-color);\n",
              "    box-shadow: none;\n",
              "  }\n",
              "\n",
              "  .colab-df-spinner {\n",
              "    border: 2px solid var(--fill-color);\n",
              "    border-color: transparent;\n",
              "    border-bottom-color: var(--fill-color);\n",
              "    animation:\n",
              "      spin 1s steps(1) infinite;\n",
              "  }\n",
              "\n",
              "  @keyframes spin {\n",
              "    0% {\n",
              "      border-color: transparent;\n",
              "      border-bottom-color: var(--fill-color);\n",
              "      border-left-color: var(--fill-color);\n",
              "    }\n",
              "    20% {\n",
              "      border-color: transparent;\n",
              "      border-left-color: var(--fill-color);\n",
              "      border-top-color: var(--fill-color);\n",
              "    }\n",
              "    30% {\n",
              "      border-color: transparent;\n",
              "      border-left-color: var(--fill-color);\n",
              "      border-top-color: var(--fill-color);\n",
              "      border-right-color: var(--fill-color);\n",
              "    }\n",
              "    40% {\n",
              "      border-color: transparent;\n",
              "      border-right-color: var(--fill-color);\n",
              "      border-top-color: var(--fill-color);\n",
              "    }\n",
              "    60% {\n",
              "      border-color: transparent;\n",
              "      border-right-color: var(--fill-color);\n",
              "    }\n",
              "    80% {\n",
              "      border-color: transparent;\n",
              "      border-right-color: var(--fill-color);\n",
              "      border-bottom-color: var(--fill-color);\n",
              "    }\n",
              "    90% {\n",
              "      border-color: transparent;\n",
              "      border-bottom-color: var(--fill-color);\n",
              "    }\n",
              "  }\n",
              "</style>\n",
              "\n",
              "  <script>\n",
              "    async function quickchart(key) {\n",
              "      const quickchartButtonEl =\n",
              "        document.querySelector('#' + key + ' button');\n",
              "      quickchartButtonEl.disabled = true;  // To prevent multiple clicks.\n",
              "      quickchartButtonEl.classList.add('colab-df-spinner');\n",
              "      try {\n",
              "        const charts = await google.colab.kernel.invokeFunction(\n",
              "            'suggestCharts', [key], {});\n",
              "      } catch (error) {\n",
              "        console.error('Error during call to suggestCharts:', error);\n",
              "      }\n",
              "      quickchartButtonEl.classList.remove('colab-df-spinner');\n",
              "      quickchartButtonEl.classList.add('colab-df-quickchart-complete');\n",
              "    }\n",
              "    (() => {\n",
              "      let quickchartButtonEl =\n",
              "        document.querySelector('#df-52250338-7254-44d6-a4c1-9eb20e772bbe button');\n",
              "      quickchartButtonEl.style.display =\n",
              "        google.colab.kernel.accessAllowed ? 'block' : 'none';\n",
              "    })();\n",
              "  </script>\n",
              "</div>\n",
              "    </div>\n",
              "  </div>\n"
            ],
            "application/vnd.google.colaboratory.intrinsic+json": {
              "type": "dataframe",
              "variable_name": "normdf",
              "summary": "{\n  \"name\": \"normdf\",\n  \"rows\": 1526,\n  \"fields\": [\n    {\n      \"column\": \"Creativity\",\n      \"properties\": {\n        \"dtype\": \"number\",\n        \"std\": 1.000327815121082,\n        \"min\": -5.438270749757595,\n        \"max\": 6.134217928050891,\n        \"num_unique_values\": 527,\n        \"samples\": [\n          1.357802218993631,\n          0.384828648630115,\n          -0.5144348027664681\n        ],\n        \"semantic_type\": \"\",\n        \"description\": \"\"\n      }\n    },\n    {\n      \"column\": \"Musicality\",\n      \"properties\": {\n        \"dtype\": \"number\",\n        \"std\": 1.0003278151210822,\n        \"min\": -3.76967799005619,\n        \"max\": 6.345364077028802,\n        \"num_unique_values\": 777,\n        \"samples\": [\n          -0.136318220370081,\n          1.3770792276737516,\n          -0.18455399560653785\n        ],\n        \"semantic_type\": \"\",\n        \"description\": \"\"\n      }\n    },\n    {\n      \"column\": \"Performance\",\n      \"properties\": {\n        \"dtype\": \"number\",\n        \"std\": 1.0003278151210822,\n        \"min\": -4.262100317813392,\n        \"max\": 3.5146614418317683,\n        \"num_unique_values\": 578,\n        \"samples\": [\n          0.10651883800321231,\n          -1.4529645958698543,\n          -0.07937984947834537\n        ],\n        \"semantic_type\": \"\",\n        \"description\": \"\"\n      }\n    },\n    {\n      \"column\": \"Personality\",\n      \"properties\": {\n        \"dtype\": \"number\",\n        \"std\": 1.0003278151210822,\n        \"min\": -4.101206652565633,\n        \"max\": 6.110152159034702,\n        \"num_unique_values\": 832,\n        \"samples\": [\n          0.449213189208521,\n          -1.2264148964664316,\n          3.319080248509266\n        ],\n        \"semantic_type\": \"\",\n        \"description\": \"\"\n      }\n    },\n    {\n      \"column\": \"Technique\",\n      \"properties\": {\n        \"dtype\": \"number\",\n        \"std\": 1.000327815121082,\n        \"min\": -3.7027119505152903,\n        \"max\": 3.4656998213001904,\n        \"num_unique_values\": 692,\n        \"samples\": [\n          0.6495380538012515,\n          1.4005145251343016,\n          -0.357453123668066\n        ],\n        \"semantic_type\": \"\",\n        \"description\": \"\"\n      }\n    },\n    {\n      \"column\": \"Variety\",\n      \"properties\": {\n        \"dtype\": \"number\",\n        \"std\": 1.0003278151210822,\n        \"min\": -4.815555105711395,\n        \"max\": 4.837407717433743,\n        \"num_unique_values\": 785,\n        \"samples\": [\n          -1.926223796246491,\n          -0.3189579775029292,\n          -1.17679094154508\n        ],\n        \"semantic_type\": \"\",\n        \"description\": \"\"\n      }\n    }\n  ]\n}"
            }
          },
          "metadata": {},
          "execution_count": 43
        }
      ]
    },
    {
      "cell_type": "code",
      "source": [
        "model_dict = {\"Physical\": ['Technique', 'Variety'], \"Artistic\": ['Creativity', 'Personality'], \"Interpretive\": ['Performance', 'Musicality']}\n",
        "\n",
        "\n",
        "model_spec = ModelSpecificationParser.parse_model_specification_from_dict(normdf, model_dict)\n",
        "\n",
        "cfa = ConfirmatoryFactorAnalyzer(model_spec, disp=False)\n"
      ],
      "metadata": {
        "id": "2KM1zivUp2k_"
      },
      "execution_count": 65,
      "outputs": []
    },
    {
      "cell_type": "code",
      "source": [
        "cfa.fit(normdf.values)\n",
        "\n",
        "cfa.loadings_"
      ],
      "metadata": {
        "id": "y-vLMTPFqjj4",
        "outputId": "b09414c3-4aad-4d03-d5a9-46f92debdc2a",
        "colab": {
          "base_uri": "https://localhost:8080/"
        }
      },
      "execution_count": 66,
      "outputs": [
        {
          "output_type": "execute_result",
          "data": {
            "text/plain": [
              "array([[0.46116327, 0.        , 0.        ],\n",
              "       [0.79510733, 0.        , 0.        ],\n",
              "       [0.        , 0.98885383, 0.        ],\n",
              "       [0.        , 0.63190673, 0.        ],\n",
              "       [0.        , 0.        , 0.8877747 ],\n",
              "       [0.        , 0.        , 0.5921204 ]])"
            ]
          },
          "metadata": {},
          "execution_count": 66
        }
      ]
    },
    {
      "cell_type": "code",
      "source": [
        "model = '''\n",
        "    F1 =~ var1 + var2 + var3\n",
        "    F2 =~ var4 + var5 + var6\n",
        "'''"
      ],
      "metadata": {
        "id": "RdD76g_r1A2x"
      },
      "execution_count": null,
      "outputs": []
    },
    {
      "cell_type": "code",
      "source": [
        "model_spec = '''Physical =~ Technique + Variety\n",
        "Artistic =~ Creativity + Personality\n",
        "Interpretive =~ Performance + Musicality\n",
        "'''"
      ],
      "metadata": {
        "id": "E9yh5PNB06e9"
      },
      "execution_count": 82,
      "outputs": []
    },
    {
      "cell_type": "code",
      "source": [
        "modelCFA= Model(model_spec)\n"
      ],
      "metadata": {
        "id": "XUpNJykH26qL"
      },
      "execution_count": 85,
      "outputs": []
    },
    {
      "cell_type": "code",
      "source": [
        "modelCFA.fit(normdf)"
      ],
      "metadata": {
        "id": "R0BHfndi30BV",
        "outputId": "627939b5-3ed4-4570-8b78-dd2689cbe11f",
        "colab": {
          "base_uri": "https://localhost:8080/"
        }
      },
      "execution_count": 100,
      "outputs": [
        {
          "output_type": "execute_result",
          "data": {
            "text/plain": [
              "SolverResult(fun=1.0002738219571627, success=True, n_it=34, x=array([0.70333331, 2.20873099, 0.7049806 , 0.18421626, 0.13451218,\n",
              "       0.81585685, 0.79908718, 0.30858884, 0.70211414, 0.60280773,\n",
              "       0.20108571, 0.10155843, 0.74745609, 0.25253753, 0.63024941]), message='Optimization terminated successfully', name_method='SLSQP', name_obj='MLW')"
            ]
          },
          "metadata": {},
          "execution_count": 100
        }
      ]
    },
    {
      "cell_type": "code",
      "source": [
        "modelCFA.inspect()"
      ],
      "metadata": {
        "id": "HXEc6_0p5i0j",
        "outputId": "c0a0e5cf-f224-40d0-804e-dc467b41f7a5",
        "colab": {
          "base_uri": "https://localhost:8080/",
          "height": 614
        }
      },
      "execution_count": 101,
      "outputs": [
        {
          "output_type": "execute_result",
          "data": {
            "text/plain": [
              "            lval  op          rval  Estimate  Std. Err    z-value   p-value\n",
              "0      Technique   ~      Physical  1.000000         -          -         -\n",
              "1        Variety   ~      Physical  0.703333  0.029187  24.097385       0.0\n",
              "2     Creativity   ~      Artistic  1.000000         -          -         -\n",
              "3    Personality   ~      Artistic  2.208731  0.152256  14.506704       0.0\n",
              "4    Performance   ~  Interpretive  1.000000         -          -         -\n",
              "5     Musicality   ~  Interpretive  0.704981  0.024745  28.489786       0.0\n",
              "6       Artistic  ~~      Artistic  0.184216  0.022579   8.158696       0.0\n",
              "7       Artistic  ~~      Physical  0.134512  0.014929   9.009963       0.0\n",
              "8   Interpretive  ~~  Interpretive  0.799087  0.038265  20.883249       0.0\n",
              "9   Interpretive  ~~      Artistic  0.308589  0.025005  12.341045       0.0\n",
              "10  Interpretive  ~~      Physical  0.702114  0.031123  22.559375       0.0\n",
              "11      Physical  ~~      Physical  0.747456  0.040648  18.388649       0.0\n",
              "12    Creativity  ~~    Creativity  0.815857  0.030721  26.557252       0.0\n",
              "13    Musicality  ~~    Musicality  0.602808   0.02296  26.254841       0.0\n",
              "14   Performance  ~~   Performance  0.201086  0.016096  12.492595       0.0\n",
              "15   Personality  ~~   Personality  0.101558  0.041382    2.45418  0.014121\n",
              "16     Technique  ~~     Technique  0.252538  0.022557  11.195674       0.0\n",
              "17       Variety  ~~       Variety  0.630249  0.024993   25.21705       0.0"
            ],
            "text/html": [
              "\n",
              "  <div id=\"df-b775f141-81b4-4ee7-8bf8-49a2912f1b7a\" class=\"colab-df-container\">\n",
              "    <div>\n",
              "<style scoped>\n",
              "    .dataframe tbody tr th:only-of-type {\n",
              "        vertical-align: middle;\n",
              "    }\n",
              "\n",
              "    .dataframe tbody tr th {\n",
              "        vertical-align: top;\n",
              "    }\n",
              "\n",
              "    .dataframe thead th {\n",
              "        text-align: right;\n",
              "    }\n",
              "</style>\n",
              "<table border=\"1\" class=\"dataframe\">\n",
              "  <thead>\n",
              "    <tr style=\"text-align: right;\">\n",
              "      <th></th>\n",
              "      <th>lval</th>\n",
              "      <th>op</th>\n",
              "      <th>rval</th>\n",
              "      <th>Estimate</th>\n",
              "      <th>Std. Err</th>\n",
              "      <th>z-value</th>\n",
              "      <th>p-value</th>\n",
              "    </tr>\n",
              "  </thead>\n",
              "  <tbody>\n",
              "    <tr>\n",
              "      <th>0</th>\n",
              "      <td>Technique</td>\n",
              "      <td>~</td>\n",
              "      <td>Physical</td>\n",
              "      <td>1.000000</td>\n",
              "      <td>-</td>\n",
              "      <td>-</td>\n",
              "      <td>-</td>\n",
              "    </tr>\n",
              "    <tr>\n",
              "      <th>1</th>\n",
              "      <td>Variety</td>\n",
              "      <td>~</td>\n",
              "      <td>Physical</td>\n",
              "      <td>0.703333</td>\n",
              "      <td>0.029187</td>\n",
              "      <td>24.097385</td>\n",
              "      <td>0.0</td>\n",
              "    </tr>\n",
              "    <tr>\n",
              "      <th>2</th>\n",
              "      <td>Creativity</td>\n",
              "      <td>~</td>\n",
              "      <td>Artistic</td>\n",
              "      <td>1.000000</td>\n",
              "      <td>-</td>\n",
              "      <td>-</td>\n",
              "      <td>-</td>\n",
              "    </tr>\n",
              "    <tr>\n",
              "      <th>3</th>\n",
              "      <td>Personality</td>\n",
              "      <td>~</td>\n",
              "      <td>Artistic</td>\n",
              "      <td>2.208731</td>\n",
              "      <td>0.152256</td>\n",
              "      <td>14.506704</td>\n",
              "      <td>0.0</td>\n",
              "    </tr>\n",
              "    <tr>\n",
              "      <th>4</th>\n",
              "      <td>Performance</td>\n",
              "      <td>~</td>\n",
              "      <td>Interpretive</td>\n",
              "      <td>1.000000</td>\n",
              "      <td>-</td>\n",
              "      <td>-</td>\n",
              "      <td>-</td>\n",
              "    </tr>\n",
              "    <tr>\n",
              "      <th>5</th>\n",
              "      <td>Musicality</td>\n",
              "      <td>~</td>\n",
              "      <td>Interpretive</td>\n",
              "      <td>0.704981</td>\n",
              "      <td>0.024745</td>\n",
              "      <td>28.489786</td>\n",
              "      <td>0.0</td>\n",
              "    </tr>\n",
              "    <tr>\n",
              "      <th>6</th>\n",
              "      <td>Artistic</td>\n",
              "      <td>~~</td>\n",
              "      <td>Artistic</td>\n",
              "      <td>0.184216</td>\n",
              "      <td>0.022579</td>\n",
              "      <td>8.158696</td>\n",
              "      <td>0.0</td>\n",
              "    </tr>\n",
              "    <tr>\n",
              "      <th>7</th>\n",
              "      <td>Artistic</td>\n",
              "      <td>~~</td>\n",
              "      <td>Physical</td>\n",
              "      <td>0.134512</td>\n",
              "      <td>0.014929</td>\n",
              "      <td>9.009963</td>\n",
              "      <td>0.0</td>\n",
              "    </tr>\n",
              "    <tr>\n",
              "      <th>8</th>\n",
              "      <td>Interpretive</td>\n",
              "      <td>~~</td>\n",
              "      <td>Interpretive</td>\n",
              "      <td>0.799087</td>\n",
              "      <td>0.038265</td>\n",
              "      <td>20.883249</td>\n",
              "      <td>0.0</td>\n",
              "    </tr>\n",
              "    <tr>\n",
              "      <th>9</th>\n",
              "      <td>Interpretive</td>\n",
              "      <td>~~</td>\n",
              "      <td>Artistic</td>\n",
              "      <td>0.308589</td>\n",
              "      <td>0.025005</td>\n",
              "      <td>12.341045</td>\n",
              "      <td>0.0</td>\n",
              "    </tr>\n",
              "    <tr>\n",
              "      <th>10</th>\n",
              "      <td>Interpretive</td>\n",
              "      <td>~~</td>\n",
              "      <td>Physical</td>\n",
              "      <td>0.702114</td>\n",
              "      <td>0.031123</td>\n",
              "      <td>22.559375</td>\n",
              "      <td>0.0</td>\n",
              "    </tr>\n",
              "    <tr>\n",
              "      <th>11</th>\n",
              "      <td>Physical</td>\n",
              "      <td>~~</td>\n",
              "      <td>Physical</td>\n",
              "      <td>0.747456</td>\n",
              "      <td>0.040648</td>\n",
              "      <td>18.388649</td>\n",
              "      <td>0.0</td>\n",
              "    </tr>\n",
              "    <tr>\n",
              "      <th>12</th>\n",
              "      <td>Creativity</td>\n",
              "      <td>~~</td>\n",
              "      <td>Creativity</td>\n",
              "      <td>0.815857</td>\n",
              "      <td>0.030721</td>\n",
              "      <td>26.557252</td>\n",
              "      <td>0.0</td>\n",
              "    </tr>\n",
              "    <tr>\n",
              "      <th>13</th>\n",
              "      <td>Musicality</td>\n",
              "      <td>~~</td>\n",
              "      <td>Musicality</td>\n",
              "      <td>0.602808</td>\n",
              "      <td>0.02296</td>\n",
              "      <td>26.254841</td>\n",
              "      <td>0.0</td>\n",
              "    </tr>\n",
              "    <tr>\n",
              "      <th>14</th>\n",
              "      <td>Performance</td>\n",
              "      <td>~~</td>\n",
              "      <td>Performance</td>\n",
              "      <td>0.201086</td>\n",
              "      <td>0.016096</td>\n",
              "      <td>12.492595</td>\n",
              "      <td>0.0</td>\n",
              "    </tr>\n",
              "    <tr>\n",
              "      <th>15</th>\n",
              "      <td>Personality</td>\n",
              "      <td>~~</td>\n",
              "      <td>Personality</td>\n",
              "      <td>0.101558</td>\n",
              "      <td>0.041382</td>\n",
              "      <td>2.45418</td>\n",
              "      <td>0.014121</td>\n",
              "    </tr>\n",
              "    <tr>\n",
              "      <th>16</th>\n",
              "      <td>Technique</td>\n",
              "      <td>~~</td>\n",
              "      <td>Technique</td>\n",
              "      <td>0.252538</td>\n",
              "      <td>0.022557</td>\n",
              "      <td>11.195674</td>\n",
              "      <td>0.0</td>\n",
              "    </tr>\n",
              "    <tr>\n",
              "      <th>17</th>\n",
              "      <td>Variety</td>\n",
              "      <td>~~</td>\n",
              "      <td>Variety</td>\n",
              "      <td>0.630249</td>\n",
              "      <td>0.024993</td>\n",
              "      <td>25.21705</td>\n",
              "      <td>0.0</td>\n",
              "    </tr>\n",
              "  </tbody>\n",
              "</table>\n",
              "</div>\n",
              "    <div class=\"colab-df-buttons\">\n",
              "\n",
              "  <div class=\"colab-df-container\">\n",
              "    <button class=\"colab-df-convert\" onclick=\"convertToInteractive('df-b775f141-81b4-4ee7-8bf8-49a2912f1b7a')\"\n",
              "            title=\"Convert this dataframe to an interactive table.\"\n",
              "            style=\"display:none;\">\n",
              "\n",
              "  <svg xmlns=\"http://www.w3.org/2000/svg\" height=\"24px\" viewBox=\"0 -960 960 960\">\n",
              "    <path d=\"M120-120v-720h720v720H120Zm60-500h600v-160H180v160Zm220 220h160v-160H400v160Zm0 220h160v-160H400v160ZM180-400h160v-160H180v160Zm440 0h160v-160H620v160ZM180-180h160v-160H180v160Zm440 0h160v-160H620v160Z\"/>\n",
              "  </svg>\n",
              "    </button>\n",
              "\n",
              "  <style>\n",
              "    .colab-df-container {\n",
              "      display:flex;\n",
              "      gap: 12px;\n",
              "    }\n",
              "\n",
              "    .colab-df-convert {\n",
              "      background-color: #E8F0FE;\n",
              "      border: none;\n",
              "      border-radius: 50%;\n",
              "      cursor: pointer;\n",
              "      display: none;\n",
              "      fill: #1967D2;\n",
              "      height: 32px;\n",
              "      padding: 0 0 0 0;\n",
              "      width: 32px;\n",
              "    }\n",
              "\n",
              "    .colab-df-convert:hover {\n",
              "      background-color: #E2EBFA;\n",
              "      box-shadow: 0px 1px 2px rgba(60, 64, 67, 0.3), 0px 1px 3px 1px rgba(60, 64, 67, 0.15);\n",
              "      fill: #174EA6;\n",
              "    }\n",
              "\n",
              "    .colab-df-buttons div {\n",
              "      margin-bottom: 4px;\n",
              "    }\n",
              "\n",
              "    [theme=dark] .colab-df-convert {\n",
              "      background-color: #3B4455;\n",
              "      fill: #D2E3FC;\n",
              "    }\n",
              "\n",
              "    [theme=dark] .colab-df-convert:hover {\n",
              "      background-color: #434B5C;\n",
              "      box-shadow: 0px 1px 3px 1px rgba(0, 0, 0, 0.15);\n",
              "      filter: drop-shadow(0px 1px 2px rgba(0, 0, 0, 0.3));\n",
              "      fill: #FFFFFF;\n",
              "    }\n",
              "  </style>\n",
              "\n",
              "    <script>\n",
              "      const buttonEl =\n",
              "        document.querySelector('#df-b775f141-81b4-4ee7-8bf8-49a2912f1b7a button.colab-df-convert');\n",
              "      buttonEl.style.display =\n",
              "        google.colab.kernel.accessAllowed ? 'block' : 'none';\n",
              "\n",
              "      async function convertToInteractive(key) {\n",
              "        const element = document.querySelector('#df-b775f141-81b4-4ee7-8bf8-49a2912f1b7a');\n",
              "        const dataTable =\n",
              "          await google.colab.kernel.invokeFunction('convertToInteractive',\n",
              "                                                    [key], {});\n",
              "        if (!dataTable) return;\n",
              "\n",
              "        const docLinkHtml = 'Like what you see? Visit the ' +\n",
              "          '<a target=\"_blank\" href=https://colab.research.google.com/notebooks/data_table.ipynb>data table notebook</a>'\n",
              "          + ' to learn more about interactive tables.';\n",
              "        element.innerHTML = '';\n",
              "        dataTable['output_type'] = 'display_data';\n",
              "        await google.colab.output.renderOutput(dataTable, element);\n",
              "        const docLink = document.createElement('div');\n",
              "        docLink.innerHTML = docLinkHtml;\n",
              "        element.appendChild(docLink);\n",
              "      }\n",
              "    </script>\n",
              "  </div>\n",
              "\n",
              "\n",
              "<div id=\"df-48a16c54-a190-4bf2-99db-17d30d3f8e78\">\n",
              "  <button class=\"colab-df-quickchart\" onclick=\"quickchart('df-48a16c54-a190-4bf2-99db-17d30d3f8e78')\"\n",
              "            title=\"Suggest charts\"\n",
              "            style=\"display:none;\">\n",
              "\n",
              "<svg xmlns=\"http://www.w3.org/2000/svg\" height=\"24px\"viewBox=\"0 0 24 24\"\n",
              "     width=\"24px\">\n",
              "    <g>\n",
              "        <path d=\"M19 3H5c-1.1 0-2 .9-2 2v14c0 1.1.9 2 2 2h14c1.1 0 2-.9 2-2V5c0-1.1-.9-2-2-2zM9 17H7v-7h2v7zm4 0h-2V7h2v10zm4 0h-2v-4h2v4z\"/>\n",
              "    </g>\n",
              "</svg>\n",
              "  </button>\n",
              "\n",
              "<style>\n",
              "  .colab-df-quickchart {\n",
              "      --bg-color: #E8F0FE;\n",
              "      --fill-color: #1967D2;\n",
              "      --hover-bg-color: #E2EBFA;\n",
              "      --hover-fill-color: #174EA6;\n",
              "      --disabled-fill-color: #AAA;\n",
              "      --disabled-bg-color: #DDD;\n",
              "  }\n",
              "\n",
              "  [theme=dark] .colab-df-quickchart {\n",
              "      --bg-color: #3B4455;\n",
              "      --fill-color: #D2E3FC;\n",
              "      --hover-bg-color: #434B5C;\n",
              "      --hover-fill-color: #FFFFFF;\n",
              "      --disabled-bg-color: #3B4455;\n",
              "      --disabled-fill-color: #666;\n",
              "  }\n",
              "\n",
              "  .colab-df-quickchart {\n",
              "    background-color: var(--bg-color);\n",
              "    border: none;\n",
              "    border-radius: 50%;\n",
              "    cursor: pointer;\n",
              "    display: none;\n",
              "    fill: var(--fill-color);\n",
              "    height: 32px;\n",
              "    padding: 0;\n",
              "    width: 32px;\n",
              "  }\n",
              "\n",
              "  .colab-df-quickchart:hover {\n",
              "    background-color: var(--hover-bg-color);\n",
              "    box-shadow: 0 1px 2px rgba(60, 64, 67, 0.3), 0 1px 3px 1px rgba(60, 64, 67, 0.15);\n",
              "    fill: var(--button-hover-fill-color);\n",
              "  }\n",
              "\n",
              "  .colab-df-quickchart-complete:disabled,\n",
              "  .colab-df-quickchart-complete:disabled:hover {\n",
              "    background-color: var(--disabled-bg-color);\n",
              "    fill: var(--disabled-fill-color);\n",
              "    box-shadow: none;\n",
              "  }\n",
              "\n",
              "  .colab-df-spinner {\n",
              "    border: 2px solid var(--fill-color);\n",
              "    border-color: transparent;\n",
              "    border-bottom-color: var(--fill-color);\n",
              "    animation:\n",
              "      spin 1s steps(1) infinite;\n",
              "  }\n",
              "\n",
              "  @keyframes spin {\n",
              "    0% {\n",
              "      border-color: transparent;\n",
              "      border-bottom-color: var(--fill-color);\n",
              "      border-left-color: var(--fill-color);\n",
              "    }\n",
              "    20% {\n",
              "      border-color: transparent;\n",
              "      border-left-color: var(--fill-color);\n",
              "      border-top-color: var(--fill-color);\n",
              "    }\n",
              "    30% {\n",
              "      border-color: transparent;\n",
              "      border-left-color: var(--fill-color);\n",
              "      border-top-color: var(--fill-color);\n",
              "      border-right-color: var(--fill-color);\n",
              "    }\n",
              "    40% {\n",
              "      border-color: transparent;\n",
              "      border-right-color: var(--fill-color);\n",
              "      border-top-color: var(--fill-color);\n",
              "    }\n",
              "    60% {\n",
              "      border-color: transparent;\n",
              "      border-right-color: var(--fill-color);\n",
              "    }\n",
              "    80% {\n",
              "      border-color: transparent;\n",
              "      border-right-color: var(--fill-color);\n",
              "      border-bottom-color: var(--fill-color);\n",
              "    }\n",
              "    90% {\n",
              "      border-color: transparent;\n",
              "      border-bottom-color: var(--fill-color);\n",
              "    }\n",
              "  }\n",
              "</style>\n",
              "\n",
              "  <script>\n",
              "    async function quickchart(key) {\n",
              "      const quickchartButtonEl =\n",
              "        document.querySelector('#' + key + ' button');\n",
              "      quickchartButtonEl.disabled = true;  // To prevent multiple clicks.\n",
              "      quickchartButtonEl.classList.add('colab-df-spinner');\n",
              "      try {\n",
              "        const charts = await google.colab.kernel.invokeFunction(\n",
              "            'suggestCharts', [key], {});\n",
              "      } catch (error) {\n",
              "        console.error('Error during call to suggestCharts:', error);\n",
              "      }\n",
              "      quickchartButtonEl.classList.remove('colab-df-spinner');\n",
              "      quickchartButtonEl.classList.add('colab-df-quickchart-complete');\n",
              "    }\n",
              "    (() => {\n",
              "      let quickchartButtonEl =\n",
              "        document.querySelector('#df-48a16c54-a190-4bf2-99db-17d30d3f8e78 button');\n",
              "      quickchartButtonEl.style.display =\n",
              "        google.colab.kernel.accessAllowed ? 'block' : 'none';\n",
              "    })();\n",
              "  </script>\n",
              "</div>\n",
              "    </div>\n",
              "  </div>\n"
            ],
            "application/vnd.google.colaboratory.intrinsic+json": {
              "type": "dataframe",
              "summary": "{\n  \"name\": \"modelCFA\",\n  \"rows\": 18,\n  \"fields\": [\n    {\n      \"column\": \"lval\",\n      \"properties\": {\n        \"dtype\": \"string\",\n        \"num_unique_values\": 9,\n        \"samples\": [\n          \"Interpretive\",\n          \"Variety\",\n          \"Musicality\"\n        ],\n        \"semantic_type\": \"\",\n        \"description\": \"\"\n      }\n    },\n    {\n      \"column\": \"op\",\n      \"properties\": {\n        \"dtype\": \"category\",\n        \"num_unique_values\": 2,\n        \"samples\": [\n          \"~~\",\n          \"~\"\n        ],\n        \"semantic_type\": \"\",\n        \"description\": \"\"\n      }\n    },\n    {\n      \"column\": \"rval\",\n      \"properties\": {\n        \"dtype\": \"string\",\n        \"num_unique_values\": 9,\n        \"samples\": [\n          \"Technique\",\n          \"Artistic\"\n        ],\n        \"semantic_type\": \"\",\n        \"description\": \"\"\n      }\n    },\n    {\n      \"column\": \"Estimate\",\n      \"properties\": {\n        \"dtype\": \"number\",\n        \"std\": 0.49219479006282457,\n        \"min\": 0.10155843317398572,\n        \"max\": 2.2087309921677893,\n        \"num_unique_values\": 16,\n        \"samples\": [\n          1.0,\n          0.703333314053165\n        ],\n        \"semantic_type\": \"\",\n        \"description\": \"\"\n      }\n    },\n    {\n      \"column\": \"Std. Err\",\n      \"properties\": {\n        \"dtype\": \"string\",\n        \"num_unique_values\": 16,\n        \"samples\": [\n          \"-\",\n          0.029187122408879357\n        ],\n        \"semantic_type\": \"\",\n        \"description\": \"\"\n      }\n    },\n    {\n      \"column\": \"z-value\",\n      \"properties\": {\n        \"dtype\": \"string\",\n        \"num_unique_values\": 16,\n        \"samples\": [\n          \"-\",\n          24.09738459914426\n        ],\n        \"semantic_type\": \"\",\n        \"description\": \"\"\n      }\n    },\n    {\n      \"column\": \"p-value\",\n      \"properties\": {\n        \"dtype\": \"category\",\n        \"num_unique_values\": 4,\n        \"samples\": [\n          0.0,\n          0.014120615984392515\n        ],\n        \"semantic_type\": \"\",\n        \"description\": \"\"\n      }\n    }\n  ]\n}"
            }
          },
          "metadata": {},
          "execution_count": 101
        }
      ]
    },
    {
      "cell_type": "markdown",
      "source": [
        "1. **Technique ~ Physical**: The estimated regression coefficient between the latent variable Technique and the observed variable Physical is 1.000, indicating a perfect relationship.\n",
        "2. **Variety ~ Physical**: The estimated regression coefficient between the latent variable Variety and the observed variable Physical is 0.703. This suggests that Physical has a significant positive effect on Variety.\n",
        "3. **Creativity ~ Artistic**: The estimated regression coefficient between the latent variable Creativity and the latent variable Artistic is 1.000, indicating a perfect relationship.\n",
        "4. **Personality ~ Artistic**: The estimated regression coefficient between the latent variable Personality and the latent variable Artistic is 2.209. This indicates a significant positive effect of Artistic on Personality.\n",
        "5. **Performance ~ Interpretive**: The estimated regression coefficient between the latent variable Performance and the latent variable Interpretive is 1.000, indicating a perfect relationship.\n",
        "6. **Musicality ~ Interpretive**: The estimated regression coefficient between the latent variable Musicality and the latent variable Interpretive is 0.705. This suggests that Interpretive has a significant positive effect on Musicality.\n"
      ],
      "metadata": {
        "id": "-jN-pkhD6V-T"
      }
    },
    {
      "cell_type": "code",
      "source": [],
      "metadata": {
        "id": "FFf3NsGD6Ygn"
      },
      "execution_count": null,
      "outputs": []
    }
  ]
}